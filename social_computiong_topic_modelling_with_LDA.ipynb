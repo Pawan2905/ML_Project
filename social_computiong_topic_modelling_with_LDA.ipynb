{
  "nbformat": 4,
  "nbformat_minor": 0,
  "metadata": {
    "colab": {
      "provenance": [],
      "mount_file_id": "1JQFVDsGln9YooN3pP6bEYGVv6GkcSff8",
      "authorship_tag": "ABX9TyOUmTZVju2KOjU2fzD1wuyF",
      "include_colab_link": true
    },
    "kernelspec": {
      "name": "python3",
      "display_name": "Python 3"
    },
    "language_info": {
      "name": "python"
    }
  },
  "cells": [
    {
      "cell_type": "markdown",
      "metadata": {
        "id": "view-in-github",
        "colab_type": "text"
      },
      "source": [
        "<a href=\"https://colab.research.google.com/github/Pawan2905/ML_Project/blob/master/social_computiong_topic_modelling_with_LDA.ipynb\" target=\"_parent\"><img src=\"https://colab.research.google.com/assets/colab-badge.svg\" alt=\"Open In Colab\"/></a>"
      ]
    },
    {
      "cell_type": "code",
      "execution_count": null,
      "metadata": {
        "id": "ylrcpOlAVEzF"
      },
      "outputs": [],
      "source": []
    },
    {
      "cell_type": "code",
      "source": [
        "from google.colab import drive\n",
        "drive.mount('/content/drive')"
      ],
      "metadata": {
        "colab": {
          "base_uri": "https://localhost:8080/",
          "height": 328
        },
        "id": "liTvINxbVawI",
        "outputId": "287519d4-a4b3-43ee-e925-55c1c895403b"
      },
      "execution_count": 1,
      "outputs": [
        {
          "output_type": "error",
          "ename": "KeyboardInterrupt",
          "evalue": "ignored",
          "traceback": [
            "\u001b[0;31m---------------------------------------------------------------------------\u001b[0m",
            "\u001b[0;31mKeyboardInterrupt\u001b[0m                         Traceback (most recent call last)",
            "\u001b[0;32m<ipython-input-1-d5df0069828e>\u001b[0m in \u001b[0;36m<module>\u001b[0;34m\u001b[0m\n\u001b[1;32m      1\u001b[0m \u001b[0;32mfrom\u001b[0m \u001b[0mgoogle\u001b[0m\u001b[0;34m.\u001b[0m\u001b[0mcolab\u001b[0m \u001b[0;32mimport\u001b[0m \u001b[0mdrive\u001b[0m\u001b[0;34m\u001b[0m\u001b[0;34m\u001b[0m\u001b[0m\n\u001b[0;32m----> 2\u001b[0;31m \u001b[0mdrive\u001b[0m\u001b[0;34m.\u001b[0m\u001b[0mmount\u001b[0m\u001b[0;34m(\u001b[0m\u001b[0;34m'/content/drive'\u001b[0m\u001b[0;34m)\u001b[0m\u001b[0;34m\u001b[0m\u001b[0;34m\u001b[0m\u001b[0m\n\u001b[0m",
            "\u001b[0;32m/usr/local/lib/python3.7/dist-packages/google/colab/drive.py\u001b[0m in \u001b[0;36mmount\u001b[0;34m(mountpoint, force_remount, timeout_ms, readonly)\u001b[0m\n\u001b[1;32m    104\u001b[0m       \u001b[0mtimeout_ms\u001b[0m\u001b[0;34m=\u001b[0m\u001b[0mtimeout_ms\u001b[0m\u001b[0;34m,\u001b[0m\u001b[0;34m\u001b[0m\u001b[0;34m\u001b[0m\u001b[0m\n\u001b[1;32m    105\u001b[0m       \u001b[0mephemeral\u001b[0m\u001b[0;34m=\u001b[0m\u001b[0;32mTrue\u001b[0m\u001b[0;34m,\u001b[0m\u001b[0;34m\u001b[0m\u001b[0;34m\u001b[0m\u001b[0m\n\u001b[0;32m--> 106\u001b[0;31m       readonly=readonly)\n\u001b[0m\u001b[1;32m    107\u001b[0m \u001b[0;34m\u001b[0m\u001b[0m\n\u001b[1;32m    108\u001b[0m \u001b[0;34m\u001b[0m\u001b[0m\n",
            "\u001b[0;32m/usr/local/lib/python3.7/dist-packages/google/colab/drive.py\u001b[0m in \u001b[0;36m_mount\u001b[0;34m(mountpoint, force_remount, timeout_ms, ephemeral, readonly)\u001b[0m\n\u001b[1;32m    123\u001b[0m   \u001b[0;32mif\u001b[0m \u001b[0mephemeral\u001b[0m\u001b[0;34m:\u001b[0m\u001b[0;34m\u001b[0m\u001b[0;34m\u001b[0m\u001b[0m\n\u001b[1;32m    124\u001b[0m     _message.blocking_request(\n\u001b[0;32m--> 125\u001b[0;31m         'request_auth', request={'authType': 'dfs_ephemeral'}, timeout_sec=None)\n\u001b[0m\u001b[1;32m    126\u001b[0m \u001b[0;34m\u001b[0m\u001b[0m\n\u001b[1;32m    127\u001b[0m   \u001b[0mmountpoint\u001b[0m \u001b[0;34m=\u001b[0m \u001b[0m_os\u001b[0m\u001b[0;34m.\u001b[0m\u001b[0mpath\u001b[0m\u001b[0;34m.\u001b[0m\u001b[0mexpanduser\u001b[0m\u001b[0;34m(\u001b[0m\u001b[0mmountpoint\u001b[0m\u001b[0;34m)\u001b[0m\u001b[0;34m\u001b[0m\u001b[0;34m\u001b[0m\u001b[0m\n",
            "\u001b[0;32m/usr/local/lib/python3.7/dist-packages/google/colab/_message.py\u001b[0m in \u001b[0;36mblocking_request\u001b[0;34m(request_type, request, timeout_sec, parent)\u001b[0m\n\u001b[1;32m    169\u001b[0m   request_id = send_request(\n\u001b[1;32m    170\u001b[0m       request_type, request, parent=parent, expect_reply=True)\n\u001b[0;32m--> 171\u001b[0;31m   \u001b[0;32mreturn\u001b[0m \u001b[0mread_reply_from_input\u001b[0m\u001b[0;34m(\u001b[0m\u001b[0mrequest_id\u001b[0m\u001b[0;34m,\u001b[0m \u001b[0mtimeout_sec\u001b[0m\u001b[0;34m)\u001b[0m\u001b[0;34m\u001b[0m\u001b[0;34m\u001b[0m\u001b[0m\n\u001b[0m",
            "\u001b[0;32m/usr/local/lib/python3.7/dist-packages/google/colab/_message.py\u001b[0m in \u001b[0;36mread_reply_from_input\u001b[0;34m(message_id, timeout_sec)\u001b[0m\n\u001b[1;32m     95\u001b[0m     \u001b[0mreply\u001b[0m \u001b[0;34m=\u001b[0m \u001b[0m_read_next_input_message\u001b[0m\u001b[0;34m(\u001b[0m\u001b[0;34m)\u001b[0m\u001b[0;34m\u001b[0m\u001b[0;34m\u001b[0m\u001b[0m\n\u001b[1;32m     96\u001b[0m     \u001b[0;32mif\u001b[0m \u001b[0mreply\u001b[0m \u001b[0;34m==\u001b[0m \u001b[0m_NOT_READY\u001b[0m \u001b[0;32mor\u001b[0m \u001b[0;32mnot\u001b[0m \u001b[0misinstance\u001b[0m\u001b[0;34m(\u001b[0m\u001b[0mreply\u001b[0m\u001b[0;34m,\u001b[0m \u001b[0mdict\u001b[0m\u001b[0;34m)\u001b[0m\u001b[0;34m:\u001b[0m\u001b[0;34m\u001b[0m\u001b[0;34m\u001b[0m\u001b[0m\n\u001b[0;32m---> 97\u001b[0;31m       \u001b[0mtime\u001b[0m\u001b[0;34m.\u001b[0m\u001b[0msleep\u001b[0m\u001b[0;34m(\u001b[0m\u001b[0;36m0.025\u001b[0m\u001b[0;34m)\u001b[0m\u001b[0;34m\u001b[0m\u001b[0;34m\u001b[0m\u001b[0m\n\u001b[0m\u001b[1;32m     98\u001b[0m       \u001b[0;32mcontinue\u001b[0m\u001b[0;34m\u001b[0m\u001b[0;34m\u001b[0m\u001b[0m\n\u001b[1;32m     99\u001b[0m     if (reply.get('type') == 'colab_reply' and\n",
            "\u001b[0;31mKeyboardInterrupt\u001b[0m: "
          ]
        }
      ]
    },
    {
      "cell_type": "code",
      "source": [
        "# cd /content/drive/MyDrive/VIZ_ASSIGN/social_computing/input"
      ],
      "metadata": {
        "colab": {
          "base_uri": "https://localhost:8080/"
        },
        "id": "8lvPa0mcVb9z",
        "outputId": "605c7139-4585-4096-bb12-fd79408e1971"
      },
      "execution_count": null,
      "outputs": [
        {
          "output_type": "stream",
          "name": "stdout",
          "text": [
            "/content/drive/MyDrive/VIZ_ASSIGN/social_computing/input\n"
          ]
        }
      ]
    },
    {
      "cell_type": "code",
      "source": [
        "ls"
      ],
      "metadata": {
        "colab": {
          "base_uri": "https://localhost:8080/"
        },
        "id": "vA0Fvvo4cJr-",
        "outputId": "ca412cc4-a5e1-4ba3-ea85-7444e58d004b"
      },
      "execution_count": null,
      "outputs": [
        {
          "output_type": "stream",
          "name": "stdout",
          "text": [
            "Project_Report_Template.doc  Toxicity_Agriculture_Project_Data_1.csv\n"
          ]
        }
      ]
    },
    {
      "cell_type": "code",
      "source": [],
      "metadata": {
        "id": "jLIs0uPWcNoN"
      },
      "execution_count": 55,
      "outputs": []
    },
    {
      "cell_type": "code",
      "source": [
        "# df = pd.read_csv(\"Toxicity_Agriculture_Project_Data_1.csv\")"
      ],
      "metadata": {
        "id": "HzCke7CQcZ3U"
      },
      "execution_count": 39,
      "outputs": []
    },
    {
      "cell_type": "code",
      "source": [
        "import os\n",
        "import tweepy as tw\n",
        "import pandas as pd\n",
        "import json\n",
        "import csv\n",
        "import re\n",
        "from textblob import TextBlob\n",
        "import string\n",
        "import time\n",
        "\n",
        "# Oauth keys\n",
        "consumer_key= 'M8OMSiLrxqn0aeOA83YSq6x96'\n",
        "consumer_secret= 'NI1r0jY8Qz5nV7UbfmWn50ZOrReKaPjWPL371JrodhYteWdWby'\n",
        "access_token= '1574985618588925952-xSfe69rGEpYPJ5yeWwhs64hoSy4Zg8'\n",
        "access_token_secret= 'TYWGLHj3YLvyg4BcFsCMVjmdn6au9gAKySlm8ivp2Nv1O'\n",
        "\n",
        "# Authentication with Twitter\n",
        "auth = tw.OAuthHandler(consumer_key, consumer_secret)\n",
        "auth.set_access_token(access_token, access_token_secret)\n",
        "api = tw.API(auth, wait_on_rate_limit=True)\n",
        "\n",
        "def scraptweets(search_words, date_since, numTweets, numRuns):\n",
        "\n",
        "    db_tweets = pd.DataFrame(columns = ['username', 'acctdesc', 'location', 'following',\n",
        "                                        'followers', 'totaltweets', 'usercreatedts', 'tweetcreatedts',\n",
        "                                        'retweetcount', 'text', 'hashtags']\n",
        "                                )\n",
        "   \n",
        "    program_start = time.time()\n",
        "    \n",
        "    for i in range(0, numRuns):\n",
        "        start_run = time.time()\n",
        "        tweets = tw.Cursor(api.search, q=search_words, lang=\"en\", since=date_since, tweet_mode='extended').items(numTweets)\n",
        "        tweet_list = [tweet for tweet in tweets]\n",
        "\n",
        "        noTweets = 0\n",
        "    \n",
        "        for tweet in tweet_list:\n",
        "            username = tweet.user.screen_name\n",
        "            acctdesc = tweet.user.description\n",
        "            location = tweet.user.location\n",
        "            following = tweet.user.friends_count\n",
        "            followers = tweet.user.followers_count\n",
        "            totaltweets = tweet.user.statuses_count\n",
        "            usercreatedts = tweet.user.created_at\n",
        "            tweetcreatedts = tweet.created_at\n",
        "            retweetcount = tweet.retweet_count\n",
        "            hashtags = tweet.entities['hashtags']\n",
        "            \n",
        "            try:\n",
        "                text = tweet.retweeted_status.full_text\n",
        "            \n",
        "            except AttributeError:\n",
        "                text = tweet.full_text\n",
        "# Add the 11 variables to the empty list - ith_tweet:\n",
        "            \n",
        "            ith_tweet = [username, acctdesc, location, following, followers, totaltweets,\n",
        "                         usercreatedts, tweetcreatedts, retweetcount, text, hashtags]\n",
        "# Append to dataframe - db_tweets\n",
        "            db_tweets.loc[len(db_tweets)] = ith_tweet\n",
        "# increase counter - noTweets  \n",
        "            noTweets += 1\n",
        "        \n",
        "        # Run ended:\n",
        "        end_run = time.time()\n",
        "        duration_run = round((end_run-start_run)/60, 2)\n",
        "        \n",
        "        print('no. of tweets scraped for run {} is {}'.format(i + 1, noTweets))\n",
        "        print('time take for {} run to complete is {} mins'.format(i+1, duration_run))\n",
        "        \n",
        "        time.sleep(1) #15 minute sleep time\n",
        "\n",
        "# Once all runs have completed, save them to a single csv file:\n",
        "    from datetime import datetime\n",
        "    \n",
        "    # Obtain timestamp in a readable format\n",
        "    to_csv_timestamp = datetime.today().strftime('%Y%m%d_%H%M%S')\n",
        "\n",
        "# Define working path and filename\n",
        "    path = os.getcwd()\n",
        "    filename = path + '/sample_data/' + to_csv_timestamp + '_inflation_tweets.csv'\n",
        "    \n",
        "# Store dataframe in csv with creation date timestamp\n",
        "    db_tweets.to_csv(filename, index = False)\n",
        "    \n",
        "    program_end = time.time()\n",
        "    print('Scraping has completed!')\n",
        "    print('Total time taken to scrap is {} minutes.'.format(round(program_end - program_start)/60, 2))\n",
        "\n",
        "\n",
        "# Initialise these variables:\n",
        "search_words = \"#recession OR #firing OR #employees OR #inflation\" # relevant words to COVID-19\n",
        "date_since = \"2019-12-31\" # COVID-19 start date\n",
        "numTweets = 5000 # number of tweets\n",
        "numRuns = 1\n",
        "\n",
        "# Call the function scraptweets\n",
        "scraptweets(search_words, date_since, numTweets, numRuns)"
      ],
      "metadata": {
        "id": "VzH55TITcgqr",
        "colab": {
          "base_uri": "https://localhost:8080/"
        },
        "outputId": "ac4d3f4e-e667-4624-eaf0-67a2ddd29666"
      },
      "execution_count": 4,
      "outputs": [
        {
          "output_type": "stream",
          "name": "stdout",
          "text": [
            "no. of tweets scraped for run 1 is 5000\n",
            "time take for 1 run to complete is 30.58 mins\n",
            "Scraping has completed!\n",
            "Total time taken to scrap is 30.6 minutes.\n"
          ]
        }
      ]
    },
    {
      "cell_type": "code",
      "source": [
        "ls"
      ],
      "metadata": {
        "colab": {
          "base_uri": "https://localhost:8080/"
        },
        "id": "haWAbN4D2FUr",
        "outputId": "248631d4-f1bf-414e-de6f-6c54452eeea0"
      },
      "execution_count": 5,
      "outputs": [
        {
          "output_type": "stream",
          "name": "stdout",
          "text": [
            "\u001b[0m\u001b[01;34msample_data\u001b[0m/\n"
          ]
        }
      ]
    },
    {
      "cell_type": "code",
      "source": [
        "import pandas as pd\n",
        "import numpy as np\n",
        "import matplotlib.pyplot as plt\n",
        "%matplotlib inline\n",
        "\n",
        "import seaborn as sns\n",
        "import json"
      ],
      "metadata": {
        "id": "EHBacDqJBZ2f"
      },
      "execution_count": 1,
      "outputs": []
    },
    {
      "cell_type": "code",
      "source": [
        "df = pd.read_csv(\"/content/drive/MyDrive/VIZ_ASSIGN/social_computing/input/20221126_032602_inflation_tweets.csv\")"
      ],
      "metadata": {
        "id": "Dui0CaimBcbW"
      },
      "execution_count": 2,
      "outputs": []
    },
    {
      "cell_type": "code",
      "source": [
        "df.head()"
      ],
      "metadata": {
        "colab": {
          "base_uri": "https://localhost:8080/",
          "height": 389
        },
        "id": "YzR4w-FIRXKx",
        "outputId": "a63aeef5-86c8-4a4b-aef5-e579814946bc"
      },
      "execution_count": 3,
      "outputs": [
        {
          "output_type": "execute_result",
          "data": {
            "text/plain": [
              "         username                                           acctdesc  \\\n",
              "0  zuleimamorgado  Senior Researcher #ActuallyAutistic #immigrant...   \n",
              "1      steelballa                                            It's me   \n",
              "2     Toronto_Bot                        I don't understand Toronto.   \n",
              "3     Toronto_Bot                        I don't understand Toronto.   \n",
              "4     Toronto_Bot                        I don't understand Toronto.   \n",
              "\n",
              "          location  following  followers  totaltweets        usercreatedts  \\\n",
              "0  London, England        875        484         2300  2017-02-08 17:05:01   \n",
              "1              NaN        110         37          335  2022-03-21 23:49:58   \n",
              "2              NaN          1        444       127563  2016-10-24 22:08:19   \n",
              "3              NaN          1        444       127563  2016-10-24 22:08:19   \n",
              "4              NaN          1        444       127563  2016-10-24 22:08:19   \n",
              "\n",
              "        tweetcreatedts  retweetcount  \\\n",
              "0  2022-11-26 02:54:37             0   \n",
              "1  2022-11-26 02:52:17             0   \n",
              "2  2022-11-26 02:52:11             1   \n",
              "3  2022-11-26 02:52:04             1   \n",
              "4  2022-11-26 02:52:01             1   \n",
              "\n",
              "                                                text  \\\n",
              "0  70,000 #university #staff in the #UK have begu...   \n",
              "1  Worried about #inflation ? Fuck the #Feds. Gam...   \n",
              "2  Woodgreen Tenants' Association: #Ontario's Lan...   \n",
              "3  Woodgreen Tenants' Association: #Op-Ed: John T...   \n",
              "4  Woodgreen Tenants' Association: #EXECUTIVE COM...   \n",
              "\n",
              "                                            hashtags  \n",
              "0  [{'text': 'university', 'indices': [7, 18]}, {...  \n",
              "1  [{'text': 'inflation', 'indices': [14, 24]}, {...  \n",
              "2  [{'text': 'Ontario', 'indices': [53, 61]}, {'t...  \n",
              "3  [{'text': 'Op', 'indices': [53, 56]}, {'text':...  \n",
              "4  [{'text': 'EXECUTIVE', 'indices': [53, 63]}, {...  "
            ],
            "text/html": [
              "\n",
              "  <div id=\"df-305aa76a-2dc4-4d12-8309-1a5f0d571286\">\n",
              "    <div class=\"colab-df-container\">\n",
              "      <div>\n",
              "<style scoped>\n",
              "    .dataframe tbody tr th:only-of-type {\n",
              "        vertical-align: middle;\n",
              "    }\n",
              "\n",
              "    .dataframe tbody tr th {\n",
              "        vertical-align: top;\n",
              "    }\n",
              "\n",
              "    .dataframe thead th {\n",
              "        text-align: right;\n",
              "    }\n",
              "</style>\n",
              "<table border=\"1\" class=\"dataframe\">\n",
              "  <thead>\n",
              "    <tr style=\"text-align: right;\">\n",
              "      <th></th>\n",
              "      <th>username</th>\n",
              "      <th>acctdesc</th>\n",
              "      <th>location</th>\n",
              "      <th>following</th>\n",
              "      <th>followers</th>\n",
              "      <th>totaltweets</th>\n",
              "      <th>usercreatedts</th>\n",
              "      <th>tweetcreatedts</th>\n",
              "      <th>retweetcount</th>\n",
              "      <th>text</th>\n",
              "      <th>hashtags</th>\n",
              "    </tr>\n",
              "  </thead>\n",
              "  <tbody>\n",
              "    <tr>\n",
              "      <th>0</th>\n",
              "      <td>zuleimamorgado</td>\n",
              "      <td>Senior Researcher #ActuallyAutistic #immigrant...</td>\n",
              "      <td>London, England</td>\n",
              "      <td>875</td>\n",
              "      <td>484</td>\n",
              "      <td>2300</td>\n",
              "      <td>2017-02-08 17:05:01</td>\n",
              "      <td>2022-11-26 02:54:37</td>\n",
              "      <td>0</td>\n",
              "      <td>70,000 #university #staff in the #UK have begu...</td>\n",
              "      <td>[{'text': 'university', 'indices': [7, 18]}, {...</td>\n",
              "    </tr>\n",
              "    <tr>\n",
              "      <th>1</th>\n",
              "      <td>steelballa</td>\n",
              "      <td>It's me</td>\n",
              "      <td>NaN</td>\n",
              "      <td>110</td>\n",
              "      <td>37</td>\n",
              "      <td>335</td>\n",
              "      <td>2022-03-21 23:49:58</td>\n",
              "      <td>2022-11-26 02:52:17</td>\n",
              "      <td>0</td>\n",
              "      <td>Worried about #inflation ? Fuck the #Feds. Gam...</td>\n",
              "      <td>[{'text': 'inflation', 'indices': [14, 24]}, {...</td>\n",
              "    </tr>\n",
              "    <tr>\n",
              "      <th>2</th>\n",
              "      <td>Toronto_Bot</td>\n",
              "      <td>I don't understand Toronto.</td>\n",
              "      <td>NaN</td>\n",
              "      <td>1</td>\n",
              "      <td>444</td>\n",
              "      <td>127563</td>\n",
              "      <td>2016-10-24 22:08:19</td>\n",
              "      <td>2022-11-26 02:52:11</td>\n",
              "      <td>1</td>\n",
              "      <td>Woodgreen Tenants' Association: #Ontario's Lan...</td>\n",
              "      <td>[{'text': 'Ontario', 'indices': [53, 61]}, {'t...</td>\n",
              "    </tr>\n",
              "    <tr>\n",
              "      <th>3</th>\n",
              "      <td>Toronto_Bot</td>\n",
              "      <td>I don't understand Toronto.</td>\n",
              "      <td>NaN</td>\n",
              "      <td>1</td>\n",
              "      <td>444</td>\n",
              "      <td>127563</td>\n",
              "      <td>2016-10-24 22:08:19</td>\n",
              "      <td>2022-11-26 02:52:04</td>\n",
              "      <td>1</td>\n",
              "      <td>Woodgreen Tenants' Association: #Op-Ed: John T...</td>\n",
              "      <td>[{'text': 'Op', 'indices': [53, 56]}, {'text':...</td>\n",
              "    </tr>\n",
              "    <tr>\n",
              "      <th>4</th>\n",
              "      <td>Toronto_Bot</td>\n",
              "      <td>I don't understand Toronto.</td>\n",
              "      <td>NaN</td>\n",
              "      <td>1</td>\n",
              "      <td>444</td>\n",
              "      <td>127563</td>\n",
              "      <td>2016-10-24 22:08:19</td>\n",
              "      <td>2022-11-26 02:52:01</td>\n",
              "      <td>1</td>\n",
              "      <td>Woodgreen Tenants' Association: #EXECUTIVE COM...</td>\n",
              "      <td>[{'text': 'EXECUTIVE', 'indices': [53, 63]}, {...</td>\n",
              "    </tr>\n",
              "  </tbody>\n",
              "</table>\n",
              "</div>\n",
              "      <button class=\"colab-df-convert\" onclick=\"convertToInteractive('df-305aa76a-2dc4-4d12-8309-1a5f0d571286')\"\n",
              "              title=\"Convert this dataframe to an interactive table.\"\n",
              "              style=\"display:none;\">\n",
              "        \n",
              "  <svg xmlns=\"http://www.w3.org/2000/svg\" height=\"24px\"viewBox=\"0 0 24 24\"\n",
              "       width=\"24px\">\n",
              "    <path d=\"M0 0h24v24H0V0z\" fill=\"none\"/>\n",
              "    <path d=\"M18.56 5.44l.94 2.06.94-2.06 2.06-.94-2.06-.94-.94-2.06-.94 2.06-2.06.94zm-11 1L8.5 8.5l.94-2.06 2.06-.94-2.06-.94L8.5 2.5l-.94 2.06-2.06.94zm10 10l.94 2.06.94-2.06 2.06-.94-2.06-.94-.94-2.06-.94 2.06-2.06.94z\"/><path d=\"M17.41 7.96l-1.37-1.37c-.4-.4-.92-.59-1.43-.59-.52 0-1.04.2-1.43.59L10.3 9.45l-7.72 7.72c-.78.78-.78 2.05 0 2.83L4 21.41c.39.39.9.59 1.41.59.51 0 1.02-.2 1.41-.59l7.78-7.78 2.81-2.81c.8-.78.8-2.07 0-2.86zM5.41 20L4 18.59l7.72-7.72 1.47 1.35L5.41 20z\"/>\n",
              "  </svg>\n",
              "      </button>\n",
              "      \n",
              "  <style>\n",
              "    .colab-df-container {\n",
              "      display:flex;\n",
              "      flex-wrap:wrap;\n",
              "      gap: 12px;\n",
              "    }\n",
              "\n",
              "    .colab-df-convert {\n",
              "      background-color: #E8F0FE;\n",
              "      border: none;\n",
              "      border-radius: 50%;\n",
              "      cursor: pointer;\n",
              "      display: none;\n",
              "      fill: #1967D2;\n",
              "      height: 32px;\n",
              "      padding: 0 0 0 0;\n",
              "      width: 32px;\n",
              "    }\n",
              "\n",
              "    .colab-df-convert:hover {\n",
              "      background-color: #E2EBFA;\n",
              "      box-shadow: 0px 1px 2px rgba(60, 64, 67, 0.3), 0px 1px 3px 1px rgba(60, 64, 67, 0.15);\n",
              "      fill: #174EA6;\n",
              "    }\n",
              "\n",
              "    [theme=dark] .colab-df-convert {\n",
              "      background-color: #3B4455;\n",
              "      fill: #D2E3FC;\n",
              "    }\n",
              "\n",
              "    [theme=dark] .colab-df-convert:hover {\n",
              "      background-color: #434B5C;\n",
              "      box-shadow: 0px 1px 3px 1px rgba(0, 0, 0, 0.15);\n",
              "      filter: drop-shadow(0px 1px 2px rgba(0, 0, 0, 0.3));\n",
              "      fill: #FFFFFF;\n",
              "    }\n",
              "  </style>\n",
              "\n",
              "      <script>\n",
              "        const buttonEl =\n",
              "          document.querySelector('#df-305aa76a-2dc4-4d12-8309-1a5f0d571286 button.colab-df-convert');\n",
              "        buttonEl.style.display =\n",
              "          google.colab.kernel.accessAllowed ? 'block' : 'none';\n",
              "\n",
              "        async function convertToInteractive(key) {\n",
              "          const element = document.querySelector('#df-305aa76a-2dc4-4d12-8309-1a5f0d571286');\n",
              "          const dataTable =\n",
              "            await google.colab.kernel.invokeFunction('convertToInteractive',\n",
              "                                                     [key], {});\n",
              "          if (!dataTable) return;\n",
              "\n",
              "          const docLinkHtml = 'Like what you see? Visit the ' +\n",
              "            '<a target=\"_blank\" href=https://colab.research.google.com/notebooks/data_table.ipynb>data table notebook</a>'\n",
              "            + ' to learn more about interactive tables.';\n",
              "          element.innerHTML = '';\n",
              "          dataTable['output_type'] = 'display_data';\n",
              "          await google.colab.output.renderOutput(dataTable, element);\n",
              "          const docLink = document.createElement('div');\n",
              "          docLink.innerHTML = docLinkHtml;\n",
              "          element.appendChild(docLink);\n",
              "        }\n",
              "      </script>\n",
              "    </div>\n",
              "  </div>\n",
              "  "
            ]
          },
          "metadata": {},
          "execution_count": 3
        }
      ]
    },
    {
      "cell_type": "code",
      "source": [
        "df.isnull().sum()"
      ],
      "metadata": {
        "colab": {
          "base_uri": "https://localhost:8080/"
        },
        "id": "oKMgmK-gSepm",
        "outputId": "34ac0b00-00eb-4d9d-bd26-942fb4c68892"
      },
      "execution_count": 4,
      "outputs": [
        {
          "output_type": "execute_result",
          "data": {
            "text/plain": [
              "username             0\n",
              "acctdesc           492\n",
              "location          1532\n",
              "following            0\n",
              "followers            0\n",
              "totaltweets          0\n",
              "usercreatedts        0\n",
              "tweetcreatedts       0\n",
              "retweetcount         0\n",
              "text                 0\n",
              "hashtags             0\n",
              "dtype: int64"
            ]
          },
          "metadata": {},
          "execution_count": 4
        }
      ]
    },
    {
      "cell_type": "code",
      "source": [
        "tags = []\n",
        "for indx in range(len(df)):\n",
        "  a = df['hashtags'][indx].replace(\"'\", \"\\\"\")\n",
        "  d = json.loads(a)\n",
        "  taglist = []\n",
        "  for tagid in range(len(d)):\n",
        "    taglist.append(d[tagid]['text'])\n",
        "  tags.append(taglist)"
      ],
      "metadata": {
        "id": "PBlJ33JKVArt"
      },
      "execution_count": 5,
      "outputs": []
    },
    {
      "cell_type": "code",
      "source": [
        "len(tags)"
      ],
      "metadata": {
        "colab": {
          "base_uri": "https://localhost:8080/"
        },
        "id": "c57b-MZLV2Th",
        "outputId": "ba3fa50d-066f-4367-ca70-61023b8d629e"
      },
      "execution_count": 6,
      "outputs": [
        {
          "output_type": "execute_result",
          "data": {
            "text/plain": [
              "5000"
            ]
          },
          "metadata": {},
          "execution_count": 6
        }
      ]
    },
    {
      "cell_type": "code",
      "source": [
        "df['Hashtags'] = tags"
      ],
      "metadata": {
        "id": "AKN8rfnWWJP5"
      },
      "execution_count": 7,
      "outputs": []
    },
    {
      "cell_type": "code",
      "source": [
        "df.head()"
      ],
      "metadata": {
        "colab": {
          "base_uri": "https://localhost:8080/",
          "height": 441
        },
        "id": "WyKRkxpZUS1n",
        "outputId": "b4deb428-5a3c-4576-f49d-ce62202a539f"
      },
      "execution_count": 8,
      "outputs": [
        {
          "output_type": "execute_result",
          "data": {
            "text/plain": [
              "         username                                           acctdesc  \\\n",
              "0  zuleimamorgado  Senior Researcher #ActuallyAutistic #immigrant...   \n",
              "1      steelballa                                            It's me   \n",
              "2     Toronto_Bot                        I don't understand Toronto.   \n",
              "3     Toronto_Bot                        I don't understand Toronto.   \n",
              "4     Toronto_Bot                        I don't understand Toronto.   \n",
              "\n",
              "          location  following  followers  totaltweets        usercreatedts  \\\n",
              "0  London, England        875        484         2300  2017-02-08 17:05:01   \n",
              "1              NaN        110         37          335  2022-03-21 23:49:58   \n",
              "2              NaN          1        444       127563  2016-10-24 22:08:19   \n",
              "3              NaN          1        444       127563  2016-10-24 22:08:19   \n",
              "4              NaN          1        444       127563  2016-10-24 22:08:19   \n",
              "\n",
              "        tweetcreatedts  retweetcount  \\\n",
              "0  2022-11-26 02:54:37             0   \n",
              "1  2022-11-26 02:52:17             0   \n",
              "2  2022-11-26 02:52:11             1   \n",
              "3  2022-11-26 02:52:04             1   \n",
              "4  2022-11-26 02:52:01             1   \n",
              "\n",
              "                                                text  \\\n",
              "0  70,000 #university #staff in the #UK have begu...   \n",
              "1  Worried about #inflation ? Fuck the #Feds. Gam...   \n",
              "2  Woodgreen Tenants' Association: #Ontario's Lan...   \n",
              "3  Woodgreen Tenants' Association: #Op-Ed: John T...   \n",
              "4  Woodgreen Tenants' Association: #EXECUTIVE COM...   \n",
              "\n",
              "                                            hashtags  \\\n",
              "0  [{'text': 'university', 'indices': [7, 18]}, {...   \n",
              "1  [{'text': 'inflation', 'indices': [14, 24]}, {...   \n",
              "2  [{'text': 'Ontario', 'indices': [53, 61]}, {'t...   \n",
              "3  [{'text': 'Op', 'indices': [53, 56]}, {'text':...   \n",
              "4  [{'text': 'EXECUTIVE', 'indices': [53, 63]}, {...   \n",
              "\n",
              "                                            Hashtags  \n",
              "0  [university, staff, UK, strike, pay, inflation...  \n",
              "1                  [inflation, Feds, cash, arbitrum]  \n",
              "2                                  [Ontario, Tenant]  \n",
              "3                                [Op, affordable, h]  \n",
              "4                               [EXECUTIVE, Remarks]  "
            ],
            "text/html": [
              "\n",
              "  <div id=\"df-bb0eb9f5-9727-4854-b468-c99867ed6cf3\">\n",
              "    <div class=\"colab-df-container\">\n",
              "      <div>\n",
              "<style scoped>\n",
              "    .dataframe tbody tr th:only-of-type {\n",
              "        vertical-align: middle;\n",
              "    }\n",
              "\n",
              "    .dataframe tbody tr th {\n",
              "        vertical-align: top;\n",
              "    }\n",
              "\n",
              "    .dataframe thead th {\n",
              "        text-align: right;\n",
              "    }\n",
              "</style>\n",
              "<table border=\"1\" class=\"dataframe\">\n",
              "  <thead>\n",
              "    <tr style=\"text-align: right;\">\n",
              "      <th></th>\n",
              "      <th>username</th>\n",
              "      <th>acctdesc</th>\n",
              "      <th>location</th>\n",
              "      <th>following</th>\n",
              "      <th>followers</th>\n",
              "      <th>totaltweets</th>\n",
              "      <th>usercreatedts</th>\n",
              "      <th>tweetcreatedts</th>\n",
              "      <th>retweetcount</th>\n",
              "      <th>text</th>\n",
              "      <th>hashtags</th>\n",
              "      <th>Hashtags</th>\n",
              "    </tr>\n",
              "  </thead>\n",
              "  <tbody>\n",
              "    <tr>\n",
              "      <th>0</th>\n",
              "      <td>zuleimamorgado</td>\n",
              "      <td>Senior Researcher #ActuallyAutistic #immigrant...</td>\n",
              "      <td>London, England</td>\n",
              "      <td>875</td>\n",
              "      <td>484</td>\n",
              "      <td>2300</td>\n",
              "      <td>2017-02-08 17:05:01</td>\n",
              "      <td>2022-11-26 02:54:37</td>\n",
              "      <td>0</td>\n",
              "      <td>70,000 #university #staff in the #UK have begu...</td>\n",
              "      <td>[{'text': 'university', 'indices': [7, 18]}, {...</td>\n",
              "      <td>[university, staff, UK, strike, pay, inflation...</td>\n",
              "    </tr>\n",
              "    <tr>\n",
              "      <th>1</th>\n",
              "      <td>steelballa</td>\n",
              "      <td>It's me</td>\n",
              "      <td>NaN</td>\n",
              "      <td>110</td>\n",
              "      <td>37</td>\n",
              "      <td>335</td>\n",
              "      <td>2022-03-21 23:49:58</td>\n",
              "      <td>2022-11-26 02:52:17</td>\n",
              "      <td>0</td>\n",
              "      <td>Worried about #inflation ? Fuck the #Feds. Gam...</td>\n",
              "      <td>[{'text': 'inflation', 'indices': [14, 24]}, {...</td>\n",
              "      <td>[inflation, Feds, cash, arbitrum]</td>\n",
              "    </tr>\n",
              "    <tr>\n",
              "      <th>2</th>\n",
              "      <td>Toronto_Bot</td>\n",
              "      <td>I don't understand Toronto.</td>\n",
              "      <td>NaN</td>\n",
              "      <td>1</td>\n",
              "      <td>444</td>\n",
              "      <td>127563</td>\n",
              "      <td>2016-10-24 22:08:19</td>\n",
              "      <td>2022-11-26 02:52:11</td>\n",
              "      <td>1</td>\n",
              "      <td>Woodgreen Tenants' Association: #Ontario's Lan...</td>\n",
              "      <td>[{'text': 'Ontario', 'indices': [53, 61]}, {'t...</td>\n",
              "      <td>[Ontario, Tenant]</td>\n",
              "    </tr>\n",
              "    <tr>\n",
              "      <th>3</th>\n",
              "      <td>Toronto_Bot</td>\n",
              "      <td>I don't understand Toronto.</td>\n",
              "      <td>NaN</td>\n",
              "      <td>1</td>\n",
              "      <td>444</td>\n",
              "      <td>127563</td>\n",
              "      <td>2016-10-24 22:08:19</td>\n",
              "      <td>2022-11-26 02:52:04</td>\n",
              "      <td>1</td>\n",
              "      <td>Woodgreen Tenants' Association: #Op-Ed: John T...</td>\n",
              "      <td>[{'text': 'Op', 'indices': [53, 56]}, {'text':...</td>\n",
              "      <td>[Op, affordable, h]</td>\n",
              "    </tr>\n",
              "    <tr>\n",
              "      <th>4</th>\n",
              "      <td>Toronto_Bot</td>\n",
              "      <td>I don't understand Toronto.</td>\n",
              "      <td>NaN</td>\n",
              "      <td>1</td>\n",
              "      <td>444</td>\n",
              "      <td>127563</td>\n",
              "      <td>2016-10-24 22:08:19</td>\n",
              "      <td>2022-11-26 02:52:01</td>\n",
              "      <td>1</td>\n",
              "      <td>Woodgreen Tenants' Association: #EXECUTIVE COM...</td>\n",
              "      <td>[{'text': 'EXECUTIVE', 'indices': [53, 63]}, {...</td>\n",
              "      <td>[EXECUTIVE, Remarks]</td>\n",
              "    </tr>\n",
              "  </tbody>\n",
              "</table>\n",
              "</div>\n",
              "      <button class=\"colab-df-convert\" onclick=\"convertToInteractive('df-bb0eb9f5-9727-4854-b468-c99867ed6cf3')\"\n",
              "              title=\"Convert this dataframe to an interactive table.\"\n",
              "              style=\"display:none;\">\n",
              "        \n",
              "  <svg xmlns=\"http://www.w3.org/2000/svg\" height=\"24px\"viewBox=\"0 0 24 24\"\n",
              "       width=\"24px\">\n",
              "    <path d=\"M0 0h24v24H0V0z\" fill=\"none\"/>\n",
              "    <path d=\"M18.56 5.44l.94 2.06.94-2.06 2.06-.94-2.06-.94-.94-2.06-.94 2.06-2.06.94zm-11 1L8.5 8.5l.94-2.06 2.06-.94-2.06-.94L8.5 2.5l-.94 2.06-2.06.94zm10 10l.94 2.06.94-2.06 2.06-.94-2.06-.94-.94-2.06-.94 2.06-2.06.94z\"/><path d=\"M17.41 7.96l-1.37-1.37c-.4-.4-.92-.59-1.43-.59-.52 0-1.04.2-1.43.59L10.3 9.45l-7.72 7.72c-.78.78-.78 2.05 0 2.83L4 21.41c.39.39.9.59 1.41.59.51 0 1.02-.2 1.41-.59l7.78-7.78 2.81-2.81c.8-.78.8-2.07 0-2.86zM5.41 20L4 18.59l7.72-7.72 1.47 1.35L5.41 20z\"/>\n",
              "  </svg>\n",
              "      </button>\n",
              "      \n",
              "  <style>\n",
              "    .colab-df-container {\n",
              "      display:flex;\n",
              "      flex-wrap:wrap;\n",
              "      gap: 12px;\n",
              "    }\n",
              "\n",
              "    .colab-df-convert {\n",
              "      background-color: #E8F0FE;\n",
              "      border: none;\n",
              "      border-radius: 50%;\n",
              "      cursor: pointer;\n",
              "      display: none;\n",
              "      fill: #1967D2;\n",
              "      height: 32px;\n",
              "      padding: 0 0 0 0;\n",
              "      width: 32px;\n",
              "    }\n",
              "\n",
              "    .colab-df-convert:hover {\n",
              "      background-color: #E2EBFA;\n",
              "      box-shadow: 0px 1px 2px rgba(60, 64, 67, 0.3), 0px 1px 3px 1px rgba(60, 64, 67, 0.15);\n",
              "      fill: #174EA6;\n",
              "    }\n",
              "\n",
              "    [theme=dark] .colab-df-convert {\n",
              "      background-color: #3B4455;\n",
              "      fill: #D2E3FC;\n",
              "    }\n",
              "\n",
              "    [theme=dark] .colab-df-convert:hover {\n",
              "      background-color: #434B5C;\n",
              "      box-shadow: 0px 1px 3px 1px rgba(0, 0, 0, 0.15);\n",
              "      filter: drop-shadow(0px 1px 2px rgba(0, 0, 0, 0.3));\n",
              "      fill: #FFFFFF;\n",
              "    }\n",
              "  </style>\n",
              "\n",
              "      <script>\n",
              "        const buttonEl =\n",
              "          document.querySelector('#df-bb0eb9f5-9727-4854-b468-c99867ed6cf3 button.colab-df-convert');\n",
              "        buttonEl.style.display =\n",
              "          google.colab.kernel.accessAllowed ? 'block' : 'none';\n",
              "\n",
              "        async function convertToInteractive(key) {\n",
              "          const element = document.querySelector('#df-bb0eb9f5-9727-4854-b468-c99867ed6cf3');\n",
              "          const dataTable =\n",
              "            await google.colab.kernel.invokeFunction('convertToInteractive',\n",
              "                                                     [key], {});\n",
              "          if (!dataTable) return;\n",
              "\n",
              "          const docLinkHtml = 'Like what you see? Visit the ' +\n",
              "            '<a target=\"_blank\" href=https://colab.research.google.com/notebooks/data_table.ipynb>data table notebook</a>'\n",
              "            + ' to learn more about interactive tables.';\n",
              "          element.innerHTML = '';\n",
              "          dataTable['output_type'] = 'display_data';\n",
              "          await google.colab.output.renderOutput(dataTable, element);\n",
              "          const docLink = document.createElement('div');\n",
              "          docLink.innerHTML = docLinkHtml;\n",
              "          element.appendChild(docLink);\n",
              "        }\n",
              "      </script>\n",
              "    </div>\n",
              "  </div>\n",
              "  "
            ]
          },
          "metadata": {},
          "execution_count": 8
        }
      ]
    },
    {
      "cell_type": "code",
      "source": [
        "df['text']"
      ],
      "metadata": {
        "colab": {
          "base_uri": "https://localhost:8080/"
        },
        "id": "Je6tS7wlWR1v",
        "outputId": "34420921-c51a-4982-dc8d-61835a430cbd"
      },
      "execution_count": 9,
      "outputs": [
        {
          "output_type": "execute_result",
          "data": {
            "text/plain": [
              "0       70,000 #university #staff in the #UK have begu...\n",
              "1       Worried about #inflation ? Fuck the #Feds. Gam...\n",
              "2       Woodgreen Tenants' Association: #Ontario's Lan...\n",
              "3       Woodgreen Tenants' Association: #Op-Ed: John T...\n",
              "4       Woodgreen Tenants' Association: #EXECUTIVE COM...\n",
              "                              ...                        \n",
              "4995    Reposted due to the crippling impact now of #m...\n",
              "4996    Recession is unlikely in APAC region in the co...\n",
              "4997    The trade body, UKHospitality has said that im...\n",
              "4998    #Frenchtech: Simbel nets €4M for its all-in-on...\n",
              "4999    Three in 10 single parent households surveyed ...\n",
              "Name: text, Length: 5000, dtype: object"
            ]
          },
          "metadata": {},
          "execution_count": 9
        }
      ]
    },
    {
      "cell_type": "markdown",
      "source": [
        "# Loading Necessary Libaries"
      ],
      "metadata": {
        "id": "Aae-H9vlZC7v"
      }
    },
    {
      "cell_type": "code",
      "source": [
        "!pip install demoji\n",
        "!pip install WordCloud\n",
        "!pip install pyLDAvis\n",
        "\n",
        "# Basic\n",
        "import numpy as np\n",
        "import pandas as pd\n",
        "\n",
        "# Data Cleaning\n",
        "import re\n",
        "import string\n",
        "import demoji\n",
        "demoji.download_codes()\n",
        "\n",
        "# Data Pre-processing\n",
        "import nltk\n",
        "nltk.download('stopwords')\n",
        "from nltk.corpus import stopwords\n",
        "from nltk.tokenize import sent_tokenize, word_tokenize\n",
        "from nltk.stem import WordNetLemmatizer\n",
        "\n",
        "# Data Visualization\n",
        "import seaborn as sns\n",
        "import matplotlib.pyplot as plt\n",
        "import matplotlib as mpl\n",
        "from pprint import pprint\n",
        "%matplotlib inline\n",
        "from wordcloud import WordCloud, STOPWORDS"
      ],
      "metadata": {
        "colab": {
          "base_uri": "https://localhost:8080/"
        },
        "id": "UMEQaFXTY8CN",
        "outputId": "977f277b-5f6e-409e-e6d3-e848a1c25070"
      },
      "execution_count": 10,
      "outputs": [
        {
          "output_type": "stream",
          "name": "stdout",
          "text": [
            "Looking in indexes: https://pypi.org/simple, https://us-python.pkg.dev/colab-wheels/public/simple/\n",
            "Requirement already satisfied: demoji in /usr/local/lib/python3.7/dist-packages (1.1.0)\n",
            "Looking in indexes: https://pypi.org/simple, https://us-python.pkg.dev/colab-wheels/public/simple/\n",
            "Requirement already satisfied: WordCloud in /usr/local/lib/python3.7/dist-packages (1.8.2.2)\n",
            "Requirement already satisfied: matplotlib in /usr/local/lib/python3.7/dist-packages (from WordCloud) (3.2.2)\n",
            "Requirement already satisfied: numpy>=1.6.1 in /usr/local/lib/python3.7/dist-packages (from WordCloud) (1.21.6)\n",
            "Requirement already satisfied: pillow in /usr/local/lib/python3.7/dist-packages (from WordCloud) (7.1.2)\n",
            "Requirement already satisfied: python-dateutil>=2.1 in /usr/local/lib/python3.7/dist-packages (from matplotlib->WordCloud) (2.8.2)\n",
            "Requirement already satisfied: kiwisolver>=1.0.1 in /usr/local/lib/python3.7/dist-packages (from matplotlib->WordCloud) (1.4.4)\n",
            "Requirement already satisfied: cycler>=0.10 in /usr/local/lib/python3.7/dist-packages (from matplotlib->WordCloud) (0.11.0)\n",
            "Requirement already satisfied: pyparsing!=2.0.4,!=2.1.2,!=2.1.6,>=2.0.1 in /usr/local/lib/python3.7/dist-packages (from matplotlib->WordCloud) (3.0.9)\n",
            "Requirement already satisfied: typing-extensions in /usr/local/lib/python3.7/dist-packages (from kiwisolver>=1.0.1->matplotlib->WordCloud) (4.1.1)\n",
            "Requirement already satisfied: six>=1.5 in /usr/local/lib/python3.7/dist-packages (from python-dateutil>=2.1->matplotlib->WordCloud) (1.15.0)\n",
            "Looking in indexes: https://pypi.org/simple, https://us-python.pkg.dev/colab-wheels/public/simple/\n",
            "Requirement already satisfied: pyLDAvis in /usr/local/lib/python3.7/dist-packages (3.3.1)\n",
            "Requirement already satisfied: sklearn in /usr/local/lib/python3.7/dist-packages (from pyLDAvis) (0.0.post1)\n",
            "Requirement already satisfied: gensim in /usr/local/lib/python3.7/dist-packages (from pyLDAvis) (3.6.0)\n",
            "Requirement already satisfied: scikit-learn in /usr/local/lib/python3.7/dist-packages (from pyLDAvis) (1.0.2)\n",
            "Requirement already satisfied: joblib in /usr/local/lib/python3.7/dist-packages (from pyLDAvis) (1.2.0)\n",
            "Requirement already satisfied: jinja2 in /usr/local/lib/python3.7/dist-packages (from pyLDAvis) (2.11.3)\n",
            "Requirement already satisfied: funcy in /usr/local/lib/python3.7/dist-packages (from pyLDAvis) (1.17)\n",
            "Requirement already satisfied: scipy in /usr/local/lib/python3.7/dist-packages (from pyLDAvis) (1.7.3)\n",
            "Requirement already satisfied: numpy>=1.20.0 in /usr/local/lib/python3.7/dist-packages (from pyLDAvis) (1.21.6)\n",
            "Requirement already satisfied: future in /usr/local/lib/python3.7/dist-packages (from pyLDAvis) (0.16.0)\n",
            "Requirement already satisfied: setuptools in /usr/local/lib/python3.7/dist-packages (from pyLDAvis) (57.4.0)\n",
            "Requirement already satisfied: pandas>=1.2.0 in /usr/local/lib/python3.7/dist-packages (from pyLDAvis) (1.3.5)\n",
            "Requirement already satisfied: numexpr in /usr/local/lib/python3.7/dist-packages (from pyLDAvis) (2.8.4)\n",
            "Requirement already satisfied: pytz>=2017.3 in /usr/local/lib/python3.7/dist-packages (from pandas>=1.2.0->pyLDAvis) (2022.6)\n",
            "Requirement already satisfied: python-dateutil>=2.7.3 in /usr/local/lib/python3.7/dist-packages (from pandas>=1.2.0->pyLDAvis) (2.8.2)\n",
            "Requirement already satisfied: six>=1.5 in /usr/local/lib/python3.7/dist-packages (from python-dateutil>=2.7.3->pandas>=1.2.0->pyLDAvis) (1.15.0)\n",
            "Requirement already satisfied: smart-open>=1.2.1 in /usr/local/lib/python3.7/dist-packages (from gensim->pyLDAvis) (5.2.1)\n",
            "Requirement already satisfied: MarkupSafe>=0.23 in /usr/local/lib/python3.7/dist-packages (from jinja2->pyLDAvis) (2.0.1)\n",
            "Requirement already satisfied: threadpoolctl>=2.0.0 in /usr/local/lib/python3.7/dist-packages (from scikit-learn->pyLDAvis) (3.1.0)\n"
          ]
        },
        {
          "output_type": "stream",
          "name": "stderr",
          "text": [
            "/usr/local/lib/python3.7/dist-packages/ipykernel_launcher.py:13: FutureWarning: The demoji.download_codes attribute is deprecated and will be removed from demoji in a future version. It is an unused attribute as emoji codes are now distributed directly with the demoji package.\n",
            "  del sys.path[0]\n",
            "[nltk_data] Downloading package stopwords to /root/nltk_data...\n",
            "[nltk_data]   Package stopwords is already up-to-date!\n"
          ]
        }
      ]
    },
    {
      "cell_type": "markdown",
      "source": [
        "# Building LDA Model"
      ],
      "metadata": {
        "id": "fDxuQFwUZWE1"
      }
    },
    {
      "cell_type": "code",
      "source": [
        "import pyLDAvis\n",
        "import pyLDAvis.gensim_models"
      ],
      "metadata": {
        "colab": {
          "base_uri": "https://localhost:8080/"
        },
        "id": "xj83f-O-a2kb",
        "outputId": "6bee454f-275b-4f59-a9af-800fd31048c6"
      },
      "execution_count": 11,
      "outputs": [
        {
          "output_type": "stream",
          "name": "stderr",
          "text": [
            "/usr/local/lib/python3.7/dist-packages/past/types/oldstr.py:5: DeprecationWarning: Using or importing the ABCs from 'collections' instead of from 'collections.abc' is deprecated since Python 3.3,and in 3.9 it will stop working\n",
            "  from collections import Iterable\n",
            "/usr/local/lib/python3.7/dist-packages/past/builtins/misc.py:4: DeprecationWarning: Using or importing the ABCs from 'collections' instead of from 'collections.abc' is deprecated since Python 3.3,and in 3.9 it will stop working\n",
            "  from collections import Mapping\n"
          ]
        }
      ]
    },
    {
      "cell_type": "code",
      "source": [
        "from sklearn.feature_extraction.text import CountVectorizer\n",
        "import pyLDAvis.gensim_models\n"
      ],
      "metadata": {
        "id": "mOm7GhisWf4v"
      },
      "execution_count": 12,
      "outputs": []
    },
    {
      "cell_type": "code",
      "source": [
        "import pyLDAvis.sklearn\n",
        "from sklearn.model_selection import *\n",
        "from sklearn.decomposition import LatentDirichletAllocation\n",
        "import gensim\n",
        "from gensim.models.ldamulticore import LdaMulticore\n",
        "from gensim.models.coherencemodel import CoherenceModel\n",
        "from gensim.corpora import Dictionary\n",
        "\n",
        "# Sentiment Analysis\n",
        "import tensorflow as tf\n",
        "from tensorflow.keras.preprocessing.text import Tokenizer\n",
        "from tensorflow.keras.preprocessing.sequence import pad_sequences\n",
        "import tensorflow.keras.layers as L\n",
        "\n",
        "import warnings\n",
        "warnings.filterwarnings(\"ignore\",category=DeprecationWarning)\n",
        "\n",
        "nltk.download('punkt')\n",
        "nltk.download('wordnet')\n",
        "\n",
        "import nltk\n",
        "nltk.download('punkt')\n",
        "nltk.download('omw-1.4')"
      ],
      "metadata": {
        "colab": {
          "base_uri": "https://localhost:8080/"
        },
        "id": "Bgpev-j4b8gV",
        "outputId": "db595721-5898-4019-b808-19bca3d8baa3"
      },
      "execution_count": 13,
      "outputs": [
        {
          "output_type": "stream",
          "name": "stderr",
          "text": [
            "/usr/local/lib/python3.7/dist-packages/scipy/sparse/sparsetools.py:21: DeprecationWarning: `scipy.sparse.sparsetools` is deprecated!\n",
            "scipy.sparse.sparsetools is a private module for scipy.sparse, and should not be used.\n",
            "  _deprecated()\n",
            "[nltk_data] Downloading package punkt to /root/nltk_data...\n",
            "[nltk_data]   Package punkt is already up-to-date!\n",
            "[nltk_data] Downloading package wordnet to /root/nltk_data...\n",
            "[nltk_data]   Package wordnet is already up-to-date!\n",
            "[nltk_data] Downloading package punkt to /root/nltk_data...\n",
            "[nltk_data]   Package punkt is already up-to-date!\n",
            "[nltk_data] Downloading package omw-1.4 to /root/nltk_data...\n",
            "[nltk_data]   Package omw-1.4 is already up-to-date!\n"
          ]
        },
        {
          "output_type": "execute_result",
          "data": {
            "text/plain": [
              "True"
            ]
          },
          "metadata": {},
          "execution_count": 13
        }
      ]
    },
    {
      "cell_type": "code",
      "source": [
        "df2=pd.DataFrame(df[\"text\"].unique()).reset_index().drop('index',axis=1)\n",
        "\n",
        "df2.columns=['text']"
      ],
      "metadata": {
        "id": "XDoGGYvMZbHm"
      },
      "execution_count": 14,
      "outputs": []
    },
    {
      "cell_type": "code",
      "source": [
        "df2.shape"
      ],
      "metadata": {
        "colab": {
          "base_uri": "https://localhost:8080/"
        },
        "id": "SpKA2pNPaysR",
        "outputId": "be98e7c3-2be5-4c8e-9320-5adbbd056945"
      },
      "execution_count": 15,
      "outputs": [
        {
          "output_type": "execute_result",
          "data": {
            "text/plain": [
              "(3038, 1)"
            ]
          },
          "metadata": {},
          "execution_count": 15
        }
      ]
    },
    {
      "cell_type": "markdown",
      "source": [
        "# Data Cleaning"
      ],
      "metadata": {
        "id": "_7X-D14ibDcP"
      }
    },
    {
      "cell_type": "code",
      "source": [
        "# Remove URL\n",
        "\n",
        "def remove_URL(text):\n",
        "    url = re.compile(r'http\\S+')\n",
        "    return url.sub(r'',text)\n",
        "\n",
        "# Remove html tags\n",
        "\n",
        "def remove_html(text):\n",
        "    html=re.compile(r'<.*?>')\n",
        "    return html.sub(r'',text)\n",
        "\n",
        "# Remove emojis\n",
        "\n",
        "def remove_emojis(text):\n",
        "  new_text = demoji.replace(text, \"\")\n",
        "  return new_text\n",
        "\n",
        "# Remove mentions and hashtag\n",
        "\n",
        "def remove_mention_hashtag(text):\n",
        "    text=re.sub(r'@\\w+','',text)        # remove mentions\n",
        "    text=re.sub(r'#\\w+','',text)        # remove hashtag\n",
        "    return text\n",
        "\n",
        "# Remove Emails\n",
        "\n",
        "def remove_emails(text):\n",
        "  email = re.compile(r'\\S*@\\S*\\s?')\n",
        "  return email.sub(r'', text)\n",
        "\n",
        "# Remove new line characters\n",
        "\n",
        "def remove_newline(text):\n",
        "  newline = re.compile(r'\\n+')\n",
        "  return newline.sub(r'', text)\n",
        "\n",
        "# Remove extra white space left while removing stuff\n",
        "\n",
        "def remove_space(text):\n",
        "    whitespace_remove = re.compile(r'\\s+')\n",
        "    return whitespace_remove.sub(r' ', text)\n",
        "\n"
      ],
      "metadata": {
        "id": "LIuCKOiBbBp3"
      },
      "execution_count": 16,
      "outputs": []
    },
    {
      "cell_type": "code",
      "source": [
        "df2['text'] = df['text'].apply(lambda x : remove_URL(x))\n",
        "df2['text']=df2['text'].apply(lambda x : remove_html(x))\n",
        "df2['text'] = df2['text'].apply(lambda x: remove_emojis(x))\n",
        "df2['text']=df2['text'].apply(lambda x: remove_mention_hashtag(x))\n",
        "df2['text']=df2['text'].apply(lambda x : remove_emails(x))\n",
        "df2['text']=df2['text'].apply(lambda x : remove_newline(x))\n",
        "df2[\"text\"]=df2[\"text\"].apply(lambda x: remove_space(x))\n"
      ],
      "metadata": {
        "id": "vk3GOz8xbRXm"
      },
      "execution_count": 17,
      "outputs": []
    },
    {
      "cell_type": "markdown",
      "source": [
        "# Data Preprocessing\n",
        "## Tweets Preprocessing"
      ],
      "metadata": {
        "id": "3yx9yS4dbiy1"
      }
    },
    {
      "cell_type": "code",
      "source": [
        "punct=string.punctuation+'”‘’“'\n",
        "\n",
        "def clean_text(text):\n",
        "#Make text lowercase\n",
        "    text = text.lower()\n",
        "#remove text in square brackets\n",
        "    text = re.sub(r'\\[.*?\\]', '', text)\n",
        "#remove punctuation   \n",
        "    text = re.sub(r'[%s]' % re.escape(punct), '', text)    \n",
        "#remove words containing numbers\n",
        "    text = re.sub(r'\\w*\\d\\w*', '', text)\n",
        "    return text\n",
        "\n",
        "tweets_df_clean = pd.DataFrame(df2[\"text\"].apply(lambda x: clean_text(x)))"
      ],
      "metadata": {
        "id": "TSr-kJ-4bfaM"
      },
      "execution_count": 18,
      "outputs": []
    },
    {
      "cell_type": "code",
      "source": [
        "# remove stopwords\n",
        "stopwords = nltk.corpus.stopwords.words(\"english\")\n",
        "custom_stopwords = ['hi', '&', 'amp', 'amp;', 'got', \"it's\", 'it’s', \"i'm\", 'im', 'want', 'like', '$', '@','u','could','sh','ji','ht']\n",
        "\n",
        "# custom_stopwords = ['hi', '&', 'amp', 'amp;', 'got', \"it's\", 'it’s', \"i'm\", 'im', 'want', 'like', '$','@','u'] #'inflation','firing ','recession ', '@','u']\n",
        "for i in custom_stopwords:\n",
        "    stopwords.append(i)\n",
        "\n",
        "def remove_stopwords(text):\n",
        "    return \" \".join(word for word in str(text).split() if word not in stopwords)\n",
        "    \n",
        "tweets_df_clean['text']=tweets_df_clean['text'].apply(lambda x: remove_stopwords(x))"
      ],
      "metadata": {
        "id": "4LLs1rrWbnzt"
      },
      "execution_count": 19,
      "outputs": []
    },
    {
      "cell_type": "code",
      "source": [
        "# tweets_df_clean['text']"
      ],
      "metadata": {
        "id": "4LmigfZgalz4"
      },
      "execution_count": 20,
      "outputs": []
    },
    {
      "cell_type": "code",
      "source": [
        "# Tokenization\n",
        "tweets_df_clean[\"text\"] = tweets_df_clean[\"text\"].apply(word_tokenize)"
      ],
      "metadata": {
        "id": "F3tLrm5abqHd"
      },
      "execution_count": 21,
      "outputs": []
    },
    {
      "cell_type": "code",
      "source": [
        "# Lemmatization \n",
        "# def lemmatizing(text):\n",
        "#     lemmatizer =WordNetLemmatizer()\n",
        "#     return [lemmatizer.lemmatize(word) for word in text]\n",
        "\n",
        "# tweets_df_clean[\"text\"] = tweets_df_clean[\"text\"].apply(lambda x: lemmatizing(x))"
      ],
      "metadata": {
        "id": "ITzakXd_bxSG"
      },
      "execution_count": 22,
      "outputs": []
    },
    {
      "cell_type": "markdown",
      "source": [
        "# Hashtags preprocessing"
      ],
      "metadata": {
        "id": "j9Y0oSm8cRND"
      }
    },
    {
      "cell_type": "code",
      "source": [
        "tweets_df_clean['hashtags_cleaned'] = df[\"hashtags\"]\n",
        "tweets_df_clean['hashtags_cleaned'] = tweets_df_clean['hashtags_cleaned'].apply(lambda x : remove_URL(x))\n",
        "tweets_df_clean['hashtags_cleaned'] = tweets_df_clean['hashtags_cleaned'].apply(lambda x : remove_html(x))\n",
        "tweets_df_clean['hashtags_cleaned'] = tweets_df_clean['hashtags_cleaned'].apply(lambda x : remove_emojis(x))\n",
        "tweets_df_clean['hashtags_cleaned'] = tweets_df_clean['hashtags_cleaned'].apply(lambda x : remove_mention_hashtag(x))\n",
        "tweets_df_clean['hashtags_cleaned'] = tweets_df_clean['hashtags_cleaned'].apply(lambda x : remove_emails(x))\n",
        "tweets_df_clean['hashtags_cleaned'] = tweets_df_clean['hashtags_cleaned'].apply(lambda x : remove_newline(x))\n",
        "tweets_df_clean['hashtags_cleaned'] = tweets_df_clean['hashtags_cleaned'].apply(lambda x: remove_space(x))\n",
        "tweets_df_clean['hashtags_cleaned'] = tweets_df_clean['hashtags_cleaned'].apply(lambda x: clean_text(x))\n",
        "tweets_df_clean['hashtags_cleaned'] = tweets_df_clean['hashtags_cleaned'].apply(lambda x: remove_stopwords(x))\n",
        "tweets_df_clean['hashtags_cleaned'] = tweets_df_clean['hashtags_cleaned'].apply(word_tokenize)\n",
        "# tweets_df_clean['hashtags_cleaned'] = tweets_df_clean['hashtags_cleaned'].apply(lambda x: lemmatizing(x))"
      ],
      "metadata": {
        "id": "Z060OOHKcCnu"
      },
      "execution_count": 23,
      "outputs": []
    },
    {
      "cell_type": "code",
      "source": [
        "extra = [\"text\", \"index\"]\n",
        "hashtags = [word for hashtags in tweets_df_clean['hashtags_cleaned'] for word in hashtags if word not in extra]\n",
        "fdist = nltk.FreqDist(hashtags)\n",
        "fdist.most_common(30)"
      ],
      "metadata": {
        "colab": {
          "base_uri": "https://localhost:8080/"
        },
        "id": "_JKd0mOScXgL",
        "outputId": "aae9c0a0-f8ab-46b7-c2dc-e6786c16405b"
      },
      "execution_count": 24,
      "outputs": [
        {
          "output_type": "execute_result",
          "data": {
            "text/plain": [
              "[('indices', 10499),\n",
              " ('inflation', 1247),\n",
              " ('recession', 296),\n",
              " ('employees', 199),\n",
              " ('economy', 156),\n",
              " ('business', 150),\n",
              " ('news', 113),\n",
              " ('housing', 95),\n",
              " ('food', 93),\n",
              " ('crisis', 87),\n",
              " ('wisdom', 85),\n",
              " ('shortages', 84),\n",
              " ('insights', 83),\n",
              " ('cdnpoli', 82),\n",
              " ('depression', 81),\n",
              " ('rents', 79),\n",
              " ('inspire', 79),\n",
              " ('heat', 79),\n",
              " ('topoli', 79),\n",
              " ('onpoli', 79),\n",
              " ('technology', 71),\n",
              " ('platform', 64),\n",
              " ('light', 63),\n",
              " ('online', 63),\n",
              " ('fed', 63),\n",
              " ('throwing', 62),\n",
              " ('karmayogibharat', 62),\n",
              " ('jobs', 62),\n",
              " ('investing', 53),\n",
              " ('crypto', 49)]"
            ]
          },
          "metadata": {},
          "execution_count": 24
        }
      ]
    },
    {
      "cell_type": "code",
      "source": [
        "fig = plt.figure(figsize = (10,6))\n",
        "fdist.plot(30, cumulative=False, title = '30 Most Common Hashtags')\n",
        "plt.show()"
      ],
      "metadata": {
        "colab": {
          "base_uri": "https://localhost:8080/",
          "height": 480
        },
        "id": "Eubg55iyca3u",
        "outputId": "b9b4f345-0269-4153-f957-3883cc577d45"
      },
      "execution_count": 25,
      "outputs": [
        {
          "output_type": "display_data",
          "data": {
            "text/plain": [
              "<Figure size 720x432 with 1 Axes>"
            ],
            "image/png": "[encoded data removed]"
          },
          "metadata": {
            "needs_background": "light"
          }
        }
      ]
    },
    {
      "cell_type": "markdown",
      "source": [
        "# Exploratory Analysis\n",
        "## Tweets Character Length"
      ],
      "metadata": {
        "id": "z7HmjvqNdRy9"
      }
    },
    {
      "cell_type": "code",
      "source": [
        "plt.figure(figsize=(10,6))\n",
        "doc_lens = [len(d) for d in tweets_df_clean.text]\n",
        "plt.hist(doc_lens, bins = 100)\n",
        "plt.title('Distribution of Tweets character length')\n",
        "plt.ylabel('Number of Tweets')\n",
        "plt.xlabel('Tweets character length')\n",
        "sns.despine();"
      ],
      "metadata": {
        "colab": {
          "base_uri": "https://localhost:8080/",
          "height": 404
        },
        "id": "vs1AMS72cepE",
        "outputId": "4fd97bab-0368-48d4-de54-9335fb5ad115"
      },
      "execution_count": 26,
      "outputs": [
        {
          "output_type": "display_data",
          "data": {
            "text/plain": [
              "<Figure size 720x432 with 1 Axes>"
            ],
            "image/png": "[encoded data removed]"
          },
          "metadata": {
            "needs_background": "light"
          }
        }
      ]
    },
    {
      "cell_type": "markdown",
      "source": [
        "# Wordcloud"
      ],
      "metadata": {
        "id": "0FwQqQutdaxY"
      }
    },
    {
      "cell_type": "code",
      "source": [
        "mpl.rcParams['figure.figsize']=(12.0,12.0)  \n",
        "mpl.rcParams['font.size']=12            \n",
        "mpl.rcParams['savefig.dpi']=100             \n",
        "mpl.rcParams['figure.subplot.bottom']=.1 \n",
        "stopwords = set(STOPWORDS)\n",
        "wordcloud = WordCloud(\n",
        "                      background_color='white',\n",
        "                      stopwords=stopwords,\n",
        "                      max_words=500,\n",
        "                      max_font_size=40, \n",
        "                      random_state=100\n",
        "                      ).generate(str(tweets_df_clean.text))\n",
        "print(wordcloud)\n",
        "fig = plt.figure(1)\n",
        "plt.imshow(wordcloud)\n",
        "plt.axis('off')\n",
        "plt.show();"
      ],
      "metadata": {
        "colab": {
          "base_uri": "https://localhost:8080/",
          "height": 383
        },
        "id": "Yi-c5VDDdWTL",
        "outputId": "fe3fc9a4-4a90-405d-95c6-09daafa78a51"
      },
      "execution_count": 27,
      "outputs": [
        {
          "output_type": "stream",
          "name": "stdout",
          "text": [
            "<wordcloud.wordcloud.WordCloud object at 0x7fa12a66c350>\n"
          ]
        },
        {
          "output_type": "display_data",
          "data": {
            "text/plain": [
              "<Figure size 864x864 with 1 Axes>"
            ],
            "image/png": "[encoded data removed]"
          },
          "metadata": {
            "needs_background": "light"
          }
        }
      ]
    },
    {
      "cell_type": "code",
      "source": [
        "# Flatten tweets\n",
        "flat_list = [item for sublist in tweets_df_clean.text for item in sublist]\n",
        "\n",
        "from sklearn.feature_extraction.text import CountVectorizer\n",
        "\n",
        "# CountVectorize\n",
        "vectorizer = CountVectorizer(\n",
        "                            analyzer='word',       \n",
        "                            min_df=3, # minimum required occurences of a word \n",
        "                            token_pattern='[a-zA-Z0-9]{3,}', # num chars > 3\n",
        "                            max_features=5000, # max number of unique words\n",
        "                            )\n",
        "data_matrix = vectorizer.fit_transform(flat_list)\n",
        "\n",
        "# The 10 most common words\n",
        "sum_words = data_matrix.sum(axis=0) \n",
        "words_freq = [(word, sum_words[0, idx]) for word, idx in vectorizer.vocabulary_.items()]\n",
        "words_freq =sorted(words_freq, key = lambda x: x[1], reverse=True)\n",
        "words_freq[:20]"
      ],
      "metadata": {
        "colab": {
          "base_uri": "https://localhost:8080/"
        },
        "id": "ZEYEfqQbddAR",
        "outputId": "37d29656-fc44-43a5-8b89-e0fdace3388f"
      },
      "execution_count": 28,
      "outputs": [
        {
          "output_type": "execute_result",
          "data": {
            "text/plain": [
              "[('wrong', 677),\n",
              " ('inflation', 401),\n",
              " ('still', 376),\n",
              " ('news', 368),\n",
              " ('talking', 355),\n",
              " ('sales', 347),\n",
              " ('say', 345),\n",
              " ('minutes', 342),\n",
              " ('retailers', 340),\n",
              " ('morning', 338),\n",
              " ('every', 338),\n",
              " ('store', 333),\n",
              " ('interviewed', 328),\n",
              " ('thru', 325),\n",
              " ('cruising', 324),\n",
              " ('preaching', 324),\n",
              " ('preached', 324),\n",
              " ('price', 162),\n",
              " ('year', 139),\n",
              " ('rate', 139)]"
            ]
          },
          "metadata": {},
          "execution_count": 28
        }
      ]
    },
    {
      "cell_type": "markdown",
      "source": [
        "# Build The LDA Model"
      ],
      "metadata": {
        "id": "2yvuaTOadoF4"
      }
    },
    {
      "cell_type": "code",
      "source": [
        "# Create a dictionary of tokens\n",
        "id2word = Dictionary(list(tweets_df_clean[\"text\"]))\n",
        "\n",
        "# Create a corpus object. Term document frequency\n",
        "corpus = [id2word.doc2bow(token) for token in tweets_df_clean[\"text\"]]\n",
        "\n",
        "# Base LDA model \n",
        "lda_model = LdaMulticore(\n",
        "                          num_topics = 5, # Number of topics        \n",
        "                          corpus = corpus,\n",
        "                          id2word = id2word, \n",
        "                          random_state=20,      \n",
        "                          passes = 10,\n",
        "                          per_word_topics=True,\n",
        "                          # iterations=100\n",
        "                          )"
      ],
      "metadata": {
        "id": "K_AytxHodjtt"
      },
      "execution_count": 29,
      "outputs": []
    },
    {
      "cell_type": "code",
      "source": [
        "# Print the Keyword in the 10 topics\n",
        "print(\"Topics found via LDA:\")\n",
        "pprint(lda_model.print_topics())\n",
        "doc_lda = lda_model[corpus]"
      ],
      "metadata": {
        "colab": {
          "base_uri": "https://localhost:8080/"
        },
        "id": "gXyPWTxedsyz",
        "outputId": "9aee0b27-f22e-44ed-a243-451a9e58bcf4"
      },
      "execution_count": 30,
      "outputs": [
        {
          "output_type": "stream",
          "name": "stdout",
          "text": [
            "Topics found via LDA:\n",
            "[(0,\n",
            "  '0.012*\"inflation\" + 0.011*\"pm\" + 0.011*\"called\" + 0.010*\"course\" + '\n",
            "  '0.010*\"informed\" + 0.010*\"emphasized\" + 0.010*\"courses\" + 0.010*\"price\" + '\n",
            "  '0.009*\"crisis\" + 0.008*\"us\"'),\n",
            " (1,\n",
            "  '0.011*\"us\" + 0.010*\"yield\" + 0.010*\"inflation\" + 0.008*\"recession\" + '\n",
            "  '0.007*\"today\" + 0.007*\"number\" + 0.007*\"coming\" + 0.006*\"inverted\" + '\n",
            "  '0.006*\"lower\" + 0.006*\"soon\"'),\n",
            " (2,\n",
            "  '0.009*\"expect\" + 0.008*\"says\" + 0.007*\"finance\" + 0.006*\"transparency\" + '\n",
            "  '0.006*\"safety\" + 0.006*\"fairness\" + 0.005*\"people\" + 0.005*\"even\" + '\n",
            "  '0.005*\"help\" + 0.005*\"involved\"'),\n",
            " (3,\n",
            "  '0.010*\"inflation\" + 0.009*\"year\" + 0.008*\"recession\" + 0.008*\"next\" + '\n",
            "  '0.007*\"friday\" + 0.006*\"global\" + 0.006*\"lowest\" + 0.006*\"prices\" + '\n",
            "  '0.006*\"really\" + 0.005*\"rate\"'),\n",
            " (4,\n",
            "  '0.037*\"wrong\" + 0.022*\"still\" + 0.020*\"say\" + 0.020*\"news\" + '\n",
            "  '0.020*\"retailers\" + 0.019*\"sales\" + 0.019*\"store\" + 0.019*\"minutes\" + '\n",
            "  '0.019*\"every\" + 0.019*\"talking\"')]\n"
          ]
        }
      ]
    },
    {
      "cell_type": "code",
      "source": [
        "# Visualize the topics\n",
        "pyLDAvis.enable_notebook()\n",
        "pyLDAvis.gensim_models.prepare(lda_model, corpus, id2word)"
      ],
      "metadata": {
        "colab": {
          "base_uri": "https://localhost:8080/",
          "height": 916
        },
        "id": "gw68v-1pd0BR",
        "outputId": "1d213a5f-6365-4933-b88f-19204af86a8f"
      },
      "execution_count": 31,
      "outputs": [
        {
          "output_type": "stream",
          "name": "stderr",
          "text": [
            "/usr/local/lib/python3.7/dist-packages/pyLDAvis/_prepare.py:247: FutureWarning: In a future version of pandas all arguments of DataFrame.drop except for the argument 'labels' will be keyword-only\n",
            "  by='saliency', ascending=False).head(R).drop('saliency', 1)\n"
          ]
        },
        {
          "output_type": "execute_result",
          "data": {
            "text/plain": [
              "PreparedData(topic_coordinates=              x         y  topics  cluster       Freq\n",
              "topic                                                \n",
              "4      0.280362  0.016373       1        1  32.159179\n",
              "3     -0.065662 -0.042248       2        1  21.818210\n",
              "1     -0.058680 -0.173659       3        1  16.994705\n",
              "2     -0.092401  0.168880       4        1  14.798917\n",
              "0     -0.063619  0.030653       5        1  14.228990, topic_info=            Term        Freq       Total Category  logprob  loglift\n",
              "41         wrong  442.000000  442.000000  Default  30.0000  30.0000\n",
              "33     retailers  227.000000  227.000000  Default  29.0000  29.0000\n",
              "35           say  236.000000  236.000000  Default  28.0000  28.0000\n",
              "37         store  223.000000  223.000000  Default  27.0000  27.0000\n",
              "27   interviewed  217.000000  217.000000  Default  26.0000  26.0000\n",
              "..           ...         ...         ...      ...      ...      ...\n",
              "802          fed   17.908669   40.938805   Topic5  -5.6600   1.1231\n",
              "884         work   17.183581   39.439628   Topic5  -5.7013   1.1191\n",
              "410         rate   20.766448  143.397694   Topic5  -5.5119   0.0176\n",
              "115        today   18.379356   73.678751   Topic5  -5.6340   0.5614\n",
              "207    financial   17.988553   62.190825   Topic5  -5.6555   0.7094\n",
              "\n",
              "[298 rows x 6 columns], token_table=      Topic      Freq          Term\n",
              "term                               \n",
              "488       2  0.796927        across\n",
              "488       4  0.183906        across\n",
              "2797      2  0.978556         added\n",
              "1595      2  0.935329  alexstraszha\n",
              "1191      1  0.975553       alleged\n",
              "...     ...       ...           ...\n",
              "139       1  0.993102         youre\n",
              "4109      5  0.906491       youtube\n",
              "1116      1  0.221310           yoy\n",
              "1116      2  0.055327           yoy\n",
              "1116      5  0.719256           yoy\n",
              "\n",
              "[476 rows x 3 columns], R=30, lambda_step=0.01, plot_opts={'xlab': 'PC1', 'ylab': 'PC2'}, topic_order=[5, 4, 2, 3, 1])"
            ],
            "text/html": [
              "\n",
              "<link rel=\"stylesheet\" type=\"text/css\" href=\"https://cdn.jsdelivr.net/gh/bmabey/pyLDAvis@3.3.1/pyLDAvis/js/ldavis.v1.0.0.css\">\n",
              "\n",
              "\n",
              "<div id=\"ldavis_el14331403301136539684633121853\"></div>\n",
              "<script type=\"text/javascript\">\n",
              "\n",
              "var ldavis_el14331403301136539684633121853_data = {\"mdsDat\": {\"x\": [0.28036170060894383, -0.06566212888260868, -0.05868025093292871, -0.09240074658142737, -0.06361857421197907], \"y\": [0.016373002816097514, -0.04224767782094865, -0.17365899333705936, 0.16888027546544496, 0.030653392876465468], \"topics\": [1, 2, 3, 4, 5], \"cluster\": [1, 1, 1, 1, 1], \"Freq\": [32.15917892060185, 21.818209574240026, 16.99470457496456, 14.798916563238745, 14.228990366954811]}, \"tinfo\": {\"Term\": [\"wrong\", \"retailers\", \"say\", \"store\", \"interviewed\", \"tv\", \"still\", \"thru\", \"preached\", \"cruising\", \"preaching\", \"sales\", \"every\", \"minutes\", \"morning\", \"news\", \"talking\", \"yield\", \"pm\", \"called\", \"course\", \"recession\", \"emphasized\", \"informed\", \"courses\", \"crisis\", \"expect\", \"number\", \"says\", \"lowest\", \"store\", \"interviewed\", \"retailers\", \"tv\", \"thru\", \"cruising\", \"preached\", \"preaching\", \"say\", \"cup\", \"reach\", \"wrong\", \"meanwhile\", \"qatars\", \"unveiled\", \"corruption\", \"international\", \"youre\", \"class\", \"distract\", \"alleged\", \"tfgs\", \"female\", \"pedo\", \"projecting\", \"mentoryou\", \"espionage\", \"gay\", \"sedition\", \"makes\", \"sales\", \"still\", \"every\", \"minutes\", \"morning\", \"talking\", \"news\", \"level\", \"worst\", \"world\", \"getting\", \"inflation\", \"money\", \"dont\", \"us\", \"war\", \"rate\", \"lowest\", \"really\", \"wise\", \"indiahighest\", \"explainedavg\", \"example\", \"gaffe\", \"love\", \"stuff\", \"utilities\", \"christmashmmmm\\u2026\", \"thatblack\", \"lately\", \"forecasts\", \"confidence\", \"christmas\", \"gas\", \"added\", \"nonrecessionary\", \"redefining\", \"misdefining\", \"outside\", \"chars\", \"alexstraszha\", \"greenywolf\", \"blows\", \"set\", \"based\", \"differ\", \"german\", \"cool\", \"black\", \"ive\", \"next\", \"error\", \"gap\", \"across\", \"recession\", \"year\", \"global\", \"friday\", \"central\", \"get\", \"prices\", \"see\", \"join\", \"inflation\", \"amid\", \"time\", \"going\", \"rate\", \"since\", \"market\", \"says\", \"price\", \"may\", \"us\", \"news\", \"new\", \"yield\", \"inverted\", \"number\", \"spx\", \"exceeds\", \"curves\", \"curvewhen\", \"backwardation\", \"mark\", \"secretary\", \"role\", \"focus\", \"patel\", \"braverman\", \"suella\", \"priti\", \"summarise\", \"bull\", \"positioning\", \"bet\", \"bias\", \"extreme\", \"futures\", \"backs\", \"peaks\", \"enduring\", \"contango\", \"rrr\", \"curve\", \"tightening\", \"lot\", \"lower\", \"home\", \"soon\", \"large\", \"today\", \"seems\", \"coming\", \"policy\", \"hits\", \"recession\", \"us\", \"way\", \"inflation\", \"market\", \"government\", \"years\", \"rate\", \"people\", \"high\", \"increased\", \"prices\", \"price\", \"global\", \"year\", \"transparency\", \"safety\", \"fairness\", \"starting\", \"fiat\", \"wins\", \"involved\", \"hes\", \"grateful\", \"tonight\", \"gobbling\", \"job\\u2026\", \"wallets\", \"leaving\", \"celebrating\", \"items\", \"investing\", \"hinder\", \"collapsethe\", \"devaluation\", \"brags\", \"rarer\", \"expect\", \"bubble\", \"brain\", \"mission\", \"founder\", \"lensa\", \"gergo\", \"search\", \"finance\", \"plus\", \"crypto\", \"quality\", \"everyone\", \"risks\", \"even\", \"says\", \"help\", \"matter\", \"rise\", \"would\", \"big\", \"thankful\", \"people\", \"economic\", \"higher\", \"new\", \"talking\", \"pm\", \"called\", \"course\", \"emphasized\", \"courses\", \"sensitive\", \"spi\", \"ended\", \"wow\", \"sovereign\", \"multifaceted\", \"sure\", \"informed\", \"qcom\", \"intc\", \"elected\", \"smaller\", \"series\", \"tried\", \"wells\", \"youtube\", \"closed\", \"services\", \"project\", \"intel\", \"falls\", \"prospect\", \"lake\", \"behavior\", \"japan\", \"ibm\", \"crisis\", \"debt\", \"banking\", \"reported\", \"indicator\", \"corporate\", \"already\", \"daily\", \"yoy\", \"dollar\", \"index\", \"likely\", \"week\", \"recorded\", \"currency\", \"price\", \"increase\", \"inflation\", \"us\", \"markets\", \"economic\", \"make\", \"fed\", \"work\", \"rate\", \"today\", \"financial\"], \"Freq\": [442.0, 227.0, 236.0, 223.0, 217.0, 215.0, 260.0, 212.0, 212.0, 212.0, 212.0, 230.0, 228.0, 233.0, 230.0, 262.0, 238.0, 64.0, 57.0, 55.0, 54.0, 115.0, 50.0, 56.0, 50.0, 55.0, 48.0, 45.0, 90.0, 48.0, 223.29751871369265, 216.5291790239544, 226.653319283526, 215.2281106010635, 212.24073177242312, 211.58846574716395, 211.58892034829006, 211.5882059750919, 233.9315699030369, 57.34555622511775, 44.16284335340799, 435.6389771070553, 40.521905051066334, 38.56373775999241, 37.396711726282234, 36.74493547961727, 36.74493547961727, 30.555660210000166, 29.124289033382496, 26.652533414140887, 26.001238828192854, 26.00123612223377, 26.00123612223377, 26.001230710315603, 26.001225298397436, 26.001222592438353, 26.001222592438353, 26.001217180520182, 26.00117388517484, 26.144884666162397, 224.18325488871184, 252.2568660111152, 220.11111118251225, 220.51574948008434, 217.2667368795385, 218.13556622220142, 233.5994513089137, 44.58252678348663, 38.70387396903011, 77.71872757981988, 45.39147595758162, 154.1875510111075, 60.0171063333201, 52.82415295605235, 62.53586716780837, 38.90074061026206, 38.94018266986919, 47.34388463464851, 46.0649817829501, 34.189993466963216, 32.644258274017716, 32.644258274017716, 30.096900349397302, 27.881113910422428, 19.625301518573966, 19.565744957110997, 19.01184929199231, 18.461898852069634, 18.461867642749798, 18.461845612641675, 17.755650302555, 17.093232488989578, 20.775390656403797, 25.544699778588292, 14.64594816635147, 14.029895469090356, 14.029872521061062, 14.02984498342591, 13.330565291446907, 13.216906456123278, 13.216906456123278, 13.216902784438592, 13.216900948596248, 13.320022966789805, 12.985191943063521, 12.108055844853746, 12.43902425628947, 21.7393217089259, 37.16376432853271, 18.469326670191123, 59.33866900691309, 27.900083669357013, 24.25085867774145, 26.38965723220256, 66.17480248448481, 71.7329914200614, 47.69474715163874, 51.8626673672802, 28.294940312265012, 38.73442291713251, 47.130754353631225, 29.229026075810093, 24.616233528456426, 80.14468151360518, 26.778800733737825, 36.08794235686369, 34.90918470499898, 40.52197526355363, 32.08570324103142, 32.01779543274822, 30.378406578495365, 32.908046788659405, 27.20532565706986, 27.943451773035683, 28.100003228871035, 26.821317006569146, 64.12528630194406, 38.982578366271206, 44.46863282841726, 32.97581107127997, 31.31424035953234, 30.795629596946632, 29.348981984421734, 24.57284383823012, 27.79615837409721, 20.122792558492847, 19.2984006421633, 19.19192291863256, 17.229018290220647, 17.228985400685975, 17.2289796807669, 17.228976820807365, 17.22892248157617, 15.371782016790595, 14.163489151972524, 14.160549113568806, 12.880255337434791, 12.370007096534367, 12.369989936777147, 12.369985646837842, 12.369958477222243, 12.369886978233826, 12.36987410841591, 11.742010746558988, 11.462581259986214, 11.434515762062789, 21.856002396675027, 37.18020612661324, 24.181469815472223, 35.67049640630432, 16.657584074992275, 45.994395501605624, 16.169320343050387, 44.02436099406874, 34.45179042881316, 15.148868190622355, 47.040808936727956, 67.10545565788036, 22.81355831897217, 61.42230422430376, 33.172132993676065, 22.73570307048462, 26.425085192329345, 30.845638849405198, 27.68809766296291, 24.78972600973548, 20.136670512144637, 25.32173854271012, 25.723983271666977, 22.71424050414153, 23.563132263842128, 33.174198157059045, 32.228356205338855, 30.441664297455535, 26.22321402423828, 24.800905954438832, 23.857275513987076, 28.25985900470769, 21.81500711860311, 21.24432016063794, 20.872377835279632, 19.92924299251078, 19.929238011629543, 19.929238011629543, 19.929238011629543, 19.929238011629543, 18.024204101258483, 15.3047587523208, 12.202294843378002, 12.004700794336477, 12.004700794336477, 12.004700794336477, 12.004700794336477, 46.04483013501857, 10.608294552180446, 10.41227757466002, 10.312171200984551, 9.842650921787799, 9.37069436905687, 9.370685652514709, 9.370658257667916, 39.34590100666515, 21.35062461840048, 18.31560931270432, 14.692491397804071, 21.988316881182353, 15.594576307872915, 28.850193048705155, 45.444509424144506, 28.742762911783462, 22.175187092924464, 19.679015971456757, 21.275784387400783, 22.72656317434071, 19.969061402325384, 28.963366141691054, 22.11631058628363, 20.204564938448115, 20.067654210715503, 20.171008741566485, 56.81863847702068, 54.74920389366296, 53.34122002006583, 50.23546620419347, 49.762843372501116, 24.92177431250542, 27.380490097078376, 24.05724108522162, 21.919107424766107, 14.757402240775118, 13.439566450309364, 12.240929185754714, 52.59245515389904, 14.400103584811072, 14.400086823098292, 7.7121807838573195, 7.6869382430418565, 7.217210398599803, 6.370477511656738, 6.664084652216291, 5.872464875529484, 5.425790971119786, 5.150528327933749, 5.149926702171434, 5.799738796936077, 4.6800049007672015, 4.581420288413631, 4.581420288413631, 4.581145516050545, 4.580541196441533, 14.420732464183589, 47.081821780375634, 35.62046189708345, 13.453496630895506, 9.446581653517448, 9.78569864017499, 15.219517873084238, 18.533486882386356, 10.386173830634199, 26.342849083784444, 23.040044572459614, 26.01444163432871, 26.607664989479773, 33.98273959358066, 20.80315090029893, 21.834264423729895, 48.91969569619537, 30.935431475644968, 62.44272948982771, 40.84537272001292, 22.4123423741182, 22.848371992279418, 18.690451941723264, 17.90866889590846, 17.183581146309912, 20.766447538369516, 18.37935574977462, 17.98855282449192], \"Total\": [442.0, 227.0, 236.0, 223.0, 217.0, 215.0, 260.0, 212.0, 212.0, 212.0, 212.0, 230.0, 228.0, 233.0, 230.0, 262.0, 238.0, 64.0, 57.0, 55.0, 54.0, 115.0, 50.0, 56.0, 50.0, 55.0, 48.0, 45.0, 90.0, 48.0, 223.95025412945324, 217.18379714214097, 227.33947090059735, 215.8798581239906, 212.89191217068876, 212.23938931981132, 212.23988549569663, 212.23922750683863, 236.17051281675106, 57.99791771649302, 44.81355368941798, 442.1852114956432, 41.17269623633275, 39.21536326571504, 38.047484588420254, 37.39518756105162, 37.3951875700861, 31.215330211516676, 29.776433152032382, 27.303725762903873, 26.65154870702007, 26.651547492245815, 26.65154968600365, 26.65154668468357, 26.651546068559487, 26.65154517487684, 26.651545721410912, 26.651544136019254, 26.651530900449785, 26.866773237485873, 230.7889791581158, 260.3937572649148, 228.9823306802861, 233.3645266936834, 230.57555562761308, 238.82371119510782, 262.6654805315088, 49.177523117473456, 44.74891871568237, 114.69828887049009, 57.24547980986558, 373.0410743181334, 91.02633254022729, 81.74372003305197, 210.4264478568706, 55.4617379213662, 143.39769411974083, 48.02714793732567, 46.881818328571285, 34.87273539816362, 33.32674103945503, 33.326741407564754, 30.779780872180748, 28.563537963583883, 20.314560222546287, 20.253318372813503, 19.699462523783186, 19.14467418775489, 19.14469096613563, 19.14468999085238, 18.447209120795645, 17.777263391987272, 21.64294941619496, 26.70380573239403, 15.328701061212117, 14.712040581348155, 14.712038034854569, 14.712033688624523, 14.014961886405713, 13.898860021865481, 13.8988601144549, 13.898857055660203, 13.898857559555932, 14.014608344891089, 13.693352916158911, 12.790690178098012, 13.142136656450091, 24.296100116731743, 44.890230162179655, 20.59213490116903, 82.3642187976743, 34.611530085345464, 29.2640139020356, 32.62532028861082, 115.39699863702468, 131.6846832894883, 76.59321762778985, 89.34552271600792, 40.374863401742935, 64.59098516113698, 96.55052178660056, 46.08130029497994, 34.828073697282946, 373.0410743181334, 42.80943872219093, 87.81688560102478, 82.44136684849971, 143.39769411974083, 77.85035687506365, 103.15015024522147, 90.44801145109021, 137.22310858285482, 67.44890430476629, 210.4264478568706, 262.6654805315088, 87.61329140463195, 64.81997164578983, 39.6777410847418, 45.26841317780463, 33.672818887477696, 32.00807847314547, 31.48947236904299, 30.04252702304682, 25.26675381555636, 28.692280048623967, 20.816960274039577, 19.996903277505197, 19.88867681482465, 17.92303006320606, 17.923027799678096, 17.923027790301745, 17.92302705115114, 17.923023146021706, 16.0663280732229, 14.862368616849478, 14.863805734899424, 13.582791222257558, 13.063643427180827, 13.06364370065453, 13.063640760075053, 13.063645350230095, 13.063654573638056, 13.063651882618938, 12.436373179071902, 12.160199602068177, 12.136716755639277, 23.47750188185032, 41.73951182254193, 26.881468013421944, 42.46683554017512, 19.135813489727603, 73.67875072300467, 18.77492160556524, 75.44596917388583, 59.392572978295114, 17.6399767626505, 115.39699863702468, 210.4264478568706, 41.02971408559329, 373.0410743181334, 103.15015024522147, 42.21503801933661, 74.11642786865463, 143.39769411974083, 108.82615422652474, 71.13270794511374, 32.88913836470456, 96.55052178660056, 137.22310858285482, 76.59321762778985, 131.6846832894883, 33.88349731418132, 32.940353494043144, 31.150575009046335, 26.949989960516344, 25.509693222338306, 24.565682117782142, 29.132912590237492, 22.526335040938555, 21.95478781194691, 21.581730082656843, 20.637651309425074, 20.63764830376318, 20.637648341174398, 20.63764897130079, 20.637649588771836, 18.751611971333407, 16.017200622054087, 12.911138971872102, 12.71310515621196, 12.713105212263507, 12.713105262011174, 12.71310613334448, 48.976813890130664, 11.320130438637312, 11.122388104828069, 11.023441705448048, 10.551191087198251, 10.079217864889054, 10.079220312684615, 10.079225255202548, 51.163497185693025, 26.010447670562154, 22.06295343824161, 17.29934391322141, 29.55464754587105, 18.928673631314112, 43.55172274853511, 90.44801145109021, 48.77953710347485, 32.96626137699225, 29.897516311203987, 35.43795704338115, 41.65353844401066, 32.01987948438168, 108.82615422652474, 81.02359624176958, 42.60530889892009, 87.61329140463195, 238.82371119510782, 57.54295831327727, 55.47308289820798, 54.05561496318211, 50.944891441424154, 50.472250651207446, 25.64490669365751, 28.19036860993247, 24.801136778509992, 22.632607002985807, 15.466901323056257, 14.147759039144002, 12.951085089759577, 56.21637814529085, 15.401983322289626, 15.401986471234697, 8.423061372172702, 8.399975804451996, 7.9277205490215366, 7.08132258999963, 7.468819343362439, 6.618931847615492, 6.1364703796164, 5.861859509842097, 5.86193505928087, 6.625729255832197, 5.388852377186865, 5.28960931404107, 5.289609315600743, 5.289675333094229, 5.289821285601613, 16.71909636065225, 55.98777732100106, 42.64094996192038, 15.962458709856914, 11.278480556014028, 11.718433032190182, 18.94362260967749, 23.716562711446112, 12.584317243421943, 36.14846453655924, 34.600328609271415, 41.81475626182201, 45.46933041864835, 66.90392960748784, 34.317587664805906, 38.39755730618054, 137.22310858285482, 74.48601406702161, 373.0410743181334, 210.4264478568706, 52.17698386166683, 81.02359624176958, 41.97598199858848, 40.938804631591125, 39.43962813665661, 143.39769411974083, 73.67875072300467, 62.190825333820385], \"Category\": [\"Default\", \"Default\", \"Default\", \"Default\", \"Default\", \"Default\", \"Default\", \"Default\", \"Default\", \"Default\", \"Default\", \"Default\", \"Default\", \"Default\", \"Default\", \"Default\", \"Default\", \"Default\", \"Default\", \"Default\", \"Default\", \"Default\", \"Default\", \"Default\", \"Default\", \"Default\", \"Default\", \"Default\", \"Default\", \"Default\", \"Topic1\", \"Topic1\", \"Topic1\", \"Topic1\", \"Topic1\", \"Topic1\", \"Topic1\", \"Topic1\", \"Topic1\", \"Topic1\", \"Topic1\", \"Topic1\", \"Topic1\", \"Topic1\", \"Topic1\", \"Topic1\", \"Topic1\", \"Topic1\", \"Topic1\", \"Topic1\", \"Topic1\", \"Topic1\", \"Topic1\", \"Topic1\", \"Topic1\", \"Topic1\", \"Topic1\", \"Topic1\", \"Topic1\", \"Topic1\", \"Topic1\", \"Topic1\", \"Topic1\", \"Topic1\", \"Topic1\", \"Topic1\", \"Topic1\", \"Topic1\", \"Topic1\", \"Topic1\", \"Topic1\", \"Topic1\", \"Topic1\", \"Topic1\", \"Topic1\", \"Topic1\", \"Topic1\", \"Topic2\", \"Topic2\", \"Topic2\", \"Topic2\", \"Topic2\", \"Topic2\", \"Topic2\", \"Topic2\", \"Topic2\", \"Topic2\", \"Topic2\", \"Topic2\", \"Topic2\", \"Topic2\", \"Topic2\", \"Topic2\", \"Topic2\", \"Topic2\", \"Topic2\", \"Topic2\", \"Topic2\", \"Topic2\", \"Topic2\", \"Topic2\", \"Topic2\", \"Topic2\", \"Topic2\", \"Topic2\", \"Topic2\", \"Topic2\", \"Topic2\", \"Topic2\", \"Topic2\", \"Topic2\", \"Topic2\", \"Topic2\", \"Topic2\", \"Topic2\", \"Topic2\", \"Topic2\", \"Topic2\", \"Topic2\", \"Topic2\", \"Topic2\", \"Topic2\", \"Topic2\", \"Topic2\", \"Topic2\", \"Topic2\", \"Topic2\", \"Topic2\", \"Topic2\", \"Topic2\", \"Topic2\", \"Topic2\", \"Topic2\", \"Topic2\", \"Topic2\", \"Topic2\", \"Topic3\", \"Topic3\", \"Topic3\", \"Topic3\", \"Topic3\", \"Topic3\", \"Topic3\", \"Topic3\", \"Topic3\", \"Topic3\", \"Topic3\", \"Topic3\", \"Topic3\", \"Topic3\", \"Topic3\", \"Topic3\", \"Topic3\", \"Topic3\", \"Topic3\", \"Topic3\", \"Topic3\", \"Topic3\", \"Topic3\", \"Topic3\", \"Topic3\", \"Topic3\", \"Topic3\", \"Topic3\", \"Topic3\", \"Topic3\", \"Topic3\", \"Topic3\", \"Topic3\", \"Topic3\", \"Topic3\", \"Topic3\", \"Topic3\", \"Topic3\", \"Topic3\", \"Topic3\", \"Topic3\", \"Topic3\", \"Topic3\", \"Topic3\", \"Topic3\", \"Topic3\", \"Topic3\", \"Topic3\", \"Topic3\", \"Topic3\", \"Topic3\", \"Topic3\", \"Topic3\", \"Topic3\", \"Topic3\", \"Topic4\", \"Topic4\", \"Topic4\", \"Topic4\", \"Topic4\", \"Topic4\", \"Topic4\", \"Topic4\", \"Topic4\", \"Topic4\", \"Topic4\", \"Topic4\", \"Topic4\", \"Topic4\", \"Topic4\", \"Topic4\", \"Topic4\", \"Topic4\", \"Topic4\", \"Topic4\", \"Topic4\", \"Topic4\", \"Topic4\", \"Topic4\", \"Topic4\", \"Topic4\", \"Topic4\", \"Topic4\", \"Topic4\", \"Topic4\", \"Topic4\", \"Topic4\", \"Topic4\", \"Topic4\", \"Topic4\", \"Topic4\", \"Topic4\", \"Topic4\", \"Topic4\", \"Topic4\", \"Topic4\", \"Topic4\", \"Topic4\", \"Topic4\", \"Topic4\", \"Topic4\", \"Topic4\", \"Topic4\", \"Topic4\", \"Topic5\", \"Topic5\", \"Topic5\", \"Topic5\", \"Topic5\", \"Topic5\", \"Topic5\", \"Topic5\", \"Topic5\", \"Topic5\", \"Topic5\", \"Topic5\", \"Topic5\", \"Topic5\", \"Topic5\", \"Topic5\", \"Topic5\", \"Topic5\", \"Topic5\", \"Topic5\", \"Topic5\", \"Topic5\", \"Topic5\", \"Topic5\", \"Topic5\", \"Topic5\", \"Topic5\", \"Topic5\", \"Topic5\", \"Topic5\", \"Topic5\", \"Topic5\", \"Topic5\", \"Topic5\", \"Topic5\", \"Topic5\", \"Topic5\", \"Topic5\", \"Topic5\", \"Topic5\", \"Topic5\", \"Topic5\", \"Topic5\", \"Topic5\", \"Topic5\", \"Topic5\", \"Topic5\", \"Topic5\", \"Topic5\", \"Topic5\", \"Topic5\", \"Topic5\", \"Topic5\", \"Topic5\", \"Topic5\", \"Topic5\", \"Topic5\", \"Topic5\"], \"logprob\": [30.0, 29.0, 28.0, 27.0, 26.0, 25.0, 24.0, 23.0, 22.0, 21.0, 20.0, 19.0, 18.0, 17.0, 16.0, 15.0, 14.0, 13.0, 12.0, 11.0, 10.0, 9.0, 8.0, 7.0, 6.0, 5.0, 4.0, 3.0, 2.0, 1.0, -3.9522, -3.9829, -3.9372, -3.989, -4.0029, -4.006, -4.006, -4.006, -3.9056, -5.3116, -5.5728, -3.2838, -5.6588, -5.7083, -5.7391, -5.7567, -5.7567, -5.9411, -5.9891, -6.0778, -6.1025, -6.1025, -6.1025, -6.1025, -6.1025, -6.1025, -6.1025, -6.1025, -6.1025, -6.097, -3.9482, -3.8302, -3.9665, -3.9647, -3.9795, -3.9755, -3.907, -5.5633, -5.7047, -5.0076, -5.5453, -4.3225, -5.266, -5.3937, -5.2249, -5.6996, -5.6986, -5.1153, -5.1426, -5.4408, -5.487, -5.487, -5.5683, -5.6448, -5.9959, -5.9989, -6.0276, -6.057, -6.057, -6.057, -6.096, -6.134, -5.9389, -5.7323, -6.2885, -6.3315, -6.3315, -6.3315, -6.3826, -6.3912, -6.3912, -6.3912, -6.3912, -6.3834, -6.4089, -6.4788, -6.4519, -5.8936, -5.3574, -6.0566, -4.8894, -5.6441, -5.7843, -5.6997, -4.7804, -4.6998, -5.1079, -5.0241, -5.63, -5.316, -5.1198, -5.5975, -5.7693, -4.5889, -5.6851, -5.3867, -5.42, -5.2709, -5.5043, -5.5064, -5.559, -5.479, -5.6693, -5.6425, -5.6369, -5.6835, -4.562, -5.0597, -4.9281, -5.2271, -5.2788, -5.2955, -5.3436, -5.5212, -5.398, -5.721, -5.7628, -5.7684, -5.8763, -5.8763, -5.8763, -5.8763, -5.8763, -5.9903, -6.0722, -6.0724, -6.1672, -6.2076, -6.2076, -6.2076, -6.2076, -6.2076, -6.2076, -6.2597, -6.2838, -6.2862, -5.6384, -5.1071, -5.5373, -5.1485, -5.91, -4.8943, -5.9397, -4.9381, -5.1833, -6.0049, -4.8718, -4.5166, -5.5955, -4.6051, -5.2211, -5.5989, -5.4485, -5.2939, -5.4019, -5.5124, -5.7203, -5.4912, -5.4754, -5.5999, -5.5632, -5.0827, -5.1117, -5.1687, -5.3179, -5.3736, -5.4124, -5.2431, -5.5019, -5.5284, -5.5461, -5.5923, -5.5923, -5.5923, -5.5923, -5.5923, -5.6928, -5.8563, -6.0829, -6.0992, -6.0992, -6.0992, -6.0992, -4.7549, -6.2229, -6.2415, -6.2512, -6.2978, -6.3469, -6.3469, -6.3469, -4.9121, -5.5234, -5.6768, -5.8972, -5.494, -5.8376, -5.2224, -4.768, -5.2261, -5.4855, -5.605, -5.5269, -5.461, -5.5903, -5.2185, -5.4882, -5.5786, -5.5854, -5.5803, -4.5054, -4.5425, -4.5685, -4.6285, -4.638, -5.3295, -5.2354, -5.3648, -5.4579, -5.8535, -5.947, -6.0405, -4.5827, -5.878, -5.878, -6.5024, -6.5057, -6.5688, -6.6936, -6.6485, -6.775, -6.8541, -6.9061, -6.9063, -6.7874, -7.0019, -7.0232, -7.0232, -7.0233, -7.0234, -5.8766, -4.6934, -4.9723, -5.946, -6.2996, -6.2643, -5.8227, -5.6257, -6.2048, -5.274, -5.408, -5.2866, -5.264, -5.0194, -5.5101, -5.4618, -4.6551, -5.1133, -4.411, -4.8354, -5.4356, -5.4164, -5.6172, -5.66, -5.7013, -5.5119, -5.634, -5.6555], \"loglift\": [30.0, 29.0, 28.0, 27.0, 26.0, 25.0, 24.0, 23.0, 22.0, 21.0, 20.0, 19.0, 18.0, 17.0, 16.0, 15.0, 14.0, 13.0, 12.0, 11.0, 10.0, 9.0, 8.0, 7.0, 6.0, 5.0, 4.0, 3.0, 2.0, 1.0, 1.1316, 1.1315, 1.1314, 1.1314, 1.1314, 1.1314, 1.1314, 1.1314, 1.1249, 1.1232, 1.1198, 1.1196, 1.1185, 1.1177, 1.1172, 1.1169, 1.1169, 1.1131, 1.1123, 1.1103, 1.1098, 1.1098, 1.1098, 1.1098, 1.1098, 1.1098, 1.1098, 1.1098, 1.1098, 1.1072, 1.1054, 1.1027, 1.095, 1.0778, 1.075, 1.0439, 1.0172, 1.0364, 0.9893, 0.7453, 0.9024, 0.251, 0.718, 0.6979, -0.0789, 0.7798, -0.1691, 1.5081, 1.5048, 1.5027, 1.5017, 1.5017, 1.5, 1.4982, 1.4879, 1.4879, 1.4869, 1.4861, 1.4861, 1.4861, 1.4842, 1.4832, 1.4815, 1.478, 1.4769, 1.4749, 1.4749, 1.4749, 1.4724, 1.4721, 1.4721, 1.4721, 1.4721, 1.4716, 1.4693, 1.4676, 1.4674, 1.4112, 1.3335, 1.4136, 1.1945, 1.3069, 1.3345, 1.3103, 0.9663, 0.915, 1.0487, 0.9785, 1.1669, 1.0111, 0.8053, 1.0672, 1.1754, -0.0154, 1.0533, 0.6331, 0.6631, 0.2586, 0.636, 0.3525, 0.4314, 0.0945, 0.6145, -0.4965, -0.7127, 0.3387, 1.7615, 1.7546, 1.7544, 1.7514, 1.7504, 1.75, 1.7489, 1.7444, 1.7405, 1.7384, 1.7367, 1.7366, 1.7328, 1.7328, 1.7328, 1.7328, 1.7328, 1.7281, 1.7241, 1.7238, 1.7192, 1.7177, 1.7177, 1.7177, 1.7177, 1.7177, 1.7177, 1.7148, 1.7132, 1.7127, 1.7007, 1.6566, 1.6664, 1.5979, 1.6336, 1.3011, 1.6229, 1.2336, 1.2277, 1.62, 0.8749, 0.6294, 1.1853, -0.0316, 0.6378, 1.1534, 0.7409, 0.2356, 0.4035, 0.7182, 1.2817, 0.4339, 0.0981, 0.5568, 0.0515, 1.8895, 1.8888, 1.8876, 1.8833, 1.8824, 1.8814, 1.8802, 1.8785, 1.8777, 1.8772, 1.8757, 1.8757, 1.8757, 1.8757, 1.8757, 1.8711, 1.8651, 1.8541, 1.8533, 1.8533, 1.8533, 1.8533, 1.8489, 1.8457, 1.8446, 1.8439, 1.8411, 1.8377, 1.8377, 1.8377, 1.648, 1.7132, 1.7245, 1.7473, 1.6149, 1.7169, 1.4988, 1.2223, 1.3817, 1.5141, 1.4924, 1.4004, 1.3048, 1.4384, 0.5869, 0.6122, 1.1645, 0.4368, -0.5609, 1.9372, 1.9368, 1.9366, 1.9359, 1.9357, 1.9213, 1.9207, 1.9194, 1.9179, 1.9029, 1.8985, 1.8935, 1.8833, 1.8826, 1.8826, 1.8617, 1.8612, 1.856, 1.8441, 1.8359, 1.8302, 1.8268, 1.8205, 1.8204, 1.8167, 1.8089, 1.8062, 1.8062, 1.8061, 1.8059, 1.802, 1.7766, 1.77, 1.7789, 1.7726, 1.7696, 1.731, 1.7033, 1.7579, 1.6335, 1.5433, 1.4753, 1.4141, 1.2725, 1.4493, 1.3854, 0.9185, 1.0712, 0.1625, 0.3105, 1.1049, 0.684, 1.1408, 1.1231, 1.1191, 0.0176, 0.5614, 0.7094]}, \"token.table\": {\"Topic\": [2, 4, 2, 2, 1, 2, 3, 5, 2, 3, 5, 3, 3, 1, 5, 2, 5, 3, 3, 2, 3, 4, 2, 5, 2, 4, 4, 3, 4, 3, 5, 4, 2, 3, 4, 2, 2, 2, 1, 5, 4, 2, 3, 4, 5, 2, 3, 1, 2, 3, 5, 1, 5, 5, 2, 5, 1, 4, 5, 1, 1, 5, 3, 3, 3, 3, 5, 1, 5, 4, 2, 1, 1, 3, 5, 1, 2, 4, 5, 1, 2, 3, 4, 5, 5, 5, 5, 3, 2, 3, 4, 1, 1, 3, 4, 5, 1, 2, 3, 2, 4, 2, 3, 3, 4, 5, 2, 3, 4, 5, 2, 3, 4, 5, 1, 4, 1, 2, 4, 1, 2, 3, 4, 5, 3, 2, 4, 2, 3, 4, 5, 3, 2, 1, 2, 4, 2, 5, 1, 4, 2, 1, 2, 3, 4, 5, 1, 2, 4, 1, 2, 3, 5, 4, 1, 2, 3, 5, 1, 3, 4, 4, 2, 1, 2, 3, 4, 5, 4, 1, 2, 3, 4, 5, 1, 2, 3, 4, 5, 4, 3, 5, 3, 5, 4, 5, 1, 2, 3, 4, 5, 1, 3, 4, 5, 1, 2, 5, 2, 3, 5, 1, 2, 3, 4, 5, 4, 5, 5, 5, 1, 1, 3, 4, 4, 4, 2, 3, 5, 4, 2, 4, 5, 5, 3, 4, 2, 4, 4, 1, 4, 2, 3, 4, 5, 3, 4, 2, 1, 3, 2, 1, 2, 4, 5, 1, 3, 1, 2, 3, 4, 5, 2, 3, 4, 5, 1, 2, 3, 4, 1, 2, 3, 4, 5, 1, 1, 1, 5, 2, 4, 1, 2, 3, 4, 5, 1, 5, 5, 1, 2, 3, 4, 5, 1, 2, 5, 2, 3, 4, 5, 2, 3, 2, 3, 3, 1, 1, 2, 3, 4, 4, 5, 5, 1, 2, 3, 3, 1, 1, 1, 2, 3, 4, 5, 1, 2, 3, 4, 5, 3, 5, 1, 5, 1, 5, 1, 4, 5, 4, 1, 2, 3, 4, 5, 1, 2, 2, 3, 4, 2, 5, 2, 2, 3, 5, 1, 4, 5, 4, 5, 3, 3, 4, 1, 2, 5, 1, 2, 1, 2, 3, 4, 4, 3, 1, 1, 2, 3, 4, 5, 1, 3, 5, 5, 5, 2, 1, 2, 3, 4, 5, 1, 3, 5, 5, 5, 3, 4, 1, 3, 4, 1, 2, 3, 3, 5, 1, 4, 1, 3, 4, 5, 2, 1, 3, 1, 2, 3, 4, 5, 1, 3, 4, 5, 4, 4, 5, 1, 1, 1, 2, 3, 4, 5, 2, 4, 1, 2, 3, 4, 5, 1, 2, 3, 5, 2, 3, 4, 5, 5, 4, 2, 1, 2, 4, 5, 1, 2, 4, 5, 1, 3, 5, 1, 4, 5, 5, 1, 3, 1, 2, 3, 4, 5, 1, 2, 3, 4, 5, 3, 1, 5, 1, 2, 5], \"Freq\": [0.7969270422481137, 0.18390624051879548, 0.9785564960853816, 0.9353285012545683, 0.9755530639445186, 0.08432925227544706, 0.12649387841317059, 0.8011278966167471, 0.6307020322133804, 0.14015600715852897, 0.23359334526421496, 0.918580066643769, 0.9894424975403004, 0.12529398110611795, 0.8144108771897666, 0.9493657309203857, 0.9452375968555367, 0.9418852916739046, 0.9570934123390955, 0.4321361563122667, 0.024007564239570373, 0.5521739775101185, 0.8242327977897687, 0.15593593471698328, 0.9353286731873918, 0.9439078614300435, 0.8990874896425475, 0.948500453718279, 0.9717202517786669, 0.9336296340792328, 0.9914718477234071, 0.9691026060875286, 0.6935007982910296, 0.24767885653251057, 0.049535771306502115, 0.9353285074854047, 0.9702928929033188, 0.9402092625589296, 0.9739245749123787, 0.814800641197352, 0.9439078692853007, 0.19881777865996267, 0.5831988174025572, 0.06627259288665423, 0.1457997043506393, 0.9562776691300188, 0.9185792845541056, 0.08231773784232477, 0.9054951162655726, 0.15836464132617525, 0.7918232066308764, 0.989432127853178, 0.9804716870966855, 0.9906433605572501, 0.14288832996767659, 0.8394689385601, 0.9988720787381714, 0.8158472550098704, 0.13597454250164506, 0.9827939044058259, 0.4166931732770567, 0.5729531132559529, 0.9045904146284858, 0.9844559996653299, 0.9652982912440403, 0.1589279705297828, 0.794639852648914, 0.14070981076543032, 0.844258864592582, 0.9439078651236504, 0.938182368027963, 0.9888760323209616, 0.08670437884789706, 0.23121167692772548, 0.6647335711672108, 0.6483678498919571, 0.17126697921674336, 0.061166778291694056, 0.11010020092504931, 0.13576291981877298, 0.2098154215381037, 0.09873666895910763, 0.27152583963754595, 0.28386792325743443, 0.9497734429942097, 0.9814526753382019, 0.9676975783140646, 0.9185790953333633, 0.8089789711970928, 0.11556842445672755, 0.08667631834254566, 0.9755531732297432, 0.04592240843256358, 0.13776722529769075, 0.6658749222721719, 0.13776722529769075, 0.9607728218435003, 0.021835745950988642, 0.013101447570593186, 0.23684938178117232, 0.7443837713122559, 0.9746658081999042, 0.9685054985730793, 0.04083564938475961, 0.9392199358494709, 0.020417824692379804, 0.9901958189200404, 0.9185798791041893, 0.9630640844121754, 0.9278413380123326, 0.19541361971831156, 0.19541361971831156, 0.1709869172535226, 0.439680644366201, 0.975553028109813, 0.980019625563667, 0.15636147722593638, 0.058635553959726146, 0.7622622014764399, 0.5306248923835083, 0.06431816877375858, 0.03215908438687929, 0.06431816877375858, 0.2894317594819136, 0.9553174490641707, 0.9757573561470877, 0.9477602971415227, 0.582010137937032, 0.22385005305270464, 0.08954002122108186, 0.10073252387371709, 0.9185798598746812, 0.9802707226148825, 0.10251498683819722, 0.8201198947055778, 0.03417166227939907, 0.9736439914427533, 0.03744784582472128, 0.9755532312614225, 0.8929262106388899, 0.9130935336995193, 0.030964073314728714, 0.6037994296372099, 0.04644610997209307, 0.07741018328682178, 0.2477125865178297, 0.7860882666974307, 0.12228039704182256, 0.08734314074415897, 0.026111972599442698, 0.6266873423866247, 0.30028768489359103, 0.052223945198885395, 0.9691025252891126, 0.36389498557356764, 0.4245441498358289, 0.14555799422942706, 0.060649164262261274, 0.2131941701882999, 0.5448295460367664, 0.23688241132033322, 0.9565111801523605, 0.9353287070972393, 0.14350279678036038, 0.1025019977002574, 0.08200159816020593, 0.594511586661493, 0.08200159816020593, 0.9766346793660836, 0.08434938263041557, 0.35145576096006487, 0.35145576096006487, 0.12652407394562334, 0.08434938263041557, 0.02347125336827089, 0.16429877357789624, 0.11735626684135446, 0.46942506736541784, 0.23471253368270892, 0.9294300081613955, 0.8503412562175149, 0.11337883416233532, 0.8928083833820674, 0.07440069861517228, 0.05981184499620813, 0.8373658299469139, 0.16110406967410748, 0.10740271311607165, 0.2550814436506702, 0.04027601741852687, 0.41618551332477766, 0.2432413981567031, 0.6081034953917577, 0.030405174769587887, 0.09121552430876366, 0.047830004974250044, 0.3108950323326253, 0.6217900646652506, 0.9901958298572247, 0.08533564148491783, 0.8533564148491783, 0.41282317310899436, 0.2144535964202568, 0.16352086727044582, 0.04021004932879815, 0.16620153722569903, 0.05336523089848514, 0.9427857458732375, 0.9089736590891638, 0.9055606965404739, 0.9894321276141365, 0.9991537253489463, 0.982918859133278, 0.9364932333647926, 0.9611122785362307, 0.9599174741626247, 0.8741201476384135, 0.09712446084871262, 0.9452115166176825, 0.96910266642896, 0.7178117347888331, 0.1148498775662133, 0.17227481634931996, 0.9452493939870771, 0.8883865851392134, 0.10451606883990747, 0.9402084864576375, 0.9691026350827305, 0.8929264274911143, 0.9150521853755355, 0.08133797203338093, 0.19793561763796785, 0.15394992482953054, 0.06597853921265595, 0.5938068529139036, 0.9370673298511147, 0.042593969538687035, 0.9845155288078956, 0.09583245767239068, 0.8864502334696138, 0.9786131806397066, 0.04764629449448624, 0.30970091421416057, 0.16676203073070187, 0.4526397976976193, 0.9677380967999347, 0.9758722538797621, 0.1938921073062278, 0.31022737168996445, 0.31992197705527586, 0.12602986974904806, 0.04847302682655695, 0.30664861814204664, 0.05749661590163374, 0.21082092497265706, 0.4216418499453141, 0.030334043298519683, 0.12133617319407873, 0.1820042597911181, 0.667348952567433, 0.11860830183174197, 0.40030301868212914, 0.2520426413924517, 0.08895622637380647, 0.14826037728967745, 0.9958055640723292, 0.9755531932350766, 0.9470162544887845, 0.05142169707631409, 0.951601953632347, 0.9071576978592594, 0.6591499220677071, 0.12084415237907963, 0.10985832034461784, 0.07690082424123248, 0.021971664068923567, 0.9411231793818681, 0.056380651299374585, 0.9188734388274225, 0.0456551732719007, 0.3081724195853297, 0.23968965967747868, 0.2282758663595035, 0.1826206930876028, 0.8908669670886953, 0.10659946614736525, 0.0038071237909773304, 0.7163304753115193, 0.12141194496805412, 0.08498836147763789, 0.07284716698083246, 0.9516015077982536, 0.9719801714095306, 0.9275801179744763, 0.9485003339306485, 0.9185797438835585, 0.9755531379701123, 0.3124248967690987, 0.16540141593658164, 0.25729109145690476, 0.26648005900893706, 0.8073678802447976, 0.1537843581418662, 0.9905642961503426, 0.10102273228998998, 0.3199053189183016, 0.5724621496432766, 0.9419763673556172, 0.9988697435680557, 0.9988728402866481, 0.1457480464226918, 0.24048427659744145, 0.18947246034949933, 0.0728740232113459, 0.35708271373559486, 0.051786359177334956, 0.4867917762669486, 0.25893179588667475, 0.18643089303840582, 0.02071454367093398, 0.9485004933309042, 0.8529606605047224, 0.975553160522717, 0.9452493942657896, 0.994508191489754, 0.9089738449293938, 0.05780566043523348, 0.8670849065285022, 0.05780566043523348, 0.9439077967363054, 0.2719709005043971, 0.28591812617128926, 0.21618199783682845, 0.08368335400135295, 0.14644586950236765, 0.9818458117591757, 0.9811906116270691, 0.5719386186775932, 0.4072896223916194, 0.0173314732932604, 0.3788145054651389, 0.6119311242129166, 0.9516016725101127, 0.08866442558760894, 0.08866442558760894, 0.7979798302884804, 0.9985067665581672, 0.6689518885722648, 0.3344759442861324, 0.8452784548797363, 0.15848971028995057, 0.9501471170975444, 0.9649115403029047, 0.9714528414452749, 0.970583607662372, 0.025997775205242105, 0.004332962534207017, 0.990809552001798, 0.008468457709417076, 0.02211215003971094, 0.3316822505956641, 0.13267290023826564, 0.49752337589349616, 0.8929257727774772, 0.9607550639822091, 0.9755537157365024, 0.065102329595652, 0.629322519424636, 0.021700776531884, 0.130204659191304, 0.130204659191304, 0.10652507861375902, 0.8522006289100722, 0.9748524453077066, 0.8829776424023879, 0.8529716537226745, 0.9276035177065112, 0.2697482817413588, 0.41104500074873723, 0.24405796919456274, 0.0642257813669902, 0.952383695648265, 0.04709557410059268, 0.8477203338106682, 0.09419114820118536, 0.9698128724491016, 0.9577739253287713, 0.9800189318950097, 0.9647498955692322, 0.9677651363339893, 0.023042027055571172, 0.007680675685190391, 0.9957568517475137, 0.9874925003325116, 0.9485004542144826, 0.948500699993428, 0.9265632892404051, 0.9128071869794544, 0.08374377862196829, 0.9755531084101071, 0.24984478795125245, 0.6246119698781312, 0.09369179548171967, 0.9402084385608295, 0.9958104929323306, 0.9063406703372965, 0.29607062266048517, 0.40994393906836407, 0.19358463789339414, 0.07971132148551524, 0.02277466328157578, 0.06786217126288561, 0.6243319756185476, 0.05428973701030849, 0.24430381654638822, 0.9730452526081621, 0.9739254391012481, 0.8472993460957854, 0.9959243158132647, 0.9724690186552029, 0.2993920233964687, 0.13306312150954164, 0.31840104075497466, 0.057027052075517844, 0.19484242792468598, 0.9644933194020535, 0.9691026646722041, 0.7031874849521359, 0.12621313832474235, 0.0360608966642121, 0.01803044833210605, 0.12621313832474235, 0.24372580269847133, 0.09749032107938853, 0.560569346206484, 0.09749032107938853, 0.29893610311585667, 0.014946805155792832, 0.19430846702530682, 0.5081913752969563, 0.9372297920448324, 0.976972668006126, 0.9749737040068965, 0.15213125182646903, 0.25355208637744836, 0.15213125182646903, 0.43103854684166226, 0.6800450187018271, 0.16565199173506046, 0.04359262940396327, 0.11334083645030452, 0.8715294384606516, 0.11173454339239124, 0.022346908678478244, 0.36683830233458814, 0.5925849499251039, 0.02821833094881447, 0.9720488672426314, 0.986012170161181, 0.013568974818731849, 0.08353287356752197, 0.5467606269874166, 0.18225354232913885, 0.10631456635866433, 0.08353287356752197, 0.1484151397513874, 0.350799421230552, 0.350799421230552, 0.06746142715972155, 0.08095371259166585, 0.9873500153583746, 0.9931017801170903, 0.9064906752532184, 0.22130953838742146, 0.055327384596855364, 0.7192559997591197], \"Term\": [\"across\", \"across\", \"added\", \"alexstraszha\", \"alleged\", \"already\", \"already\", \"already\", \"amid\", \"amid\", \"amid\", \"backs\", \"backwardation\", \"banking\", \"banking\", \"based\", \"behavior\", \"bet\", \"bias\", \"big\", \"big\", \"big\", \"black\", \"black\", \"blows\", \"brags\", \"brain\", \"braverman\", \"bubble\", \"bull\", \"called\", \"celebrating\", \"central\", \"central\", \"central\", \"chars\", \"christmas\", \"christmashmmmm\\u2026\", \"class\", \"closed\", \"collapsethe\", \"coming\", \"coming\", \"coming\", \"coming\", \"confidence\", \"contango\", \"cool\", \"cool\", \"corporate\", \"corporate\", \"corruption\", \"course\", \"courses\", \"crisis\", \"crisis\", \"cruising\", \"crypto\", \"crypto\", \"cup\", \"currency\", \"currency\", \"curve\", \"curves\", \"curvewhen\", \"daily\", \"daily\", \"debt\", \"debt\", \"devaluation\", \"differ\", \"distract\", \"dollar\", \"dollar\", \"dollar\", \"dont\", \"dont\", \"dont\", \"dont\", \"economic\", \"economic\", \"economic\", \"economic\", \"economic\", \"elected\", \"emphasized\", \"ended\", \"enduring\", \"error\", \"error\", \"error\", \"espionage\", \"even\", \"even\", \"even\", \"even\", \"every\", \"every\", \"every\", \"everyone\", \"everyone\", \"example\", \"exceeds\", \"expect\", \"expect\", \"expect\", \"explainedavg\", \"extreme\", \"fairness\", \"falls\", \"fed\", \"fed\", \"fed\", \"fed\", \"female\", \"fiat\", \"finance\", \"finance\", \"finance\", \"financial\", \"financial\", \"financial\", \"financial\", \"financial\", \"focus\", \"forecasts\", \"founder\", \"friday\", \"friday\", \"friday\", \"friday\", \"futures\", \"gaffe\", \"gap\", \"gap\", \"gap\", \"gas\", \"gas\", \"gay\", \"gergo\", \"german\", \"get\", \"get\", \"get\", \"get\", \"get\", \"getting\", \"getting\", \"getting\", \"global\", \"global\", \"global\", \"global\", \"gobbling\", \"going\", \"going\", \"going\", \"going\", \"government\", \"government\", \"government\", \"grateful\", \"greenywolf\", \"help\", \"help\", \"help\", \"help\", \"help\", \"hes\", \"high\", \"high\", \"high\", \"high\", \"high\", \"higher\", \"higher\", \"higher\", \"higher\", \"higher\", \"hinder\", \"hits\", \"hits\", \"home\", \"home\", \"ibm\", \"ibm\", \"increase\", \"increase\", \"increase\", \"increase\", \"increase\", \"increased\", \"increased\", \"increased\", \"increased\", \"index\", \"index\", \"index\", \"indiahighest\", \"indicator\", \"indicator\", \"inflation\", \"inflation\", \"inflation\", \"inflation\", \"inflation\", \"informed\", \"informed\", \"intc\", \"intel\", \"international\", \"interviewed\", \"inverted\", \"investing\", \"involved\", \"items\", \"ive\", \"ive\", \"japan\", \"job\\u2026\", \"join\", \"join\", \"join\", \"lake\", \"large\", \"large\", \"lately\", \"leaving\", \"lensa\", \"level\", \"level\", \"likely\", \"likely\", \"likely\", \"likely\", \"lot\", \"lot\", \"love\", \"lower\", \"lower\", \"lowest\", \"make\", \"make\", \"make\", \"make\", \"makes\", \"mark\", \"market\", \"market\", \"market\", \"market\", \"market\", \"markets\", \"markets\", \"markets\", \"markets\", \"matter\", \"matter\", \"matter\", \"matter\", \"may\", \"may\", \"may\", \"may\", \"may\", \"meanwhile\", \"mentoryou\", \"minutes\", \"minutes\", \"misdefining\", \"mission\", \"money\", \"money\", \"money\", \"money\", \"money\", \"morning\", \"morning\", \"multifaceted\", \"new\", \"new\", \"new\", \"new\", \"new\", \"news\", \"news\", \"news\", \"next\", \"next\", \"next\", \"next\", \"nonrecessionary\", \"number\", \"outside\", \"patel\", \"peaks\", \"pedo\", \"people\", \"people\", \"people\", \"people\", \"plus\", \"plus\", \"pm\", \"policy\", \"policy\", \"policy\", \"positioning\", \"preached\", \"preaching\", \"price\", \"price\", \"price\", \"price\", \"price\", \"prices\", \"prices\", \"prices\", \"prices\", \"prices\", \"priti\", \"project\", \"projecting\", \"prospect\", \"qatars\", \"qcom\", \"quality\", \"quality\", \"quality\", \"rarer\", \"rate\", \"rate\", \"rate\", \"rate\", \"rate\", \"reach\", \"really\", \"recession\", \"recession\", \"recession\", \"recorded\", \"recorded\", \"redefining\", \"reported\", \"reported\", \"reported\", \"retailers\", \"rise\", \"rise\", \"risks\", \"risks\", \"role\", \"rrr\", \"safety\", \"sales\", \"sales\", \"sales\", \"say\", \"say\", \"says\", \"says\", \"says\", \"says\", \"search\", \"secretary\", \"sedition\", \"see\", \"see\", \"see\", \"see\", \"see\", \"seems\", \"seems\", \"sensitive\", \"series\", \"services\", \"set\", \"since\", \"since\", \"since\", \"since\", \"smaller\", \"soon\", \"soon\", \"soon\", \"sovereign\", \"spi\", \"spx\", \"starting\", \"still\", \"still\", \"still\", \"store\", \"stuff\", \"suella\", \"summarise\", \"sure\", \"talking\", \"talking\", \"tfgs\", \"thankful\", \"thankful\", \"thankful\", \"thatblack\", \"thru\", \"tightening\", \"time\", \"time\", \"time\", \"time\", \"time\", \"today\", \"today\", \"today\", \"today\", \"tonight\", \"transparency\", \"tried\", \"tv\", \"unveiled\", \"us\", \"us\", \"us\", \"us\", \"us\", \"utilities\", \"wallets\", \"war\", \"war\", \"war\", \"war\", \"war\", \"way\", \"way\", \"way\", \"way\", \"week\", \"week\", \"week\", \"week\", \"wells\", \"wins\", \"wise\", \"work\", \"work\", \"work\", \"work\", \"world\", \"world\", \"world\", \"world\", \"worst\", \"worst\", \"worst\", \"would\", \"would\", \"would\", \"wow\", \"wrong\", \"wrong\", \"year\", \"year\", \"year\", \"year\", \"year\", \"years\", \"years\", \"years\", \"years\", \"years\", \"yield\", \"youre\", \"youtube\", \"yoy\", \"yoy\", \"yoy\"]}, \"R\": 30, \"lambda.step\": 0.01, \"plot.opts\": {\"xlab\": \"PC1\", \"ylab\": \"PC2\"}, \"topic.order\": [5, 4, 2, 3, 1]};\n",
              "\n",
              "function LDAvis_load_lib(url, callback){\n",
              "  var s = document.createElement('script');\n",
              "  s.src = url;\n",
              "  s.async = true;\n",
              "  s.onreadystatechange = s.onload = callback;\n",
              "  s.onerror = function(){console.warn(\"failed to load library \" + url);};\n",
              "  document.getElementsByTagName(\"head\")[0].appendChild(s);\n",
              "}\n",
              "\n",
              "if(typeof(LDAvis) !== \"undefined\"){\n",
              "   // already loaded: just create the visualization\n",
              "   !function(LDAvis){\n",
              "       new LDAvis(\"#\" + \"ldavis_el14331403301136539684633121853\", ldavis_el14331403301136539684633121853_data);\n",
              "   }(LDAvis);\n",
              "}else if(typeof define === \"function\" && define.amd){\n",
              "   // require.js is available: use it to load d3/LDAvis\n",
              "   require.config({paths: {d3: \"https://d3js.org/d3.v5\"}});\n",
              "   require([\"d3\"], function(d3){\n",
              "      window.d3 = d3;\n",
              "      LDAvis_load_lib(\"https://cdn.jsdelivr.net/gh/bmabey/pyLDAvis@3.3.1/pyLDAvis/js/ldavis.v3.0.0.js\", function(){\n",
              "        new LDAvis(\"#\" + \"ldavis_el14331403301136539684633121853\", ldavis_el14331403301136539684633121853_data);\n",
              "      });\n",
              "    });\n",
              "}else{\n",
              "    // require.js not available: dynamically load d3 & LDAvis\n",
              "    LDAvis_load_lib(\"https://d3js.org/d3.v5.js\", function(){\n",
              "         LDAvis_load_lib(\"https://cdn.jsdelivr.net/gh/bmabey/pyLDAvis@3.3.1/pyLDAvis/js/ldavis.v3.0.0.js\", function(){\n",
              "                 new LDAvis(\"#\" + \"ldavis_el14331403301136539684633121853\", ldavis_el14331403301136539684633121853_data);\n",
              "            })\n",
              "         });\n",
              "}\n",
              "</script>"
            ]
          },
          "metadata": {},
          "execution_count": 31
        }
      ]
    },
    {
      "cell_type": "code",
      "source": [
        "topic_list = []\n",
        "count = 0\n",
        "for i in lda_model[corpus]:\n",
        "  # print('doc',count,i)\n",
        "  topic_list.append(np.array([list(t) for t in zip(*i[0])])[1].argmax())\n",
        "  count+=1\n",
        "\n"
      ],
      "metadata": {
        "id": "wTJruBXReT7y"
      },
      "execution_count": 32,
      "outputs": []
    },
    {
      "cell_type": "code",
      "source": [
        "len(topic_list)"
      ],
      "metadata": {
        "colab": {
          "base_uri": "https://localhost:8080/"
        },
        "id": "ct9bYEd9oHmo",
        "outputId": "b0832c19-50c6-45c1-9712-8c8fca51651e"
      },
      "execution_count": 33,
      "outputs": [
        {
          "output_type": "execute_result",
          "data": {
            "text/plain": [
              "3038"
            ]
          },
          "metadata": {},
          "execution_count": 33
        }
      ]
    },
    {
      "cell_type": "code",
      "source": [
        "df2['TOPICS']=topic_list"
      ],
      "metadata": {
        "id": "UPWFClqFqGn3"
      },
      "execution_count": 35,
      "outputs": []
    },
    {
      "cell_type": "code",
      "source": [
        "df2.head()"
      ],
      "metadata": {
        "colab": {
          "base_uri": "https://localhost:8080/",
          "height": 206
        },
        "id": "x4LYg71RqO0K",
        "outputId": "3f6ddec2-f737-4095-840f-2107febb16a9"
      },
      "execution_count": 36,
      "outputs": [
        {
          "output_type": "execute_result",
          "data": {
            "text/plain": [
              "                                                text  TOPICS\n",
              "0  70,000 in the have begun action at 150 univers...       4\n",
              "1  Worried about ? Fuck the . Gamble away a porti...       2\n",
              "2  Woodgreen Tenants' Association: 's Landlord an...       4\n",
              "3  Woodgreen Tenants' Association: -Ed: John Tory...       3\n",
              "4  Woodgreen Tenants' Association: COMMITTEE CORN...       3"
            ],
            "text/html": [
              "\n",
              "  <div id=\"df-62d18e7d-02ad-4c7d-8696-61e1140b419c\">\n",
              "    <div class=\"colab-df-container\">\n",
              "      <div>\n",
              "<style scoped>\n",
              "    .dataframe tbody tr th:only-of-type {\n",
              "        vertical-align: middle;\n",
              "    }\n",
              "\n",
              "    .dataframe tbody tr th {\n",
              "        vertical-align: top;\n",
              "    }\n",
              "\n",
              "    .dataframe thead th {\n",
              "        text-align: right;\n",
              "    }\n",
              "</style>\n",
              "<table border=\"1\" class=\"dataframe\">\n",
              "  <thead>\n",
              "    <tr style=\"text-align: right;\">\n",
              "      <th></th>\n",
              "      <th>text</th>\n",
              "      <th>TOPICS</th>\n",
              "    </tr>\n",
              "  </thead>\n",
              "  <tbody>\n",
              "    <tr>\n",
              "      <th>0</th>\n",
              "      <td>70,000 in the have begun action at 150 univers...</td>\n",
              "      <td>4</td>\n",
              "    </tr>\n",
              "    <tr>\n",
              "      <th>1</th>\n",
              "      <td>Worried about ? Fuck the . Gamble away a porti...</td>\n",
              "      <td>2</td>\n",
              "    </tr>\n",
              "    <tr>\n",
              "      <th>2</th>\n",
              "      <td>Woodgreen Tenants' Association: 's Landlord an...</td>\n",
              "      <td>4</td>\n",
              "    </tr>\n",
              "    <tr>\n",
              "      <th>3</th>\n",
              "      <td>Woodgreen Tenants' Association: -Ed: John Tory...</td>\n",
              "      <td>3</td>\n",
              "    </tr>\n",
              "    <tr>\n",
              "      <th>4</th>\n",
              "      <td>Woodgreen Tenants' Association: COMMITTEE CORN...</td>\n",
              "      <td>3</td>\n",
              "    </tr>\n",
              "  </tbody>\n",
              "</table>\n",
              "</div>\n",
              "      <button class=\"colab-df-convert\" onclick=\"convertToInteractive('df-62d18e7d-02ad-4c7d-8696-61e1140b419c')\"\n",
              "              title=\"Convert this dataframe to an interactive table.\"\n",
              "              style=\"display:none;\">\n",
              "        \n",
              "  <svg xmlns=\"http://www.w3.org/2000/svg\" height=\"24px\"viewBox=\"0 0 24 24\"\n",
              "       width=\"24px\">\n",
              "    <path d=\"M0 0h24v24H0V0z\" fill=\"none\"/>\n",
              "    <path d=\"M18.56 5.44l.94 2.06.94-2.06 2.06-.94-2.06-.94-.94-2.06-.94 2.06-2.06.94zm-11 1L8.5 8.5l.94-2.06 2.06-.94-2.06-.94L8.5 2.5l-.94 2.06-2.06.94zm10 10l.94 2.06.94-2.06 2.06-.94-2.06-.94-.94-2.06-.94 2.06-2.06.94z\"/><path d=\"M17.41 7.96l-1.37-1.37c-.4-.4-.92-.59-1.43-.59-.52 0-1.04.2-1.43.59L10.3 9.45l-7.72 7.72c-.78.78-.78 2.05 0 2.83L4 21.41c.39.39.9.59 1.41.59.51 0 1.02-.2 1.41-.59l7.78-7.78 2.81-2.81c.8-.78.8-2.07 0-2.86zM5.41 20L4 18.59l7.72-7.72 1.47 1.35L5.41 20z\"/>\n",
              "  </svg>\n",
              "      </button>\n",
              "      \n",
              "  <style>\n",
              "    .colab-df-container {\n",
              "      display:flex;\n",
              "      flex-wrap:wrap;\n",
              "      gap: 12px;\n",
              "    }\n",
              "\n",
              "    .colab-df-convert {\n",
              "      background-color: #E8F0FE;\n",
              "      border: none;\n",
              "      border-radius: 50%;\n",
              "      cursor: pointer;\n",
              "      display: none;\n",
              "      fill: #1967D2;\n",
              "      height: 32px;\n",
              "      padding: 0 0 0 0;\n",
              "      width: 32px;\n",
              "    }\n",
              "\n",
              "    .colab-df-convert:hover {\n",
              "      background-color: #E2EBFA;\n",
              "      box-shadow: 0px 1px 2px rgba(60, 64, 67, 0.3), 0px 1px 3px 1px rgba(60, 64, 67, 0.15);\n",
              "      fill: #174EA6;\n",
              "    }\n",
              "\n",
              "    [theme=dark] .colab-df-convert {\n",
              "      background-color: #3B4455;\n",
              "      fill: #D2E3FC;\n",
              "    }\n",
              "\n",
              "    [theme=dark] .colab-df-convert:hover {\n",
              "      background-color: #434B5C;\n",
              "      box-shadow: 0px 1px 3px 1px rgba(0, 0, 0, 0.15);\n",
              "      filter: drop-shadow(0px 1px 2px rgba(0, 0, 0, 0.3));\n",
              "      fill: #FFFFFF;\n",
              "    }\n",
              "  </style>\n",
              "\n",
              "      <script>\n",
              "        const buttonEl =\n",
              "          document.querySelector('#df-62d18e7d-02ad-4c7d-8696-61e1140b419c button.colab-df-convert');\n",
              "        buttonEl.style.display =\n",
              "          google.colab.kernel.accessAllowed ? 'block' : 'none';\n",
              "\n",
              "        async function convertToInteractive(key) {\n",
              "          const element = document.querySelector('#df-62d18e7d-02ad-4c7d-8696-61e1140b419c');\n",
              "          const dataTable =\n",
              "            await google.colab.kernel.invokeFunction('convertToInteractive',\n",
              "                                                     [key], {});\n",
              "          if (!dataTable) return;\n",
              "\n",
              "          const docLinkHtml = 'Like what you see? Visit the ' +\n",
              "            '<a target=\"_blank\" href=https://colab.research.google.com/notebooks/data_table.ipynb>data table notebook</a>'\n",
              "            + ' to learn more about interactive tables.';\n",
              "          element.innerHTML = '';\n",
              "          dataTable['output_type'] = 'display_data';\n",
              "          await google.colab.output.renderOutput(dataTable, element);\n",
              "          const docLink = document.createElement('div');\n",
              "          docLink.innerHTML = docLinkHtml;\n",
              "          element.appendChild(docLink);\n",
              "        }\n",
              "      </script>\n",
              "    </div>\n",
              "  </div>\n",
              "  "
            ]
          },
          "metadata": {},
          "execution_count": 36
        }
      ]
    },
    {
      "cell_type": "code",
      "source": [],
      "metadata": {
        "id": "eNreb4eUrjgQ"
      },
      "execution_count": null,
      "outputs": []
    },
    {
      "cell_type": "markdown",
      "source": [
        "# Selecting the best number of topics (K)\n",
        "k=4"
      ],
      "metadata": {
        "id": "9QhjcZ__eZXi"
      }
    },
    {
      "cell_type": "code",
      "source": [
        "# Create a dictionary of tokens\n",
        "id2word = Dictionary(list(tweets_df_clean[\"text\"]))\n",
        "\n",
        "# Create a corpus object. Term document frequency\n",
        "corpus = [id2word.doc2bow(token) for token in tweets_df_clean[\"text\"]]\n",
        "\n",
        "# Base LDA model \n",
        "lda_model_2 = LdaMulticore(\n",
        "                          num_topics = 4, # Number of topics        \n",
        "                          corpus = corpus,\n",
        "                          id2word = id2word, \n",
        "                          random_state=20,      \n",
        "                          passes = 10,\n",
        "                          per_word_topics=True\n",
        "                          )"
      ],
      "metadata": {
        "id": "5OJMZPfkeYvO"
      },
      "execution_count": 37,
      "outputs": []
    },
    {
      "cell_type": "code",
      "source": [
        "# Print the Keyword in the 4 topics\n",
        "print(\"Topics found via LDA:\")\n",
        "pprint(lda_model_2.print_topics())\n",
        "doc_lda = lda_model_2[corpus]"
      ],
      "metadata": {
        "colab": {
          "base_uri": "https://localhost:8080/"
        },
        "id": "2Kt_JrcZd3gY",
        "outputId": "5b7d8db0-c6dd-4211-b1a9-9d8aa3a2920c"
      },
      "execution_count": 38,
      "outputs": [
        {
          "output_type": "stream",
          "name": "stdout",
          "text": [
            "Topics found via LDA:\n",
            "[(0,\n",
            "  '0.019*\"inflation\" + 0.010*\"u\" + 0.009*\"rate\" + 0.008*\"year\" + '\n",
            "  '0.007*\"market\" + 0.006*\"expect\" + 0.006*\"finance\" + 0.005*\"price\" + '\n",
            "  '0.005*\"recession\" + 0.005*\"friday\"'),\n",
            " (1,\n",
            "  '0.015*\"price\" + 0.010*\"week\" + 0.010*\"inflation\" + 0.007*\"increase\" + '\n",
            "  '0.006*\"market\" + 0.006*\"going\" + 0.006*\"policy\" + 0.006*\"employee\" + '\n",
            "  '0.005*\"time\" + 0.005*\"rate\"'),\n",
            " (2,\n",
            "  '0.009*\"u\" + 0.008*\"yield\" + 0.008*\"people\" + 0.008*\"recession\" + '\n",
            "  '0.007*\"inflation\" + 0.007*\"crisis\" + 0.007*\"economic\" + 0.007*\"new\" + '\n",
            "  '0.006*\"today\" + 0.006*\"money\"'),\n",
            " (3,\n",
            "  '0.038*\"wrong\" + 0.025*\"say\" + 0.022*\"talking\" + 0.021*\"sale\" + '\n",
            "  '0.021*\"minute\" + 0.021*\"news\" + 0.021*\"retailer\" + 0.020*\"every\" + '\n",
            "  '0.020*\"still\" + 0.020*\"morning\"')]\n"
          ]
        }
      ]
    },
    {
      "cell_type": "markdown",
      "source": [
        "K=5"
      ],
      "metadata": {
        "id": "22v4ZNnze_sy"
      }
    },
    {
      "cell_type": "code",
      "source": [
        "# Create a dictionary of tokens\n",
        "id2word = Dictionary(list(tweets_df_clean[\"text\"]))\n",
        "\n",
        "# Create a corpus object. Term document frequency\n",
        "corpus = [id2word.doc2bow(token) for token in tweets_df_clean[\"text\"]]\n",
        "\n",
        "# Base LDA model \n",
        "lda_model_2 = LdaMulticore(\n",
        "                          num_topics = 5, # Number of topics          \n",
        "                          corpus = corpus,\n",
        "                          id2word = id2word, \n",
        "                          random_state=20,      \n",
        "                          passes = 10,\n",
        "                          per_word_topics=True\n",
        "                          )\n",
        "# Print the Keyword in the 5 topics\n",
        "print(\"Topics found via LDA:\")\n",
        "pprint(lda_model_2.print_topics())\n",
        "doc_lda = lda_model_2[corpus]"
      ],
      "metadata": {
        "colab": {
          "base_uri": "https://localhost:8080/"
        },
        "id": "WLsZh2qRe0qh",
        "outputId": "86bbd846-af55-4bb8-85e6-400fa46fdc9c"
      },
      "execution_count": 39,
      "outputs": [
        {
          "output_type": "stream",
          "name": "stdout",
          "text": [
            "Topics found via LDA:\n",
            "[(0,\n",
            "  '0.019*\"inflation\" + 0.011*\"u\" + 0.007*\"market\" + 0.007*\"lowest\" + '\n",
            "  '0.007*\"rate\" + 0.006*\"year\" + 0.006*\"lower\" + 0.006*\"dont\" + 0.005*\"friday\" '\n",
            "  '+ 0.005*\"stock\"'),\n",
            " (1,\n",
            "  '0.019*\"price\" + 0.010*\"inflation\" + 0.007*\"increase\" + 0.007*\"week\" + '\n",
            "  '0.007*\"year\" + 0.007*\"association\" + 0.007*\"woodgreen\" + 0.007*\"tenant\" + '\n",
            "  '0.006*\"get\" + 0.005*\"since\"'),\n",
            " (2,\n",
            "  '0.010*\"u\" + 0.010*\"people\" + 0.010*\"money\" + 0.010*\"yield\" + 0.008*\"crisis\" '\n",
            "  '+ 0.008*\"inflation\" + 0.008*\"recession\" + 0.007*\"economic\" + 0.007*\"coming\" '\n",
            "  '+ 0.007*\"today\"'),\n",
            " (3,\n",
            "  '0.044*\"wrong\" + 0.027*\"say\" + 0.026*\"talking\" + 0.025*\"news\" + '\n",
            "  '0.024*\"still\" + 0.024*\"sale\" + 0.024*\"minute\" + 0.024*\"retailer\" + '\n",
            "  '0.023*\"every\" + 0.023*\"store\"'),\n",
            " (4,\n",
            "  '0.018*\"rate\" + 0.011*\"year\" + 0.010*\"inflation\" + 0.009*\"next\" + '\n",
            "  '0.009*\"week\" + 0.008*\"hike\" + 0.007*\"recession\" + 0.007*\"market\" + '\n",
            "  '0.005*\"take\" + 0.005*\"u\"')]\n"
          ]
        }
      ]
    },
    {
      "cell_type": "markdown",
      "source": [
        "k=6"
      ],
      "metadata": {
        "id": "5W0sYPkCfLNh"
      }
    },
    {
      "cell_type": "code",
      "source": [
        "# Create a dictionary of tokens\n",
        "id2word = Dictionary(list(tweets_df_clean[\"text\"]))\n",
        "\n",
        "# Create a corpus object. Term document frequency\n",
        "corpus = [id2word.doc2bow(token) for token in tweets_df_clean[\"text\"]]\n",
        "\n",
        "# Base LDA model \n",
        "lda_model_2 = LdaMulticore(\n",
        "                          num_topics = 6, # Number of topics         \n",
        "                          corpus = corpus,\n",
        "                          id2word = id2word, \n",
        "                          random_state=20,      \n",
        "                          passes = 10,\n",
        "                          per_word_topics=True\n",
        "                          )\n",
        "# Print the Keyword in the 6 topics\n",
        "print(\"Topics found via LDA:\")\n",
        "pprint(lda_model_2.print_topics())\n",
        "doc_lda = lda_model_2[corpus]"
      ],
      "metadata": {
        "colab": {
          "base_uri": "https://localhost:8080/"
        },
        "id": "5YUSZV_bfDub",
        "outputId": "08ba128b-7354-49d8-915b-909a2b3c8f72"
      },
      "execution_count": 40,
      "outputs": [
        {
          "output_type": "stream",
          "name": "stdout",
          "text": [
            "Topics found via LDA:\n",
            "[(0,\n",
            "  '0.021*\"inflation\" + 0.013*\"u\" + 0.009*\"finance\" + 0.009*\"expect\" + '\n",
            "  '0.007*\"transparency\" + 0.007*\"safety\" + 0.007*\"lower\" + 0.007*\"price\" + '\n",
            "  '0.007*\"fairness\" + 0.007*\"year\"'),\n",
            " (1,\n",
            "  '0.013*\"price\" + 0.009*\"association\" + 0.009*\"woodgreen\" + 0.009*\"tenant\" + '\n",
            "  '0.008*\"inflation\" + 0.007*\"employee\" + 0.007*\"help\" + 0.006*\"year\" + '\n",
            "  '0.006*\"policy\" + 0.006*\"get\"'),\n",
            " (2,\n",
            "  '0.012*\"yield\" + 0.012*\"u\" + 0.010*\"recession\" + 0.009*\"people\" + '\n",
            "  '0.008*\"today\" + 0.007*\"coming\" + 0.007*\"risk\" + 0.006*\"soon\" + '\n",
            "  '0.006*\"curve\" + 0.006*\"inverted\"'),\n",
            " (3,\n",
            "  '0.049*\"wrong\" + 0.030*\"say\" + 0.028*\"talking\" + 0.027*\"minute\" + '\n",
            "  '0.026*\"sale\" + 0.026*\"retailer\" + 0.026*\"news\" + 0.026*\"every\" + '\n",
            "  '0.025*\"still\" + 0.025*\"store\"'),\n",
            " (4,\n",
            "  '0.019*\"rate\" + 0.012*\"year\" + 0.011*\"next\" + 0.009*\"week\" + '\n",
            "  '0.008*\"inflation\" + 0.008*\"hike\" + 0.007*\"recession\" + 0.007*\"new\" + '\n",
            "  '0.006*\"take\" + 0.006*\"example\"'),\n",
            " (5,\n",
            "  '0.015*\"inflation\" + 0.011*\"money\" + 0.010*\"price\" + 0.009*\"crisis\" + '\n",
            "  '0.008*\"increase\" + 0.007*\"u\" + 0.006*\"time\" + 0.006*\"rate\" + 0.006*\"since\" '\n",
            "  '+ 0.006*\"debt\"')]\n"
          ]
        }
      ]
    },
    {
      "cell_type": "code",
      "source": [
        "topic_n = []\n",
        "perplexity = []\n",
        "\n",
        "coherence = []\n",
        "for k in range(2,15):\n",
        "  # Create a dictionary of tokens\n",
        "  id2word = Dictionary(list(tweets_df_clean[\"text\"]))\n",
        "\n",
        "  # Create a corpus object. Term document frequency\n",
        "  corpus = [id2word.doc2bow(token) for token in tweets_df_clean[\"text\"]]\n",
        "\n",
        "  # Base LDA model \n",
        "  lda_model_2 = LdaMulticore(\n",
        "                            num_topics = k, # Number of topics          \n",
        "                            corpus = corpus,\n",
        "                            id2word = id2word, \n",
        "                            random_state=20,      \n",
        "                            passes = 10,\n",
        "                            per_word_topics=True\n",
        "                            )\n",
        "  # Print the Keyword in the K topics\n",
        "  print(\"Topics found via LDA:\",k)\n",
        "  pprint(lda_model_2.print_topics())\n",
        "  doc_lda = lda_model_2[corpus]\n",
        "\n",
        "  # Compute Perplexity \n",
        "  base_perplexity = lda_model_2.log_perplexity(corpus)\n",
        "  print(\"\\nPerplexity: \", base_perplexity)\n",
        "\n",
        "  # Compute Coherence Score\n",
        "  coherence_model = CoherenceModel(model = lda_model_2, texts = tweets_df_clean[\"text\"],\n",
        "                                  coherence = \"c_v\")\n",
        "  coherence_lda_model_base = coherence_model.get_coherence()\n",
        "  print(\"\\nCoherence Score: \", coherence_lda_model_base)\n",
        "\n",
        "\n",
        "  perplexity.append(base_perplexity)\n",
        "  coherence.append(coherence_lda_model_base)"
      ],
      "metadata": {
        "colab": {
          "base_uri": "https://localhost:8080/"
        },
        "id": "-ZkjEj-EkrYd",
        "outputId": "94f85e08-9802-4639-8157-eaf68f4908e0"
      },
      "execution_count": 50,
      "outputs": [
        {
          "output_type": "stream",
          "name": "stdout",
          "text": [
            "Topics found via LDA: 2\n",
            "[(0,\n",
            "  '0.013*\"inflation\" + 0.010*\"u\" + 0.009*\"year\" + 0.009*\"rate\" + '\n",
            "  '0.007*\"course\" + 0.006*\"recession\" + 0.005*\"coming\" + 0.005*\"today\" + '\n",
            "  '0.005*\"price\" + 0.004*\"yield\"'),\n",
            " (1,\n",
            "  '0.019*\"wrong\" + 0.013*\"say\" + 0.012*\"news\" + 0.011*\"talking\" + '\n",
            "  '0.011*\"still\" + 0.010*\"sale\" + 0.010*\"morning\" + 0.010*\"store\" + '\n",
            "  '0.010*\"every\" + 0.010*\"retailer\"')]\n",
            "\n",
            "Perplexity:  -7.366794348610305\n",
            "\n",
            "Coherence Score:  0.5364390892965566\n",
            "Topics found via LDA: 3\n",
            "[(0,\n",
            "  '0.016*\"inflation\" + 0.012*\"course\" + 0.008*\"u\" + 0.008*\"rate\" + '\n",
            "  '0.007*\"year\" + 0.006*\"informed\" + 0.006*\"called\" + 0.006*\"sh\" + '\n",
            "  '0.006*\"emphasized\" + 0.006*\"pm\"'),\n",
            " (1,\n",
            "  '0.029*\"wrong\" + 0.019*\"say\" + 0.016*\"talking\" + 0.016*\"sale\" + '\n",
            "  '0.015*\"still\" + 0.015*\"news\" + 0.015*\"morning\" + 0.015*\"every\" + '\n",
            "  '0.015*\"retailer\" + 0.015*\"store\"'),\n",
            " (2,\n",
            "  '0.008*\"year\" + 0.008*\"u\" + 0.007*\"recession\" + 0.007*\"new\" + '\n",
            "  '0.006*\"inflation\" + 0.006*\"people\" + 0.006*\"market\" + 0.006*\"money\" + '\n",
            "  '0.006*\"yield\" + 0.006*\"rate\"')]\n",
            "\n",
            "Perplexity:  -7.313495722604225\n",
            "\n",
            "Coherence Score:  0.46502704066614947\n",
            "Topics found via LDA: 4\n",
            "[(0,\n",
            "  '0.019*\"inflation\" + 0.010*\"u\" + 0.009*\"rate\" + 0.008*\"year\" + '\n",
            "  '0.007*\"market\" + 0.006*\"expect\" + 0.006*\"finance\" + 0.005*\"price\" + '\n",
            "  '0.005*\"recession\" + 0.005*\"friday\"'),\n",
            " (1,\n",
            "  '0.015*\"price\" + 0.010*\"week\" + 0.010*\"inflation\" + 0.007*\"increase\" + '\n",
            "  '0.006*\"market\" + 0.006*\"going\" + 0.006*\"policy\" + 0.006*\"employee\" + '\n",
            "  '0.005*\"time\" + 0.005*\"rate\"'),\n",
            " (2,\n",
            "  '0.009*\"u\" + 0.008*\"yield\" + 0.008*\"people\" + 0.008*\"recession\" + '\n",
            "  '0.007*\"inflation\" + 0.007*\"crisis\" + 0.007*\"economic\" + 0.007*\"new\" + '\n",
            "  '0.006*\"today\" + 0.006*\"money\"'),\n",
            " (3,\n",
            "  '0.038*\"wrong\" + 0.025*\"say\" + 0.022*\"talking\" + 0.021*\"sale\" + '\n",
            "  '0.021*\"minute\" + 0.021*\"news\" + 0.021*\"retailer\" + 0.020*\"every\" + '\n",
            "  '0.020*\"still\" + 0.020*\"morning\"')]\n",
            "\n",
            "Perplexity:  -7.256573516710226\n",
            "\n",
            "Coherence Score:  0.46625397316593664\n",
            "Topics found via LDA: 5\n",
            "[(0,\n",
            "  '0.019*\"inflation\" + 0.011*\"u\" + 0.007*\"market\" + 0.007*\"lowest\" + '\n",
            "  '0.007*\"rate\" + 0.006*\"year\" + 0.006*\"lower\" + 0.006*\"dont\" + 0.005*\"friday\" '\n",
            "  '+ 0.005*\"stock\"'),\n",
            " (1,\n",
            "  '0.019*\"price\" + 0.010*\"inflation\" + 0.007*\"increase\" + 0.007*\"week\" + '\n",
            "  '0.007*\"year\" + 0.007*\"association\" + 0.007*\"woodgreen\" + 0.007*\"tenant\" + '\n",
            "  '0.006*\"get\" + 0.005*\"since\"'),\n",
            " (2,\n",
            "  '0.010*\"u\" + 0.010*\"people\" + 0.010*\"money\" + 0.010*\"yield\" + 0.008*\"crisis\" '\n",
            "  '+ 0.008*\"inflation\" + 0.008*\"recession\" + 0.007*\"economic\" + 0.007*\"coming\" '\n",
            "  '+ 0.007*\"today\"'),\n",
            " (3,\n",
            "  '0.044*\"wrong\" + 0.027*\"say\" + 0.026*\"talking\" + 0.025*\"news\" + '\n",
            "  '0.024*\"still\" + 0.024*\"sale\" + 0.024*\"minute\" + 0.024*\"retailer\" + '\n",
            "  '0.023*\"every\" + 0.023*\"store\"'),\n",
            " (4,\n",
            "  '0.018*\"rate\" + 0.011*\"year\" + 0.010*\"inflation\" + 0.009*\"next\" + '\n",
            "  '0.009*\"week\" + 0.008*\"hike\" + 0.007*\"recession\" + 0.007*\"market\" + '\n",
            "  '0.005*\"take\" + 0.005*\"u\"')]\n",
            "\n",
            "Perplexity:  -7.225056980722338\n",
            "\n",
            "Coherence Score:  0.46847620307583276\n",
            "Topics found via LDA: 6\n",
            "[(0,\n",
            "  '0.021*\"inflation\" + 0.013*\"u\" + 0.009*\"finance\" + 0.009*\"expect\" + '\n",
            "  '0.007*\"transparency\" + 0.007*\"safety\" + 0.007*\"lower\" + 0.007*\"price\" + '\n",
            "  '0.007*\"fairness\" + 0.007*\"year\"'),\n",
            " (1,\n",
            "  '0.013*\"price\" + 0.009*\"association\" + 0.009*\"woodgreen\" + 0.009*\"tenant\" + '\n",
            "  '0.008*\"inflation\" + 0.007*\"employee\" + 0.007*\"help\" + 0.006*\"year\" + '\n",
            "  '0.006*\"policy\" + 0.006*\"get\"'),\n",
            " (2,\n",
            "  '0.012*\"yield\" + 0.012*\"u\" + 0.010*\"recession\" + 0.009*\"people\" + '\n",
            "  '0.008*\"today\" + 0.007*\"coming\" + 0.007*\"risk\" + 0.006*\"soon\" + '\n",
            "  '0.006*\"curve\" + 0.006*\"inverted\"'),\n",
            " (3,\n",
            "  '0.049*\"wrong\" + 0.030*\"say\" + 0.028*\"talking\" + 0.027*\"minute\" + '\n",
            "  '0.026*\"sale\" + 0.026*\"retailer\" + 0.026*\"news\" + 0.026*\"every\" + '\n",
            "  '0.025*\"still\" + 0.025*\"store\"'),\n",
            " (4,\n",
            "  '0.019*\"rate\" + 0.012*\"year\" + 0.011*\"next\" + 0.009*\"week\" + '\n",
            "  '0.008*\"inflation\" + 0.008*\"hike\" + 0.007*\"recession\" + 0.007*\"new\" + '\n",
            "  '0.006*\"take\" + 0.006*\"example\"'),\n",
            " (5,\n",
            "  '0.015*\"inflation\" + 0.011*\"money\" + 0.010*\"price\" + 0.009*\"crisis\" + '\n",
            "  '0.008*\"increase\" + 0.007*\"u\" + 0.006*\"time\" + 0.006*\"rate\" + 0.006*\"since\" '\n",
            "  '+ 0.006*\"debt\"')]\n",
            "\n",
            "Perplexity:  -7.205976548458765\n",
            "\n",
            "Coherence Score:  0.45212024822894836\n",
            "Topics found via LDA: 7\n",
            "[(0,\n",
            "  '0.022*\"inflation\" + 0.009*\"lower\" + 0.009*\"market\" + 0.008*\"year\" + '\n",
            "  '0.008*\"lowest\" + 0.008*\"wise\" + 0.007*\"indiahighest\" + 0.007*\"explainedavg\" '\n",
            "  '+ 0.007*\"price\" + 0.007*\"stock\"'),\n",
            " (1,\n",
            "  '0.019*\"price\" + 0.009*\"help\" + 0.009*\"inflation\" + 0.008*\"policy\" + '\n",
            "  '0.007*\"employee\" + 0.007*\"year\" + 0.007*\"friday\" + 0.006*\"food\" + '\n",
            "  '0.006*\"get\" + 0.006*\"article\"'),\n",
            " (2,\n",
            "  '0.009*\"people\" + 0.009*\"risk\" + 0.008*\"new\" + 0.007*\"win\" + 0.007*\"friday\" '\n",
            "  '+ 0.006*\"everyone\" + 0.006*\"involved\" + 0.006*\"fiat\" + 0.006*\"market\" + '\n",
            "  '0.006*\"u\"'),\n",
            " (3,\n",
            "  '0.051*\"wrong\" + 0.031*\"say\" + 0.029*\"talking\" + 0.028*\"news\" + 0.027*\"sale\" '\n",
            "  '+ 0.027*\"still\" + 0.027*\"retailer\" + 0.027*\"minute\" + 0.027*\"every\" + '\n",
            "  '0.026*\"store\"'),\n",
            " (4,\n",
            "  '0.018*\"rate\" + 0.016*\"year\" + 0.013*\"week\" + 0.012*\"next\" + '\n",
            "  '0.009*\"inflation\" + 0.009*\"recession\" + 0.009*\"take\" + 0.008*\"hike\" + '\n",
            "  '0.007*\"example\" + 0.007*\"world\"'),\n",
            " (5,\n",
            "  '0.018*\"inflation\" + 0.013*\"money\" + 0.010*\"crisis\" + 0.008*\"financial\" + '\n",
            "  '0.008*\"rate\" + 0.008*\"time\" + 0.007*\"debt\" + 0.007*\"currency\" + '\n",
            "  '0.007*\"since\" + 0.006*\"year\"'),\n",
            " (6,\n",
            "  '0.018*\"u\" + 0.012*\"yield\" + 0.010*\"recession\" + 0.009*\"dont\" + '\n",
            "  '0.008*\"coming\" + 0.008*\"today\" + 0.008*\"finance\" + 0.008*\"tenant\" + '\n",
            "  '0.008*\"woodgreen\" + 0.008*\"association\"')]\n",
            "\n",
            "Perplexity:  -7.185312526575601\n",
            "\n",
            "Coherence Score:  0.4071453646369891\n",
            "Topics found via LDA: 8\n",
            "[(0,\n",
            "  '0.021*\"inflation\" + 0.012*\"u\" + 0.010*\"market\" + 0.009*\"lower\" + '\n",
            "  '0.008*\"stock\" + 0.008*\"lowest\" + 0.008*\"wise\" + 0.007*\"indiahighest\" + '\n",
            "  '0.007*\"explainedavg\" + 0.007*\"dont\"'),\n",
            " (1,\n",
            "  '0.014*\"price\" + 0.009*\"policy\" + 0.009*\"inflation\" + 0.008*\"food\" + '\n",
            "  '0.008*\"year\" + 0.007*\"market\" + 0.007*\"need\" + 0.006*\"country\" + '\n",
            "  '0.006*\"employee\" + 0.006*\"help\"'),\n",
            " (2,\n",
            "  '0.009*\"risk\" + 0.009*\"friday\" + 0.009*\"win\" + 0.008*\"involved\" + '\n",
            "  '0.008*\"fiat\" + 0.007*\"year\" + 0.007*\"even\" + 0.007*\"back\" + '\n",
            "  '0.007*\"economic\" + 0.006*\"grocery\"'),\n",
            " (3,\n",
            "  '0.061*\"wrong\" + 0.038*\"say\" + 0.035*\"news\" + 0.035*\"talking\" + '\n",
            "  '0.034*\"minute\" + 0.034*\"sale\" + 0.033*\"retailer\" + 0.032*\"every\" + '\n",
            "  '0.032*\"still\" + 0.032*\"store\"'),\n",
            " (4,\n",
            "  '0.028*\"course\" + 0.016*\"rate\" + 0.015*\"called\" + 0.015*\"year\" + 0.014*\"pm\" '\n",
            "  '+ 0.014*\"informed\" + 0.014*\"sh\" + 0.014*\"emphasized\" + 0.014*\"ji\" + '\n",
            "  '0.009*\"recession\"'),\n",
            " (5,\n",
            "  '0.018*\"inflation\" + 0.012*\"price\" + 0.012*\"rate\" + 0.011*\"money\" + '\n",
            "  '0.010*\"crisis\" + 0.009*\"increase\" + 0.007*\"fed\" + 0.007*\"likely\" + '\n",
            "  '0.007*\"bank\" + 0.007*\"since\"'),\n",
            " (6,\n",
            "  '0.011*\"u\" + 0.010*\"finance\" + 0.010*\"woodgreen\" + 0.010*\"tenant\" + '\n",
            "  '0.010*\"association\" + 0.009*\"people\" + 0.008*\"expect\" + '\n",
            "  '0.008*\"transparency\" + 0.008*\"safety\" + 0.007*\"fairness\"'),\n",
            " (7,\n",
            "  '0.021*\"yield\" + 0.016*\"u\" + 0.014*\"recession\" + 0.013*\"inflation\" + '\n",
            "  '0.012*\"coming\" + 0.012*\"soon\" + 0.012*\"today\" + 0.012*\"level\" + '\n",
            "  '0.011*\"worst\" + 0.011*\"number\"')]\n",
            "\n",
            "Perplexity:  -7.140748626395046\n",
            "\n",
            "Coherence Score:  0.3965810473841558\n",
            "Topics found via LDA: 9\n",
            "[(0,\n",
            "  '0.021*\"inflation\" + 0.013*\"u\" + 0.012*\"lower\" + 0.010*\"lowest\" + '\n",
            "  '0.009*\"wise\" + 0.009*\"market\" + 0.009*\"explainedavg\" + 0.009*\"indiahighest\" '\n",
            "  '+ 0.009*\"stock\" + 0.008*\"wont\"'),\n",
            " (1,\n",
            "  '0.013*\"price\" + 0.009*\"employee\" + 0.009*\"food\" + 0.008*\"inflation\" + '\n",
            "  '0.008*\"year\" + 0.007*\"help\" + 0.006*\"need\" + 0.006*\"cost\" + 0.006*\"item\" + '\n",
            "  '0.006*\"rate\"'),\n",
            " (2,\n",
            "  '0.011*\"year\" + 0.011*\"friday\" + 0.010*\"risk\" + 0.009*\"win\" + '\n",
            "  '0.009*\"involved\" + 0.008*\"fiat\" + 0.007*\"grocery\" + 0.007*\"really\" + '\n",
            "  '0.007*\"even\" + 0.007*\"economic\"'),\n",
            " (3,\n",
            "  '0.056*\"wrong\" + 0.034*\"say\" + 0.032*\"talking\" + 0.031*\"sale\" + 0.030*\"news\" '\n",
            "  '+ 0.030*\"minute\" + 0.030*\"retailer\" + 0.030*\"every\" + 0.029*\"still\" + '\n",
            "  '0.029*\"morning\"'),\n",
            " (4,\n",
            "  '0.019*\"rate\" + 0.015*\"year\" + 0.014*\"week\" + 0.013*\"next\" + '\n",
            "  '0.011*\"recession\" + 0.011*\"hike\" + 0.010*\"take\" + 0.009*\"example\" + '\n",
            "  '0.009*\"bank\" + 0.008*\"error\"'),\n",
            " (5,\n",
            "  '0.022*\"inflation\" + 0.012*\"crisis\" + 0.011*\"rate\" + 0.009*\"since\" + '\n",
            "  '0.009*\"debt\" + 0.008*\"currency\" + 0.008*\"market\" + 0.008*\"fed\" + '\n",
            "  '0.007*\"come\" + 0.007*\"u\"'),\n",
            " (6,\n",
            "  '0.010*\"price\" + 0.010*\"week\" + 0.009*\"u\" + 0.009*\"association\" + '\n",
            "  '0.009*\"woodgreen\" + 0.009*\"tenant\" + 0.009*\"finance\" + 0.009*\"expect\" + '\n",
            "  '0.008*\"index\" + 0.008*\"transparency\"'),\n",
            " (7,\n",
            "  '0.028*\"yield\" + 0.019*\"u\" + 0.017*\"coming\" + 0.016*\"recession\" + '\n",
            "  '0.016*\"soon\" + 0.015*\"today\" + 0.014*\"number\" + 0.014*\"curve\" + '\n",
            "  '0.014*\"inverted\" + 0.013*\"spx\"'),\n",
            " (8,\n",
            "  '0.013*\"money\" + 0.012*\"business\" + 0.009*\"price\" + 0.008*\"inflation\" + '\n",
            "  '0.008*\"home\" + 0.008*\"work\" + 0.007*\"people\" + 0.006*\"holiday\" + '\n",
            "  '0.006*\"year\" + 0.006*\"financial\"')]\n",
            "\n",
            "Perplexity:  -7.15830989912859\n",
            "\n",
            "Coherence Score:  0.385253418678415\n",
            "Topics found via LDA: 10\n",
            "[(0,\n",
            "  '0.017*\"u\" + 0.016*\"inflation\" + 0.013*\"black\" + 0.012*\"friday\" + '\n",
            "  '0.011*\"lower\" + 0.011*\"market\" + 0.010*\"lowest\" + 0.010*\"wise\" + '\n",
            "  '0.009*\"explainedavg\" + 0.009*\"indiahighest\"'),\n",
            " (1,\n",
            "  '0.010*\"help\" + 0.010*\"policy\" + 0.009*\"food\" + 0.008*\"price\" + '\n",
            "  '0.008*\"inflation\" + 0.007*\"bank\" + 0.006*\"year\" + 0.006*\"basis\" + '\n",
            "  '0.006*\"point\" + 0.006*\"report\"'),\n",
            " (2,\n",
            "  '0.011*\"risk\" + 0.011*\"win\" + 0.010*\"involved\" + 0.009*\"even\" + 0.009*\"fiat\" '\n",
            "  '+ 0.008*\"gas\" + 0.007*\"economic\" + 0.007*\"cool\" + 0.007*\"really\" + '\n",
            "  '0.007*\"grocery\"'),\n",
            " (3,\n",
            "  '0.070*\"wrong\" + 0.043*\"say\" + 0.040*\"talking\" + 0.039*\"news\" + '\n",
            "  '0.038*\"minute\" + 0.037*\"retailer\" + 0.037*\"sale\" + 0.036*\"every\" + '\n",
            "  '0.036*\"store\" + 0.036*\"still\"'),\n",
            " (4,\n",
            "  '0.037*\"course\" + 0.019*\"called\" + 0.018*\"pm\" + 0.018*\"informed\" + '\n",
            "  '0.018*\"sh\" + 0.018*\"emphasized\" + 0.018*\"ji\" + 0.016*\"rate\" + 0.012*\"year\" '\n",
            "  '+ 0.011*\"week\"'),\n",
            " (5,\n",
            "  '0.023*\"inflation\" + 0.013*\"crisis\" + 0.010*\"rate\" + 0.010*\"debt\" + '\n",
            "  '0.009*\"since\" + 0.009*\"likely\" + 0.008*\"fed\" + 0.008*\"currency\" + 0.007*\"u\" '\n",
            "  '+ 0.007*\"year\"'),\n",
            " (6,\n",
            "  '0.010*\"employee\" + 0.010*\"finance\" + 0.010*\"woodgreen\" + 0.010*\"tenant\" + '\n",
            "  '0.010*\"association\" + 0.009*\"people\" + 0.009*\"expect\" + '\n",
            "  '0.009*\"transparency\" + 0.008*\"safety\" + 0.008*\"fairness\"'),\n",
            " (7,\n",
            "  '0.026*\"yield\" + 0.022*\"inflation\" + 0.016*\"u\" + 0.014*\"soon\" + '\n",
            "  '0.014*\"number\" + 0.013*\"worst\" + 0.013*\"recession\" + 0.013*\"coming\" + '\n",
            "  '0.013*\"curve\" + 0.013*\"level\"'),\n",
            " (8,\n",
            "  '0.014*\"money\" + 0.013*\"business\" + 0.009*\"inflation\" + 0.008*\"new\" + '\n",
            "  '0.007*\"bank\" + 0.007*\"price\" + 0.007*\"get\" + 0.007*\"financial\" + '\n",
            "  '0.007*\"year\" + 0.007*\"people\"'),\n",
            " (9,\n",
            "  '0.027*\"price\" + 0.013*\"increase\" + 0.011*\"week\" + 0.010*\"spi\" + '\n",
            "  '0.010*\"year\" + 0.010*\"sensitive\" + 0.009*\"mark\" + 0.009*\"ended\" + '\n",
            "  '0.009*\"peak\" + 0.009*\"market\"')]\n",
            "\n",
            "Perplexity:  -7.103168515765395\n",
            "\n",
            "Coherence Score:  0.34549295464710184\n",
            "Topics found via LDA: 11\n",
            "[(0,\n",
            "  '0.013*\"u\" + 0.012*\"lower\" + 0.011*\"inflation\" + 0.011*\"lowest\" + '\n",
            "  '0.011*\"wise\" + 0.010*\"dont\" + 0.010*\"explainedavg\" + 0.010*\"indiahighest\" + '\n",
            "  '0.009*\"wont\" + 0.008*\"youre\"'),\n",
            " (1,\n",
            "  '0.010*\"help\" + 0.010*\"inflation\" + 0.009*\"price\" + 0.008*\"high\" + '\n",
            "  '0.007*\"rate\" + 0.007*\"food\" + 0.007*\"item\" + 0.007*\"rising\" + 0.007*\"year\" '\n",
            "  '+ 0.006*\"report\"'),\n",
            " (2,\n",
            "  '0.013*\"risk\" + 0.012*\"win\" + 0.011*\"involved\" + 0.011*\"fiat\" + '\n",
            "  '0.008*\"company\" + 0.008*\"give\" + 0.008*\"economic\" + 0.007*\"need\" + '\n",
            "  '0.007*\"even\" + 0.007*\"big\"'),\n",
            " (3,\n",
            "  '0.040*\"course\" + 0.021*\"called\" + 0.020*\"informed\" + 0.020*\"pm\" + '\n",
            "  '0.020*\"sh\" + 0.020*\"emphasized\" + 0.019*\"ji\" + 0.014*\"world\" + '\n",
            "  '0.013*\"inflation\" + 0.013*\"worst\"'),\n",
            " (4,\n",
            "  '0.021*\"rate\" + 0.020*\"year\" + 0.014*\"recession\" + 0.014*\"hike\" + '\n",
            "  '0.013*\"next\" + 0.013*\"week\" + 0.011*\"example\" + 0.011*\"inflation\" + '\n",
            "  '0.011*\"take\" + 0.010*\"error\"'),\n",
            " (5,\n",
            "  '0.020*\"inflation\" + 0.018*\"rate\" + 0.011*\"since\" + 0.009*\"u\" + 0.009*\"come\" '\n",
            "  '+ 0.008*\"fed\" + 0.008*\"time\" + 0.007*\"year\" + 0.007*\"policy\" + '\n",
            "  '0.007*\"high\"'),\n",
            " (6,\n",
            "  '0.012*\"finance\" + 0.011*\"association\" + 0.011*\"woodgreen\" + 0.011*\"tenant\" '\n",
            "  '+ 0.009*\"expect\" + 0.009*\"transparency\" + 0.009*\"employee\" + 0.009*\"safety\" '\n",
            "  '+ 0.009*\"fairness\" + 0.009*\"u\"'),\n",
            " (7,\n",
            "  '0.028*\"yield\" + 0.024*\"u\" + 0.018*\"inflation\" + 0.017*\"coming\" + '\n",
            "  '0.017*\"recession\" + 0.017*\"number\" + 0.016*\"soon\" + 0.015*\"today\" + '\n",
            "  '0.014*\"curve\" + 0.014*\"inverted\"'),\n",
            " (8,\n",
            "  '0.017*\"crisis\" + 0.016*\"inflation\" + 0.015*\"financial\" + 0.012*\"debt\" + '\n",
            "  '0.010*\"year\" + 0.010*\"price\" + 0.009*\"holiday\" + 0.009*\"black\" + '\n",
            "  '0.008*\"friday\" + 0.008*\"home\"'),\n",
            " (9,\n",
            "  '0.030*\"price\" + 0.016*\"increase\" + 0.015*\"week\" + 0.013*\"spi\" + '\n",
            "  '0.012*\"mark\" + 0.012*\"sensitive\" + 0.011*\"yoy\" + 0.011*\"ended\" + '\n",
            "  '0.011*\"peak\" + 0.010*\"backwardation\"'),\n",
            " (10,\n",
            "  '0.070*\"wrong\" + 0.039*\"say\" + 0.039*\"sale\" + 0.038*\"news\" + '\n",
            "  '0.037*\"retailer\" + 0.037*\"every\" + 0.037*\"still\" + 0.036*\"store\" + '\n",
            "  '0.036*\"morning\" + 0.036*\"minute\"')]\n",
            "\n",
            "Perplexity:  -7.105073313533818\n",
            "\n",
            "Coherence Score:  0.40169133367846344\n",
            "Topics found via LDA: 12\n",
            "[(0,\n",
            "  '0.019*\"inflation\" + 0.017*\"market\" + 0.017*\"u\" + 0.014*\"lower\" + '\n",
            "  '0.012*\"lowest\" + 0.012*\"wise\" + 0.012*\"dont\" + 0.011*\"explainedavg\" + '\n",
            "  '0.011*\"indiahighest\" + 0.010*\"black\"'),\n",
            " (1,\n",
            "  '0.012*\"rate\" + 0.012*\"help\" + 0.012*\"inflation\" + 0.012*\"policy\" + '\n",
            "  '0.009*\"financial\" + 0.008*\"price\" + 0.008*\"need\" + 0.007*\"bank\" + '\n",
            "  '0.007*\"monetary\" + 0.006*\"since\"'),\n",
            " (2,\n",
            "  '0.015*\"risk\" + 0.013*\"win\" + 0.012*\"even\" + 0.012*\"involved\" + 0.011*\"fiat\" '\n",
            "  '+ 0.010*\"economic\" + 0.008*\"inflation\" + 0.007*\"everyone\" + '\n",
            "  '0.007*\"investing\" + 0.007*\"big\"'),\n",
            " (3,\n",
            "  '0.017*\"inflation\" + 0.016*\"getting\" + 0.016*\"world\" + 0.015*\"worst\" + '\n",
            "  '0.014*\"qatar\" + 0.014*\"war\" + 0.014*\"level\" + 0.014*\"cup\" + '\n",
            "  '0.014*\"meanwhile\" + 0.013*\"reach\"'),\n",
            " (4,\n",
            "  '0.039*\"course\" + 0.021*\"called\" + 0.019*\"pm\" + 0.019*\"sh\" + '\n",
            "  '0.019*\"informed\" + 0.019*\"emphasized\" + 0.019*\"ji\" + 0.015*\"week\" + '\n",
            "  '0.011*\"next\" + 0.011*\"year\"'),\n",
            " (5,\n",
            "  '0.022*\"inflation\" + 0.015*\"crisis\" + 0.011*\"debt\" + 0.010*\"time\" + '\n",
            "  '0.010*\"u\" + 0.010*\"rate\" + 0.009*\"year\" + 0.009*\"currency\" + 0.009*\"since\" '\n",
            "  '+ 0.008*\"money\"'),\n",
            " (6,\n",
            "  '0.015*\"woodgreen\" + 0.015*\"tenant\" + 0.015*\"association\" + 0.013*\"finance\" '\n",
            "  '+ 0.013*\"expect\" + 0.012*\"transparency\" + 0.012*\"safety\" + 0.011*\"fairness\" '\n",
            "  '+ 0.011*\"people\" + 0.010*\"u\"'),\n",
            " (7,\n",
            "  '0.034*\"yield\" + 0.022*\"u\" + 0.022*\"recession\" + 0.020*\"number\" + '\n",
            "  '0.018*\"today\" + 0.018*\"coming\" + 0.018*\"soon\" + 0.017*\"curve\" + '\n",
            "  '0.017*\"inverted\" + 0.016*\"spx\"'),\n",
            " (8,\n",
            "  '0.013*\"get\" + 0.009*\"business\" + 0.009*\"big\" + 0.008*\"inflation\" + '\n",
            "  '0.008*\"november\" + 0.008*\"back\" + 0.007*\"one\" + 0.007*\"love\" + 0.007*\"new\" '\n",
            "  '+ 0.007*\"really\"'),\n",
            " (9,\n",
            "  '0.017*\"price\" + 0.013*\"inflation\" + 0.012*\"year\" + 0.011*\"mark\" + '\n",
            "  '0.011*\"peak\" + 0.010*\"market\" + 0.010*\"backwardation\" + 0.010*\"start\" + '\n",
            "  '0.009*\"lead\" + 0.009*\"gap\"'),\n",
            " (10,\n",
            "  '0.069*\"wrong\" + 0.039*\"say\" + 0.038*\"sale\" + 0.037*\"news\" + '\n",
            "  '0.036*\"retailer\" + 0.036*\"every\" + 0.036*\"still\" + 0.036*\"morning\" + '\n",
            "  '0.035*\"store\" + 0.035*\"talking\"'),\n",
            " (11,\n",
            "  '0.024*\"price\" + 0.015*\"increase\" + 0.013*\"week\" + 0.013*\"year\" + '\n",
            "  '0.011*\"spi\" + 0.011*\"inflation\" + 0.010*\"sensitive\" + 0.010*\"ended\" + '\n",
            "  '0.009*\"yoy\" + 0.009*\"recorded\"')]\n",
            "\n",
            "Perplexity:  -7.106487862573327\n",
            "\n",
            "Coherence Score:  0.40523635180085055\n",
            "Topics found via LDA: 13\n",
            "[(0,\n",
            "  '0.032*\"inflation\" + 0.018*\"market\" + 0.015*\"lower\" + 0.012*\"u\" + '\n",
            "  '0.012*\"stock\" + 0.009*\"could\" + 0.008*\"global\" + 0.007*\"go\" + 0.007*\"–\" + '\n",
            "  '0.007*\"increase\"'),\n",
            " (1,\n",
            "  '0.013*\"price\" + 0.013*\"help\" + 0.013*\"food\" + 0.012*\"inflation\" + '\n",
            "  '0.008*\"high\" + 0.007*\"report\" + 0.007*\"policy\" + 0.007*\"people\" + '\n",
            "  '0.007*\"employee\" + 0.007*\"rate\"'),\n",
            " (2,\n",
            "  '0.023*\"crisis\" + 0.019*\"economic\" + 0.016*\"risk\" + 0.014*\"debt\" + '\n",
            "  '0.013*\"win\" + 0.012*\"involved\" + 0.011*\"fiat\" + 0.010*\"inflation\" + '\n",
            "  '0.008*\"even\" + 0.008*\"financial\"'),\n",
            " (3,\n",
            "  '0.027*\"price\" + 0.014*\"mark\" + 0.013*\"say\" + 0.013*\"peak\" + '\n",
            "  '0.012*\"thankful\" + 0.012*\"backwardation\" + 0.012*\"new\" + 0.012*\"tonight\" + '\n",
            "  '0.012*\"plus\" + 0.012*\"grateful\"'),\n",
            " (4,\n",
            "  '0.047*\"course\" + 0.024*\"pm\" + 0.024*\"called\" + 0.023*\"sh\" + '\n",
            "  '0.023*\"informed\" + 0.023*\"emphasized\" + 0.023*\"ji\" + 0.013*\"rate\" + '\n",
            "  '0.013*\"week\" + 0.013*\"recession\"'),\n",
            " (5,\n",
            "  '0.016*\"inflation\" + 0.015*\"rate\" + 0.011*\"since\" + 0.011*\"fed\" + '\n",
            "  '0.009*\"last\" + 0.009*\"data\" + 0.009*\"hit\" + 0.009*\"u\" + 0.008*\"price\" + '\n",
            "  '0.008*\"come\"'),\n",
            " (6,\n",
            "  '0.015*\"u\" + 0.013*\"association\" + 0.013*\"woodgreen\" + 0.013*\"tenant\" + '\n",
            "  '0.012*\"dont\" + 0.009*\"people\" + 0.009*\"time\" + 0.008*\"wont\" + 0.007*\"youre\" '\n",
            "  '+ 0.007*\"money\"'),\n",
            " (7,\n",
            "  '0.032*\"yield\" + 0.020*\"recession\" + 0.020*\"inflation\" + 0.019*\"u\" + '\n",
            "  '0.018*\"coming\" + 0.018*\"today\" + 0.017*\"worst\" + 0.017*\"level\" + '\n",
            "  '0.016*\"curve\" + 0.016*\"soon\"'),\n",
            " (8,\n",
            "  '0.013*\"black\" + 0.013*\"friday\" + 0.012*\"inflation\" + 0.011*\"employee\" + '\n",
            "  '0.011*\"year\" + 0.010*\"home\" + 0.009*\"price\" + 0.008*\"role\" + '\n",
            "  '0.008*\"holiday\" + 0.008*\"financial\"'),\n",
            " (9,\n",
            "  '0.012*\"gap\" + 0.011*\"inflation\" + 0.011*\"nov\" + 0.009*\"v\" + 0.008*\"u\" + '\n",
            "  '0.007*\"flat\" + 0.007*\"market\" + 0.007*\"per\" + 0.007*\"open\" + '\n",
            "  '0.007*\"retweet\"'),\n",
            " (10,\n",
            "  '0.069*\"wrong\" + 0.039*\"sale\" + 0.038*\"say\" + 0.038*\"news\" + 0.036*\"store\" + '\n",
            "  '0.035*\"retailer\" + 0.035*\"minute\" + 0.035*\"still\" + 0.035*\"every\" + '\n",
            "  '0.035*\"morning\"'),\n",
            " (11,\n",
            "  '0.018*\"year\" + 0.017*\"week\" + 0.016*\"price\" + 0.016*\"next\" + '\n",
            "  '0.014*\"increase\" + 0.011*\"spi\" + 0.011*\"rate\" + 0.010*\"sensitive\" + '\n",
            "  '0.010*\"ended\" + 0.009*\"hike\"'),\n",
            " (12,\n",
            "  '0.020*\"expect\" + 0.019*\"finance\" + 0.018*\"transparency\" + 0.017*\"safety\" + '\n",
            "  '0.017*\"fairness\" + 0.016*\"lowest\" + 0.016*\"wise\" + 0.015*\"explainedavg\" + '\n",
            "  '0.015*\"indiahighest\" + 0.010*\"year\"')]\n",
            "\n",
            "Perplexity:  -7.10174058257371\n",
            "\n",
            "Coherence Score:  0.3638293697035962\n",
            "Topics found via LDA: 14\n",
            "[(0,\n",
            "  '0.029*\"inflation\" + 0.021*\"u\" + 0.014*\"market\" + 0.014*\"lower\" + '\n",
            "  '0.012*\"stock\" + 0.012*\"dont\" + 0.010*\"wont\" + 0.010*\"youre\" + 0.009*\"class\" '\n",
            "  '+ 0.008*\"distract\"'),\n",
            " (1,\n",
            "  '0.017*\"help\" + 0.011*\"policy\" + 0.010*\"employee\" + 0.010*\"need\" + '\n",
            "  '0.008*\"rate\" + 0.008*\"year\" + 0.008*\"inflation\" + 0.007*\"high\" + '\n",
            "  '0.007*\"intc\" + 0.007*\"qcom\"'),\n",
            " (2,\n",
            "  '0.015*\"risk\" + 0.014*\"involved\" + 0.014*\"fiat\" + 0.014*\"win\" + '\n",
            "  '0.013*\"economic\" + 0.009*\"give\" + 0.009*\"big\" + 0.008*\"everyone\" + '\n",
            "  '0.008*\"global\" + 0.008*\"investing\"'),\n",
            " (3,\n",
            "  '0.019*\"inflation\" + 0.018*\"level\" + 0.018*\"worst\" + 0.017*\"getting\" + '\n",
            "  '0.017*\"world\" + 0.016*\"qatar\" + 0.016*\"cup\" + 0.015*\"meanwhile\" + '\n",
            "  '0.015*\"war\" + 0.014*\"unveiled\"'),\n",
            " (4,\n",
            "  '0.022*\"week\" + 0.020*\"rate\" + 0.020*\"year\" + 0.017*\"next\" + '\n",
            "  '0.015*\"recession\" + 0.013*\"example\" + 0.012*\"hike\" + 0.012*\"error\" + '\n",
            "  '0.012*\"gaffe\" + 0.012*\"inflation\"'),\n",
            " (5,\n",
            "  '0.018*\"crisis\" + 0.016*\"inflation\" + 0.013*\"time\" + 0.012*\"debt\" + '\n",
            "  '0.011*\"since\" + 0.011*\"currency\" + 0.010*\"rate\" + 0.009*\"going\" + '\n",
            "  '0.009*\"likely\" + 0.008*\"dollar\"'),\n",
            " (6,\n",
            "  '0.024*\"yield\" + 0.023*\"u\" + 0.017*\"recession\" + 0.014*\"coming\" + '\n",
            "  '0.014*\"curve\" + 0.013*\"inverted\" + 0.013*\"today\" + 0.012*\"soon\" + '\n",
            "  '0.012*\"people\" + 0.011*\"spx\"'),\n",
            " (7,\n",
            "  '0.070*\"course\" + 0.037*\"called\" + 0.035*\"pm\" + 0.035*\"informed\" + '\n",
            "  '0.034*\"sh\" + 0.034*\"emphasized\" + 0.034*\"ji\" + 0.010*\"love\" + 0.010*\"back\" '\n",
            "  '+ 0.009*\"get\"'),\n",
            " (8,\n",
            "  '0.012*\"new\" + 0.011*\"home\" + 0.011*\"inflation\" + 0.009*\"role\" + '\n",
            "  '0.008*\"price\" + 0.008*\"suella\" + 0.008*\"braverman\" + 0.008*\"secretary\" + '\n",
            "  '0.008*\"patel\" + 0.008*\"priti\"'),\n",
            " (9,\n",
            "  '0.023*\"price\" + 0.017*\"market\" + 0.014*\"peak\" + 0.014*\"lead\" + '\n",
            "  '0.013*\"backwardation\" + 0.013*\"mark\" + 0.011*\"gap\" + 0.010*\"way\" + '\n",
            "  '0.010*\"may\" + 0.010*\"start\"'),\n",
            " (10,\n",
            "  '0.074*\"wrong\" + 0.040*\"sale\" + 0.040*\"news\" + 0.039*\"say\" + '\n",
            "  '0.039*\"retailer\" + 0.038*\"every\" + 0.038*\"still\" + 0.038*\"store\" + '\n",
            "  '0.038*\"morning\" + 0.037*\"talking\"'),\n",
            " (11,\n",
            "  '0.017*\"price\" + 0.015*\"increase\" + 0.012*\"spi\" + 0.011*\"week\" + '\n",
            "  '0.011*\"sensitive\" + 0.011*\"ended\" + 0.010*\"yoy\" + 0.010*\"year\" + '\n",
            "  '0.010*\"wow\" + 0.009*\"recorded\"'),\n",
            " (12,\n",
            "  '0.019*\"finance\" + 0.019*\"transparency\" + 0.019*\"expect\" + 0.018*\"safety\" + '\n",
            "  '0.017*\"fairness\" + 0.017*\"lowest\" + 0.016*\"wise\" + 0.016*\"indiahighest\" + '\n",
            "  '0.016*\"explainedavg\" + 0.015*\"inflation\"'),\n",
            " (13,\n",
            "  '0.022*\"price\" + 0.017*\"association\" + 0.017*\"tenant\" + 0.017*\"woodgreen\" + '\n",
            "  '0.013*\"black\" + 0.012*\"friday\" + 0.009*\"inflation\" + 0.008*\"year\" + '\n",
            "  '0.008*\"november\" + 0.007*\"cost\"')]\n",
            "\n",
            "Perplexity:  -7.089945501809541\n",
            "\n",
            "Coherence Score:  0.416754624558118\n"
          ]
        }
      ]
    },
    {
      "cell_type": "code",
      "source": [
        "# data preprocessing / data cleaning\n",
        "import re\n",
        "import string\n",
        "\n",
        "def clean_text(text):\n",
        "    ''', , and '''\n",
        "#Make text lowercase   \n",
        "    text = text.lower()\n",
        "#remove text in square brackets\n",
        "    text = re.sub(r'\\[.*?\\]', '', text)\n",
        "#remove punctuation   \n",
        "    text = re.sub(r'[%s]' % re.escape(string.punctuation), '', text) \n",
        "#remove words containing numbers\n",
        "    text = re.sub(r'\\w*\\d\\w*', '', text)\n",
        "#remove links   \n",
        "    text = re.sub(r'http\\S+', '', text)\n",
        "#remove emojis    \n",
        "    regrex_pattern = re.compile(pattern = \"[\"\n",
        "        u\"\\U0001F600-\\U0001F64F\"  # emoticons\n",
        "        u\"\\U0001F300-\\U0001F5FF\"  # symbols & pictographs\n",
        "        u\"\\U0001F680-\\U0001F6FF\"  # transport & map symbols\n",
        "        u\"\\U0001F1E0-\\U0001F1FF\"  # flags (iOS)\n",
        "                           \"]+\", flags = re.UNICODE)\n",
        "    text = regrex_pattern.sub(r'', text)\n",
        "    return text\n",
        "tweetsdf = pd.DataFrame(df.text.apply(lambda x: clean_text(x)))"
      ],
      "metadata": {
        "id": "AveO5quI3aJn"
      },
      "execution_count": 83,
      "outputs": []
    },
    {
      "cell_type": "code",
      "source": [
        "from sklearn.decomposition import LatentDirichletAllocation\n",
        "vectorizer = CountVectorizer(\n",
        "analyzer='word',       \n",
        "min_df=3,# minimum required occurences of a word \n",
        "stop_words='english',# remove stop words\n",
        "lowercase=True,# convert all words to lowercase\n",
        "token_pattern='[a-zA-Z0-9]{3,}',# num chars > 3\n",
        "max_features=5000,# max number of unique words\n",
        "                            )\n",
        "data_matrix = vectorizer.fit_transform(tweetsdf.text)\n",
        "data_matrix"
      ],
      "metadata": {
        "colab": {
          "base_uri": "https://localhost:8080/"
        },
        "id": "KHNG34au3Yds",
        "outputId": "0d933295-2313-428d-a755-b42ea937e6b5"
      },
      "execution_count": 84,
      "outputs": [
        {
          "output_type": "execute_result",
          "data": {
            "text/plain": [
              "<5000x4102 sparse matrix of type '<class 'numpy.int64'>'\n",
              "\twith 70971 stored elements in Compressed Sparse Row format>"
            ]
          },
          "metadata": {},
          "execution_count": 84
        }
      ]
    },
    {
      "cell_type": "code",
      "source": [
        "# I will use LDA to create topics along with the probability distribution for each word in our vocabulary for each topic\n",
        "lda_model = LatentDirichletAllocation(\n",
        "n_components=10, # Number of topics\n",
        "learning_method='online',\n",
        "random_state=20,       \n",
        "n_jobs = -1  # Use all available CPUs\n",
        "                                     )\n",
        "lda_output = lda_model.fit_transform(data_matrix)"
      ],
      "metadata": {
        "id": "G80YefWx3YQt"
      },
      "execution_count": 85,
      "outputs": []
    },
    {
      "cell_type": "code",
      "source": [
        "import pyLDAvis\n",
        "import pyLDAvis.sklearn\n",
        "warnings.filterwarnings(\"ignore\", category=DeprecationWarning)"
      ],
      "metadata": {
        "id": "02YpO7_rm6Fv"
      },
      "execution_count": 86,
      "outputs": []
    },
    {
      "cell_type": "code",
      "source": [
        "#pyLDAvis extracts information from a fitted LDA topic model to inform an interactive web-based visualization\n",
        "pyLDAvis.enable_notebook()\n",
        "pyLDAvis.sklearn.prepare(lda_model, data_matrix, vectorizer, mds='tsne')"
      ],
      "metadata": {
        "colab": {
          "base_uri": "https://localhost:8080/",
          "height": 1000
        },
        "id": "qBAmHRR6nBPR",
        "outputId": "85aabeb3-faac-4495-b4ed-4a78f4cc559b"
      },
      "execution_count": 87,
      "outputs": [
        {
          "output_type": "stream",
          "name": "stderr",
          "text": [
            "/usr/local/lib/python3.7/dist-packages/sklearn/utils/deprecation.py:87: FutureWarning: Function get_feature_names is deprecated; get_feature_names is deprecated in 1.0 and will be removed in 1.2. Please use get_feature_names_out instead.\n",
            "  warnings.warn(msg, category=FutureWarning)\n",
            "/usr/local/lib/python3.7/dist-packages/pyLDAvis/_prepare.py:247: FutureWarning: In a future version of pandas all arguments of DataFrame.drop except for the argument 'labels' will be keyword-only\n",
            "  by='saliency', ascending=False).head(R).drop('saliency', 1)\n",
            "/usr/local/lib/python3.7/dist-packages/sklearn/manifold/_t_sne.py:783: FutureWarning: The default initialization in TSNE will change from 'random' to 'pca' in 1.2.\n",
            "  FutureWarning,\n",
            "/usr/local/lib/python3.7/dist-packages/sklearn/manifold/_t_sne.py:793: FutureWarning: The default learning rate in TSNE will change from 200.0 to 'auto' in 1.2.\n",
            "  FutureWarning,\n",
            "/usr/local/lib/python3.7/dist-packages/sklearn/manifold/_t_sne.py:827: FutureWarning: 'square_distances' has been introduced in 0.24 to help phase out legacy squaring behavior. The 'legacy' setting will be removed in 1.1 (renaming of 0.26), and the default setting will be changed to True. In 1.3, 'square_distances' will be removed altogether, and distances will be squared by default. Set 'square_distances'=True to silence this warning.\n",
            "  FutureWarning,\n"
          ]
        },
        {
          "output_type": "execute_result",
          "data": {
            "text/plain": [
              "PreparedData(topic_coordinates=               x          y  topics  cluster       Freq\n",
              "topic                                                  \n",
              "0      32.420952   8.115230       1        1  16.716631\n",
              "5       0.648955  71.707100       2        1  11.772762\n",
              "3      71.019684   9.971006       3        1  11.517056\n",
              "4       3.785981  33.185135       4        1  10.099809\n",
              "6     -42.666500  -9.222070       5        1  10.024688\n",
              "2      -3.621689 -43.526516       6        1   9.312023\n",
              "8      -3.632402  -4.171708       7        1   9.147413\n",
              "7     -36.584400  35.804413       8        1   8.092328\n",
              "1      44.391380  50.615383       9        1   7.934356\n",
              "9      40.235809 -31.591665      10        1   5.382935, topic_info=           Term         Freq        Total Category  logprob  loglift\n",
              "1132  employees   736.000000   736.000000  Default  30.0000  30.0000\n",
              "4063      wrong   626.000000   626.000000  Default  29.0000  29.0000\n",
              "2419        msm   590.000000   590.000000  Default  28.0000  28.0000\n",
              "2971  recession  1156.000000  1156.000000  Default  27.0000  27.0000\n",
              "771      crisis   329.000000   329.000000  Default  26.0000  26.0000\n",
              "...         ...          ...          ...      ...      ...      ...\n",
              "1727       home    28.817655    47.363617  Topic10  -4.9631   2.4251\n",
              "1077    economy    47.894839   518.036092  Topic10  -4.4551   0.5409\n",
              "1084     edtech    23.457061    29.810290  Topic10  -5.1690   2.6823\n",
              "161     article    23.250004    40.194684  Topic10  -5.1778   2.3745\n",
              "1389     follow    23.077251    44.517596  Topic10  -5.1853   2.2649\n",
              "\n",
              "[459 rows x 6 columns], token_table=      Topic      Freq             Term\n",
              "term                                  \n",
              "65        4  0.984361           agents\n",
              "73        4  0.969935            ahead\n",
              "76       10  0.980820            aimed\n",
              "93       10  0.980813  alexandreeruimy\n",
              "94        6  0.987797     alexstraszha\n",
              "...     ...       ...              ...\n",
              "4078      4  0.296946            years\n",
              "4078      7  0.438349            years\n",
              "4078      8  0.120192            years\n",
              "4082      1  0.991787            yield\n",
              "4090      9  0.971757          youtube\n",
              "\n",
              "[543 rows x 3 columns], R=30, lambda_step=0.01, plot_opts={'xlab': 'PC1', 'ylab': 'PC2'}, topic_order=[1, 6, 4, 5, 7, 3, 9, 8, 2, 10])"
            ],
            "text/html": [
              "\n",
              "<link rel=\"stylesheet\" type=\"text/css\" href=\"https://cdn.jsdelivr.net/gh/bmabey/pyLDAvis@3.3.1/pyLDAvis/js/ldavis.v1.0.0.css\">\n",
              "\n",
              "\n",
              "<div id=\"ldavis_el761397755879214881407766363\"></div>\n",
              "<script type=\"text/javascript\">\n",
              "\n",
              "var ldavis_el761397755879214881407766363_data = {\"mdsDat\": {\"x\": [32.42095184326172, 0.648955225944519, 71.01968383789062, 3.7859814167022705, -42.666500091552734, -3.6216893196105957, -3.632401704788208, -36.58440017700195, 44.391380310058594, 40.235809326171875], \"y\": [8.115229606628418, 71.70709991455078, 9.971006393432617, 33.18513488769531, -9.22206974029541, -43.52651596069336, -4.171707630157471, 35.804412841796875, 50.61538314819336, -31.591665267944336], \"topics\": [1, 2, 3, 4, 5, 6, 7, 8, 9, 10], \"cluster\": [1, 1, 1, 1, 1, 1, 1, 1, 1, 1], \"Freq\": [16.716630530811564, 11.772761617132348, 11.517055979191936, 10.099809479567973, 10.02468771017742, 9.31202260065936, 9.147412635498103, 8.0923282349154, 7.93435580235479, 5.3829354096911075]}, \"tinfo\": {\"Term\": [\"employees\", \"wrong\", \"msm\", \"recession\", \"crisis\", \"like\", \"news\", \"minutes\", \"say\", \"sales\", \"just\", \"morning\", \"money\", \"retailers\", \"store\", \"inflation\", \"amp\", \"cnn\", \"msnbc\", \"interviewed\", \"cbsnews\", \"preached\", \"cruising\", \"preaching\", \"talking\", \"food\", \"business\", \"housing\", \"economy\", \"prices\", \"investing\", \"finance\", \"gold\", \"coming\", \"stocks\", \"stockmarket\", \"hikes\", \"spx\", \"oil\", \"yield\", \"likely\", \"stay\", \"forex\", \"trading\", \"months\", \"watch\", \"expected\", \"bonds\", \"number\", \"pressures\", \"heres\", \"weeks\", \"example\", \"mortgage\", \"recessions\", \"powell\", \"long\", \"silver\", \"error\", \"invest\", \"markets\", \"fed\", \"crypto\", \"recession\", \"economics\", \"trade\", \"economy\", \"market\", \"investment\", \"economic\", \"better\", \"said\", \"rate\", \"inflation\", \"higher\", \"rates\", \"growth\", \"federalreserve\", \"year\", \"global\", \"income\", \"wage\", \"big\", \"turkey\", \"biden\", \"thankful\", \"impact\", \"employee\", \"tax\", \"focus\", \"increasing\", \"video\", \"matter\", \"americans\", \"border\", \"grateful\", \"starting\", \"security\", \"workers\", \"tonight\", \"wallets\", \"celebrating\", \"leaving\", \"got\", \"gobbling\", \"mayorkas\", \"dhs\", \"published\", \"community\", \"amazon\", \"thanksgiving\", \"new\", \"amp\", \"job\", \"says\", \"rise\", \"help\", \"inflation\", \"costs\", \"need\", \"business\", \"price\", \"prices\", \"employees\", \"like\", \"wrong\", \"msm\", \"minutes\", \"say\", \"sales\", \"morning\", \"retailers\", \"store\", \"cnn\", \"msnbc\", \"interviewed\", \"cbsnews\", \"preached\", \"cruising\", \"preaching\", \"waiting\", \"pivot\", \"core\", \"old\", \"hitting\", \"mistake\", \"mkt\", \"whats\", \"ask\", \"massively\", \"decentralized\", \"overtighten\", \"tradfi\", \"managed\", \"extremely\", \"talking\", \"just\", \"like\", \"opinion\", \"news\", \"drop\", \"inflation\", \"btc\", \"bear\", \"dont\", \"fed\", \"high\", \"layoffs\", \"friday\", \"layoff\", \"whitecollarjobs\", \"black\", \"want\", \"christmas\", \"secret\", \"vote\", \"gas\", \"agents\", \"look\", \"ultimate\", \"randbreloaded\", \"hiphoprampbreggaesoca\", \"thrill\", \"free\", \"best\", \"buy\", \"including\", \"ahead\", \"georgia\", \"cool\", \"goods\", \"groceries\", \"post\", \"bac\", \"dollars\", \"ford\", \"party\", \"thelayoff\", \"looking\", \"nyc\", \"cost\", \"holiday\", \"jobs\", \"today\", \"going\", \"year\", \"blackfriday\", \"recession\", \"inflation\", \"like\", \"help\", \"money\", \"war\", \"policy\", \"corruption\", \"central\", \"bank\", \"retirement\", \"international\", \"fifaworldcup\", \"goldira\", \"cup\", \"control\", \"reach\", \"qatar\", \"blog\", \"line\", \"worldcup\", \"expectations\", \"unveiled\", \"living\", \"monetary\", \"state\", \"politics\", \"points\", \"basis\", \"man\", \"savings\", \"raised\", \"eurozone\", \"problem\", \"level\", \"getting\", \"ukraine\", \"worst\", \"banks\", \"world\", \"usa\", \"people\", \"inflation\", \"rate\", \"pakistan\", \"business\", \"know\", \"india\", \"rising\", \"read\", \"end\", \"love\", \"latest\", \"sign\", \"greenywolf\", \"digitalart\", \"chars\", \"furry\", \"alexstraszha\", \"blows\", \"inflationfetish\", \"furryart\", \"night\", \"firing\", \"support\", \"public\", \"transparency\", \"risk\", \"demand\", \"source\", \"solution\", \"sector\", \"needs\", \"thanks\", \"issues\", \"canadians\", \"pandemic\", \"really\", \"low\", \"times\", \"right\", \"high\", \"inflation\", \"need\", \"rates\", \"recession\", \"people\", \"world\", \"highest\", \"happy\", \"rbi\", \"index\", \"housingmarket\", \"moodys\", \"delhi\", \"apac\", \"shows\", \"minimumwage\", \"education\", \"healthcare\", \"october\", \"explained\", \"lowest\", \"economist\", \"prepare\", \"region\", \"unlikely\", \"important\", \"recorded\", \"gujarat\", \"globaleconomy\", \"headwinds\", \"mpc\", \"telangana\", \"effects\", \"pricehike\", \"wise\", \"services\", \"realestate\", \"week\", \"increase\", \"november\", \"prices\", \"german\", \"global\", \"current\", \"price\", \"inflation\", \"years\", \"economy\", \"year\", \"news\", \"food\", \"costs\", \"continue\", \"just\", \"says\", \"crisis\", \"housing\", \"insights\", \"tenants\", \"shortages\", \"onpoli\", \"wisdom\", \"rents\", \"heat\", \"woodgreen\", \"inspire\", \"association\", \"topoli\", \"depression\", \"intel\", \"way\", \"intc\", \"qcom\", \"day\", \"supplychain\", \"commodity\", \"increases\", \"ibm\", \"semiconductors\", \"chips\", \"californiajobs\", \"qualcomm\", \"banking\", \"history\", \"away\", \"cdnpoli\", \"financial\", \"food\", \"business\", \"lead\", \"news\", \"debt\", \"inflation\", \"economic\", \"govt\", \"technology\", \"light\", \"december\", \"online\", \"called\", \"officials\", \"lower\", \"platform\", \"informed\", \"digitaltransformation\", \"special\", \"course\", \"narendramodi\", \"courses\", \"designed\", \"emphasized\", \"rozgarmela\", \"karmayogibharat\", \"karmayogiprarambh\", \"throwing\", \"namoapp\", \"staff\", \"startup\", \"youtube\", \"fund\", \"strong\", \"large\", \"continued\", \"futureofwork\", \"employees\", \"work\", \"hiring\", \"management\", \"working\", \"employment\", \"recession\", \"costoflivingcrisis\", \"data\", \"don\", \"analysis\", \"households\", \"class\", \"content\", \"won\", \"hear\", \"missed\", \"single\", \"makes\", \"complete\", \"gay\", \"place\", \"marshablackburn\", \"comes\", \"distract\", \"brighteyevc\", \"aimed\", \"alexandreeruimy\", \"nets\", \"guerindavid\", \"frenchtech\", \"allinone\", \"simbel\", \"role\", \"nicosteeg\", \"speedinvest\", \"eutech\", \"tiboel\", \"nov\", \"amp\", \"inflation\", \"home\", \"economy\", \"edtech\", \"article\", \"follow\"], \"Freq\": [736.0, 626.0, 590.0, 1156.0, 329.0, 527.0, 586.0, 344.0, 343.0, 340.0, 465.0, 330.0, 300.0, 314.0, 312.0, 4279.0, 443.0, 306.0, 303.0, 301.0, 296.0, 294.0, 294.0, 294.0, 347.0, 292.0, 359.0, 188.0, 518.0, 287.0, 190.79076580234596, 185.34465554852017, 136.72762301163, 127.58368799980815, 123.35164058244051, 114.23523540477854, 88.9201725564422, 82.76834467265334, 73.48387174516547, 67.69484592979266, 61.20939298042949, 62.5206741339513, 58.17293038453212, 57.261566830319154, 52.131832066234416, 51.859828101067414, 51.34539701788448, 51.27263629114928, 46.78791354289327, 47.06712587190738, 46.40142129375168, 45.43569170423715, 45.138991911117074, 43.78224316771209, 43.647807542967044, 43.32702228938117, 43.24688399962407, 43.0793491390592, 42.54899008808186, 42.38168146294616, 161.93146487291997, 219.83898566965001, 98.86488412084405, 789.4680378470631, 63.48429649151518, 69.13216705195869, 314.5096714270121, 148.89873857593906, 66.2892358056649, 104.3367602514549, 64.25359629876196, 84.88645721221712, 143.122188296018, 668.7202567295224, 73.87811504598575, 104.37400712086709, 71.22711508440537, 65.87028233151317, 81.36131085588823, 65.35142236718491, 120.38416168990115, 111.48077099061257, 111.47887936568908, 96.94634264541695, 95.75987755632404, 78.50106943070858, 73.75058130473266, 68.36516134017876, 67.97265786622259, 64.56396220005917, 66.6688663840042, 52.775276255680076, 49.726528319483066, 60.902127671630176, 46.52692913765689, 45.771106535155724, 44.44909337428409, 40.701747266554726, 38.36856742238194, 38.32213899203232, 37.97976089717131, 37.91741244934676, 37.80205328054549, 37.57854397886311, 36.88807463857642, 36.888072638381054, 36.88807162980192, 34.296764650076305, 33.80582412986681, 33.16898788179154, 210.8494318618306, 147.21772812262947, 290.69309954894686, 81.87408297130087, 89.12617037857203, 67.17761430423715, 77.54529533428494, 545.7072930024881, 67.51799383914725, 56.47080788302121, 80.5169777631298, 61.70164169178986, 67.56668890254774, 58.659985939934316, 46.53925048502545, 625.6097518030688, 590.0120670307243, 343.9797141008456, 342.7581108014658, 339.906020529325, 329.19132823326964, 313.7277623899308, 312.09443429881, 306.0964356342669, 303.05881305666213, 300.60022284823935, 295.9228333157402, 293.73000368516176, 293.7300036186007, 293.7300027019641, 37.78179208639524, 23.677561136413573, 23.355850949260134, 20.094644843243305, 19.371647370647768, 16.106344637088124, 16.106336072610354, 16.03491066983269, 15.66081103880392, 15.087631439321479, 15.087631279383972, 15.087631567449707, 15.08763140272758, 15.08763126726003, 15.087631337587174, 307.0820608098804, 377.2928068226246, 398.3990275912503, 27.053355560724583, 340.4001062343571, 25.157955486551327, 752.1508687190608, 44.59800832923728, 19.78156385006361, 32.41410713436812, 37.59943119841295, 21.57125913184659, 188.71410863263716, 111.77524745073889, 149.48448699989677, 80.80004405878665, 78.49043149169563, 72.58287535789246, 70.60674154202565, 67.4044139701639, 66.48688952823092, 62.61745346588943, 59.070582306020974, 58.47837457271466, 57.61954362293256, 57.45571660389517, 56.76250989223967, 56.76250478643679, 95.65644431211983, 47.16738472681698, 46.1729948524755, 34.701212704285744, 33.156009698019275, 32.11380936602158, 31.917995160617718, 31.036785729359526, 30.542751216552542, 29.902987985721847, 29.268526331901995, 29.063096874556017, 28.451993748525904, 26.73198302790306, 110.93308969911732, 99.4986754761662, 59.58123153240889, 120.49186111348712, 46.427704185867796, 157.0647985864555, 109.26686679992163, 78.97438846728267, 134.41966020223794, 60.7157040006111, 173.97436022483058, 259.0589848000632, 81.59211651192453, 52.00078238022349, 299.26391606830765, 141.48725473919336, 140.4438250701916, 130.72656460597844, 108.3728942755105, 97.32387411186842, 90.57885908391351, 81.74736461253183, 77.3834582886692, 73.6000011190594, 68.32959774241468, 59.71483179387804, 59.40641176932702, 54.240791439285644, 53.43201483594888, 53.4104033369162, 48.0197718056064, 47.40409189205093, 46.07572517801459, 43.72258955856567, 42.76237898098017, 41.80300552145919, 37.71440198853144, 33.54927183422857, 33.27787619662488, 32.3606353748942, 32.000171672411895, 31.742132618603932, 31.55284844427193, 32.33156303622601, 82.03906678728667, 67.46683686509725, 61.59412562910596, 58.826923769275886, 81.64700833476964, 106.63221939967075, 42.9295495556062, 119.73168553503267, 752.073338599177, 131.65921191689404, 55.828733058830025, 103.61284297141731, 47.27079673427439, 123.96602238946906, 118.5474215255051, 146.27948192291083, 98.5253716942105, 81.38175345437986, 66.820359734952, 66.02055314037175, 61.89653657666943, 61.89653626778512, 61.89653503690314, 61.89653517612079, 61.89653491437786, 61.89653535097641, 61.89653272071868, 61.89653291256509, 61.3136840695192, 53.5844859905338, 47.31512364047309, 47.01686577781663, 42.621396436072665, 41.86087976397293, 44.80044971087151, 39.229381534280755, 38.205737307659454, 34.83255801194009, 34.44019252920112, 26.444247682703356, 26.438049434222247, 25.47419947612396, 24.89585712569843, 98.12695338720519, 46.48429631710082, 36.13492761056291, 39.286505728346704, 71.12393236040784, 428.63559049607704, 54.76493867538934, 61.05892669214638, 78.63418093675223, 44.93859633418609, 42.315432946615346, 67.84168112963488, 66.62322256198829, 63.47441117042682, 55.72569184600457, 53.6357372765679, 49.973426517927216, 49.809049187280316, 49.275217074487145, 43.922576406457544, 43.33544697226539, 42.82814886348135, 40.83177723037248, 35.578093635628676, 34.38856644933906, 34.24718417239218, 32.54083979021282, 30.49385326663559, 31.711086852534613, 29.11334753977497, 27.89157144180282, 27.045004160529064, 26.845657430437434, 26.005401747335636, 26.3896662986776, 24.76190991647583, 24.05454259581471, 23.971392451461526, 23.91350928547181, 23.829795287960742, 23.434942577072444, 80.42926873497723, 81.77711782284018, 130.5237221911819, 89.42418257760738, 200.07842175542433, 33.89087149785487, 89.93045037722719, 40.87118671209963, 93.44262565356955, 430.6193921146303, 62.02039144475066, 102.98079859938873, 77.99382953968946, 84.93738366186939, 64.68629367202116, 48.670168430263686, 42.609075777134954, 51.860443703094376, 36.52867587387595, 328.40886061957167, 187.9884504262357, 138.07446227495333, 136.21816898330536, 131.15290316863053, 128.9486644957919, 127.90799614472775, 124.21403048024406, 123.20022273177088, 120.03245726839076, 120.03245695739822, 120.0324567941878, 120.03245645014701, 84.62521604946159, 78.46509048894792, 67.6776458799839, 63.94414059005446, 63.943964298049245, 54.239212007637576, 41.60644729296693, 39.11573621810683, 37.32189756483026, 36.366912206381464, 34.40311382434734, 32.88027129596503, 32.02272101890659, 32.02264713521909, 35.602669984310396, 28.11738563669527, 23.819959734551027, 140.00127996337088, 78.92780638401668, 202.61731224976313, 174.65059900650772, 39.11519525260285, 155.6050375721086, 56.32429259837154, 237.6219030829998, 42.79257991483726, 144.0595132371635, 120.21362101294629, 92.44033909754967, 83.54447926378933, 83.19805330027002, 82.26621706950843, 78.64364687580881, 77.68162375108895, 74.96435619147557, 72.06785228327448, 71.06829422711138, 70.7176967726273, 69.89722610170129, 66.4519846391375, 66.1940970195848, 65.71535803743664, 64.97498832568355, 64.26774620614052, 64.26774635887875, 64.26774646563065, 64.26774636483144, 64.26774621755756, 48.919154121001036, 42.253725975331164, 37.20923044431032, 32.60860690106518, 32.84170868852996, 31.863926183125734, 30.489998663503034, 29.476535953915825, 659.7766187186373, 101.34220014266008, 55.573745499461054, 43.06663634074118, 36.827479849888974, 38.202545900150696, 46.3523141554919, 70.93093209345564, 51.75570106350831, 50.95187129460887, 38.56292123977486, 35.0380091360482, 28.816837036224683, 27.34060814672211, 27.29739675514194, 26.30310917031371, 29.461424320940225, 26.626524762758304, 25.782261295643846, 25.501371487997627, 24.813434583844174, 24.537211507691044, 23.60975818992613, 24.01553326347516, 23.36628848594343, 22.570224272890773, 22.570135659554026, 22.568141847820147, 22.565765507780153, 22.564860116379336, 22.564491859152987, 22.564297725717985, 22.5629630957866, 22.166438303717534, 22.560192311419225, 22.55843243663219, 22.553675707433186, 22.545165064863898, 45.26163171200682, 115.28866695072573, 205.2534961272254, 28.817654792615752, 47.89483944933459, 23.457060991634982, 23.250004219106273, 23.077250829696023], \"Total\": [736.0, 626.0, 590.0, 1156.0, 329.0, 527.0, 586.0, 344.0, 343.0, 340.0, 465.0, 330.0, 300.0, 314.0, 312.0, 4279.0, 443.0, 306.0, 303.0, 301.0, 296.0, 294.0, 294.0, 294.0, 347.0, 292.0, 359.0, 188.0, 518.0, 287.0, 191.65962306901775, 186.2156543510478, 137.59602907530396, 128.45205933741957, 124.21996931950682, 115.10370108997286, 89.78854853375131, 83.63662595999814, 74.35224407738606, 68.56311457722816, 62.07797364427539, 63.44010433063386, 59.041222040987286, 58.12992647129895, 53.000444233447155, 52.72834439458165, 52.213945643424616, 52.14092237090454, 47.656290799605294, 47.94484097318144, 47.2698893355125, 46.30442010237853, 46.00739598453381, 44.65067102447954, 44.516236952632184, 44.19539925167113, 44.1155443324827, 43.94766715377982, 43.417265384229424, 43.25007731099342, 171.85331568120054, 258.19030503099566, 110.46946894832693, 1156.8959111237943, 69.28212752743704, 78.42062579199495, 518.0360919077103, 204.96317531638192, 74.6283224432538, 147.89725385955126, 76.39573924382503, 117.3678388136144, 275.553516165649, 4279.939855046899, 98.45099315057287, 191.4127351933008, 110.81898207897567, 99.285111559843, 329.15485989503287, 158.6685858012209, 121.25134374320984, 112.34721776034765, 112.34566646277179, 97.81287099606182, 96.62647134053836, 79.3675608915538, 74.61720220703744, 69.23163345542358, 68.83915122696114, 65.43046882240589, 67.56895171886204, 53.64180473007535, 50.59301603274914, 62.031891280104425, 47.39340717409607, 46.63751120533615, 45.31547479317602, 41.56826752391998, 39.23510959311573, 39.18857913064635, 38.84615167440543, 38.783799680247874, 38.66847187738586, 38.447311715161106, 37.75446126781869, 37.7544614189236, 37.754462190935826, 35.16317561975888, 34.67256301807212, 34.035488967973095, 228.78780740486152, 166.84162653830282, 443.25921187031344, 114.16541534199533, 154.1179533748335, 102.51134945167752, 130.31894757392155, 4279.939855046899, 123.14091455062668, 112.01132311964403, 359.4701956436848, 199.03242070464353, 287.99274843784525, 736.9426280449759, 527.1868959962706, 626.453811641916, 590.856102561205, 344.82378264583934, 343.60224842429216, 340.75047410617515, 330.03536343022154, 314.57176263101746, 312.93844458218814, 306.9404602356076, 303.9028177180509, 301.44420566496495, 296.76681932210397, 294.57398472663203, 294.573985148251, 294.5739850107307, 38.62618527844697, 24.521687910586547, 24.199889821264993, 20.93866075704748, 20.215722910749513, 16.950320221809505, 16.950318454928908, 16.87943778560476, 16.50523263004807, 15.931567818089455, 15.931567914286257, 15.93156823825783, 15.931568208090374, 15.931568117786018, 15.93156822130687, 347.1085506607821, 465.51164293632814, 527.1868959962706, 30.712625009612534, 586.6561334830523, 32.15612463215533, 4279.939855046899, 78.32001261594611, 26.70858577931639, 93.67311193127911, 258.19030503099566, 140.03353434269448, 190.00014283743684, 112.6420708092386, 150.81620819267485, 81.66696310771337, 79.35711098792125, 73.44973093649747, 71.47350189071211, 68.27133257798548, 67.35367727911348, 63.48431995858836, 59.93733808634071, 59.34552553681059, 58.48747950656889, 58.322529225675595, 57.62922025190893, 57.62921905947449, 97.16442183109822, 48.034377035394385, 47.03979731603069, 35.5680808225239, 34.02288284421534, 32.9805811251894, 32.78468784783782, 31.903597988465577, 31.409576502591804, 30.76984204563569, 30.135430927596605, 29.929964399556596, 29.318870295288054, 27.5987091534268, 115.91184451889829, 104.0603192621398, 63.70937214311081, 144.93427907347265, 50.926626094402884, 218.23375871994983, 175.70068484132716, 127.10165063832402, 329.15485989503287, 98.7258488953357, 1156.8959111237943, 4279.939855046899, 527.1868959962706, 130.31894757392155, 300.1535415185592, 142.35150066945783, 141.30817296293378, 131.5910344247865, 109.2377902838379, 98.18825036502544, 91.44312975993239, 82.6153611378473, 78.24769592683649, 74.46424725667639, 69.19391738678637, 60.57917255930902, 60.27142601167991, 55.1050319721682, 54.296395115564316, 54.36010933894534, 48.88400553134478, 48.26843661048788, 46.94005777843248, 44.58706391020337, 43.62674056765431, 42.66740242657384, 38.57878795955294, 34.41387130455123, 34.145559716425325, 33.22498617025628, 32.8645568663109, 32.60649257827982, 32.417235751943466, 33.21988153892594, 86.48036174625388, 72.52804257354101, 67.07509515017186, 65.14554640273751, 105.79096593687899, 149.72084576107082, 48.49386175219595, 223.26139841548988, 4279.939855046899, 275.553516165649, 72.43566266158308, 359.4701956436848, 71.97796244443704, 124.8355981392512, 119.4172772710736, 147.52156400843106, 99.40355879063725, 82.2512291513441, 67.69032668671855, 66.89040640903796, 62.76593368221235, 62.76593400255169, 62.765933337315175, 62.7659337887692, 62.76593416826991, 62.76593477112032, 62.76593377788797, 62.7659342181665, 62.183238868801276, 54.454032207218916, 48.18464321776038, 47.886406757468094, 43.49087569835432, 42.730523724211196, 45.77282885539394, 40.09887239531738, 39.075549773693574, 35.70210478725695, 35.30971467661688, 27.31378909258573, 27.307726458904604, 26.34440994778316, 25.76546649458646, 132.61502961607195, 60.02641688053939, 42.55987049816317, 50.42585166372515, 140.03353434269448, 4279.939855046899, 112.01132311964403, 191.4127351933008, 1156.8959111237943, 223.26139841548988, 149.72084576107082, 68.71072784594118, 67.49241795952388, 64.3434668780795, 56.59467886711607, 54.50728864895148, 50.8423975112821, 50.678069555069975, 50.14485133655143, 44.79162318567235, 44.20453748678988, 43.697173759560776, 41.70086715658929, 36.44711742366939, 35.25761206523806, 35.116152885228466, 33.40987434954561, 31.363098767724, 32.627553474243356, 29.982832154775128, 28.760643359625487, 27.91460809689904, 27.71466309667582, 26.874387671943776, 27.2987439333485, 25.637280794669422, 24.923572036541596, 24.840434927345484, 24.78253616692268, 24.698795713577056, 24.30424689993782, 85.79490773622939, 87.37881674505954, 142.56751072272334, 99.37222440867806, 287.99274843784525, 38.510780138208524, 158.6685858012209, 53.81393156987032, 199.03242070464353, 4279.939855046899, 141.4399212606101, 518.0360919077103, 329.15485989503287, 586.6561334830523, 292.26172789397924, 123.14091455062668, 94.77006713012973, 465.51164293632814, 154.1179533748335, 329.26865967466716, 188.86191903948446, 138.93409625321112, 137.07769115478646, 132.01243814110586, 129.80818697362156, 128.76750331028927, 125.07353842922731, 124.05973200177293, 120.89195093297543, 120.89195085033771, 120.89195069582816, 120.89195128240608, 85.4847608262203, 79.32452728637905, 68.53721745243367, 64.8039815023527, 64.8039684195612, 55.09881829234129, 42.46599750211698, 39.97529683515971, 38.18149276509939, 37.22667821245322, 35.26267006011978, 33.73968757875134, 32.88225016639458, 32.88224452786686, 36.64074251063445, 28.976994832173947, 24.679565184033788, 164.99174756434826, 91.05450098380757, 292.26172789397924, 359.4701956436848, 45.91497477741666, 586.6561334830523, 90.23881628351101, 4279.939855046899, 147.89725385955126, 144.92430264900162, 121.07849936316305, 93.30514362959835, 84.40988570111914, 84.06285146310222, 83.13105347921014, 79.50845967261917, 78.5465137168679, 75.82912825256471, 72.9326395907433, 71.93305812273978, 71.58246440507256, 70.76200495615471, 67.31675109981441, 67.05885830142324, 66.58012907354903, 65.8397507761709, 65.13250639786801, 65.13250655276914, 65.13250684367193, 65.1325067781958, 65.1325069879539, 49.78432720667636, 43.118616017477784, 38.07535900480807, 33.473433039793434, 33.71588107083764, 32.728795910140256, 31.354835250234842, 30.34138985384616, 736.9426280449759, 112.31841835648662, 63.26051878177781, 49.50399567690153, 45.03515271027317, 50.697619333091396, 1156.8959111237943, 71.8037662090358, 52.62857862446692, 51.824606814206085, 39.43561621220471, 35.91073963777535, 29.689504042733667, 28.213282667678108, 28.170068193753966, 27.175847449569925, 30.447103518211208, 27.526361439089285, 26.655005931379133, 26.374053489905886, 25.68607739120005, 25.40993253462642, 24.482413345222078, 24.90932619220573, 24.238962795445207, 23.449752135186312, 23.449759683185025, 23.44993830348048, 23.45015142490734, 23.45023266396139, 23.450265104218722, 23.45028297366264, 23.4504028152586, 23.039131585272752, 23.45065124213803, 23.450808491438508, 23.451235092995244, 23.451998184073634, 60.58479753717639, 443.25921187031344, 4279.939855046899, 47.36361710664205, 518.0360919077103, 29.81029015076569, 40.19468409667999, 44.517595816761855], \"Category\": [\"Default\", \"Default\", \"Default\", \"Default\", \"Default\", \"Default\", \"Default\", \"Default\", \"Default\", \"Default\", \"Default\", \"Default\", \"Default\", \"Default\", \"Default\", \"Default\", \"Default\", \"Default\", \"Default\", \"Default\", \"Default\", \"Default\", \"Default\", \"Default\", \"Default\", \"Default\", \"Default\", \"Default\", \"Default\", \"Default\", \"Topic1\", \"Topic1\", \"Topic1\", \"Topic1\", \"Topic1\", \"Topic1\", \"Topic1\", \"Topic1\", \"Topic1\", \"Topic1\", \"Topic1\", \"Topic1\", \"Topic1\", \"Topic1\", \"Topic1\", \"Topic1\", \"Topic1\", \"Topic1\", \"Topic1\", \"Topic1\", \"Topic1\", \"Topic1\", \"Topic1\", \"Topic1\", \"Topic1\", \"Topic1\", \"Topic1\", \"Topic1\", \"Topic1\", \"Topic1\", \"Topic1\", \"Topic1\", \"Topic1\", \"Topic1\", \"Topic1\", \"Topic1\", \"Topic1\", \"Topic1\", \"Topic1\", \"Topic1\", \"Topic1\", \"Topic1\", \"Topic1\", \"Topic1\", \"Topic1\", \"Topic1\", \"Topic1\", \"Topic1\", \"Topic1\", \"Topic1\", \"Topic2\", \"Topic2\", \"Topic2\", \"Topic2\", \"Topic2\", \"Topic2\", \"Topic2\", \"Topic2\", \"Topic2\", \"Topic2\", \"Topic2\", \"Topic2\", \"Topic2\", \"Topic2\", \"Topic2\", \"Topic2\", \"Topic2\", \"Topic2\", \"Topic2\", \"Topic2\", \"Topic2\", \"Topic2\", \"Topic2\", \"Topic2\", \"Topic2\", \"Topic2\", \"Topic2\", \"Topic2\", \"Topic2\", \"Topic2\", \"Topic2\", \"Topic2\", \"Topic2\", \"Topic2\", \"Topic2\", \"Topic2\", \"Topic2\", \"Topic2\", \"Topic2\", \"Topic2\", \"Topic2\", \"Topic2\", \"Topic2\", \"Topic2\", \"Topic2\", \"Topic3\", \"Topic3\", \"Topic3\", \"Topic3\", \"Topic3\", \"Topic3\", \"Topic3\", \"Topic3\", \"Topic3\", \"Topic3\", \"Topic3\", \"Topic3\", \"Topic3\", \"Topic3\", \"Topic3\", \"Topic3\", \"Topic3\", \"Topic3\", \"Topic3\", \"Topic3\", \"Topic3\", \"Topic3\", \"Topic3\", \"Topic3\", \"Topic3\", \"Topic3\", \"Topic3\", \"Topic3\", \"Topic3\", \"Topic3\", \"Topic3\", \"Topic3\", \"Topic3\", \"Topic3\", \"Topic3\", \"Topic3\", \"Topic3\", \"Topic3\", \"Topic3\", \"Topic3\", \"Topic3\", \"Topic3\", \"Topic4\", \"Topic4\", \"Topic4\", \"Topic4\", \"Topic4\", \"Topic4\", \"Topic4\", \"Topic4\", \"Topic4\", \"Topic4\", \"Topic4\", \"Topic4\", \"Topic4\", \"Topic4\", \"Topic4\", \"Topic4\", \"Topic4\", \"Topic4\", \"Topic4\", \"Topic4\", \"Topic4\", \"Topic4\", \"Topic4\", \"Topic4\", \"Topic4\", \"Topic4\", \"Topic4\", \"Topic4\", \"Topic4\", \"Topic4\", \"Topic4\", \"Topic4\", \"Topic4\", \"Topic4\", \"Topic4\", \"Topic4\", \"Topic4\", \"Topic4\", \"Topic4\", \"Topic4\", \"Topic4\", \"Topic4\", \"Topic4\", \"Topic4\", \"Topic5\", \"Topic5\", \"Topic5\", \"Topic5\", \"Topic5\", \"Topic5\", \"Topic5\", \"Topic5\", \"Topic5\", \"Topic5\", \"Topic5\", \"Topic5\", \"Topic5\", \"Topic5\", \"Topic5\", \"Topic5\", \"Topic5\", \"Topic5\", \"Topic5\", \"Topic5\", \"Topic5\", \"Topic5\", \"Topic5\", \"Topic5\", \"Topic5\", \"Topic5\", \"Topic5\", \"Topic5\", \"Topic5\", \"Topic5\", \"Topic5\", \"Topic5\", \"Topic5\", \"Topic5\", \"Topic5\", \"Topic5\", \"Topic5\", \"Topic5\", \"Topic5\", \"Topic5\", \"Topic5\", \"Topic5\", \"Topic5\", \"Topic6\", \"Topic6\", \"Topic6\", \"Topic6\", \"Topic6\", \"Topic6\", \"Topic6\", \"Topic6\", \"Topic6\", \"Topic6\", \"Topic6\", \"Topic6\", \"Topic6\", \"Topic6\", \"Topic6\", \"Topic6\", \"Topic6\", \"Topic6\", \"Topic6\", \"Topic6\", \"Topic6\", \"Topic6\", \"Topic6\", \"Topic6\", \"Topic6\", \"Topic6\", \"Topic6\", \"Topic6\", \"Topic6\", \"Topic6\", \"Topic6\", \"Topic6\", \"Topic6\", \"Topic6\", \"Topic6\", \"Topic6\", \"Topic6\", \"Topic6\", \"Topic6\", \"Topic6\", \"Topic6\", \"Topic7\", \"Topic7\", \"Topic7\", \"Topic7\", \"Topic7\", \"Topic7\", \"Topic7\", \"Topic7\", \"Topic7\", \"Topic7\", \"Topic7\", \"Topic7\", \"Topic7\", \"Topic7\", \"Topic7\", \"Topic7\", \"Topic7\", \"Topic7\", \"Topic7\", \"Topic7\", \"Topic7\", \"Topic7\", \"Topic7\", \"Topic7\", \"Topic7\", \"Topic7\", \"Topic7\", \"Topic7\", \"Topic7\", \"Topic7\", \"Topic7\", \"Topic7\", \"Topic7\", \"Topic7\", \"Topic7\", \"Topic7\", \"Topic7\", \"Topic7\", \"Topic7\", \"Topic7\", \"Topic7\", \"Topic7\", \"Topic7\", \"Topic7\", \"Topic7\", \"Topic7\", \"Topic7\", \"Topic7\", \"Topic7\", \"Topic8\", \"Topic8\", \"Topic8\", \"Topic8\", \"Topic8\", \"Topic8\", \"Topic8\", \"Topic8\", \"Topic8\", \"Topic8\", \"Topic8\", \"Topic8\", \"Topic8\", \"Topic8\", \"Topic8\", \"Topic8\", \"Topic8\", \"Topic8\", \"Topic8\", \"Topic8\", \"Topic8\", \"Topic8\", \"Topic8\", \"Topic8\", \"Topic8\", \"Topic8\", \"Topic8\", \"Topic8\", \"Topic8\", \"Topic8\", \"Topic8\", \"Topic8\", \"Topic8\", \"Topic8\", \"Topic8\", \"Topic8\", \"Topic8\", \"Topic8\", \"Topic8\", \"Topic9\", \"Topic9\", \"Topic9\", \"Topic9\", \"Topic9\", \"Topic9\", \"Topic9\", \"Topic9\", \"Topic9\", \"Topic9\", \"Topic9\", \"Topic9\", \"Topic9\", \"Topic9\", \"Topic9\", \"Topic9\", \"Topic9\", \"Topic9\", \"Topic9\", \"Topic9\", \"Topic9\", \"Topic9\", \"Topic9\", \"Topic9\", \"Topic9\", \"Topic9\", \"Topic9\", \"Topic9\", \"Topic9\", \"Topic9\", \"Topic9\", \"Topic9\", \"Topic9\", \"Topic9\", \"Topic9\", \"Topic9\", \"Topic9\", \"Topic10\", \"Topic10\", \"Topic10\", \"Topic10\", \"Topic10\", \"Topic10\", \"Topic10\", \"Topic10\", \"Topic10\", \"Topic10\", \"Topic10\", \"Topic10\", \"Topic10\", \"Topic10\", \"Topic10\", \"Topic10\", \"Topic10\", \"Topic10\", \"Topic10\", \"Topic10\", \"Topic10\", \"Topic10\", \"Topic10\", \"Topic10\", \"Topic10\", \"Topic10\", \"Topic10\", \"Topic10\", \"Topic10\", \"Topic10\", \"Topic10\", \"Topic10\", \"Topic10\", \"Topic10\", \"Topic10\", \"Topic10\", \"Topic10\", \"Topic10\", \"Topic10\"], \"logprob\": [30.0, 29.0, 28.0, 27.0, 26.0, 25.0, 24.0, 23.0, 22.0, 21.0, 20.0, 19.0, 18.0, 17.0, 16.0, 15.0, 14.0, 13.0, 12.0, 11.0, 10.0, 9.0, 8.0, 7.0, 6.0, 5.0, 4.0, 3.0, 2.0, 1.0, -4.2061, -4.2351, -4.5393, -4.6085, -4.6423, -4.719, -4.9696, -5.0413, -5.1602, -5.2423, -5.343, -5.3218, -5.3939, -5.4097, -5.5035, -5.5088, -5.5187, -5.5201, -5.6117, -5.6057, -5.62, -5.641, -5.6476, -5.6781, -5.6811, -5.6885, -5.6904, -5.6943, -5.7066, -5.7106, -4.3701, -4.0644, -4.8635, -2.7859, -5.3065, -5.2213, -3.7063, -4.454, -5.2633, -4.8097, -5.2945, -5.016, -4.4936, -2.9519, -5.1549, -4.8093, -5.1914, -5.2696, -5.0584, -5.2775, -4.316, -4.3928, -4.3928, -4.5325, -4.5448, -4.7436, -4.806, -4.8818, -4.8876, -4.939, -4.9069, -5.1406, -5.2001, -4.9974, -5.2667, -5.283, -5.3123, -5.4004, -5.4594, -5.4607, -5.4696, -5.4713, -5.4743, -5.4803, -5.4988, -5.4988, -5.4988, -5.5716, -5.5861, -5.6051, -3.7555, -4.1148, -3.4344, -4.7015, -4.6166, -4.8993, -4.7558, -2.8046, -4.8943, -5.073, -4.7182, -4.9844, -4.8936, -5.0349, -5.2664, -2.646, -2.7046, -3.2441, -3.2477, -3.2561, -3.2881, -3.3362, -3.3414, -3.3608, -3.3708, -3.3789, -3.3946, -3.4021, -3.4021, -3.4021, -5.4529, -5.9202, -5.9339, -6.0843, -6.1209, -6.3055, -6.3055, -6.31, -6.3336, -6.3708, -6.3708, -6.3708, -6.3708, -6.3708, -6.3708, -3.3576, -3.1517, -3.0973, -5.7869, -3.2546, -5.8595, -2.4618, -5.287, -6.1, -5.6061, -5.4577, -6.0134, -3.7132, -4.2369, -3.9462, -4.5614, -4.5904, -4.6687, -4.6963, -4.7427, -4.7564, -4.8164, -4.8747, -4.8848, -4.8995, -4.9024, -4.9145, -4.9145, -4.3926, -5.0997, -5.121, -5.4066, -5.4522, -5.4841, -5.4902, -5.5182, -5.5343, -5.5555, -5.5769, -5.5839, -5.6052, -5.6676, -4.2445, -4.3533, -4.8661, -4.1618, -5.1155, -3.8968, -4.2596, -4.5843, -4.0524, -4.8472, -3.7945, -3.3964, -4.5517, -5.0022, -3.2446, -3.9937, -4.0011, -4.0728, -4.2604, -4.3679, -4.4397, -4.5423, -4.5972, -4.6473, -4.7216, -4.8564, -4.8615, -4.9525, -4.9675, -4.9679, -5.0743, -5.0872, -5.1157, -5.1681, -5.1903, -5.213, -5.3159, -5.4329, -5.4411, -5.469, -5.4802, -5.4883, -5.4943, -5.4699, -4.5388, -4.7343, -4.8254, -4.8713, -4.5435, -4.2766, -5.1864, -4.1607, -2.3231, -4.0657, -4.9237, -4.3053, -5.0901, -4.0522, -4.0969, -3.8867, -4.2819, -4.4731, -4.6702, -4.6822, -4.7467, -4.7467, -4.7467, -4.7467, -4.7467, -4.7467, -4.7467, -4.7467, -4.7562, -4.8909, -5.0154, -5.0217, -5.1198, -5.1378, -5.07, -5.2028, -5.2292, -5.3216, -5.333, -5.5972, -5.5974, -5.6345, -5.6575, -4.2859, -5.0331, -5.2849, -5.2013, -4.6078, -2.8116, -4.8692, -4.7604, -4.5074, -5.0669, -5.127, -4.6372, -4.6553, -4.7037, -4.8339, -4.8722, -4.9429, -4.9462, -4.9569, -5.0719, -5.0854, -5.0972, -5.1449, -5.2826, -5.3166, -5.3208, -5.3719, -5.4368, -5.3977, -5.4832, -5.526, -5.5569, -5.5643, -5.5961, -5.5814, -5.6451, -5.674, -5.6775, -5.6799, -5.6834, -5.7001, -4.467, -4.4504, -3.9828, -4.361, -3.5557, -5.3312, -4.3553, -5.1439, -4.317, -2.7891, -4.7269, -4.2198, -4.4977, -4.4125, -4.6848, -4.9693, -5.1023, -4.9058, -5.2563, -2.9376, -3.4954, -3.804, -3.8176, -3.8554, -3.8724, -3.8805, -3.9098, -3.918, -3.944, -3.944, -3.944, -3.944, -4.2936, -4.3692, -4.5171, -4.5738, -4.5738, -4.7384, -5.0036, -5.0653, -5.1122, -5.1382, -5.1937, -5.2389, -5.2654, -5.2654, -5.1594, -5.3954, -5.5613, -3.7902, -4.3633, -3.4205, -3.569, -5.0653, -3.6845, -4.7007, -3.2611, -4.9754, -3.7419, -3.9228, -4.1855, -4.2867, -4.2909, -4.3021, -4.3472, -4.3595, -4.3951, -4.4345, -4.4485, -4.4534, -4.4651, -4.5156, -4.5195, -4.5268, -4.5381, -4.549, -4.549, -4.549, -4.549, -4.549, -4.8219, -4.9684, -5.0955, -5.2275, -5.2204, -5.2506, -5.2947, -5.3285, -2.2202, -4.0936, -4.6944, -4.9493, -5.1059, -5.0692, -4.8758, -4.0624, -4.3776, -4.3932, -4.6718, -4.7677, -4.9632, -5.0158, -5.0173, -5.0544, -4.941, -5.0422, -5.0744, -5.0854, -5.1127, -5.1239, -5.1625, -5.1454, -5.1728, -5.2075, -5.2075, -5.2076, -5.2077, -5.2077, -5.2078, -5.2078, -5.2078, -5.2255, -5.2079, -5.208, -5.2082, -5.2086, -4.5117, -3.5767, -2.9999, -4.9631, -4.4551, -5.169, -5.1778, -5.1853], \"loglift\": [30.0, 29.0, 28.0, 27.0, 26.0, 25.0, 24.0, 23.0, 22.0, 21.0, 20.0, 19.0, 18.0, 17.0, 16.0, 15.0, 14.0, 13.0, 12.0, 11.0, 10.0, 9.0, 8.0, 7.0, 6.0, 5.0, 4.0, 3.0, 2.0, 1.0, 1.7842, 1.7841, 1.7824, 1.782, 1.7818, 1.7812, 1.779, 1.7783, 1.777, 1.776, 1.7747, 1.7742, 1.774, 1.7737, 1.7722, 1.7722, 1.772, 1.772, 1.7704, 1.7703, 1.7702, 1.7698, 1.7697, 1.7691, 1.7691, 1.7689, 1.7689, 1.7688, 1.7686, 1.7685, 1.7293, 1.628, 1.6778, 1.4066, 1.7014, 1.6627, 1.2897, 1.4692, 1.6703, 1.4399, 1.6157, 1.4648, 1.1337, -0.0676, 1.5016, 1.1823, 1.3467, 1.3785, 0.3911, 0.9017, 2.1322, 2.1316, 2.1316, 2.1305, 2.1304, 2.1284, 2.1277, 2.1268, 2.1267, 2.1261, 2.126, 2.1231, 2.1221, 2.121, 2.1209, 2.1206, 2.1201, 2.1183, 2.117, 2.117, 2.1168, 2.1168, 2.1167, 2.1165, 2.1162, 2.1162, 2.1162, 2.1144, 2.1141, 2.1136, 2.0577, 2.0142, 1.7175, 1.8069, 1.5917, 1.7167, 1.6203, 0.0798, 1.5384, 1.4545, 0.6432, 0.9682, 0.6896, -0.3914, -0.2879, 2.16, 2.1599, 2.1589, 2.1589, 2.1589, 2.1588, 2.1587, 2.1586, 2.1586, 2.1586, 2.1585, 2.1585, 2.1585, 2.1585, 2.1585, 2.1392, 2.1263, 2.1258, 2.1202, 2.1187, 2.1103, 2.1103, 2.11, 2.1088, 2.1069, 2.1069, 2.1069, 2.1069, 2.1069, 2.1069, 2.0388, 1.9512, 1.8812, 2.0345, 1.617, 1.9159, 0.4226, 1.5982, 1.8611, 1.1001, 0.2346, 0.2908, 2.2859, 2.2849, 2.2838, 2.282, 2.2817, 2.2808, 2.2805, 2.2799, 2.2797, 2.2789, 2.2781, 2.2779, 2.2777, 2.2777, 2.2775, 2.2775, 2.277, 2.2744, 2.2741, 2.268, 2.2668, 2.266, 2.2659, 2.2651, 2.2647, 2.2641, 2.2635, 2.2633, 2.2626, 2.2607, 2.2488, 2.2478, 2.2257, 2.108, 2.2002, 1.9637, 1.8177, 1.8168, 1.3971, 1.8065, 0.3981, -0.512, 0.4268, 1.3739, 2.2972, 2.294, 2.294, 2.2935, 2.2922, 2.2913, 2.2906, 2.2896, 2.289, 2.2884, 2.2875, 2.2857, 2.2857, 2.2843, 2.2841, 2.2825, 2.2823, 2.2821, 2.2815, 2.2805, 2.2801, 2.2797, 2.2775, 2.2747, 2.2744, 2.2738, 2.2735, 2.2733, 2.2731, 2.273, 2.2474, 2.2278, 2.2149, 2.1981, 2.0411, 1.9607, 2.1782, 1.677, 0.5613, 1.5616, 2.0397, 1.0561, 1.8797, 2.3669, 2.3666, 2.3654, 2.365, 2.3632, 2.3609, 2.3608, 2.3599, 2.3599, 2.3599, 2.3599, 2.3599, 2.3599, 2.3599, 2.3599, 2.3598, 2.3578, 2.3557, 2.3555, 2.3537, 2.3533, 2.3524, 2.3519, 2.3514, 2.3492, 2.3489, 2.3415, 2.3415, 2.3403, 2.3395, 2.0727, 2.1182, 2.2102, 2.1242, 1.6964, 0.0728, 1.6583, 1.2313, -0.3148, 0.7708, 1.1102, 2.379, 2.3787, 2.3781, 2.3762, 2.3756, 2.3745, 2.3744, 2.3742, 2.3721, 2.3718, 2.3716, 2.3706, 2.3676, 2.3667, 2.3666, 2.3653, 2.3636, 2.3632, 2.3623, 2.361, 2.3601, 2.3598, 2.3588, 2.3578, 2.357, 2.3562, 2.3561, 2.356, 2.3559, 2.3553, 2.3271, 2.3254, 2.3034, 2.2862, 2.0275, 2.2639, 1.8239, 2.1166, 1.6356, 0.0952, 1.5673, 0.7762, 0.9518, 0.4592, 0.8836, 1.4634, 1.5923, 0.1971, 0.9521, 2.5116, 2.5096, 2.508, 2.508, 2.5077, 2.5076, 2.5076, 2.5074, 2.5073, 2.5071, 2.5071, 2.5071, 2.5071, 2.5041, 2.5034, 2.5016, 2.5009, 2.5009, 2.4985, 2.4938, 2.4925, 2.4915, 2.4909, 2.4896, 2.4885, 2.4878, 2.4878, 2.4855, 2.4841, 2.4788, 2.35, 2.3713, 2.1479, 1.7924, 2.354, 1.1871, 2.0429, -0.3768, 1.2741, 2.528, 2.5268, 2.5247, 2.5237, 2.5236, 2.5235, 2.523, 2.5229, 2.5225, 2.522, 2.5219, 2.5218, 2.5217, 2.521, 2.521, 2.5209, 2.5207, 2.5206, 2.5206, 2.5206, 2.5206, 2.5206, 2.5164, 2.5137, 2.511, 2.5078, 2.5077, 2.5072, 2.506, 2.505, 2.4234, 2.4311, 2.4044, 2.3947, 2.3328, 2.251, -0.6833, 2.9097, 2.9052, 2.905, 2.8996, 2.8973, 2.8921, 2.8905, 2.8905, 2.8893, 2.889, 2.8887, 2.8886, 2.8883, 2.8874, 2.887, 2.8856, 2.8854, 2.8853, 2.8837, 2.8837, 2.8836, 2.8835, 2.8834, 2.8834, 2.8834, 2.8834, 2.8833, 2.8832, 2.8831, 2.8829, 2.8825, 2.6304, 1.5752, -0.1155, 2.4251, 0.5409, 2.6823, 2.3745, 2.2649]}, \"token.table\": {\"Topic\": [4, 4, 10, 10, 6, 10, 2, 2, 2, 5, 7, 8, 10, 10, 7, 6, 10, 3, 8, 8, 4, 5, 8, 1, 5, 5, 1, 3, 4, 1, 10, 2, 2, 4, 2, 4, 5, 5, 6, 1, 2, 10, 1, 3, 2, 5, 8, 4, 8, 9, 6, 3, 7, 8, 2, 5, 6, 8, 4, 10, 3, 10, 1, 8, 2, 10, 10, 1, 7, 9, 5, 4, 3, 5, 4, 5, 10, 2, 5, 7, 9, 9, 8, 3, 1, 4, 5, 2, 7, 10, 8, 5, 6, 8, 9, 3, 7, 6, 8, 9, 2, 6, 9, 10, 4, 10, 3, 4, 6, 3, 8, 1, 8, 1, 8, 7, 1, 5, 7, 8, 10, 4, 10, 7, 7, 9, 2, 2, 6, 9, 2, 9, 6, 1, 5, 10, 1, 5, 1, 7, 3, 1, 3, 1, 7, 5, 1, 8, 10, 6, 2, 4, 10, 2, 7, 8, 4, 1, 1, 4, 10, 4, 9, 6, 6, 9, 4, 10, 4, 6, 7, 5, 6, 1, 5, 7, 7, 2, 2, 4, 7, 8, 1, 5, 4, 2, 9, 2, 6, 4, 1, 3, 5, 8, 10, 7, 7, 7, 7, 10, 8, 2, 4, 1, 1, 2, 3, 5, 6, 7, 10, 1, 2, 5, 7, 1, 4, 4, 9, 8, 3, 4, 5, 1, 7, 10, 10, 8, 7, 8, 2, 7, 4, 2, 5, 7, 8, 2, 7, 6, 1, 2, 3, 4, 5, 6, 7, 8, 10, 6, 9, 8, 8, 8, 8, 5, 3, 1, 1, 1, 5, 6, 6, 2, 9, 2, 4, 9, 3, 5, 7, 9, 9, 5, 8, 9, 10, 9, 6, 1, 4, 4, 9, 7, 8, 2, 5, 7, 9, 2, 3, 4, 1, 5, 5, 1, 4, 4, 9, 6, 1, 2, 6, 9, 7, 10, 5, 3, 5, 9, 1, 2, 8, 1, 8, 10, 3, 2, 2, 7, 3, 10, 3, 3, 5, 5, 1, 7, 3, 1, 7, 3, 3, 9, 9, 2, 6, 6, 10, 2, 8, 3, 5, 7, 8, 10, 6, 5, 10, 7, 8, 1, 4, 10, 7, 9, 1, 3, 9, 8, 3, 5, 3, 5, 10, 6, 4, 3, 4, 5, 6, 8, 3, 10, 9, 5, 5, 5, 4, 1, 3, 3, 7, 1, 2, 5, 7, 8, 7, 2, 5, 7, 8, 5, 6, 2, 5, 8, 8, 5, 4, 1, 5, 1, 6, 9, 7, 5, 6, 7, 8, 4, 6, 1, 2, 4, 5, 6, 9, 1, 7, 7, 8, 3, 5, 1, 6, 2, 7, 6, 6, 10, 9, 1, 6, 3, 5, 3, 2, 6, 7, 4, 6, 2, 8, 7, 8, 7, 6, 1, 10, 10, 6, 6, 9, 10, 1, 9, 2, 9, 5, 1, 1, 1, 3, 9, 8, 6, 2, 3, 2, 9, 7, 8, 2, 6, 2, 4, 4, 8, 4, 9, 10, 4, 6, 9, 1, 4, 8, 2, 8, 1, 2, 3, 1, 6, 2, 4, 5, 4, 7, 5, 4, 5, 2, 4, 2, 3, 2, 4, 5, 1, 8, 5, 7, 1, 3, 4, 8, 7, 10, 8, 6, 9, 2, 6, 9, 5, 6, 5, 5, 8, 3, 1, 2, 4, 7, 1, 4, 7, 8, 1, 9], \"Freq\": [0.9843613661155513, 0.9699354446564997, 0.9808202860386868, 0.9808128150420891, 0.9877969765220652, 0.9807983991422039, 0.9695761982750571, 0.9833651488160351, 0.6565007386358376, 0.04060829311149511, 0.027072195407663407, 0.015792113987803655, 0.2594418726567743, 0.9889537363924875, 0.9771691149532449, 0.3980625886128452, 0.572214971130965, 0.9693895480680299, 0.9926219182443969, 0.9724644587955129, 0.962322392856283, 0.9878982428079939, 0.9825128404412523, 0.21740986856782393, 0.7751134444591984, 0.9664506973691731, 0.2246468626072485, 0.7488228753574949, 0.9784659008977633, 0.8377430552211462, 0.1439870876161345, 0.9935165660936691, 0.9880220883889838, 0.982898684553577, 0.2937427261906289, 0.6178726309527022, 0.08103247619051833, 0.9761237350508248, 0.9877969670345332, 0.978118485078024, 0.9916991160257603, 0.9808206017448066, 0.42134824673510246, 0.5745657910024125, 0.22533161575456198, 0.2893146671416598, 0.48682756490183143, 0.9778953699769378, 0.973169410185431, 0.9863943324200385, 0.9489679233489042, 0.9974160880793358, 0.1454618206928185, 0.8485272873747746, 0.9797905391758958, 0.9886688454552066, 0.9877969895994549, 0.9780766322443015, 0.9933751407418636, 0.9767761683812155, 0.9969360173797691, 0.9634945487810801, 0.9964807155311376, 0.9756025117416539, 0.9806024429828979, 0.9858173681929838, 0.956996047501127, 0.538144601395833, 0.4537297619611925, 0.9567902290213853, 0.9904394111896793, 0.9760654165298215, 0.9504175502398104, 0.9955085509634449, 0.8279614785896681, 0.1655922957179336, 0.9888060717219781, 0.5522128875536595, 0.04872466654885231, 0.3979181101489605, 0.9892314391511821, 0.9842100159733741, 0.9961470378750269, 0.9980514737309131, 0.8961752142241954, 0.09957502380268839, 0.9827453419046576, 0.222990583477804, 0.7618844935491637, 0.9880563252723931, 0.9800573165378752, 0.13298046776565167, 0.24379752423702808, 0.6205755162397079, 0.9951441031140539, 0.9415269156621493, 0.9866200595045724, 0.9831159909771915, 0.9943292720066709, 0.9912867535461192, 0.9800166087091831, 0.9877969791301034, 0.9870287994547973, 0.9488854863180027, 0.9689286499929691, 0.9840885080486507, 0.3416135040274522, 0.3416135040274522, 0.3095872380248786, 0.777456869756022, 0.1865896487414453, 0.7031908793841587, 0.29074238282229636, 0.9093254241514278, 0.07216868445646253, 0.9877319398074544, 0.6080657408250971, 0.09072726926596687, 0.1988278454126508, 0.009651837155953923, 0.09265763669715767, 0.20127278096439083, 0.7715456603634981, 0.9840453352109932, 0.9661666581199714, 0.9872455353145895, 0.9822099610546299, 0.08006050641488907, 0.024425239245220394, 0.8955921056580811, 0.2366975048898864, 0.7495420988179736, 0.9959401977600498, 0.9903894135078118, 0.987129200184243, 0.9807585787611661, 0.9781036078444331, 0.9737211996169713, 0.9767505476082041, 0.9643307645761413, 0.9415268975177854, 0.8520846666709235, 0.14717826060679587, 0.6647522368972636, 0.3323761184486318, 0.984054534615267, 0.9934717929312427, 0.8676122448252036, 0.12080676826680051, 0.9916621012473209, 0.9934209729785938, 0.47172358737515285, 0.5166496433156436, 0.08211817596830959, 0.2224033932475051, 0.6945829050652852, 0.9550163330986182, 0.9823644903510897, 0.010291832968844387, 0.9880159650090612, 0.9807991465248843, 0.9942999022956, 0.9858564540054612, 0.9877969824945669, 0.9877969757368033, 0.9557900985977371, 0.9923710302181029, 0.9732899118557083, 0.9702679245866753, 0.10386702075742668, 0.8828696764381267, 0.9237806181252477, 0.055151081679119265, 0.40965891056362996, 0.018907334333705998, 0.5672200300111799, 0.9674639034527058, 0.9800166326711227, 0.20456067934148775, 0.6215497564606743, 0.14948665028801028, 0.0236031553086332, 0.995668268340958, 0.9937655012468448, 0.9716772387618392, 0.9883655918917026, 0.9936221694215067, 0.9863305054480864, 0.9877969841715362, 0.9869601392887928, 0.6406844627881667, 0.13535587242003522, 0.14437959724803756, 0.06316607379601644, 0.9808005033291924, 0.9742135383647677, 0.9927040995950214, 0.952424773223286, 0.9831929836385058, 0.9567318939454624, 0.9914578889969085, 0.5985315370641374, 0.3990210247094249, 0.9731353435905239, 0.014282293233458901, 0.10711719925094176, 0.1571052255680479, 0.007141146616729451, 0.507021409787791, 0.11425834586767121, 0.08569375940075341, 0.7516430015776779, 0.19298941932399838, 0.05078668929578905, 0.9896562317381541, 0.991217715993539, 0.9890815761664224, 0.11065353453940295, 0.8852282763152236, 0.9662837765671558, 0.9398625062226658, 0.9032603085609799, 0.07854437465747652, 0.10556626173085973, 0.2744722805002353, 0.6122843180389864, 0.9746387947738809, 0.9954362475830595, 0.990693196056428, 0.96704841067332, 0.9917284193351968, 0.9735526305822043, 0.9840283532485633, 0.9896797536045457, 0.07715642886824108, 0.9188629256126891, 0.9690558781353001, 0.9915796870546504, 0.9894923183765673, 0.9933064113785948, 0.15631060777901265, 0.1275718861694184, 0.1757034036619096, 0.06051486908036514, 0.1757034036619096, 0.10023505341882874, 0.1007023497051636, 0.055608258073849046, 0.04789786934932375, 0.9877969826658134, 0.9872123154190394, 0.9932766953656307, 0.992621916975747, 0.9875936403332948, 0.9833024244620177, 0.9925514924903549, 0.998526408348155, 0.9710965300245679, 0.9965583618580935, 0.8843827361948993, 0.053598953708781774, 0.053598953708781774, 0.9521114853383126, 0.7182560476336882, 0.2802950429790003, 0.14663175939275394, 0.719412069520699, 0.1283027894686597, 0.8098615914781006, 0.07733426337721915, 0.11170504710042767, 0.9826122682404123, 0.9826122638517488, 0.6529776393195538, 0.027786282524236334, 0.250076542718127, 0.05557256504847267, 0.9777322724569144, 0.9898016936760626, 0.006630587070074409, 0.987957473441087, 0.9947360942865577, 0.0052631539380241146, 0.13067632137633467, 0.8493960889461754, 0.9827127412868674, 0.9481921484163085, 0.04625327553250285, 0.986012093451359, 0.08915244357730108, 0.754950479654592, 0.1555425611348657, 0.9826351670166864, 0.9749796430602299, 0.9868333131020761, 0.9747131232457373, 0.9773272622554164, 0.9513712883256462, 0.03843924397275338, 0.9847877148553997, 0.16659331873667121, 0.049977995621001366, 0.7663292661886876, 0.9930421645594877, 0.9682153996516523, 0.9754265321468926, 0.963130573960843, 0.9415269036356808, 0.12120233766906999, 0.8686167532950015, 0.7269598539835415, 0.13660990544657153, 0.13173098025205113, 0.942664384203799, 0.05237024356687773, 0.9802955150532076, 0.9415269213472067, 0.9882786977482173, 0.9800166287487962, 0.9727508180093538, 0.9976110039756584, 0.9524715539083822, 0.9439349694062561, 0.9439350678008902, 0.9856340272158909, 0.9961568285593995, 0.9811238519239467, 0.9834312000905313, 0.9968628712406438, 0.9854275196867072, 0.9751424185827879, 0.9985510811219618, 0.9970292551914128, 0.9826122616750594, 0.9804394734103851, 0.49994945546874786, 0.49102178662109164, 0.9629078091224507, 0.9808039011454223, 0.881075083299145, 0.11388045294342691, 0.5795558600595833, 0.008522880294993871, 0.14488896501489582, 0.2659138652038088, 0.9807829967072188, 0.9809717394859769, 0.24758686353281306, 0.7427605905984391, 0.8956224994418835, 0.0905685673592916, 0.9862286638638119, 0.9417766645890274, 0.04708883322945137, 0.987732433858294, 0.9936049613498641, 0.9818130024968897, 0.9551709267398323, 0.9873564666841127, 0.993773990743852, 0.8791173008347367, 0.09767970009274853, 0.9415268965160143, 0.7730998508515077, 0.22088567167185932, 0.9702909902777312, 0.9783066247737003, 0.08062298331797585, 0.10301825646185803, 0.5374865554531724, 0.20155745829493962, 0.07166487406042298, 0.9787254485707192, 0.9838672324663672, 0.9890658343083791, 0.9879737068553373, 0.9907424111747809, 0.9849972487430202, 0.9749806305637216, 0.9729519526486475, 0.998051475159408, 0.998051474196848, 0.9565381349011732, 0.9802931670227053, 0.31150703880553016, 0.05024307077508551, 0.46726055820829526, 0.1658021335577822, 0.9684238868188506, 0.23611705631079735, 0.0034723096516293727, 0.6944619303258746, 0.06597388338095808, 0.9632785704700204, 0.9814893867072234, 0.9669206321881443, 0.9799468046270926, 0.987593839711234, 0.9731695770609826, 0.9813996376082528, 0.9773238704967998, 0.5189554536986404, 0.47903580341412955, 0.5433285298126802, 0.3186830799862836, 0.13060781966650967, 0.9791203840379762, 0.9789049953549545, 0.9896858197060323, 0.932456274047809, 0.05827851712798806, 0.2563811967499606, 0.7389810965145924, 0.6819973970117806, 0.038897189943637674, 0.15040246778206567, 0.01988078597119259, 0.0682861779010528, 0.03976157194238518, 0.988403400916805, 0.9672355028691718, 0.9807661498512674, 0.9914167421605748, 0.9981824095518449, 0.995154039881446, 0.19831097879490456, 0.7734128173001278, 0.6535861673695254, 0.3414256098199013, 0.9965057211099664, 0.9829039370327849, 0.9548971027216584, 0.982612270577306, 0.7242188393277307, 0.2726470924527927, 0.9977975845576041, 0.973693335655557, 0.998247251212546, 0.5774797682625673, 0.18167902821743692, 0.2400758587158988, 0.9813782369557054, 0.980334358676031, 0.9863292949701843, 0.9641924432277239, 0.9463366667847192, 0.99233073674449, 0.9823265349775141, 0.9866885782754392, 0.978436462839682, 0.9807933868425691, 0.9808779144219978, 0.9724751211455084, 0.9725959277736274, 0.9918630294456405, 0.9807764200708436, 0.9923881917438584, 0.9842454995239711, 0.9709707379393029, 0.9740572374348851, 0.984358025363218, 0.9930626795892368, 0.990411245863327, 0.990178959742222, 0.997001184742766, 0.9787672441561422, 0.9890265735052204, 0.975414506808598, 0.11235678270027244, 0.8844495458713754, 0.9878099713316558, 0.9910925608688939, 0.9629438334446, 0.9921380996009806, 0.995368877568809, 0.9519001524053521, 0.9222519433765789, 0.07430465894503242, 0.9576243088936656, 0.03450898410427624, 0.9890815966319946, 0.9826122648395451, 0.9807266664219432, 0.04699262419246124, 0.8458672354643023, 0.09398524838492248, 0.3471813445410771, 0.6203732222127443, 0.028457487257465334, 0.9696702672816004, 0.9926219134281118, 0.879870560877919, 0.11476572533190248, 0.9415268982988565, 0.980562052287184, 0.988713133721221, 0.9916895293248825, 0.07454331579859397, 0.9243371159025653, 0.9916652331288419, 0.9672201695389673, 0.9799732292007444, 0.10310583276601157, 0.8867101617876995, 0.9880353628423783, 0.9799019543728273, 0.9880084457167293, 0.9837885808828144, 0.9782178764708132, 0.9938770240440187, 0.990505890959337, 0.9861868525753201, 0.9921616681796791, 0.05722210698490265, 0.9384425545524034, 0.9718294689903367, 0.9478988698098245, 0.9918331344483363, 0.994039619542519, 0.9717072961094648, 0.9584641334303408, 0.9926219162972236, 0.08903259275127141, 0.8992291867878413, 0.968520297103173, 0.1554341348642346, 0.8215804271395257, 0.7146633420088605, 0.28052205948011344, 0.9819162623492882, 0.9056643662984264, 0.09210146097950099, 0.9992755864303442, 0.2460847761015311, 0.10633292794510603, 0.40710320984697734, 0.2369705251348077, 0.14140279365080388, 0.29694586666668815, 0.43834866031749203, 0.1201923746031833, 0.9917869166139779, 0.9717570882346172], \"Term\": [\"agents\", \"ahead\", \"aimed\", \"alexandreeruimy\", \"alexstraszha\", \"allinone\", \"amazon\", \"americans\", \"amp\", \"amp\", \"amp\", \"amp\", \"amp\", \"analysis\", \"apac\", \"article\", \"article\", \"ask\", \"association\", \"away\", \"bac\", \"bank\", \"banking\", \"banks\", \"banks\", \"basis\", \"bear\", \"bear\", \"best\", \"better\", \"better\", \"biden\", \"big\", \"black\", \"blackfriday\", \"blackfriday\", \"blackfriday\", \"blog\", \"blows\", \"bonds\", \"border\", \"brighteyevc\", \"btc\", \"btc\", \"business\", \"business\", \"business\", \"buy\", \"californiajobs\", \"called\", \"canadians\", \"cbsnews\", \"cdnpoli\", \"cdnpoli\", \"celebrating\", \"central\", \"chars\", \"chips\", \"christmas\", \"class\", \"cnn\", \"comes\", \"coming\", \"commodity\", \"community\", \"complete\", \"content\", \"continue\", \"continue\", \"continued\", \"control\", \"cool\", \"core\", \"corruption\", \"cost\", \"cost\", \"costoflivingcrisis\", \"costs\", \"costs\", \"costs\", \"course\", \"courses\", \"crisis\", \"cruising\", \"crypto\", \"crypto\", \"cup\", \"current\", \"current\", \"data\", \"day\", \"debt\", \"debt\", \"debt\", \"december\", \"decentralized\", \"delhi\", \"demand\", \"depression\", \"designed\", \"dhs\", \"digitalart\", \"digitaltransformation\", \"distract\", \"dollars\", \"don\", \"dont\", \"dont\", \"dont\", \"drop\", \"drop\", \"economic\", \"economic\", \"economics\", \"economics\", \"economist\", \"economy\", \"economy\", \"economy\", \"economy\", \"economy\", \"edtech\", \"edtech\", \"education\", \"effects\", \"emphasized\", \"employee\", \"employees\", \"employees\", \"employees\", \"employment\", \"employment\", \"end\", \"error\", \"eurozone\", \"eutech\", \"example\", \"expectations\", \"expected\", \"explained\", \"extremely\", \"fed\", \"fed\", \"federalreserve\", \"federalreserve\", \"fifaworldcup\", \"finance\", \"financial\", \"financial\", \"firing\", \"focus\", \"follow\", \"follow\", \"food\", \"food\", \"food\", \"ford\", \"forex\", \"free\", \"free\", \"frenchtech\", \"friday\", \"fund\", \"furry\", \"furryart\", \"futureofwork\", \"gas\", \"gay\", \"georgia\", \"german\", \"german\", \"getting\", \"getting\", \"global\", \"global\", \"global\", \"globaleconomy\", \"gobbling\", \"going\", \"going\", \"going\", \"going\", \"gold\", \"goldira\", \"goods\", \"got\", \"govt\", \"grateful\", \"greenywolf\", \"groceries\", \"growth\", \"growth\", \"growth\", \"growth\", \"guerindavid\", \"gujarat\", \"happy\", \"headwinds\", \"healthcare\", \"hear\", \"heat\", \"help\", \"help\", \"heres\", \"high\", \"high\", \"high\", \"high\", \"high\", \"high\", \"high\", \"higher\", \"higher\", \"higher\", \"highest\", \"hikes\", \"hiphoprampbreggaesoca\", \"hiring\", \"hiring\", \"history\", \"hitting\", \"holiday\", \"holiday\", \"home\", \"home\", \"home\", \"households\", \"housing\", \"housingmarket\", \"ibm\", \"impact\", \"important\", \"including\", \"income\", \"increase\", \"increase\", \"increases\", \"increasing\", \"index\", \"india\", \"inflation\", \"inflation\", \"inflation\", \"inflation\", \"inflation\", \"inflation\", \"inflation\", \"inflation\", \"inflation\", \"inflationfetish\", \"informed\", \"insights\", \"inspire\", \"intc\", \"intel\", \"international\", \"interviewed\", \"invest\", \"investing\", \"investment\", \"investment\", \"investment\", \"issues\", \"job\", \"job\", \"jobs\", \"jobs\", \"jobs\", \"just\", \"just\", \"just\", \"karmayogibharat\", \"karmayogiprarambh\", \"know\", \"know\", \"know\", \"know\", \"large\", \"latest\", \"layoff\", \"layoff\", \"layoffs\", \"layoffs\", \"lead\", \"lead\", \"leaving\", \"level\", \"level\", \"light\", \"like\", \"like\", \"like\", \"likely\", \"line\", \"living\", \"long\", \"look\", \"looking\", \"looking\", \"love\", \"low\", \"low\", \"low\", \"lower\", \"lowest\", \"makes\", \"man\", \"managed\", \"management\", \"management\", \"market\", \"market\", \"market\", \"markets\", \"markets\", \"marshablackburn\", \"massively\", \"matter\", \"mayorkas\", \"minimumwage\", \"minutes\", \"missed\", \"mistake\", \"mkt\", \"monetary\", \"money\", \"months\", \"moodys\", \"morning\", \"mortgage\", \"mpc\", \"msm\", \"msnbc\", \"namoapp\", \"narendramodi\", \"need\", \"need\", \"needs\", \"nets\", \"new\", \"new\", \"news\", \"news\", \"news\", \"news\", \"nicosteeg\", \"night\", \"nov\", \"nov\", \"november\", \"november\", \"number\", \"nyc\", \"nyc\", \"october\", \"officials\", \"oil\", \"old\", \"online\", \"onpoli\", \"opinion\", \"opinion\", \"overtighten\", \"pakistan\", \"pakistan\", \"pandemic\", \"party\", \"people\", \"people\", \"people\", \"people\", \"people\", \"pivot\", \"place\", \"platform\", \"points\", \"policy\", \"politics\", \"post\", \"powell\", \"preached\", \"preaching\", \"prepare\", \"pressures\", \"price\", \"price\", \"price\", \"price\", \"pricehike\", \"prices\", \"prices\", \"prices\", \"prices\", \"problem\", \"public\", \"published\", \"qatar\", \"qcom\", \"qualcomm\", \"raised\", \"randbreloaded\", \"rate\", \"rate\", \"rates\", \"rates\", \"rates\", \"rbi\", \"reach\", \"read\", \"realestate\", \"realestate\", \"really\", \"really\", \"recession\", \"recession\", \"recession\", \"recession\", \"recession\", \"recession\", \"recessions\", \"recorded\", \"region\", \"rents\", \"retailers\", \"retirement\", \"right\", \"right\", \"rise\", \"rise\", \"rising\", \"risk\", \"role\", \"rozgarmela\", \"said\", \"said\", \"sales\", \"savings\", \"say\", \"says\", \"says\", \"says\", \"secret\", \"sector\", \"security\", \"semiconductors\", \"services\", \"shortages\", \"shows\", \"sign\", \"silver\", \"simbel\", \"single\", \"solution\", \"source\", \"special\", \"speedinvest\", \"spx\", \"staff\", \"starting\", \"startup\", \"state\", \"stay\", \"stockmarket\", \"stocks\", \"store\", \"strong\", \"supplychain\", \"support\", \"talking\", \"talking\", \"tax\", \"technology\", \"telangana\", \"tenants\", \"thankful\", \"thanks\", \"thanksgiving\", \"thanksgiving\", \"thelayoff\", \"thelayoff\", \"thrill\", \"throwing\", \"tiboel\", \"times\", \"times\", \"times\", \"today\", \"today\", \"today\", \"tonight\", \"topoli\", \"trade\", \"trade\", \"tradfi\", \"trading\", \"transparency\", \"turkey\", \"ukraine\", \"ukraine\", \"ultimate\", \"unlikely\", \"unveiled\", \"usa\", \"usa\", \"video\", \"vote\", \"wage\", \"waiting\", \"wallets\", \"want\", \"war\", \"watch\", \"way\", \"week\", \"week\", \"weeks\", \"whats\", \"whitecollarjobs\", \"wisdom\", \"wise\", \"won\", \"woodgreen\", \"work\", \"work\", \"workers\", \"working\", \"working\", \"world\", \"world\", \"worldcup\", \"worst\", \"worst\", \"wrong\", \"year\", \"year\", \"year\", \"year\", \"years\", \"years\", \"years\", \"years\", \"yield\", \"youtube\"]}, \"R\": 30, \"lambda.step\": 0.01, \"plot.opts\": {\"xlab\": \"PC1\", \"ylab\": \"PC2\"}, \"topic.order\": [1, 6, 4, 5, 7, 3, 9, 8, 2, 10]};\n",
              "\n",
              "function LDAvis_load_lib(url, callback){\n",
              "  var s = document.createElement('script');\n",
              "  s.src = url;\n",
              "  s.async = true;\n",
              "  s.onreadystatechange = s.onload = callback;\n",
              "  s.onerror = function(){console.warn(\"failed to load library \" + url);};\n",
              "  document.getElementsByTagName(\"head\")[0].appendChild(s);\n",
              "}\n",
              "\n",
              "if(typeof(LDAvis) !== \"undefined\"){\n",
              "   // already loaded: just create the visualization\n",
              "   !function(LDAvis){\n",
              "       new LDAvis(\"#\" + \"ldavis_el761397755879214881407766363\", ldavis_el761397755879214881407766363_data);\n",
              "   }(LDAvis);\n",
              "}else if(typeof define === \"function\" && define.amd){\n",
              "   // require.js is available: use it to load d3/LDAvis\n",
              "   require.config({paths: {d3: \"https://d3js.org/d3.v5\"}});\n",
              "   require([\"d3\"], function(d3){\n",
              "      window.d3 = d3;\n",
              "      LDAvis_load_lib(\"https://cdn.jsdelivr.net/gh/bmabey/pyLDAvis@3.3.1/pyLDAvis/js/ldavis.v3.0.0.js\", function(){\n",
              "        new LDAvis(\"#\" + \"ldavis_el761397755879214881407766363\", ldavis_el761397755879214881407766363_data);\n",
              "      });\n",
              "    });\n",
              "}else{\n",
              "    // require.js not available: dynamically load d3 & LDAvis\n",
              "    LDAvis_load_lib(\"https://d3js.org/d3.v5.js\", function(){\n",
              "         LDAvis_load_lib(\"https://cdn.jsdelivr.net/gh/bmabey/pyLDAvis@3.3.1/pyLDAvis/js/ldavis.v3.0.0.js\", function(){\n",
              "                 new LDAvis(\"#\" + \"ldavis_el761397755879214881407766363\", ldavis_el761397755879214881407766363_data);\n",
              "            })\n",
              "         });\n",
              "}\n",
              "</script>"
            ]
          },
          "metadata": {},
          "execution_count": 87
        }
      ]
    },
    {
      "cell_type": "code",
      "source": [
        "#  top 10 most frequent words from each topic that found by LDA\n",
        "warnings.filterwarnings(\"ignore\", category=DeprecationWarning)\n",
        "for i,topic in enumerate(lda_model.components_):\n",
        "    print('Top 10 words for topic:',i)\n",
        "    print([vectorizer.get_feature_names()[i] for i in topic.argsort()[-10:]])\n",
        "    print('\\n')"
      ],
      "metadata": {
        "colab": {
          "base_uri": "https://localhost:8080/"
        },
        "id": "WV1j_68D4nnr",
        "outputId": "30118313-e72c-4993-f824-310698446fd9"
      },
      "execution_count": 88,
      "outputs": [
        {
          "output_type": "stream",
          "name": "stderr",
          "text": [
            "/usr/local/lib/python3.7/dist-packages/sklearn/utils/deprecation.py:87: FutureWarning: Function get_feature_names is deprecated; get_feature_names is deprecated in 1.0 and will be removed in 1.2. Please use get_feature_names_out instead.\n",
            "  warnings.warn(msg, category=FutureWarning)\n"
          ]
        },
        {
          "output_type": "stream",
          "name": "stdout",
          "text": [
            "Top 10 words for topic: 0\n",
            "['gold', 'rate', 'market', 'markets', 'finance', 'investing', 'fed', 'economy', 'inflation', 'recession']\n",
            "\n",
            "\n",
            "Top 10 words for topic: 1\n",
            "['lower', 'officials', 'called', 'online', 'december', 'light', 'work', 'technology', 'govt', 'employees']\n",
            "\n",
            "\n",
            "Top 10 words for topic: 2\n",
            "['latest', 'high', 'recession', 'love', 'really', 'end', 'rising', 'india', 'read', 'inflation']\n",
            "\n",
            "\n",
            "Top 10 words for topic: 3\n",
            "['morning', 'sales', 'news', 'say', 'minutes', 'just', 'like', 'msm', 'wrong', 'inflation']\n",
            "\n",
            "\n",
            "Top 10 words for topic: 4\n",
            "['today', 'thelayoff', 'friday', 'cost', 'year', 'layoff', 'jobs', 'recession', 'layoffs', 'inflation']\n",
            "\n",
            "\n",
            "Top 10 words for topic: 5\n",
            "['says', 'biden', 'turkey', 'big', 'wage', 'income', 'new', 'thanksgiving', 'amp', 'inflation']\n",
            "\n",
            "\n",
            "Top 10 words for topic: 6\n",
            "['business', 'world', 'central', 'people', 'corruption', 'rate', 'policy', 'war', 'money', 'inflation']\n",
            "\n",
            "\n",
            "Top 10 words for topic: 7\n",
            "['shortages', 'tenants', 'insights', 'cdnpoli', 'news', 'business', 'housing', 'food', 'inflation', 'crisis']\n",
            "\n",
            "\n",
            "Top 10 words for topic: 8\n",
            "['realestate', 'week', 'news', 'november', 'global', 'price', 'economy', 'increase', 'prices', 'inflation']\n",
            "\n",
            "\n",
            "Top 10 words for topic: 9\n",
            "['missed', 'households', 'analysis', 'nov', 'economy', 'don', 'data', 'costoflivingcrisis', 'amp', 'inflation']\n",
            "\n",
            "\n"
          ]
        }
      ]
    },
    {
      "cell_type": "code",
      "source": [
        "len(lda_model.transform(data_matrix).argmax(axis=1))"
      ],
      "metadata": {
        "colab": {
          "base_uri": "https://localhost:8080/"
        },
        "id": "t0AUegju459v",
        "outputId": "2338bd6c-98e2-4064-dd53-7386af69e263"
      },
      "execution_count": 89,
      "outputs": [
        {
          "output_type": "execute_result",
          "data": {
            "text/plain": [
              "array([8, 7, 7, ..., 1, 9, 9])"
            ]
          },
          "metadata": {},
          "execution_count": 89
        }
      ]
    },
    {
      "cell_type": "code",
      "source": [],
      "metadata": {
        "id": "CB2rFEFi5V8H"
      },
      "execution_count": null,
      "outputs": []
    }
  ]
}