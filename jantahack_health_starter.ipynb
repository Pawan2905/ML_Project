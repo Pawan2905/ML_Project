{
  "nbformat": 4,
  "nbformat_minor": 0,
  "metadata": {
    "colab": {
      "name": "jantahack_health_starter.ipynb",
      "provenance": [],
      "collapsed_sections": [],
      "include_colab_link": true
    },
    "kernelspec": {
      "name": "python3",
      "display_name": "Python 3"
    }
  },
  "cells": [
    {
      "cell_type": "markdown",
      "metadata": {
        "id": "view-in-github",
        "colab_type": "text"
      },
      "source": [
        "<a href=\"https://colab.research.google.com/github/Pawan2905/ML_Project/blob/master/jantahack_health_starter.ipynb\" target=\"_parent\"><img src=\"https://colab.research.google.com/assets/colab-badge.svg\" alt=\"Open In Colab\"/></a>"
      ]
    },
    {
      "cell_type": "code",
      "metadata": {
        "id": "1s9784E3wChG",
        "colab_type": "code",
        "colab": {}
      },
      "source": [
        "# from google.colab import files\n",
        "# files.upload()\n",
        "# !unzip Train_2.zip\n",
        "# !cp Train/* ./"
      ],
      "execution_count": null,
      "outputs": []
    },
    {
      "cell_type": "code",
      "metadata": {
        "id": "GaFFIm0FwH47",
        "colab_type": "code",
        "colab": {}
      },
      "source": [
        "import numpy as np\n",
        "import pandas as pd\n",
        "import matplotlib.pyplot as plt\n",
        "%matplotlib inline\n",
        "\n",
        "from sklearn.preprocessing import *\n",
        "from sklearn.model_selection import *\n",
        "from sklearn.metrics import *\n",
        "\n",
        "import gc\n",
        "from tqdm import tqdm, tqdm_notebook\n",
        "\n",
        "from lightgbm import LGBMClassifier"
      ],
      "execution_count": null,
      "outputs": []
    },
    {
      "cell_type": "code",
      "metadata": {
        "id": "2y71lTB8wiC5",
        "colab_type": "code",
        "colab": {}
      },
      "source": [
        "train = pd.read_csv('Train.csv')\n",
        "test = pd.read_csv('test_l0Auv8Q.csv')\n",
        "health_camp = pd.read_csv('Health_Camp_Detail.csv')\n",
        "camp_1 = pd.read_csv('First_Health_Camp_Attended.csv')\n",
        "camp_2 = pd.read_csv('Second_Health_Camp_Attended.csv')\n",
        "camp_3 = pd.read_csv('Third_Health_Camp_Attended.csv')\n",
        "patient_profile = pd.read_csv('Patient_Profile.csv')\n",
        "ss = pd.read_csv('sample_submmission.csv')\n",
        "data_dict = pd.read_excel('Data_Dictionary.xlsx')"
      ],
      "execution_count": null,
      "outputs": []
    },
    {
      "cell_type": "code",
      "metadata": {
        "id": "mDzlcZcCZGKb",
        "colab_type": "code",
        "colab": {}
      },
      "source": [
        "patient_profile[['Income', 'Education_Score', 'Age']] = patient_profile[['Income', 'Education_Score', 'Age']].apply(lambda x: x.str.replace('None', 'NaN').astype('float'))\n",
        "patient_profile[['City_Type',\t'Employer_Category']] = patient_profile[['City_Type',\t'Employer_Category']].apply(lambda x: pd.factorize(x)[0])"
      ],
      "execution_count": null,
      "outputs": []
    },
    {
      "cell_type": "code",
      "metadata": {
        "id": "iWhyKAQXaL7d",
        "colab_type": "code",
        "colab": {}
      },
      "source": [
        "train = pd.merge(train, patient_profile, on = 'Patient_ID', how = 'left')\n",
        "test = pd.merge(test, patient_profile, on = 'Patient_ID', how = 'left')"
      ],
      "execution_count": null,
      "outputs": []
    },
    {
      "cell_type": "code",
      "metadata": {
        "id": "OAdSA5mSFqA_",
        "colab_type": "code",
        "colab": {}
      },
      "source": [
        "#### Getting the target\n",
        "\n",
        "for c in [camp_1, camp_2, camp_3, train]:\n",
        "  c['id'] = c['Patient_ID'].astype('str') + c['Health_Camp_ID'].astype('str')\n",
        "camp_3 = camp_3[camp_3['Number_of_stall_visited'] > 0]\n",
        "\n",
        "all_patients_in_camp = pd.Series(camp_1['id'].tolist() + camp_2['id'].tolist() + camp_3['id'].tolist()).unique()\n",
        "\n",
        "train['target'] = 0\n",
        "train.loc[train['id'].isin(all_patients_in_camp), 'target'] = 1"
      ],
      "execution_count": null,
      "outputs": []
    },
    {
      "cell_type": "code",
      "metadata": {
        "id": "wt5ALHZ_3k4n",
        "colab_type": "code",
        "colab": {}
      },
      "source": [
        "health_camp['Category1'] = health_camp['Category1'].map({'First': 1, 'Second': 2, 'Third': 3})\n",
        "health_camp['Category2'] = pd.factorize(health_camp['Category2'])[0]\n",
        "\n",
        "health_camp['Camp_Start_Date'] = pd.to_datetime(health_camp['Camp_Start_Date'])\n",
        "health_camp['Camp_End_Date'] = pd.to_datetime(health_camp['Camp_End_Date'])\n",
        "health_camp['total_days_of_campaign'] = (health_camp['Camp_End_Date'] - health_camp['Camp_Start_Date']).dt.days"
      ],
      "execution_count": null,
      "outputs": []
    },
    {
      "cell_type": "code",
      "metadata": {
        "id": "Sz60gbXG8czK",
        "colab_type": "code",
        "colab": {}
      },
      "source": [
        "train = pd.merge(train, health_camp, on = 'Health_Camp_ID', how = 'left')\n",
        "test = pd.merge(test, health_camp, on = 'Health_Camp_ID', how = 'left')"
      ],
      "execution_count": null,
      "outputs": []
    },
    {
      "cell_type": "code",
      "metadata": {
        "id": "B3mno8kq8b_8",
        "colab_type": "code",
        "colab": {}
      },
      "source": [
        "D_COL = 'Registration_Date'\n",
        "for df_tmp in [train, test]:\n",
        "  df_tmp[D_COL] = pd.to_datetime(df_tmp[D_COL])\n",
        "test_min_date = test[D_COL].min()"
      ],
      "execution_count": null,
      "outputs": []
    },
    {
      "cell_type": "code",
      "metadata": {
        "id": "8k3owdcTLdxm",
        "colab_type": "code",
        "colab": {}
      },
      "source": [
        "### Getting a train and validation split, similar to test data\n",
        "\n",
        "trn = train[train[D_COL] < test_min_date]\n",
        "val = train[train[D_COL] >= test_min_date]"
      ],
      "execution_count": null,
      "outputs": []
    },
    {
      "cell_type": "code",
      "metadata": {
        "id": "x3GRJgob-UgH",
        "colab_type": "code",
        "colab": {
          "base_uri": "https://localhost:8080/",
          "height": 35
        },
        "outputId": "a763e20d-48e4-4f95-fd25-0c7c27774f15"
      },
      "source": [
        "TARGET_COL = 'target'\n",
        "features = [c for c in trn.columns if c not in ['Patient_ID', 'Health_Camp_ID', 'Registration_Date', TARGET_COL, 'id', 'Camp_Start_Date', 'Camp_End_Date', 'First_Interaction']]\n",
        "len(features)"
      ],
      "execution_count": null,
      "outputs": [
        {
          "output_type": "execute_result",
          "data": {
            "text/plain": [
              "18"
            ]
          },
          "metadata": {
            "tags": []
          },
          "execution_count": 31
        }
      ]
    },
    {
      "cell_type": "code",
      "metadata": {
        "id": "fChX2_US7bfb",
        "colab_type": "code",
        "colab": {
          "base_uri": "https://localhost:8080/",
          "height": 107
        },
        "outputId": "09f84404-90e2-4c55-c087-80f996572e03"
      },
      "source": [
        "clf = LGBMClassifier(n_estimators=550, learning_rate=0.05, random_state=1, colsample_bytree=0.5, reg_alpha=0, reg_lambda=0)\n",
        "\n",
        "clf.fit(trn[features], trn[TARGET_COL], eval_set=[(val[features], val[TARGET_COL])], verbose=50,\n",
        "        eval_metric = 'auc', early_stopping_rounds = 100)\n",
        "\n",
        "preds = clf.predict_proba(test[features])[:, 1]"
      ],
      "execution_count": null,
      "outputs": [
        {
          "output_type": "stream",
          "text": [
            "Training until validation scores don't improve for 100 rounds.\n",
            "[50]\tvalid_0's auc: 0.818497\tvalid_0's binary_logloss: 0.510632\n",
            "[100]\tvalid_0's auc: 0.817272\tvalid_0's binary_logloss: 0.501475\n",
            "Early stopping, best iteration is:\n",
            "[32]\tvalid_0's auc: 0.821604\tvalid_0's binary_logloss: 0.521477\n"
          ],
          "name": "stdout"
        }
      ]
    },
    {
      "cell_type": "code",
      "metadata": {
        "id": "X6Zbhi3iADsO",
        "colab_type": "code",
        "colab": {
          "base_uri": "https://localhost:8080/",
          "height": 283
        },
        "outputId": "4ba9a049-f49f-4c42-86a4-46d0974c5278"
      },
      "source": [
        "fi = pd.Series(index = features, data = clf.feature_importances_)\n",
        "fi.sort_values(ascending=False)[-20:][::-1].plot(kind = 'barh')"
      ],
      "execution_count": null,
      "outputs": [
        {
          "output_type": "execute_result",
          "data": {
            "text/plain": [
              "<matplotlib.axes._subplots.AxesSubplot at 0x7fa665ae9588>"
            ]
          },
          "metadata": {
            "tags": []
          },
          "execution_count": 33
        },
        {
          "output_type": "display_data",
          "data": {
            "image/png": "[encoded data removed]",
            "text/plain": [
              "<Figure size 432x288 with 1 Axes>"
            ]
          },
          "metadata": {
            "tags": [],
            "needs_background": "light"
          }
        }
      ]
    },
    {
      "cell_type": "code",
      "metadata": {
        "id": "XWj9TzRK_xXG",
        "colab_type": "code",
        "colab": {
          "base_uri": "https://localhost:8080/",
          "height": 17
        },
        "outputId": "f86c14aa-b643-4b2c-e8b5-c6d3cc9cb5b5"
      },
      "source": [
        "ss['Outcome'] = preds\n",
        "SUB_FILE_NAME = 'submission_jantahack_healthcare.csv'\n",
        "ss.to_csv(SUB_FILE_NAME, index=False)\n",
        "files.download(SUB_FILE_NAME)"
      ],
      "execution_count": null,
      "outputs": [
        {
          "output_type": "display_data",
          "data": {
            "application/javascript": [
              "\n",
              "    async function download(id, filename, size) {\n",
              "      if (!google.colab.kernel.accessAllowed) {\n",
              "        return;\n",
              "      }\n",
              "      const div = document.createElement('div');\n",
              "      const label = document.createElement('label');\n",
              "      label.textContent = `Downloading \"${filename}\": `;\n",
              "      div.appendChild(label);\n",
              "      const progress = document.createElement('progress');\n",
              "      progress.max = size;\n",
              "      div.appendChild(progress);\n",
              "      document.body.appendChild(div);\n",
              "\n",
              "      const buffers = [];\n",
              "      let downloaded = 0;\n",
              "\n",
              "      const channel = await google.colab.kernel.comms.open(id);\n",
              "      // Send a message to notify the kernel that we're ready.\n",
              "      channel.send({})\n",
              "\n",
              "      for await (const message of channel.messages) {\n",
              "        // Send a message to notify the kernel that we're ready.\n",
              "        channel.send({})\n",
              "        if (message.buffers) {\n",
              "          for (const buffer of message.buffers) {\n",
              "            buffers.push(buffer);\n",
              "            downloaded += buffer.byteLength;\n",
              "            progress.value = downloaded;\n",
              "          }\n",
              "        }\n",
              "      }\n",
              "      const blob = new Blob(buffers, {type: 'application/binary'});\n",
              "      const a = document.createElement('a');\n",
              "      a.href = window.URL.createObjectURL(blob);\n",
              "      a.download = filename;\n",
              "      div.appendChild(a);\n",
              "      a.click();\n",
              "      div.remove();\n",
              "    }\n",
              "  "
            ],
            "text/plain": [
              "<IPython.core.display.Javascript object>"
            ]
          },
          "metadata": {
            "tags": []
          }
        },
        {
          "output_type": "display_data",
          "data": {
            "application/javascript": [
              "download(\"download_50180d18-19e3-4e9a-be9e-24baab0475a9\", \"submission_jantahack_healthcare.csv\", 1107543)"
            ],
            "text/plain": [
              "<IPython.core.display.Javascript object>"
            ]
          },
          "metadata": {
            "tags": []
          }
        }
      ]
    }
  ]
}