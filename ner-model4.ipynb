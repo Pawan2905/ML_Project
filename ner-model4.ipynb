{
 "cells": [
  {
   "cell_type": "markdown",
   "id": "a4f5a08a",
   "metadata": {
    "papermill": {
     "duration": 0.017915,
     "end_time": "2024-11-04T16:16:03.928205",
     "exception": false,
     "start_time": "2024-11-04T16:16:03.910290",
     "status": "completed"
    },
    "tags": []
   },
   "source": [
    "## Imported Required Libraries"
   ]
  },
  {
   "cell_type": "code",
   "execution_count": 1,
   "id": "ea54839f",
   "metadata": {
    "execution": {
     "iopub.execute_input": "2024-11-04T16:16:03.961907Z",
     "iopub.status.busy": "2024-11-04T16:16:03.960853Z",
     "iopub.status.idle": "2024-11-04T16:16:19.387277Z",
     "shell.execute_reply": "2024-11-04T16:16:19.386041Z"
    },
    "papermill": {
     "duration": 15.446044,
     "end_time": "2024-11-04T16:16:19.389862",
     "exception": false,
     "start_time": "2024-11-04T16:16:03.943818",
     "status": "completed"
    },
    "tags": []
   },
   "outputs": [
    {
     "name": "stdout",
     "output_type": "stream",
     "text": [
      "Collecting sklearn_crfsuite\r\n",
      "  Downloading sklearn_crfsuite-0.5.0-py2.py3-none-any.whl.metadata (4.9 kB)\r\n",
      "Collecting python-crfsuite>=0.9.7 (from sklearn_crfsuite)\r\n",
      "  Downloading python_crfsuite-0.9.11-cp310-cp310-manylinux_2_17_x86_64.manylinux2014_x86_64.whl.metadata (4.3 kB)\r\n",
      "Requirement already satisfied: scikit-learn>=0.24.0 in /opt/conda/lib/python3.10/site-packages (from sklearn_crfsuite) (1.2.2)\r\n",
      "Requirement already satisfied: tabulate>=0.4.2 in /opt/conda/lib/python3.10/site-packages (from sklearn_crfsuite) (0.9.0)\r\n",
      "Requirement already satisfied: tqdm>=2.0 in /opt/conda/lib/python3.10/site-packages (from sklearn_crfsuite) (4.66.4)\r\n",
      "Requirement already satisfied: numpy>=1.17.3 in /opt/conda/lib/python3.10/site-packages (from scikit-learn>=0.24.0->sklearn_crfsuite) (1.26.4)\r\n",
      "Requirement already satisfied: scipy>=1.3.2 in /opt/conda/lib/python3.10/site-packages (from scikit-learn>=0.24.0->sklearn_crfsuite) (1.14.1)\r\n",
      "Requirement already satisfied: joblib>=1.1.1 in /opt/conda/lib/python3.10/site-packages (from scikit-learn>=0.24.0->sklearn_crfsuite) (1.4.2)\r\n",
      "Requirement already satisfied: threadpoolctl>=2.0.0 in /opt/conda/lib/python3.10/site-packages (from scikit-learn>=0.24.0->sklearn_crfsuite) (3.5.0)\r\n",
      "Downloading sklearn_crfsuite-0.5.0-py2.py3-none-any.whl (10 kB)\r\n",
      "Downloading python_crfsuite-0.9.11-cp310-cp310-manylinux_2_17_x86_64.manylinux2014_x86_64.whl (1.2 MB)\r\n",
      "\u001b[2K   \u001b[90m━━━━━━━━━━━━━━━━━━━━━━━━━━━━━━━━━━━━━━━━\u001b[0m \u001b[32m1.2/1.2 MB\u001b[0m \u001b[31m13.2 MB/s\u001b[0m eta \u001b[36m0:00:00\u001b[0m\r\n",
      "\u001b[?25hInstalling collected packages: python-crfsuite, sklearn_crfsuite\r\n",
      "Successfully installed python-crfsuite-0.9.11 sklearn_crfsuite-0.5.0\r\n"
     ]
    }
   ],
   "source": [
    "!pip install sklearn_crfsuite"
   ]
  },
  {
   "cell_type": "code",
   "execution_count": 2,
   "id": "696b3ccc",
   "metadata": {
    "execution": {
     "iopub.execute_input": "2024-11-04T16:16:19.424722Z",
     "iopub.status.busy": "2024-11-04T16:16:19.424346Z",
     "iopub.status.idle": "2024-11-04T16:16:43.940515Z",
     "shell.execute_reply": "2024-11-04T16:16:43.939413Z"
    },
    "papermill": {
     "duration": 24.537101,
     "end_time": "2024-11-04T16:16:43.943054",
     "exception": false,
     "start_time": "2024-11-04T16:16:19.405953",
     "status": "completed"
    },
    "tags": []
   },
   "outputs": [
    {
     "name": "stderr",
     "output_type": "stream",
     "text": [
      "/tmp/ipykernel_24/925594248.py:15: FutureWarning: DataFrame.fillna with 'method' is deprecated and will raise in a future version. Use obj.ffill() or obj.bfill() instead.\n",
      "  data = pd.read_csv(data_path, encoding='latin1').fillna(method=\"ffill\")\n"
     ]
    }
   ],
   "source": [
    "import pandas as pd\n",
    "from sklearn_crfsuite import CRF, metrics\n",
    "import sklearn_crfsuite\n",
    "from sklearn.model_selection import train_test_split\n",
    "\n",
    "from tensorflow.keras.layers import Embedding, Bidirectional, LSTM, Dense, TimeDistributed, Dropout\n",
    "from tensorflow.keras.models import Sequential\n",
    "from tensorflow.keras.preprocessing.sequence import pad_sequences\n",
    "from tensorflow.keras.utils import to_categorical\n",
    "from sklearn.metrics import classification_report\n",
    "\n",
    "\n",
    "# Load the dataset\n",
    "data_path = '/kaggle/input/ner-dataset1/ner_dataset.csv'\n",
    "data = pd.read_csv(data_path, encoding='latin1').fillna(method=\"ffill\")\n"
   ]
  },
  {
   "cell_type": "code",
   "execution_count": 3,
   "id": "0ac0d09b",
   "metadata": {
    "execution": {
     "iopub.execute_input": "2024-11-04T16:16:43.978787Z",
     "iopub.status.busy": "2024-11-04T16:16:43.978110Z",
     "iopub.status.idle": "2024-11-04T16:16:44.001746Z",
     "shell.execute_reply": "2024-11-04T16:16:44.000676Z"
    },
    "papermill": {
     "duration": 0.043834,
     "end_time": "2024-11-04T16:16:44.003748",
     "exception": false,
     "start_time": "2024-11-04T16:16:43.959914",
     "status": "completed"
    },
    "tags": []
   },
   "outputs": [
    {
     "data": {
      "text/html": [
       "<div>\n",
       "<style scoped>\n",
       "    .dataframe tbody tr th:only-of-type {\n",
       "        vertical-align: middle;\n",
       "    }\n",
       "\n",
       "    .dataframe tbody tr th {\n",
       "        vertical-align: top;\n",
       "    }\n",
       "\n",
       "    .dataframe thead th {\n",
       "        text-align: right;\n",
       "    }\n",
       "</style>\n",
       "<table border=\"1\" class=\"dataframe\">\n",
       "  <thead>\n",
       "    <tr style=\"text-align: right;\">\n",
       "      <th></th>\n",
       "      <th>Sentence #</th>\n",
       "      <th>Word</th>\n",
       "      <th>POS</th>\n",
       "      <th>Tag</th>\n",
       "    </tr>\n",
       "  </thead>\n",
       "  <tbody>\n",
       "    <tr>\n",
       "      <th>0</th>\n",
       "      <td>Sentence: 1</td>\n",
       "      <td>Thousands</td>\n",
       "      <td>NNS</td>\n",
       "      <td>O</td>\n",
       "    </tr>\n",
       "    <tr>\n",
       "      <th>1</th>\n",
       "      <td>Sentence: 1</td>\n",
       "      <td>of</td>\n",
       "      <td>IN</td>\n",
       "      <td>O</td>\n",
       "    </tr>\n",
       "    <tr>\n",
       "      <th>2</th>\n",
       "      <td>Sentence: 1</td>\n",
       "      <td>demonstrators</td>\n",
       "      <td>NNS</td>\n",
       "      <td>O</td>\n",
       "    </tr>\n",
       "    <tr>\n",
       "      <th>3</th>\n",
       "      <td>Sentence: 1</td>\n",
       "      <td>have</td>\n",
       "      <td>VBP</td>\n",
       "      <td>O</td>\n",
       "    </tr>\n",
       "    <tr>\n",
       "      <th>4</th>\n",
       "      <td>Sentence: 1</td>\n",
       "      <td>marched</td>\n",
       "      <td>VBN</td>\n",
       "      <td>O</td>\n",
       "    </tr>\n",
       "  </tbody>\n",
       "</table>\n",
       "</div>"
      ],
      "text/plain": [
       "    Sentence #           Word  POS Tag\n",
       "0  Sentence: 1      Thousands  NNS   O\n",
       "1  Sentence: 1             of   IN   O\n",
       "2  Sentence: 1  demonstrators  NNS   O\n",
       "3  Sentence: 1           have  VBP   O\n",
       "4  Sentence: 1        marched  VBN   O"
      ]
     },
     "execution_count": 3,
     "metadata": {},
     "output_type": "execute_result"
    }
   ],
   "source": [
    "data.head()"
   ]
  },
  {
   "cell_type": "code",
   "execution_count": 4,
   "id": "adeec31a",
   "metadata": {
    "_cell_guid": "b1076dfc-b9ad-4769-8c92-a6c4dae69d19",
    "_uuid": "8f2839f25d086af736a60e9eeb907d3b93b6e0e5",
    "execution": {
     "iopub.execute_input": "2024-11-04T16:16:44.037914Z",
     "iopub.status.busy": "2024-11-04T16:16:44.037369Z",
     "iopub.status.idle": "2024-11-04T16:18:39.827065Z",
     "shell.execute_reply": "2024-11-04T16:18:39.825957Z"
    },
    "papermill": {
     "duration": 115.809746,
     "end_time": "2024-11-04T16:18:39.829762",
     "exception": false,
     "start_time": "2024-11-04T16:16:44.020016",
     "status": "completed"
    },
    "tags": []
   },
   "outputs": [],
   "source": [
    "# Feature extraction function\n",
    "def extract_features(sentence):\n",
    "    return [\n",
    "        {\n",
    "            'word': word,\n",
    "            'is_title': word.istitle(),\n",
    "            'is_upper': word.isupper(),\n",
    "            'is_digit': word.isdigit()\n",
    "        }\n",
    "        for word in sentence\n",
    "    ]\n",
    "\n",
    "# Prepare data for CRF\n",
    "sentences = [[row['Word'] for _, row in group.iterrows()] for _, group in data.groupby('Sentence #')]\n",
    "tags = [[row['Tag'] for _, row in group.iterrows()] for _, group in data.groupby('Sentence #')]"
   ]
  },
  {
   "cell_type": "code",
   "execution_count": 5,
   "id": "2110d249",
   "metadata": {
    "execution": {
     "iopub.execute_input": "2024-11-04T16:18:39.864059Z",
     "iopub.status.busy": "2024-11-04T16:18:39.863186Z",
     "iopub.status.idle": "2024-11-04T16:18:39.868841Z",
     "shell.execute_reply": "2024-11-04T16:18:39.867833Z"
    },
    "papermill": {
     "duration": 0.024508,
     "end_time": "2024-11-04T16:18:39.870860",
     "exception": false,
     "start_time": "2024-11-04T16:18:39.846352",
     "status": "completed"
    },
    "tags": []
   },
   "outputs": [
    {
     "name": "stdout",
     "output_type": "stream",
     "text": [
      "['Thousands', 'of', 'demonstrators', 'have', 'marched', 'through', 'London', 'to', 'protest', 'the', 'war', 'in', 'Iraq', 'and', 'demand', 'the', 'withdrawal', 'of', 'British', 'troops', 'from', 'that', 'country', '.']\n"
     ]
    }
   ],
   "source": [
    "print(sentences[0])"
   ]
  },
  {
   "cell_type": "code",
   "execution_count": 6,
   "id": "8e629e2d",
   "metadata": {
    "execution": {
     "iopub.execute_input": "2024-11-04T16:18:39.904501Z",
     "iopub.status.busy": "2024-11-04T16:18:39.903832Z",
     "iopub.status.idle": "2024-11-04T16:18:39.908667Z",
     "shell.execute_reply": "2024-11-04T16:18:39.907807Z"
    },
    "papermill": {
     "duration": 0.023981,
     "end_time": "2024-11-04T16:18:39.910950",
     "exception": false,
     "start_time": "2024-11-04T16:18:39.886969",
     "status": "completed"
    },
    "tags": []
   },
   "outputs": [
    {
     "name": "stdout",
     "output_type": "stream",
     "text": [
      "['O', 'O', 'O', 'O', 'O', 'O', 'B-geo', 'O', 'O', 'O', 'O', 'O', 'B-geo', 'O', 'O', 'O', 'O', 'O', 'B-gpe', 'O', 'O', 'O', 'O', 'O']\n"
     ]
    }
   ],
   "source": [
    "print(tags[0])"
   ]
  },
  {
   "cell_type": "code",
   "execution_count": 7,
   "id": "0bb7569e",
   "metadata": {
    "execution": {
     "iopub.execute_input": "2024-11-04T16:18:39.946688Z",
     "iopub.status.busy": "2024-11-04T16:18:39.946324Z",
     "iopub.status.idle": "2024-11-04T16:18:40.653740Z",
     "shell.execute_reply": "2024-11-04T16:18:40.652939Z"
    },
    "papermill": {
     "duration": 0.726862,
     "end_time": "2024-11-04T16:18:40.656149",
     "exception": false,
     "start_time": "2024-11-04T16:18:39.929287",
     "status": "completed"
    },
    "tags": []
   },
   "outputs": [],
   "source": [
    "X = [extract_features(sentence) for sentence in sentences]\n",
    "y = tags\n",
    "\n",
    "# Train-Test Split\n",
    "X_train, X_test, y_train, y_test = train_test_split(X, y, test_size=0.2, random_state=42)"
   ]
  },
  {
   "cell_type": "code",
   "execution_count": 8,
   "id": "1f3a5ad6",
   "metadata": {
    "execution": {
     "iopub.execute_input": "2024-11-04T16:18:40.690680Z",
     "iopub.status.busy": "2024-11-04T16:18:40.690007Z",
     "iopub.status.idle": "2024-11-04T16:20:46.969314Z",
     "shell.execute_reply": "2024-11-04T16:20:46.968383Z"
    },
    "papermill": {
     "duration": 126.314541,
     "end_time": "2024-11-04T16:20:46.987630",
     "exception": false,
     "start_time": "2024-11-04T16:18:40.673089",
     "status": "completed"
    },
    "tags": []
   },
   "outputs": [
    {
     "data": {
      "text/html": [
       "<style>#sk-container-id-1 {color: black;background-color: white;}#sk-container-id-1 pre{padding: 0;}#sk-container-id-1 div.sk-toggleable {background-color: white;}#sk-container-id-1 label.sk-toggleable__label {cursor: pointer;display: block;width: 100%;margin-bottom: 0;padding: 0.3em;box-sizing: border-box;text-align: center;}#sk-container-id-1 label.sk-toggleable__label-arrow:before {content: \"▸\";float: left;margin-right: 0.25em;color: #696969;}#sk-container-id-1 label.sk-toggleable__label-arrow:hover:before {color: black;}#sk-container-id-1 div.sk-estimator:hover label.sk-toggleable__label-arrow:before {color: black;}#sk-container-id-1 div.sk-toggleable__content {max-height: 0;max-width: 0;overflow: hidden;text-align: left;background-color: #f0f8ff;}#sk-container-id-1 div.sk-toggleable__content pre {margin: 0.2em;color: black;border-radius: 0.25em;background-color: #f0f8ff;}#sk-container-id-1 input.sk-toggleable__control:checked~div.sk-toggleable__content {max-height: 200px;max-width: 100%;overflow: auto;}#sk-container-id-1 input.sk-toggleable__control:checked~label.sk-toggleable__label-arrow:before {content: \"▾\";}#sk-container-id-1 div.sk-estimator input.sk-toggleable__control:checked~label.sk-toggleable__label {background-color: #d4ebff;}#sk-container-id-1 div.sk-label input.sk-toggleable__control:checked~label.sk-toggleable__label {background-color: #d4ebff;}#sk-container-id-1 input.sk-hidden--visually {border: 0;clip: rect(1px 1px 1px 1px);clip: rect(1px, 1px, 1px, 1px);height: 1px;margin: -1px;overflow: hidden;padding: 0;position: absolute;width: 1px;}#sk-container-id-1 div.sk-estimator {font-family: monospace;background-color: #f0f8ff;border: 1px dotted black;border-radius: 0.25em;box-sizing: border-box;margin-bottom: 0.5em;}#sk-container-id-1 div.sk-estimator:hover {background-color: #d4ebff;}#sk-container-id-1 div.sk-parallel-item::after {content: \"\";width: 100%;border-bottom: 1px solid gray;flex-grow: 1;}#sk-container-id-1 div.sk-label:hover label.sk-toggleable__label {background-color: #d4ebff;}#sk-container-id-1 div.sk-serial::before {content: \"\";position: absolute;border-left: 1px solid gray;box-sizing: border-box;top: 0;bottom: 0;left: 50%;z-index: 0;}#sk-container-id-1 div.sk-serial {display: flex;flex-direction: column;align-items: center;background-color: white;padding-right: 0.2em;padding-left: 0.2em;position: relative;}#sk-container-id-1 div.sk-item {position: relative;z-index: 1;}#sk-container-id-1 div.sk-parallel {display: flex;align-items: stretch;justify-content: center;background-color: white;position: relative;}#sk-container-id-1 div.sk-item::before, #sk-container-id-1 div.sk-parallel-item::before {content: \"\";position: absolute;border-left: 1px solid gray;box-sizing: border-box;top: 0;bottom: 0;left: 50%;z-index: -1;}#sk-container-id-1 div.sk-parallel-item {display: flex;flex-direction: column;z-index: 1;position: relative;background-color: white;}#sk-container-id-1 div.sk-parallel-item:first-child::after {align-self: flex-end;width: 50%;}#sk-container-id-1 div.sk-parallel-item:last-child::after {align-self: flex-start;width: 50%;}#sk-container-id-1 div.sk-parallel-item:only-child::after {width: 0;}#sk-container-id-1 div.sk-dashed-wrapped {border: 1px dashed gray;margin: 0 0.4em 0.5em 0.4em;box-sizing: border-box;padding-bottom: 0.4em;background-color: white;}#sk-container-id-1 div.sk-label label {font-family: monospace;font-weight: bold;display: inline-block;line-height: 1.2em;}#sk-container-id-1 div.sk-label-container {text-align: center;}#sk-container-id-1 div.sk-container {/* jupyter's `normalize.less` sets `[hidden] { display: none; }` but bootstrap.min.css set `[hidden] { display: none !important; }` so we also need the `!important` here to be able to override the default hidden behavior on the sphinx rendered scikit-learn.org. See: https://github.com/scikit-learn/scikit-learn/issues/21755 */display: inline-block !important;position: relative;}#sk-container-id-1 div.sk-text-repr-fallback {display: none;}</style><div id=\"sk-container-id-1\" class=\"sk-top-container\"><div class=\"sk-text-repr-fallback\"><pre>CRF(algorithm=&#x27;lbfgs&#x27;, max_iterations=100)</pre><b>In a Jupyter environment, please rerun this cell to show the HTML representation or trust the notebook. <br />On GitHub, the HTML representation is unable to render, please try loading this page with nbviewer.org.</b></div><div class=\"sk-container\" hidden><div class=\"sk-item\"><div class=\"sk-estimator sk-toggleable\"><input class=\"sk-toggleable__control sk-hidden--visually\" id=\"sk-estimator-id-1\" type=\"checkbox\" checked><label for=\"sk-estimator-id-1\" class=\"sk-toggleable__label sk-toggleable__label-arrow\">CRF</label><div class=\"sk-toggleable__content\"><pre>CRF(algorithm=&#x27;lbfgs&#x27;, max_iterations=100)</pre></div></div></div></div></div>"
      ],
      "text/plain": [
       "CRF(algorithm='lbfgs', max_iterations=100)"
      ]
     },
     "execution_count": 8,
     "metadata": {},
     "output_type": "execute_result"
    }
   ],
   "source": [
    "# CRF Model\n",
    "crf = CRF(algorithm='lbfgs', max_iterations=100)\n",
    "crf.fit(X_train, y_train)"
   ]
  },
  {
   "cell_type": "code",
   "execution_count": 9,
   "id": "ff85e390",
   "metadata": {
    "execution": {
     "iopub.execute_input": "2024-11-04T16:20:47.021168Z",
     "iopub.status.busy": "2024-11-04T16:20:47.020562Z",
     "iopub.status.idle": "2024-11-04T16:20:50.459054Z",
     "shell.execute_reply": "2024-11-04T16:20:50.457888Z"
    },
    "papermill": {
     "duration": 3.457938,
     "end_time": "2024-11-04T16:20:50.461692",
     "exception": false,
     "start_time": "2024-11-04T16:20:47.003754",
     "status": "completed"
    },
    "tags": []
   },
   "outputs": [
    {
     "name": "stdout",
     "output_type": "stream",
     "text": [
      "CRF Model Evaluation Report:\n"
     ]
    },
    {
     "name": "stderr",
     "output_type": "stream",
     "text": [
      "/opt/conda/lib/python3.10/site-packages/sklearn/metrics/_classification.py:1344: UndefinedMetricWarning: Precision and F-score are ill-defined and being set to 0.0 in labels with no predicted samples. Use `zero_division` parameter to control this behavior.\n",
      "  _warn_prf(average, modifier, msg_start, len(result))\n",
      "/opt/conda/lib/python3.10/site-packages/sklearn/metrics/_classification.py:1344: UndefinedMetricWarning: Precision and F-score are ill-defined and being set to 0.0 in labels with no predicted samples. Use `zero_division` parameter to control this behavior.\n",
      "  _warn_prf(average, modifier, msg_start, len(result))\n"
     ]
    },
    {
     "name": "stdout",
     "output_type": "stream",
     "text": [
      "              precision    recall  f1-score   support\n",
      "\n",
      "       B-art       0.00      0.00      0.00        94\n",
      "       B-eve       0.37      0.16      0.22        70\n",
      "       B-geo       0.77      0.90      0.83      7558\n",
      "       B-gpe       0.98      0.86      0.91      3142\n",
      "       B-nat       0.00      0.00      0.00        40\n",
      "       B-org       0.79      0.64      0.71      4151\n",
      "       B-per       0.79      0.68      0.73      3400\n",
      "       B-tim       0.92      0.74      0.82      4077\n",
      "       I-art       0.00      0.00      0.00        84\n",
      "       I-eve       0.34      0.31      0.33        65\n",
      "       I-geo       0.82      0.69      0.75      1462\n",
      "       I-gpe       0.94      0.45      0.61        33\n",
      "       I-nat       0.00      0.00      0.00        13\n",
      "       I-org       0.70      0.77      0.74      3394\n",
      "       I-per       0.75      0.87      0.81      3406\n",
      "       I-tim       0.75      0.64      0.69      1251\n",
      "           O       0.98      0.99      0.99    177590\n",
      "\n",
      "    accuracy                           0.96    209830\n",
      "   macro avg       0.58      0.51      0.54    209830\n",
      "weighted avg       0.96      0.96      0.96    209830\n",
      "\n"
     ]
    },
    {
     "name": "stderr",
     "output_type": "stream",
     "text": [
      "/opt/conda/lib/python3.10/site-packages/sklearn/metrics/_classification.py:1344: UndefinedMetricWarning: Precision and F-score are ill-defined and being set to 0.0 in labels with no predicted samples. Use `zero_division` parameter to control this behavior.\n",
      "  _warn_prf(average, modifier, msg_start, len(result))\n"
     ]
    }
   ],
   "source": [
    "# Prediction and Evaluation\n",
    "y_pred = crf.predict(X_test)\n",
    "print(\"CRF Model Evaluation Report:\")\n",
    "print(metrics.flat_classification_report(y_test, y_pred))"
   ]
  },
  {
   "cell_type": "code",
   "execution_count": 10,
   "id": "85fcdd19",
   "metadata": {
    "execution": {
     "iopub.execute_input": "2024-11-04T16:20:50.497856Z",
     "iopub.status.busy": "2024-11-04T16:20:50.497509Z",
     "iopub.status.idle": "2024-11-04T16:20:51.053013Z",
     "shell.execute_reply": "2024-11-04T16:20:51.052166Z"
    },
    "papermill": {
     "duration": 0.576208,
     "end_time": "2024-11-04T16:20:51.055450",
     "exception": false,
     "start_time": "2024-11-04T16:20:50.479242",
     "status": "completed"
    },
    "tags": []
   },
   "outputs": [],
   "source": [
    "import numpy as np\n",
    "import pandas as pd\n",
    "import matplotlib.pyplot as plt\n",
    "import seaborn as sns\n",
    "import tensorflow as tf"
   ]
  },
  {
   "cell_type": "code",
   "execution_count": 11,
   "id": "2c016d10",
   "metadata": {
    "execution": {
     "iopub.execute_input": "2024-11-04T16:20:51.091064Z",
     "iopub.status.busy": "2024-11-04T16:20:51.090050Z",
     "iopub.status.idle": "2024-11-04T16:20:52.534848Z",
     "shell.execute_reply": "2024-11-04T16:20:52.533909Z"
    },
    "papermill": {
     "duration": 1.464729,
     "end_time": "2024-11-04T16:20:52.537127",
     "exception": false,
     "start_time": "2024-11-04T16:20:51.072398",
     "status": "completed"
    },
    "tags": []
   },
   "outputs": [
    {
     "name": "stderr",
     "output_type": "stream",
     "text": [
      "/tmp/ipykernel_24/1942628254.py:5: FutureWarning: DataFrame.fillna with 'method' is deprecated and will raise in a future version. Use obj.ffill() or obj.bfill() instead.\n",
      "  data.fillna(method = 'ffill', inplace = True)\n"
     ]
    },
    {
     "data": {
      "text/html": [
       "<div>\n",
       "<style scoped>\n",
       "    .dataframe tbody tr th:only-of-type {\n",
       "        vertical-align: middle;\n",
       "    }\n",
       "\n",
       "    .dataframe tbody tr th {\n",
       "        vertical-align: top;\n",
       "    }\n",
       "\n",
       "    .dataframe thead th {\n",
       "        text-align: right;\n",
       "    }\n",
       "</style>\n",
       "<table border=\"1\" class=\"dataframe\">\n",
       "  <thead>\n",
       "    <tr style=\"text-align: right;\">\n",
       "      <th></th>\n",
       "      <th>Sentence #</th>\n",
       "      <th>Word</th>\n",
       "      <th>POS</th>\n",
       "      <th>Tag</th>\n",
       "    </tr>\n",
       "  </thead>\n",
       "  <tbody>\n",
       "    <tr>\n",
       "      <th>0</th>\n",
       "      <td>Sentence: 1</td>\n",
       "      <td>Thousands</td>\n",
       "      <td>NNS</td>\n",
       "      <td>O</td>\n",
       "    </tr>\n",
       "    <tr>\n",
       "      <th>1</th>\n",
       "      <td>Sentence: 1</td>\n",
       "      <td>of</td>\n",
       "      <td>IN</td>\n",
       "      <td>O</td>\n",
       "    </tr>\n",
       "    <tr>\n",
       "      <th>2</th>\n",
       "      <td>Sentence: 1</td>\n",
       "      <td>demonstrators</td>\n",
       "      <td>NNS</td>\n",
       "      <td>O</td>\n",
       "    </tr>\n",
       "    <tr>\n",
       "      <th>3</th>\n",
       "      <td>Sentence: 1</td>\n",
       "      <td>have</td>\n",
       "      <td>VBP</td>\n",
       "      <td>O</td>\n",
       "    </tr>\n",
       "    <tr>\n",
       "      <th>4</th>\n",
       "      <td>Sentence: 1</td>\n",
       "      <td>marched</td>\n",
       "      <td>VBN</td>\n",
       "      <td>O</td>\n",
       "    </tr>\n",
       "  </tbody>\n",
       "</table>\n",
       "</div>"
      ],
      "text/plain": [
       "    Sentence #           Word  POS Tag\n",
       "0  Sentence: 1      Thousands  NNS   O\n",
       "1  Sentence: 1             of   IN   O\n",
       "2  Sentence: 1  demonstrators  NNS   O\n",
       "3  Sentence: 1           have  VBP   O\n",
       "4  Sentence: 1        marched  VBN   O"
      ]
     },
     "execution_count": 11,
     "metadata": {},
     "output_type": "execute_result"
    }
   ],
   "source": [
    "data_path = \"/kaggle/input/ner-dataset1/ner_dataset.csv\"\n",
    "\n",
    "data = pd.read_csv(data_path, encoding= 'unicode_escape')\n",
    "# filling the first column that determines which sentence each word belongs to.\n",
    "data.fillna(method = 'ffill', inplace = True)\n",
    "data.head()"
   ]
  },
  {
   "cell_type": "code",
   "execution_count": 12,
   "id": "e7b8275e",
   "metadata": {
    "execution": {
     "iopub.execute_input": "2024-11-04T16:20:52.575094Z",
     "iopub.status.busy": "2024-11-04T16:20:52.574237Z",
     "iopub.status.idle": "2024-11-04T16:20:52.666529Z",
     "shell.execute_reply": "2024-11-04T16:20:52.665673Z"
    },
    "papermill": {
     "duration": 0.113011,
     "end_time": "2024-11-04T16:20:52.668756",
     "exception": false,
     "start_time": "2024-11-04T16:20:52.555745",
     "status": "completed"
    },
    "tags": []
   },
   "outputs": [
    {
     "data": {
      "text/plain": [
       "array(['Sentence: 1', 'Sentence: 2', 'Sentence: 3', ...,\n",
       "       'Sentence: 47957', 'Sentence: 47958', 'Sentence: 47959'],\n",
       "      dtype=object)"
      ]
     },
     "execution_count": 12,
     "metadata": {},
     "output_type": "execute_result"
    }
   ],
   "source": [
    "data['Sentence #'].unique()"
   ]
  },
  {
   "cell_type": "code",
   "execution_count": 13,
   "id": "e3c525eb",
   "metadata": {
    "execution": {
     "iopub.execute_input": "2024-11-04T16:20:52.704358Z",
     "iopub.status.busy": "2024-11-04T16:20:52.704002Z",
     "iopub.status.idle": "2024-11-04T16:20:57.499020Z",
     "shell.execute_reply": "2024-11-04T16:20:57.497973Z"
    },
    "papermill": {
     "duration": 4.815902,
     "end_time": "2024-11-04T16:20:57.501897",
     "exception": false,
     "start_time": "2024-11-04T16:20:52.685995",
     "status": "completed"
    },
    "tags": []
   },
   "outputs": [
    {
     "name": "stdout",
     "output_type": "stream",
     "text": [
      "   Sentence #                                           Sentence  \\\n",
      "0  Sentence 1  Thousands of demonstrators have marched throug...   \n",
      "1  Sentence 2  Iranian officials say they expect to get acces...   \n",
      "2  Sentence 3  Helicopter gunships Saturday pounded militant ...   \n",
      "3  Sentence 4  They left after a tense hour-long standoff wit...   \n",
      "4  Sentence 5  U.N. relief coordinator Jan Egeland said Sunda...   \n",
      "\n",
      "                                                 POS  \\\n",
      "0  ['NNS', 'IN', 'NNS', 'VBP', 'VBN', 'IN', 'NNP'...   \n",
      "1  ['JJ', 'NNS', 'VBP', 'PRP', 'VBP', 'TO', 'VB',...   \n",
      "2  ['NN', 'NNS', 'NNP', 'VBD', 'JJ', 'NNS', 'IN',...   \n",
      "3  ['PRP', 'VBD', 'IN', 'DT', 'NN', 'JJ', 'NN', '...   \n",
      "4  ['NNP', 'NN', 'NN', 'NNP', 'NNP', 'VBD', 'NNP'...   \n",
      "\n",
      "                                                 TAG  \n",
      "0  ['O', 'O', 'O', 'O', 'O', 'O', 'B-geo', 'O', '...  \n",
      "1  ['B-gpe', 'O', 'O', 'O', 'O', 'O', 'O', 'O', '...  \n",
      "2  ['O', 'O', 'B-tim', 'O', 'O', 'O', 'O', 'O', '...  \n",
      "3  ['O', 'O', 'O', 'O', 'O', 'O', 'O', 'O', 'O', ...  \n",
      "4  ['B-geo', 'O', 'O', 'B-per', 'I-per', 'O', 'B-...  \n"
     ]
    }
   ],
   "source": [
    "\n",
    " #Group data by sentence number and aggregate words, POS tags, and NER tags\n",
    "grouped_data = data.groupby('Sentence #').agg({\n",
    "    'Word': lambda x: ' '.join(x),\n",
    "    'POS': lambda x: list(x),\n",
    "    'Tag': lambda x: list(x)\n",
    "}).reset_index()\n",
    "\n",
    "# Prepare the final DataFrame with continuous sentence numbering\n",
    "final_data = pd.DataFrame({\n",
    "    'Sentence #': [f'Sentence {i+1}' for i in range(len(grouped_data))],  # Continuous numbering\n",
    "    'Sentence': grouped_data['Word'],\n",
    "    'POS': grouped_data['POS'],\n",
    "    'TAG': grouped_data['Tag']\n",
    "})\n",
    "\n",
    "# Convert POS and NER lists to string format for display\n",
    "final_data['POS'] = final_data['POS'].apply(lambda x: str(x))\n",
    "final_data['TAG'] = final_data['TAG'].apply(lambda x: str(x))\n",
    "\n",
    "# Display the first few rows of the final DataFrame\n",
    "print(final_data.head())"
   ]
  },
  {
   "cell_type": "code",
   "execution_count": 14,
   "id": "cda57fe3",
   "metadata": {
    "execution": {
     "iopub.execute_input": "2024-11-04T16:20:57.542119Z",
     "iopub.status.busy": "2024-11-04T16:20:57.541710Z",
     "iopub.status.idle": "2024-11-04T16:20:57.568926Z",
     "shell.execute_reply": "2024-11-04T16:20:57.567963Z"
    },
    "papermill": {
     "duration": 0.048855,
     "end_time": "2024-11-04T16:20:57.571254",
     "exception": false,
     "start_time": "2024-11-04T16:20:57.522399",
     "status": "completed"
    },
    "tags": []
   },
   "outputs": [
    {
     "data": {
      "text/plain": [
       "array(['Thousands of demonstrators have marched through London to protest the war in Iraq and demand the withdrawal of British troops from that country .',\n",
       "       'Iranian officials say they expect to get access to sealed sensitive parts of the plant Wednesday , after an IAEA surveillance system begins functioning .',\n",
       "       'Helicopter gunships Saturday pounded militant hideouts in the Orakzai tribal region , where many Taliban militants are believed to have fled to avoid an earlier military offensive in nearby South Waziristan .',\n",
       "       ...,\n",
       "       \"Following Iran 's disputed June 12 elections , rights groups said hundreds of people were detained in clashes with security forces during post-election , anti-government demonstrations .\",\n",
       "       'Since then , authorities have held public trials of the accused and tried to marginalize moderate officials within the government .',\n",
       "       'The United Nations is praising the use of military helicopters to drop food and rescue survivors in tsunami-ravaged Indonesia , saying the aircraft are \" worth their weight in gold . \"'],\n",
       "      dtype=object)"
      ]
     },
     "execution_count": 14,
     "metadata": {},
     "output_type": "execute_result"
    }
   ],
   "source": [
    "final_data.Sentence.unique()"
   ]
  },
  {
   "cell_type": "code",
   "execution_count": 15,
   "id": "1796574a",
   "metadata": {
    "execution": {
     "iopub.execute_input": "2024-11-04T16:20:57.609686Z",
     "iopub.status.busy": "2024-11-04T16:20:57.609339Z",
     "iopub.status.idle": "2024-11-04T16:20:57.620046Z",
     "shell.execute_reply": "2024-11-04T16:20:57.619144Z"
    },
    "papermill": {
     "duration": 0.032079,
     "end_time": "2024-11-04T16:20:57.622396",
     "exception": false,
     "start_time": "2024-11-04T16:20:57.590317",
     "status": "completed"
    },
    "tags": []
   },
   "outputs": [
    {
     "data": {
      "text/html": [
       "<div>\n",
       "<style scoped>\n",
       "    .dataframe tbody tr th:only-of-type {\n",
       "        vertical-align: middle;\n",
       "    }\n",
       "\n",
       "    .dataframe tbody tr th {\n",
       "        vertical-align: top;\n",
       "    }\n",
       "\n",
       "    .dataframe thead th {\n",
       "        text-align: right;\n",
       "    }\n",
       "</style>\n",
       "<table border=\"1\" class=\"dataframe\">\n",
       "  <thead>\n",
       "    <tr style=\"text-align: right;\">\n",
       "      <th></th>\n",
       "      <th>Sentence #</th>\n",
       "      <th>Sentence</th>\n",
       "      <th>POS</th>\n",
       "      <th>TAG</th>\n",
       "    </tr>\n",
       "  </thead>\n",
       "  <tbody>\n",
       "    <tr>\n",
       "      <th>0</th>\n",
       "      <td>Sentence 1</td>\n",
       "      <td>Thousands of demonstrators have marched throug...</td>\n",
       "      <td>['NNS', 'IN', 'NNS', 'VBP', 'VBN', 'IN', 'NNP'...</td>\n",
       "      <td>['O', 'O', 'O', 'O', 'O', 'O', 'B-geo', 'O', '...</td>\n",
       "    </tr>\n",
       "    <tr>\n",
       "      <th>1</th>\n",
       "      <td>Sentence 2</td>\n",
       "      <td>Iranian officials say they expect to get acces...</td>\n",
       "      <td>['JJ', 'NNS', 'VBP', 'PRP', 'VBP', 'TO', 'VB',...</td>\n",
       "      <td>['B-gpe', 'O', 'O', 'O', 'O', 'O', 'O', 'O', '...</td>\n",
       "    </tr>\n",
       "    <tr>\n",
       "      <th>2</th>\n",
       "      <td>Sentence 3</td>\n",
       "      <td>Helicopter gunships Saturday pounded militant ...</td>\n",
       "      <td>['NN', 'NNS', 'NNP', 'VBD', 'JJ', 'NNS', 'IN',...</td>\n",
       "      <td>['O', 'O', 'B-tim', 'O', 'O', 'O', 'O', 'O', '...</td>\n",
       "    </tr>\n",
       "    <tr>\n",
       "      <th>3</th>\n",
       "      <td>Sentence 4</td>\n",
       "      <td>They left after a tense hour-long standoff wit...</td>\n",
       "      <td>['PRP', 'VBD', 'IN', 'DT', 'NN', 'JJ', 'NN', '...</td>\n",
       "      <td>['O', 'O', 'O', 'O', 'O', 'O', 'O', 'O', 'O', ...</td>\n",
       "    </tr>\n",
       "    <tr>\n",
       "      <th>4</th>\n",
       "      <td>Sentence 5</td>\n",
       "      <td>U.N. relief coordinator Jan Egeland said Sunda...</td>\n",
       "      <td>['NNP', 'NN', 'NN', 'NNP', 'NNP', 'VBD', 'NNP'...</td>\n",
       "      <td>['B-geo', 'O', 'O', 'B-per', 'I-per', 'O', 'B-...</td>\n",
       "    </tr>\n",
       "  </tbody>\n",
       "</table>\n",
       "</div>"
      ],
      "text/plain": [
       "   Sentence #                                           Sentence  \\\n",
       "0  Sentence 1  Thousands of demonstrators have marched throug...   \n",
       "1  Sentence 2  Iranian officials say they expect to get acces...   \n",
       "2  Sentence 3  Helicopter gunships Saturday pounded militant ...   \n",
       "3  Sentence 4  They left after a tense hour-long standoff wit...   \n",
       "4  Sentence 5  U.N. relief coordinator Jan Egeland said Sunda...   \n",
       "\n",
       "                                                 POS  \\\n",
       "0  ['NNS', 'IN', 'NNS', 'VBP', 'VBN', 'IN', 'NNP'...   \n",
       "1  ['JJ', 'NNS', 'VBP', 'PRP', 'VBP', 'TO', 'VB',...   \n",
       "2  ['NN', 'NNS', 'NNP', 'VBD', 'JJ', 'NNS', 'IN',...   \n",
       "3  ['PRP', 'VBD', 'IN', 'DT', 'NN', 'JJ', 'NN', '...   \n",
       "4  ['NNP', 'NN', 'NN', 'NNP', 'NNP', 'VBD', 'NNP'...   \n",
       "\n",
       "                                                 TAG  \n",
       "0  ['O', 'O', 'O', 'O', 'O', 'O', 'B-geo', 'O', '...  \n",
       "1  ['B-gpe', 'O', 'O', 'O', 'O', 'O', 'O', 'O', '...  \n",
       "2  ['O', 'O', 'B-tim', 'O', 'O', 'O', 'O', 'O', '...  \n",
       "3  ['O', 'O', 'O', 'O', 'O', 'O', 'O', 'O', 'O', ...  \n",
       "4  ['B-geo', 'O', 'O', 'B-per', 'I-per', 'O', 'B-...  "
      ]
     },
     "execution_count": 15,
     "metadata": {},
     "output_type": "execute_result"
    }
   ],
   "source": [
    "final_data.head()"
   ]
  },
  {
   "cell_type": "code",
   "execution_count": 16,
   "id": "a001f46d",
   "metadata": {
    "execution": {
     "iopub.execute_input": "2024-11-04T16:20:57.659973Z",
     "iopub.status.busy": "2024-11-04T16:20:57.659635Z",
     "iopub.status.idle": "2024-11-04T16:20:57.681033Z",
     "shell.execute_reply": "2024-11-04T16:20:57.680270Z"
    },
    "papermill": {
     "duration": 0.042073,
     "end_time": "2024-11-04T16:20:57.683121",
     "exception": false,
     "start_time": "2024-11-04T16:20:57.641048",
     "status": "completed"
    },
    "tags": []
   },
   "outputs": [],
   "source": [
    "X = list(final_data['Sentence'])\n",
    "Y = list(final_data['TAG'])"
   ]
  },
  {
   "cell_type": "code",
   "execution_count": 17,
   "id": "64f3e5ea",
   "metadata": {
    "execution": {
     "iopub.execute_input": "2024-11-04T16:20:57.719979Z",
     "iopub.status.busy": "2024-11-04T16:20:57.719671Z",
     "iopub.status.idle": "2024-11-04T16:20:57.724830Z",
     "shell.execute_reply": "2024-11-04T16:20:57.723949Z"
    },
    "papermill": {
     "duration": 0.026212,
     "end_time": "2024-11-04T16:20:57.726962",
     "exception": false,
     "start_time": "2024-11-04T16:20:57.700750",
     "status": "completed"
    },
    "tags": []
   },
   "outputs": [
    {
     "name": "stdout",
     "output_type": "stream",
     "text": [
      "First three sentences: \n",
      "\n",
      "['Thousands of demonstrators have marched through London to protest the war in Iraq and demand the withdrawal of British troops from that country .', 'Iranian officials say they expect to get access to sealed sensitive parts of the plant Wednesday , after an IAEA surveillance system begins functioning .', 'Helicopter gunships Saturday pounded militant hideouts in the Orakzai tribal region , where many Taliban militants are believed to have fled to avoid an earlier military offensive in nearby South Waziristan .']\n"
     ]
    }
   ],
   "source": [
    "print(\"First three sentences: \\n\")\n",
    "print(X[:3])"
   ]
  },
  {
   "cell_type": "code",
   "execution_count": 18,
   "id": "3955b712",
   "metadata": {
    "execution": {
     "iopub.execute_input": "2024-11-04T16:20:57.763431Z",
     "iopub.status.busy": "2024-11-04T16:20:57.763063Z",
     "iopub.status.idle": "2024-11-04T16:20:59.919250Z",
     "shell.execute_reply": "2024-11-04T16:20:59.918458Z"
    },
    "papermill": {
     "duration": 2.177219,
     "end_time": "2024-11-04T16:20:59.921647",
     "exception": false,
     "start_time": "2024-11-04T16:20:57.744428",
     "status": "completed"
    },
    "tags": []
   },
   "outputs": [],
   "source": [
    "import ast\n",
    "# Converting strings to lists\n",
    "Y = [ast.literal_eval(item) for item in Y]"
   ]
  },
  {
   "cell_type": "code",
   "execution_count": 19,
   "id": "471e9715",
   "metadata": {
    "execution": {
     "iopub.execute_input": "2024-11-04T16:20:59.958969Z",
     "iopub.status.busy": "2024-11-04T16:20:59.958638Z",
     "iopub.status.idle": "2024-11-04T16:20:59.963953Z",
     "shell.execute_reply": "2024-11-04T16:20:59.962905Z"
    },
    "papermill": {
     "duration": 0.026812,
     "end_time": "2024-11-04T16:20:59.966151",
     "exception": false,
     "start_time": "2024-11-04T16:20:59.939339",
     "status": "completed"
    },
    "tags": []
   },
   "outputs": [
    {
     "name": "stdout",
     "output_type": "stream",
     "text": [
      "First three Tags: \n",
      "\n",
      "[['O', 'O', 'O', 'O', 'O', 'O', 'B-geo', 'O', 'O', 'O', 'O', 'O', 'B-geo', 'O', 'O', 'O', 'O', 'O', 'B-gpe', 'O', 'O', 'O', 'O', 'O'], ['B-gpe', 'O', 'O', 'O', 'O', 'O', 'O', 'O', 'O', 'O', 'O', 'O', 'O', 'O', 'O', 'B-tim', 'O', 'O', 'O', 'B-org', 'O', 'O', 'O', 'O', 'O'], ['O', 'O', 'B-tim', 'O', 'O', 'O', 'O', 'O', 'B-geo', 'O', 'O', 'O', 'O', 'O', 'B-org', 'O', 'O', 'O', 'O', 'O', 'O', 'O', 'O', 'O', 'O', 'O', 'O', 'O', 'O', 'B-geo', 'I-geo', 'O']]\n"
     ]
    }
   ],
   "source": [
    "print(\"First three Tags: \\n\")\n",
    "print(Y[:3])"
   ]
  },
  {
   "cell_type": "markdown",
   "id": "2523872d",
   "metadata": {
    "papermill": {
     "duration": 0.017313,
     "end_time": "2024-11-04T16:21:00.001333",
     "exception": false,
     "start_time": "2024-11-04T16:20:59.984020",
     "status": "completed"
    },
    "tags": []
   },
   "source": [
    "#### We need to tokenize the sentences by mapping each word to a unique identifier, then we need to pad them because NN need the input sentences to have the same lenght."
   ]
  },
  {
   "cell_type": "code",
   "execution_count": 20,
   "id": "d4e8f1ee",
   "metadata": {
    "execution": {
     "iopub.execute_input": "2024-11-04T16:21:00.038941Z",
     "iopub.status.busy": "2024-11-04T16:21:00.038266Z",
     "iopub.status.idle": "2024-11-04T16:21:00.043644Z",
     "shell.execute_reply": "2024-11-04T16:21:00.042790Z"
    },
    "papermill": {
     "duration": 0.02626,
     "end_time": "2024-11-04T16:21:00.045598",
     "exception": false,
     "start_time": "2024-11-04T16:21:00.019338",
     "status": "completed"
    },
    "tags": []
   },
   "outputs": [],
   "source": [
    "from tensorflow.keras.preprocessing.text import Tokenizer\n",
    "from tensorflow.keras.preprocessing.sequence import pad_sequences"
   ]
  },
  {
   "cell_type": "code",
   "execution_count": 21,
   "id": "eed31b1d",
   "metadata": {
    "execution": {
     "iopub.execute_input": "2024-11-04T16:21:00.082070Z",
     "iopub.status.busy": "2024-11-04T16:21:00.081781Z",
     "iopub.status.idle": "2024-11-04T16:21:00.086731Z",
     "shell.execute_reply": "2024-11-04T16:21:00.085800Z"
    },
    "papermill": {
     "duration": 0.02556,
     "end_time": "2024-11-04T16:21:00.088661",
     "exception": false,
     "start_time": "2024-11-04T16:21:00.063101",
     "status": "completed"
    },
    "tags": []
   },
   "outputs": [
    {
     "name": "stdout",
     "output_type": "stream",
     "text": [
      "Number of examples: 47959\n"
     ]
    }
   ],
   "source": [
    "print(\"Number of examples: {}\".format(len(X)))"
   ]
  },
  {
   "cell_type": "code",
   "execution_count": 22,
   "id": "36de0ae8",
   "metadata": {
    "execution": {
     "iopub.execute_input": "2024-11-04T16:21:00.125066Z",
     "iopub.status.busy": "2024-11-04T16:21:00.124722Z",
     "iopub.status.idle": "2024-11-04T16:21:02.772112Z",
     "shell.execute_reply": "2024-11-04T16:21:02.771267Z"
    },
    "papermill": {
     "duration": 2.668508,
     "end_time": "2024-11-04T16:21:02.774616",
     "exception": false,
     "start_time": "2024-11-04T16:21:00.106108",
     "status": "completed"
    },
    "tags": []
   },
   "outputs": [],
   "source": [
    "# cutoff reviews after 110 words\n",
    "maxlen = 110\n",
    "\n",
    "# consider the top 36000 words in the dataset\n",
    "max_words = 36000\n",
    "\n",
    "# tokenize each sentence in the dataset\n",
    "tokenizer = Tokenizer(num_words=max_words)\n",
    "tokenizer.fit_on_texts(X)\n",
    "sequences = tokenizer.texts_to_sequences(X)"
   ]
  },
  {
   "cell_type": "code",
   "execution_count": 23,
   "id": "396708d2",
   "metadata": {
    "execution": {
     "iopub.execute_input": "2024-11-04T16:21:02.813106Z",
     "iopub.status.busy": "2024-11-04T16:21:02.812723Z",
     "iopub.status.idle": "2024-11-04T16:21:02.828820Z",
     "shell.execute_reply": "2024-11-04T16:21:02.827922Z"
    },
    "papermill": {
     "duration": 0.037696,
     "end_time": "2024-11-04T16:21:02.831038",
     "exception": false,
     "start_time": "2024-11-04T16:21:02.793342",
     "status": "completed"
    },
    "tags": []
   },
   "outputs": [
    {
     "name": "stdout",
     "output_type": "stream",
     "text": [
      "Found 27953 unique tokens.\n"
     ]
    }
   ],
   "source": [
    "word_index = tokenizer.word_index\n",
    "print(\"Found {} unique tokens.\".format(len(word_index)))\n",
    "ind2word = dict([(value, key) for (key, value) in word_index.items()])"
   ]
  },
  {
   "cell_type": "code",
   "execution_count": 24,
   "id": "61f4c77b",
   "metadata": {
    "execution": {
     "iopub.execute_input": "2024-11-04T16:21:02.868658Z",
     "iopub.status.busy": "2024-11-04T16:21:02.868248Z",
     "iopub.status.idle": "2024-11-04T16:21:02.872588Z",
     "shell.execute_reply": "2024-11-04T16:21:02.871690Z"
    },
    "papermill": {
     "duration": 0.025492,
     "end_time": "2024-11-04T16:21:02.874507",
     "exception": false,
     "start_time": "2024-11-04T16:21:02.849015",
     "status": "completed"
    },
    "tags": []
   },
   "outputs": [],
   "source": [
    "word2id = word_index"
   ]
  },
  {
   "cell_type": "code",
   "execution_count": 25,
   "id": "85ce2f25",
   "metadata": {
    "execution": {
     "iopub.execute_input": "2024-11-04T16:21:02.911027Z",
     "iopub.status.busy": "2024-11-04T16:21:02.910677Z",
     "iopub.status.idle": "2024-11-04T16:21:02.923154Z",
     "shell.execute_reply": "2024-11-04T16:21:02.922268Z"
    },
    "papermill": {
     "duration": 0.033372,
     "end_time": "2024-11-04T16:21:02.925266",
     "exception": false,
     "start_time": "2024-11-04T16:21:02.891894",
     "status": "completed"
    },
    "tags": []
   },
   "outputs": [],
   "source": [
    "# dict. that map each identifier to its word\n",
    "id2word = {}\n",
    "for key, value in word2id.items():\n",
    "    id2word[value] = key"
   ]
  },
  {
   "cell_type": "code",
   "execution_count": 26,
   "id": "b844d57b",
   "metadata": {
    "execution": {
     "iopub.execute_input": "2024-11-04T16:21:02.963180Z",
     "iopub.status.busy": "2024-11-04T16:21:02.962843Z",
     "iopub.status.idle": "2024-11-04T16:21:03.194403Z",
     "shell.execute_reply": "2024-11-04T16:21:03.193435Z"
    },
    "papermill": {
     "duration": 0.253391,
     "end_time": "2024-11-04T16:21:03.196757",
     "exception": false,
     "start_time": "2024-11-04T16:21:02.943366",
     "status": "completed"
    },
    "tags": []
   },
   "outputs": [
    {
     "data": {
      "text/plain": [
       "array([ 260,    3,  997,   13, 1838,  245,  452,    4,  545,    1,  121,\n",
       "          2,   60,    6,  595,    1,  861,    3,  184,   89,   21,   12,\n",
       "         54,    0,    0,    0,    0,    0,    0,    0,    0,    0,    0,\n",
       "          0,    0,    0,    0,    0,    0,    0,    0,    0,    0,    0,\n",
       "          0,    0,    0,    0,    0,    0,    0,    0,    0,    0,    0,\n",
       "          0,    0,    0,    0,    0,    0,    0,    0,    0,    0,    0,\n",
       "          0,    0,    0,    0,    0,    0,    0,    0,    0,    0,    0,\n",
       "          0,    0,    0,    0,    0,    0,    0,    0,    0,    0,    0,\n",
       "          0,    0,    0,    0,    0,    0,    0,    0,    0,    0,    0,\n",
       "          0,    0,    0,    0,    0,    0,    0,    0,    0,    0,    0],\n",
       "      dtype=int32)"
      ]
     },
     "execution_count": 26,
     "metadata": {},
     "output_type": "execute_result"
    }
   ],
   "source": [
    "## Sentence Padding: pad the sequences so that all sequences are of the same size\n",
    "X_preprocessed = pad_sequences(sequences, maxlen=maxlen, padding='post')\n",
    "# first example after tokenization and padding. \n",
    "X_preprocessed[0]"
   ]
  },
  {
   "cell_type": "code",
   "execution_count": 27,
   "id": "2fa47f28",
   "metadata": {
    "execution": {
     "iopub.execute_input": "2024-11-04T16:21:03.237148Z",
     "iopub.status.busy": "2024-11-04T16:21:03.236529Z",
     "iopub.status.idle": "2024-11-04T16:21:03.243411Z",
     "shell.execute_reply": "2024-11-04T16:21:03.242508Z"
    },
    "papermill": {
     "duration": 0.029482,
     "end_time": "2024-11-04T16:21:03.245561",
     "exception": false,
     "start_time": "2024-11-04T16:21:03.216079",
     "status": "completed"
    },
    "tags": []
   },
   "outputs": [
    {
     "data": {
      "text/plain": [
       "array([   35, 13186, 13187,    17,    58,     3,     5,   276,     3,\n",
       "        1337,   214,  6516,     8, 22551,    12,   444,  1201,     4,\n",
       "        3755, 14137,     0,     0,     0,     0,     0,     0,     0,\n",
       "           0,     0,     0,     0,     0,     0,     0,     0,     0,\n",
       "           0,     0,     0,     0,     0,     0,     0,     0,     0,\n",
       "           0,     0,     0,     0,     0,     0,     0,     0,     0,\n",
       "           0,     0,     0,     0,     0,     0,     0,     0,     0,\n",
       "           0,     0,     0,     0,     0,     0,     0,     0,     0,\n",
       "           0,     0,     0,     0,     0,     0,     0,     0,     0,\n",
       "           0,     0,     0,     0,     0,     0,     0,     0,     0,\n",
       "           0,     0,     0,     0,     0,     0,     0,     0,     0,\n",
       "           0,     0,     0,     0,     0,     0,     0,     0,     0,\n",
       "           0,     0], dtype=int32)"
      ]
     },
     "execution_count": 27,
     "metadata": {},
     "output_type": "execute_result"
    }
   ],
   "source": [
    "# 22479 example after tokenization and padding. \n",
    "X_preprocessed[22479]"
   ]
  },
  {
   "cell_type": "markdown",
   "id": "a919eef9",
   "metadata": {
    "papermill": {
     "duration": 0.018472,
     "end_time": "2024-11-04T16:21:03.283383",
     "exception": false,
     "start_time": "2024-11-04T16:21:03.264911",
     "status": "completed"
    },
    "tags": []
   },
   "source": [
    "**Preprocess tags**\n",
    "we need to preprocess tags by assigning a unique identifier for each one of them.\n",
    "\n",
    "Since also tags for each example have different lenght we need to fine a way to slove this problem.\n",
    "\n",
    "We can assign a new tag for the zeros that we used in padding\n",
    "We can use the O tag for them"
   ]
  },
  {
   "cell_type": "code",
   "execution_count": 28,
   "id": "abe43de4",
   "metadata": {
    "execution": {
     "iopub.execute_input": "2024-11-04T16:21:03.322149Z",
     "iopub.status.busy": "2024-11-04T16:21:03.321390Z",
     "iopub.status.idle": "2024-11-04T16:21:03.404353Z",
     "shell.execute_reply": "2024-11-04T16:21:03.403401Z"
    },
    "papermill": {
     "duration": 0.104906,
     "end_time": "2024-11-04T16:21:03.406332",
     "exception": false,
     "start_time": "2024-11-04T16:21:03.301426",
     "status": "completed"
    },
    "tags": []
   },
   "outputs": [
    {
     "data": {
      "text/plain": [
       "array(['O', 'B-geo', 'B-gpe', 'B-per', 'I-geo', 'B-org', 'I-org', 'B-tim',\n",
       "       'B-art', 'I-art', 'I-per', 'I-gpe', 'I-tim', 'B-nat', 'B-eve',\n",
       "       'I-eve', 'I-nat'], dtype=object)"
      ]
     },
     "execution_count": 28,
     "metadata": {},
     "output_type": "execute_result"
    }
   ],
   "source": [
    "tags = data.Tag.unique()\n",
    "tags"
   ]
  },
  {
   "cell_type": "code",
   "execution_count": 29,
   "id": "cf16d59d",
   "metadata": {
    "execution": {
     "iopub.execute_input": "2024-11-04T16:21:03.444267Z",
     "iopub.status.busy": "2024-11-04T16:21:03.443900Z",
     "iopub.status.idle": "2024-11-04T16:21:03.448494Z",
     "shell.execute_reply": "2024-11-04T16:21:03.447589Z"
    },
    "papermill": {
     "duration": 0.025827,
     "end_time": "2024-11-04T16:21:03.450407",
     "exception": false,
     "start_time": "2024-11-04T16:21:03.424580",
     "status": "completed"
    },
    "tags": []
   },
   "outputs": [],
   "source": [
    "# dict. that map each tag to its identifier\n",
    "tags2id = {}\n",
    "for i, tag in enumerate(tags):\n",
    "    tags2id[tag] = i"
   ]
  },
  {
   "cell_type": "code",
   "execution_count": 30,
   "id": "9c918319",
   "metadata": {
    "execution": {
     "iopub.execute_input": "2024-11-04T16:21:03.489193Z",
     "iopub.status.busy": "2024-11-04T16:21:03.488472Z",
     "iopub.status.idle": "2024-11-04T16:21:03.495311Z",
     "shell.execute_reply": "2024-11-04T16:21:03.494390Z"
    },
    "papermill": {
     "duration": 0.028877,
     "end_time": "2024-11-04T16:21:03.497211",
     "exception": false,
     "start_time": "2024-11-04T16:21:03.468334",
     "status": "completed"
    },
    "tags": []
   },
   "outputs": [
    {
     "data": {
      "text/plain": [
       "{'O': 0,\n",
       " 'B-geo': 1,\n",
       " 'B-gpe': 2,\n",
       " 'B-per': 3,\n",
       " 'I-geo': 4,\n",
       " 'B-org': 5,\n",
       " 'I-org': 6,\n",
       " 'B-tim': 7,\n",
       " 'B-art': 8,\n",
       " 'I-art': 9,\n",
       " 'I-per': 10,\n",
       " 'I-gpe': 11,\n",
       " 'I-tim': 12,\n",
       " 'B-nat': 13,\n",
       " 'B-eve': 14,\n",
       " 'I-eve': 15,\n",
       " 'I-nat': 16}"
      ]
     },
     "execution_count": 30,
     "metadata": {},
     "output_type": "execute_result"
    }
   ],
   "source": [
    "tags2id"
   ]
  },
  {
   "cell_type": "code",
   "execution_count": 31,
   "id": "c4d580c5",
   "metadata": {
    "execution": {
     "iopub.execute_input": "2024-11-04T16:21:03.535964Z",
     "iopub.status.busy": "2024-11-04T16:21:03.535093Z",
     "iopub.status.idle": "2024-11-04T16:21:03.539828Z",
     "shell.execute_reply": "2024-11-04T16:21:03.538939Z"
    },
    "papermill": {
     "duration": 0.026215,
     "end_time": "2024-11-04T16:21:03.541904",
     "exception": false,
     "start_time": "2024-11-04T16:21:03.515689",
     "status": "completed"
    },
    "tags": []
   },
   "outputs": [],
   "source": [
    "# dict. that map each identifier to its tag\n",
    "id2tag = {}\n",
    "for key, value in tags2id.items():\n",
    "    id2tag[value] = key"
   ]
  },
  {
   "cell_type": "code",
   "execution_count": 32,
   "id": "79d21c29",
   "metadata": {
    "execution": {
     "iopub.execute_input": "2024-11-04T16:21:03.581049Z",
     "iopub.status.busy": "2024-11-04T16:21:03.580691Z",
     "iopub.status.idle": "2024-11-04T16:21:03.587480Z",
     "shell.execute_reply": "2024-11-04T16:21:03.586547Z"
    },
    "papermill": {
     "duration": 0.028997,
     "end_time": "2024-11-04T16:21:03.589607",
     "exception": false,
     "start_time": "2024-11-04T16:21:03.560610",
     "status": "completed"
    },
    "tags": []
   },
   "outputs": [
    {
     "data": {
      "text/plain": [
       "{0: 'O',\n",
       " 1: 'B-geo',\n",
       " 2: 'B-gpe',\n",
       " 3: 'B-per',\n",
       " 4: 'I-geo',\n",
       " 5: 'B-org',\n",
       " 6: 'I-org',\n",
       " 7: 'B-tim',\n",
       " 8: 'B-art',\n",
       " 9: 'I-art',\n",
       " 10: 'I-per',\n",
       " 11: 'I-gpe',\n",
       " 12: 'I-tim',\n",
       " 13: 'B-nat',\n",
       " 14: 'B-eve',\n",
       " 15: 'I-eve',\n",
       " 16: 'I-nat'}"
      ]
     },
     "execution_count": 32,
     "metadata": {},
     "output_type": "execute_result"
    }
   ],
   "source": [
    "id2tag"
   ]
  },
  {
   "cell_type": "code",
   "execution_count": 33,
   "id": "22377d15",
   "metadata": {
    "execution": {
     "iopub.execute_input": "2024-11-04T16:21:03.628874Z",
     "iopub.status.busy": "2024-11-04T16:21:03.627973Z",
     "iopub.status.idle": "2024-11-04T16:21:03.634782Z",
     "shell.execute_reply": "2024-11-04T16:21:03.633836Z"
    },
    "papermill": {
     "duration": 0.02825,
     "end_time": "2024-11-04T16:21:03.636617",
     "exception": false,
     "start_time": "2024-11-04T16:21:03.608367",
     "status": "completed"
    },
    "tags": []
   },
   "outputs": [],
   "source": [
    "def preprocess_tags(tags2id, Y_ready):\n",
    "    \n",
    "    Y_preprocessed = []\n",
    "    maxlen = 110\n",
    "    # for each target \n",
    "    for y in Y_ready:\n",
    "        \n",
    "        # place holder to store the new preprocessed tag list\n",
    "        Y_place_holder = []\n",
    "        \n",
    "        # for each tag in rhe tag list \n",
    "        for tag in y:\n",
    "            # append the id of the tag in the place holder list\n",
    "            Y_place_holder.append(tags2id[tag])\n",
    "        \n",
    "        # find the lenght of the new preprocessed tag list \n",
    "        len_new_tag_list = len(Y_place_holder)\n",
    "        # find the differance in length between the len of tag list and padded sentences\n",
    "        num_O_to_add = maxlen - len_new_tag_list\n",
    "        \n",
    "        # add 'O's to padd the tag lists\n",
    "        padded_tags = Y_place_holder + ([tags2id['O']] * num_O_to_add)\n",
    "        Y_preprocessed.append(padded_tags)\n",
    "        \n",
    "    return Y_preprocessed"
   ]
  },
  {
   "cell_type": "code",
   "execution_count": 34,
   "id": "c3572d25",
   "metadata": {
    "execution": {
     "iopub.execute_input": "2024-11-04T16:21:03.675632Z",
     "iopub.status.busy": "2024-11-04T16:21:03.674745Z",
     "iopub.status.idle": "2024-11-04T16:21:03.921751Z",
     "shell.execute_reply": "2024-11-04T16:21:03.920912Z"
    },
    "papermill": {
     "duration": 0.269183,
     "end_time": "2024-11-04T16:21:03.924210",
     "exception": false,
     "start_time": "2024-11-04T16:21:03.655027",
     "status": "completed"
    },
    "tags": []
   },
   "outputs": [],
   "source": [
    "Y_preprocessed = preprocess_tags(tags2id, Y)"
   ]
  },
  {
   "cell_type": "code",
   "execution_count": 35,
   "id": "7f23d898",
   "metadata": {
    "execution": {
     "iopub.execute_input": "2024-11-04T16:21:03.962654Z",
     "iopub.status.busy": "2024-11-04T16:21:03.962022Z",
     "iopub.status.idle": "2024-11-04T16:21:03.967198Z",
     "shell.execute_reply": "2024-11-04T16:21:03.966243Z"
    },
    "papermill": {
     "duration": 0.026263,
     "end_time": "2024-11-04T16:21:03.969164",
     "exception": false,
     "start_time": "2024-11-04T16:21:03.942901",
     "status": "completed"
    },
    "tags": []
   },
   "outputs": [
    {
     "name": "stdout",
     "output_type": "stream",
     "text": [
      "[0, 0, 0, 0, 0, 0, 1, 0, 0, 0, 0, 0, 1, 0, 0, 0, 0, 0, 2, 0, 0, 0, 0, 0, 0, 0, 0, 0, 0, 0, 0, 0, 0, 0, 0, 0, 0, 0, 0, 0, 0, 0, 0, 0, 0, 0, 0, 0, 0, 0, 0, 0, 0, 0, 0, 0, 0, 0, 0, 0, 0, 0, 0, 0, 0, 0, 0, 0, 0, 0, 0, 0, 0, 0, 0, 0, 0, 0, 0, 0, 0, 0, 0, 0, 0, 0, 0, 0, 0, 0, 0, 0, 0, 0, 0, 0, 0, 0, 0, 0, 0, 0, 0, 0, 0, 0, 0, 0, 0, 0]\n"
     ]
    }
   ],
   "source": [
    "print(Y_preprocessed[0])"
   ]
  },
  {
   "cell_type": "code",
   "execution_count": 36,
   "id": "c52521cd",
   "metadata": {
    "execution": {
     "iopub.execute_input": "2024-11-04T16:21:04.007442Z",
     "iopub.status.busy": "2024-11-04T16:21:04.007080Z",
     "iopub.status.idle": "2024-11-04T16:21:04.011991Z",
     "shell.execute_reply": "2024-11-04T16:21:04.010998Z"
    },
    "papermill": {
     "duration": 0.026544,
     "end_time": "2024-11-04T16:21:04.014277",
     "exception": false,
     "start_time": "2024-11-04T16:21:03.987733",
     "status": "completed"
    },
    "tags": []
   },
   "outputs": [
    {
     "name": "stdout",
     "output_type": "stream",
     "text": [
      "['O', 'O', 'O', 'O', 'O', 'O', 'B-geo', 'O', 'O', 'O', 'O', 'O', 'B-geo', 'O', 'O', 'O', 'O', 'O', 'B-gpe', 'O', 'O', 'O', 'O', 'O']\n"
     ]
    }
   ],
   "source": [
    "print(Y[0])"
   ]
  },
  {
   "cell_type": "markdown",
   "id": "43e08656",
   "metadata": {
    "papermill": {
     "duration": 0.018091,
     "end_time": "2024-11-04T16:21:04.051933",
     "exception": false,
     "start_time": "2024-11-04T16:21:04.033842",
     "status": "completed"
    },
    "tags": []
   },
   "source": [
    "**By now we have the data ready for training our model**\n",
    "We have X_preprocessed and Y_preprocessed that we will use to train our model\n",
    "\n",
    "The las step is to split the data into:\n",
    "\n",
    "- Training dataset\n",
    "- Valisdation dataset\n",
    "- testing dataset"
   ]
  },
  {
   "cell_type": "code",
   "execution_count": 37,
   "id": "f0a4f4c7",
   "metadata": {
    "execution": {
     "iopub.execute_input": "2024-11-04T16:21:04.090028Z",
     "iopub.status.busy": "2024-11-04T16:21:04.089625Z",
     "iopub.status.idle": "2024-11-04T16:21:04.095087Z",
     "shell.execute_reply": "2024-11-04T16:21:04.094103Z"
    },
    "papermill": {
     "duration": 0.02709,
     "end_time": "2024-11-04T16:21:04.097390",
     "exception": false,
     "start_time": "2024-11-04T16:21:04.070300",
     "status": "completed"
    },
    "tags": []
   },
   "outputs": [
    {
     "name": "stdout",
     "output_type": "stream",
     "text": [
      "The Lenght of training examples: 47959\n",
      "The Lenght of training targets: 47959\n"
     ]
    }
   ],
   "source": [
    "print(\"The Lenght of training examples: {}\".format(len(X_preprocessed)))\n",
    "print(\"The Lenght of training targets: {}\".format(len(Y_preprocessed)))"
   ]
  },
  {
   "cell_type": "code",
   "execution_count": 38,
   "id": "aba36f41",
   "metadata": {
    "execution": {
     "iopub.execute_input": "2024-11-04T16:21:04.136831Z",
     "iopub.status.busy": "2024-11-04T16:21:04.136467Z",
     "iopub.status.idle": "2024-11-04T16:21:04.649248Z",
     "shell.execute_reply": "2024-11-04T16:21:04.648257Z"
    },
    "papermill": {
     "duration": 0.53546,
     "end_time": "2024-11-04T16:21:04.651607",
     "exception": false,
     "start_time": "2024-11-04T16:21:04.116147",
     "status": "completed"
    },
    "tags": []
   },
   "outputs": [],
   "source": [
    "X_preprocessed = np.asarray(X_preprocessed)\n",
    "Y_preprocessed = np.asarray(Y_preprocessed)"
   ]
  },
  {
   "cell_type": "code",
   "execution_count": 39,
   "id": "faa61662",
   "metadata": {
    "execution": {
     "iopub.execute_input": "2024-11-04T16:21:04.697150Z",
     "iopub.status.busy": "2024-11-04T16:21:04.696765Z",
     "iopub.status.idle": "2024-11-04T16:21:04.702244Z",
     "shell.execute_reply": "2024-11-04T16:21:04.701098Z"
    },
    "papermill": {
     "duration": 0.030813,
     "end_time": "2024-11-04T16:21:04.704508",
     "exception": false,
     "start_time": "2024-11-04T16:21:04.673695",
     "status": "completed"
    },
    "tags": []
   },
   "outputs": [],
   "source": [
    "# 70% of the datat will be used for training \n",
    "training_samples = 0.7\n",
    "# 15% of the datat will be used for validation \n",
    "validation_samples = 0.15\n",
    "# 15% of the datat will be used for testing \n",
    "testing_samples = 0.15"
   ]
  },
  {
   "cell_type": "code",
   "execution_count": 40,
   "id": "51129c14",
   "metadata": {
    "execution": {
     "iopub.execute_input": "2024-11-04T16:21:04.750378Z",
     "iopub.status.busy": "2024-11-04T16:21:04.749191Z",
     "iopub.status.idle": "2024-11-04T16:21:04.754865Z",
     "shell.execute_reply": "2024-11-04T16:21:04.753988Z"
    },
    "papermill": {
     "duration": 0.031092,
     "end_time": "2024-11-04T16:21:04.757303",
     "exception": false,
     "start_time": "2024-11-04T16:21:04.726211",
     "status": "completed"
    },
    "tags": []
   },
   "outputs": [],
   "source": [
    "indices = np.arange(len(Y_preprocessed))"
   ]
  },
  {
   "cell_type": "code",
   "execution_count": 41,
   "id": "f6b0d1a3",
   "metadata": {
    "execution": {
     "iopub.execute_input": "2024-11-04T16:21:04.804203Z",
     "iopub.status.busy": "2024-11-04T16:21:04.803433Z",
     "iopub.status.idle": "2024-11-04T16:21:04.839052Z",
     "shell.execute_reply": "2024-11-04T16:21:04.838069Z"
    },
    "papermill": {
     "duration": 0.061796,
     "end_time": "2024-11-04T16:21:04.841732",
     "exception": false,
     "start_time": "2024-11-04T16:21:04.779936",
     "status": "completed"
    },
    "tags": []
   },
   "outputs": [],
   "source": [
    "np.random.seed(seed=555)\n",
    "np.random.shuffle(indices)\n",
    "X_preprocessed = X_preprocessed[indices]\n",
    "Y_preprocessed = Y_preprocessed[indices]"
   ]
  },
  {
   "cell_type": "code",
   "execution_count": 42,
   "id": "626aeb35",
   "metadata": {
    "execution": {
     "iopub.execute_input": "2024-11-04T16:21:04.882495Z",
     "iopub.status.busy": "2024-11-04T16:21:04.881749Z",
     "iopub.status.idle": "2024-11-04T16:21:05.060170Z",
     "shell.execute_reply": "2024-11-04T16:21:05.059101Z"
    },
    "papermill": {
     "duration": 0.200542,
     "end_time": "2024-11-04T16:21:05.062257",
     "exception": false,
     "start_time": "2024-11-04T16:21:04.861715",
     "status": "completed"
    },
    "tags": []
   },
   "outputs": [
    {
     "name": "stdout",
     "output_type": "stream",
     "text": [
      "Number of training examples: 33571\n",
      "Number of validation examples: 7194\n",
      "Number of testing examples: 7194\n",
      "Total number of examples after shuffling and splitting: 47959\n"
     ]
    }
   ],
   "source": [
    "X_train = X_preprocessed[: int(0.7 * len(X_preprocessed))]\n",
    "print(\"Number of training examples: {}\".format(len(X_train)))\n",
    "\n",
    "\n",
    "X_val = X_preprocessed[int(0.7 * len(X_preprocessed)) : int(0.7 * len(X_preprocessed)) + (int(0.15 * len(X_preprocessed)) + 1)]\n",
    "print(\"Number of validation examples: {}\".format(len(X_val)))\n",
    "\n",
    "\n",
    "X_test = X_preprocessed[int(0.7 * len(X_preprocessed)) + (int(0.15 * len(X_preprocessed)) + 1) : ]\n",
    "print(\"Number of testing examples: {}\".format(len(X_test)))\n",
    "\n",
    "\n",
    "\n",
    "Y_train = Y_preprocessed[: int(0.7 * len(X_preprocessed))]\n",
    "Y_val = Y_preprocessed[int(0.7 * len(X_preprocessed)) : int(0.7 * len(X_preprocessed)) + (int(0.15 * len(X_preprocessed)) + 1)]\n",
    "Y_test = Y_preprocessed[int(0.7 * len(X_preprocessed)) + (int(0.15 * len(X_preprocessed)) + 1) : ]\n",
    "\n",
    "print(\"Total number of examples after shuffling and splitting: {}\".format(len(X_train) + len(X_val) + len(X_test)))"
   ]
  },
  {
   "cell_type": "markdown",
   "id": "fcc80722",
   "metadata": {
    "papermill": {
     "duration": 0.018932,
     "end_time": "2024-11-04T16:21:05.099962",
     "exception": false,
     "start_time": "2024-11-04T16:21:05.081030",
     "status": "completed"
    },
    "tags": []
   },
   "source": [
    "**Model Training and Evaluation**"
   ]
  },
  {
   "cell_type": "code",
   "execution_count": 43,
   "id": "3a109870",
   "metadata": {
    "execution": {
     "iopub.execute_input": "2024-11-04T16:21:05.139951Z",
     "iopub.status.busy": "2024-11-04T16:21:05.139125Z",
     "iopub.status.idle": "2024-11-04T16:21:05.146272Z",
     "shell.execute_reply": "2024-11-04T16:21:05.145300Z"
    },
    "papermill": {
     "duration": 0.029821,
     "end_time": "2024-11-04T16:21:05.148582",
     "exception": false,
     "start_time": "2024-11-04T16:21:05.118761",
     "status": "completed"
    },
    "tags": []
   },
   "outputs": [
    {
     "data": {
      "text/plain": [
       "array([   2,  135,   60, 2479,   17,  265, 3188,    6,   24, 2036, 4187,\n",
       "         17, 2532,   40,   95,    7, 1253,  109,  377,  405,    6,  184,\n",
       "         89,   53,   29,  448,    4, 2574,    5, 7450,  184,   51, 1191,\n",
       "          0,    0,    0,    0,    0,    0,    0,    0,    0,    0,    0,\n",
       "          0,    0,    0,    0,    0,    0,    0,    0,    0,    0,    0,\n",
       "          0,    0,    0,    0,    0,    0,    0,    0,    0,    0,    0,\n",
       "          0,    0,    0,    0,    0,    0,    0,    0,    0,    0,    0,\n",
       "          0,    0,    0,    0,    0,    0,    0,    0,    0,    0,    0,\n",
       "          0,    0,    0,    0,    0,    0,    0,    0,    0,    0,    0,\n",
       "          0,    0,    0,    0,    0,    0,    0,    0,    0,    0,    0],\n",
       "      dtype=int32)"
      ]
     },
     "execution_count": 43,
     "metadata": {},
     "output_type": "execute_result"
    }
   ],
   "source": [
    "X_train[1000]"
   ]
  },
  {
   "cell_type": "code",
   "execution_count": 44,
   "id": "1faaef74",
   "metadata": {
    "execution": {
     "iopub.execute_input": "2024-11-04T16:21:05.190256Z",
     "iopub.status.busy": "2024-11-04T16:21:05.189616Z",
     "iopub.status.idle": "2024-11-04T16:21:05.196481Z",
     "shell.execute_reply": "2024-11-04T16:21:05.195509Z"
    },
    "papermill": {
     "duration": 0.029214,
     "end_time": "2024-11-04T16:21:05.198652",
     "exception": false,
     "start_time": "2024-11-04T16:21:05.169438",
     "status": "completed"
    },
    "tags": []
   },
   "outputs": [
    {
     "data": {
      "text/plain": [
       "array([0, 0, 1, 0, 1, 0, 0, 0, 0, 0, 0, 0, 0, 0, 0, 7, 0, 0, 0, 0, 0, 0,\n",
       "       2, 0, 0, 0, 0, 0, 0, 0, 0, 2, 0, 0, 0, 0, 0, 0, 0, 0, 0, 0, 0, 0,\n",
       "       0, 0, 0, 0, 0, 0, 0, 0, 0, 0, 0, 0, 0, 0, 0, 0, 0, 0, 0, 0, 0, 0,\n",
       "       0, 0, 0, 0, 0, 0, 0, 0, 0, 0, 0, 0, 0, 0, 0, 0, 0, 0, 0, 0, 0, 0,\n",
       "       0, 0, 0, 0, 0, 0, 0, 0, 0, 0, 0, 0, 0, 0, 0, 0, 0, 0, 0, 0, 0, 0])"
      ]
     },
     "execution_count": 44,
     "metadata": {},
     "output_type": "execute_result"
    }
   ],
   "source": [
    "Y_train[1000]"
   ]
  },
  {
   "cell_type": "code",
   "execution_count": 45,
   "id": "39896018",
   "metadata": {
    "execution": {
     "iopub.execute_input": "2024-11-04T16:21:05.239831Z",
     "iopub.status.busy": "2024-11-04T16:21:05.239494Z",
     "iopub.status.idle": "2024-11-04T16:21:05.246635Z",
     "shell.execute_reply": "2024-11-04T16:21:05.245293Z"
    },
    "papermill": {
     "duration": 0.029773,
     "end_time": "2024-11-04T16:21:05.249115",
     "exception": false,
     "start_time": "2024-11-04T16:21:05.219342",
     "status": "completed"
    },
    "tags": []
   },
   "outputs": [
    {
     "data": {
      "text/plain": [
       "'begin'"
      ]
     },
     "execution_count": 45,
     "metadata": {},
     "output_type": "execute_result"
    }
   ],
   "source": [
    "id2word[729]"
   ]
  },
  {
   "cell_type": "markdown",
   "id": "506f2ccf",
   "metadata": {
    "papermill": {
     "duration": 0.01898,
     "end_time": "2024-11-04T16:21:05.288312",
     "exception": false,
     "start_time": "2024-11-04T16:21:05.269332",
     "status": "completed"
    },
    "tags": []
   },
   "source": [
    "## **Load dataset to the model using train_dataset = tf.data.Dataset**"
   ]
  },
  {
   "cell_type": "code",
   "execution_count": 46,
   "id": "c4799546",
   "metadata": {
    "execution": {
     "iopub.execute_input": "2024-11-04T16:21:05.328682Z",
     "iopub.status.busy": "2024-11-04T16:21:05.328267Z",
     "iopub.status.idle": "2024-11-04T16:21:06.513644Z",
     "shell.execute_reply": "2024-11-04T16:21:06.512803Z"
    },
    "papermill": {
     "duration": 1.208708,
     "end_time": "2024-11-04T16:21:06.516082",
     "exception": false,
     "start_time": "2024-11-04T16:21:05.307374",
     "status": "completed"
    },
    "tags": []
   },
   "outputs": [],
   "source": [
    "train_dataset = tf.data.Dataset.from_tensor_slices((X_train, Y_train))\n",
    "val_dataset = tf.data.Dataset.from_tensor_slices((X_val, Y_val))\n",
    "test_dataset = tf.data.Dataset.from_tensor_slices((X_test, Y_test))"
   ]
  },
  {
   "cell_type": "code",
   "execution_count": 47,
   "id": "236e2acb",
   "metadata": {
    "execution": {
     "iopub.execute_input": "2024-11-04T16:21:06.556527Z",
     "iopub.status.busy": "2024-11-04T16:21:06.556137Z",
     "iopub.status.idle": "2024-11-04T16:21:06.570130Z",
     "shell.execute_reply": "2024-11-04T16:21:06.569396Z"
    },
    "papermill": {
     "duration": 0.036651,
     "end_time": "2024-11-04T16:21:06.572115",
     "exception": false,
     "start_time": "2024-11-04T16:21:06.535464",
     "status": "completed"
    },
    "tags": []
   },
   "outputs": [],
   "source": [
    "BATCH_SIZE = 132\n",
    "SHUFFLE_BUFFER_SIZE = 132\n",
    "\n",
    "train_dataset = train_dataset.shuffle(SHUFFLE_BUFFER_SIZE).batch(BATCH_SIZE)\n",
    "val_dataset = val_dataset.batch(BATCH_SIZE)\n",
    "test_dataset = test_dataset.batch(BATCH_SIZE)"
   ]
  },
  {
   "cell_type": "code",
   "execution_count": 48,
   "id": "f1749053",
   "metadata": {
    "execution": {
     "iopub.execute_input": "2024-11-04T16:21:06.612866Z",
     "iopub.status.busy": "2024-11-04T16:21:06.612491Z",
     "iopub.status.idle": "2024-11-04T16:21:07.851598Z",
     "shell.execute_reply": "2024-11-04T16:21:07.850620Z"
    },
    "papermill": {
     "duration": 1.262288,
     "end_time": "2024-11-04T16:21:07.853796",
     "exception": false,
     "start_time": "2024-11-04T16:21:06.591508",
     "status": "completed"
    },
    "tags": []
   },
   "outputs": [
    {
     "name": "stderr",
     "output_type": "stream",
     "text": [
      "/opt/conda/lib/python3.10/site-packages/keras/src/layers/core/embedding.py:90: UserWarning: Argument `input_length` is deprecated. Just remove it.\n",
      "  warnings.warn(\n"
     ]
    },
    {
     "data": {
      "text/html": [
       "<pre style=\"white-space:pre;overflow-x:auto;line-height:normal;font-family:Menlo,'DejaVu Sans Mono',consolas,'Courier New',monospace\"><span style=\"font-weight: bold\">Model: \"sequential\"</span>\n",
       "</pre>\n"
      ],
      "text/plain": [
       "\u001b[1mModel: \"sequential\"\u001b[0m\n"
      ]
     },
     "metadata": {},
     "output_type": "display_data"
    },
    {
     "data": {
      "text/html": [
       "<pre style=\"white-space:pre;overflow-x:auto;line-height:normal;font-family:Menlo,'DejaVu Sans Mono',consolas,'Courier New',monospace\">┏━━━━━━━━━━━━━━━━━━━━━━━━━━━━━━━━━┳━━━━━━━━━━━━━━━━━━━━━━━━┳━━━━━━━━━━━━━━━┓\n",
       "┃<span style=\"font-weight: bold\"> Layer (type)                    </span>┃<span style=\"font-weight: bold\"> Output Shape           </span>┃<span style=\"font-weight: bold\">       Param # </span>┃\n",
       "┡━━━━━━━━━━━━━━━━━━━━━━━━━━━━━━━━━╇━━━━━━━━━━━━━━━━━━━━━━━━╇━━━━━━━━━━━━━━━┩\n",
       "│ embedding (<span style=\"color: #0087ff; text-decoration-color: #0087ff\">Embedding</span>)           │ (<span style=\"color: #00d7ff; text-decoration-color: #00d7ff\">None</span>, <span style=\"color: #00af00; text-decoration-color: #00af00\">110</span>, <span style=\"color: #00af00; text-decoration-color: #00af00\">300</span>)       │    <span style=\"color: #00af00; text-decoration-color: #00af00\">10,800,000</span> │\n",
       "├─────────────────────────────────┼────────────────────────┼───────────────┤\n",
       "│ bidirectional (<span style=\"color: #0087ff; text-decoration-color: #0087ff\">Bidirectional</span>)   │ (<span style=\"color: #00d7ff; text-decoration-color: #00d7ff\">None</span>, <span style=\"color: #00af00; text-decoration-color: #00af00\">110</span>, <span style=\"color: #00af00; text-decoration-color: #00af00\">200</span>)       │       <span style=\"color: #00af00; text-decoration-color: #00af00\">320,800</span> │\n",
       "├─────────────────────────────────┼────────────────────────┼───────────────┤\n",
       "│ bidirectional_1 (<span style=\"color: #0087ff; text-decoration-color: #0087ff\">Bidirectional</span>) │ (<span style=\"color: #00d7ff; text-decoration-color: #00d7ff\">None</span>, <span style=\"color: #00af00; text-decoration-color: #00af00\">110</span>, <span style=\"color: #00af00; text-decoration-color: #00af00\">200</span>)       │       <span style=\"color: #00af00; text-decoration-color: #00af00\">240,800</span> │\n",
       "├─────────────────────────────────┼────────────────────────┼───────────────┤\n",
       "│ time_distributed                │ (<span style=\"color: #00d7ff; text-decoration-color: #00d7ff\">None</span>, <span style=\"color: #00af00; text-decoration-color: #00af00\">110</span>, <span style=\"color: #00af00; text-decoration-color: #00af00\">17</span>)        │         <span style=\"color: #00af00; text-decoration-color: #00af00\">3,417</span> │\n",
       "│ (<span style=\"color: #0087ff; text-decoration-color: #0087ff\">TimeDistributed</span>)               │                        │               │\n",
       "└─────────────────────────────────┴────────────────────────┴───────────────┘\n",
       "</pre>\n"
      ],
      "text/plain": [
       "┏━━━━━━━━━━━━━━━━━━━━━━━━━━━━━━━━━┳━━━━━━━━━━━━━━━━━━━━━━━━┳━━━━━━━━━━━━━━━┓\n",
       "┃\u001b[1m \u001b[0m\u001b[1mLayer (type)                   \u001b[0m\u001b[1m \u001b[0m┃\u001b[1m \u001b[0m\u001b[1mOutput Shape          \u001b[0m\u001b[1m \u001b[0m┃\u001b[1m \u001b[0m\u001b[1m      Param #\u001b[0m\u001b[1m \u001b[0m┃\n",
       "┡━━━━━━━━━━━━━━━━━━━━━━━━━━━━━━━━━╇━━━━━━━━━━━━━━━━━━━━━━━━╇━━━━━━━━━━━━━━━┩\n",
       "│ embedding (\u001b[38;5;33mEmbedding\u001b[0m)           │ (\u001b[38;5;45mNone\u001b[0m, \u001b[38;5;34m110\u001b[0m, \u001b[38;5;34m300\u001b[0m)       │    \u001b[38;5;34m10,800,000\u001b[0m │\n",
       "├─────────────────────────────────┼────────────────────────┼───────────────┤\n",
       "│ bidirectional (\u001b[38;5;33mBidirectional\u001b[0m)   │ (\u001b[38;5;45mNone\u001b[0m, \u001b[38;5;34m110\u001b[0m, \u001b[38;5;34m200\u001b[0m)       │       \u001b[38;5;34m320,800\u001b[0m │\n",
       "├─────────────────────────────────┼────────────────────────┼───────────────┤\n",
       "│ bidirectional_1 (\u001b[38;5;33mBidirectional\u001b[0m) │ (\u001b[38;5;45mNone\u001b[0m, \u001b[38;5;34m110\u001b[0m, \u001b[38;5;34m200\u001b[0m)       │       \u001b[38;5;34m240,800\u001b[0m │\n",
       "├─────────────────────────────────┼────────────────────────┼───────────────┤\n",
       "│ time_distributed                │ (\u001b[38;5;45mNone\u001b[0m, \u001b[38;5;34m110\u001b[0m, \u001b[38;5;34m17\u001b[0m)        │         \u001b[38;5;34m3,417\u001b[0m │\n",
       "│ (\u001b[38;5;33mTimeDistributed\u001b[0m)               │                        │               │\n",
       "└─────────────────────────────────┴────────────────────────┴───────────────┘\n"
      ]
     },
     "metadata": {},
     "output_type": "display_data"
    },
    {
     "data": {
      "text/html": [
       "<pre style=\"white-space:pre;overflow-x:auto;line-height:normal;font-family:Menlo,'DejaVu Sans Mono',consolas,'Courier New',monospace\"><span style=\"font-weight: bold\"> Total params: </span><span style=\"color: #00af00; text-decoration-color: #00af00\">11,365,017</span> (43.35 MB)\n",
       "</pre>\n"
      ],
      "text/plain": [
       "\u001b[1m Total params: \u001b[0m\u001b[38;5;34m11,365,017\u001b[0m (43.35 MB)\n"
      ]
     },
     "metadata": {},
     "output_type": "display_data"
    },
    {
     "data": {
      "text/html": [
       "<pre style=\"white-space:pre;overflow-x:auto;line-height:normal;font-family:Menlo,'DejaVu Sans Mono',consolas,'Courier New',monospace\"><span style=\"font-weight: bold\"> Trainable params: </span><span style=\"color: #00af00; text-decoration-color: #00af00\">11,365,017</span> (43.35 MB)\n",
       "</pre>\n"
      ],
      "text/plain": [
       "\u001b[1m Trainable params: \u001b[0m\u001b[38;5;34m11,365,017\u001b[0m (43.35 MB)\n"
      ]
     },
     "metadata": {},
     "output_type": "display_data"
    },
    {
     "data": {
      "text/html": [
       "<pre style=\"white-space:pre;overflow-x:auto;line-height:normal;font-family:Menlo,'DejaVu Sans Mono',consolas,'Courier New',monospace\"><span style=\"font-weight: bold\"> Non-trainable params: </span><span style=\"color: #00af00; text-decoration-color: #00af00\">0</span> (0.00 B)\n",
       "</pre>\n"
      ],
      "text/plain": [
       "\u001b[1m Non-trainable params: \u001b[0m\u001b[38;5;34m0\u001b[0m (0.00 B)\n"
      ]
     },
     "metadata": {},
     "output_type": "display_data"
    }
   ],
   "source": [
    "import tensorflow as tf\n",
    "\n",
    "# Parameters\n",
    "embedding_dim = 300\n",
    "maxlen = 110\n",
    "max_words = 36000\n",
    "num_tags = len(tags)  # Assuming 'tags' is defined elsewhere\n",
    "\n",
    "# Model definition\n",
    "model = tf.keras.models.Sequential([\n",
    "    tf.keras.layers.Embedding(input_dim=max_words, output_dim=embedding_dim, input_length=maxlen),\n",
    "    tf.keras.layers.Bidirectional(tf.keras.layers.LSTM(units=100, activation='tanh', return_sequences=True)),\n",
    "    tf.keras.layers.Bidirectional(tf.keras.layers.LSTM(units=100, activation='tanh', return_sequences=True)),\n",
    "    tf.keras.layers.TimeDistributed(tf.keras.layers.Dense(num_tags, activation='softmax'))\n",
    "])\n",
    "\n",
    "model.build(input_shape=(None, maxlen))\n",
    "model.compile(loss='sparse_categorical_crossentropy',\n",
    "              optimizer='adam',\n",
    "              metrics=['accuracy'])\n",
    "\n",
    "# Display model summary\n",
    "model.summary()\n"
   ]
  },
  {
   "cell_type": "code",
   "execution_count": 49,
   "id": "7aeaf294",
   "metadata": {
    "execution": {
     "iopub.execute_input": "2024-11-04T16:21:07.896603Z",
     "iopub.status.busy": "2024-11-04T16:21:07.896219Z",
     "iopub.status.idle": "2024-11-04T16:26:08.218168Z",
     "shell.execute_reply": "2024-11-04T16:26:08.216724Z"
    },
    "papermill": {
     "duration": 300.346224,
     "end_time": "2024-11-04T16:26:08.220558",
     "exception": false,
     "start_time": "2024-11-04T16:21:07.874334",
     "status": "completed"
    },
    "tags": []
   },
   "outputs": [
    {
     "name": "stdout",
     "output_type": "stream",
     "text": [
      "Epoch 1/15\n",
      "\u001b[1m255/255\u001b[0m \u001b[32m━━━━━━━━━━━━━━━━━━━━\u001b[0m\u001b[37m\u001b[0m \u001b[1m31s\u001b[0m 77ms/step - accuracy: 0.9494 - loss: 0.2665 - val_accuracy: 0.9710 - val_loss: 0.1021\n",
      "Epoch 2/15\n",
      "\u001b[1m255/255\u001b[0m \u001b[32m━━━━━━━━━━━━━━━━━━━━\u001b[0m\u001b[37m\u001b[0m \u001b[1m19s\u001b[0m 73ms/step - accuracy: 0.9739 - loss: 0.0885 - val_accuracy: 0.9770 - val_loss: 0.0725\n",
      "Epoch 3/15\n",
      "\u001b[1m255/255\u001b[0m \u001b[32m━━━━━━━━━━━━━━━━━━━━\u001b[0m\u001b[37m\u001b[0m \u001b[1m19s\u001b[0m 74ms/step - accuracy: 0.9791 - loss: 0.0640 - val_accuracy: 0.9794 - val_loss: 0.0644\n",
      "Epoch 4/15\n",
      "\u001b[1m255/255\u001b[0m \u001b[32m━━━━━━━━━━━━━━━━━━━━\u001b[0m\u001b[37m\u001b[0m \u001b[1m19s\u001b[0m 75ms/step - accuracy: 0.9824 - loss: 0.0514 - val_accuracy: 0.9807 - val_loss: 0.0610\n",
      "Epoch 5/15\n",
      "\u001b[1m255/255\u001b[0m \u001b[32m━━━━━━━━━━━━━━━━━━━━\u001b[0m\u001b[37m\u001b[0m \u001b[1m20s\u001b[0m 77ms/step - accuracy: 0.9850 - loss: 0.0433 - val_accuracy: 0.9808 - val_loss: 0.0618\n",
      "Epoch 6/15\n",
      "\u001b[1m255/255\u001b[0m \u001b[32m━━━━━━━━━━━━━━━━━━━━\u001b[0m\u001b[37m\u001b[0m \u001b[1m19s\u001b[0m 76ms/step - accuracy: 0.9870 - loss: 0.0378 - val_accuracy: 0.9806 - val_loss: 0.0651\n",
      "Epoch 7/15\n",
      "\u001b[1m255/255\u001b[0m \u001b[32m━━━━━━━━━━━━━━━━━━━━\u001b[0m\u001b[37m\u001b[0m \u001b[1m19s\u001b[0m 76ms/step - accuracy: 0.9887 - loss: 0.0328 - val_accuracy: 0.9792 - val_loss: 0.0680\n",
      "Epoch 8/15\n",
      "\u001b[1m255/255\u001b[0m \u001b[32m━━━━━━━━━━━━━━━━━━━━\u001b[0m\u001b[37m\u001b[0m \u001b[1m19s\u001b[0m 75ms/step - accuracy: 0.9900 - loss: 0.0291 - val_accuracy: 0.9811 - val_loss: 0.0747\n",
      "Epoch 9/15\n",
      "\u001b[1m255/255\u001b[0m \u001b[32m━━━━━━━━━━━━━━━━━━━━\u001b[0m\u001b[37m\u001b[0m \u001b[1m19s\u001b[0m 76ms/step - accuracy: 0.9910 - loss: 0.0260 - val_accuracy: 0.9806 - val_loss: 0.0786\n",
      "Epoch 10/15\n",
      "\u001b[1m255/255\u001b[0m \u001b[32m━━━━━━━━━━━━━━━━━━━━\u001b[0m\u001b[37m\u001b[0m \u001b[1m19s\u001b[0m 76ms/step - accuracy: 0.9922 - loss: 0.0229 - val_accuracy: 0.9805 - val_loss: 0.0819\n",
      "Epoch 11/15\n",
      "\u001b[1m255/255\u001b[0m \u001b[32m━━━━━━━━━━━━━━━━━━━━\u001b[0m\u001b[37m\u001b[0m \u001b[1m19s\u001b[0m 75ms/step - accuracy: 0.9929 - loss: 0.0208 - val_accuracy: 0.9803 - val_loss: 0.0891\n",
      "Epoch 12/15\n",
      "\u001b[1m255/255\u001b[0m \u001b[32m━━━━━━━━━━━━━━━━━━━━\u001b[0m\u001b[37m\u001b[0m \u001b[1m19s\u001b[0m 76ms/step - accuracy: 0.9937 - loss: 0.0185 - val_accuracy: 0.9798 - val_loss: 0.0910\n",
      "Epoch 13/15\n",
      "\u001b[1m255/255\u001b[0m \u001b[32m━━━━━━━━━━━━━━━━━━━━\u001b[0m\u001b[37m\u001b[0m \u001b[1m19s\u001b[0m 75ms/step - accuracy: 0.9948 - loss: 0.0155 - val_accuracy: 0.9797 - val_loss: 0.0953\n",
      "Epoch 14/15\n",
      "\u001b[1m255/255\u001b[0m \u001b[32m━━━━━━━━━━━━━━━━━━━━\u001b[0m\u001b[37m\u001b[0m \u001b[1m19s\u001b[0m 76ms/step - accuracy: 0.9956 - loss: 0.0133 - val_accuracy: 0.9791 - val_loss: 0.1007\n",
      "Epoch 15/15\n",
      "\u001b[1m255/255\u001b[0m \u001b[32m━━━━━━━━━━━━━━━━━━━━\u001b[0m\u001b[37m\u001b[0m \u001b[1m19s\u001b[0m 76ms/step - accuracy: 0.9962 - loss: 0.0117 - val_accuracy: 0.9793 - val_loss: 0.1034\n"
     ]
    }
   ],
   "source": [
    "history = model.fit(train_dataset,\n",
    "                    validation_data=val_dataset,\n",
    "                    epochs=15)"
   ]
  },
  {
   "cell_type": "code",
   "execution_count": 50,
   "id": "7493c756",
   "metadata": {
    "execution": {
     "iopub.execute_input": "2024-11-04T16:26:08.967996Z",
     "iopub.status.busy": "2024-11-04T16:26:08.967604Z",
     "iopub.status.idle": "2024-11-04T16:26:10.078794Z",
     "shell.execute_reply": "2024-11-04T16:26:10.077783Z"
    },
    "papermill": {
     "duration": 1.457276,
     "end_time": "2024-11-04T16:26:10.080980",
     "exception": false,
     "start_time": "2024-11-04T16:26:08.623704",
     "status": "completed"
    },
    "tags": []
   },
   "outputs": [
    {
     "name": "stdout",
     "output_type": "stream",
     "text": [
      "\u001b[1m55/55\u001b[0m \u001b[32m━━━━━━━━━━━━━━━━━━━━\u001b[0m\u001b[37m\u001b[0m \u001b[1m1s\u001b[0m 20ms/step - accuracy: 0.9799 - loss: 0.1008\n"
     ]
    },
    {
     "data": {
      "text/plain": [
       "[0.10205093026161194, 0.979738175868988]"
      ]
     },
     "execution_count": 50,
     "metadata": {},
     "output_type": "execute_result"
    }
   ],
   "source": [
    "model.evaluate(test_dataset)"
   ]
  },
  {
   "cell_type": "code",
   "execution_count": 51,
   "id": "a4e90419",
   "metadata": {
    "execution": {
     "iopub.execute_input": "2024-11-04T16:26:10.782674Z",
     "iopub.status.busy": "2024-11-04T16:26:10.782275Z",
     "iopub.status.idle": "2024-11-04T16:26:11.501477Z",
     "shell.execute_reply": "2024-11-04T16:26:11.500374Z"
    },
    "papermill": {
     "duration": 1.074567,
     "end_time": "2024-11-04T16:26:11.503712",
     "exception": false,
     "start_time": "2024-11-04T16:26:10.429145",
     "status": "completed"
    },
    "tags": []
   },
   "outputs": [
    {
     "data": {
      "image/png": "[encoded data removed]",
      "text/plain": [
       "<Figure size 480x320 with 2 Axes>"
      ]
     },
     "metadata": {},
     "output_type": "display_data"
    }
   ],
   "source": [
    "acc = history.history['accuracy']\n",
    "val_acc = history.history['val_accuracy']\n",
    "\n",
    "loss = history.history['loss']\n",
    "val_loss = history.history['val_loss']\n",
    "\n",
    "epochs = range(1, len(acc) + 1)\n",
    "\n",
    "fig, ax = plt.subplots(1, 2, constrained_layout=True, figsize=(6, 4), dpi=80)\n",
    "\n",
    "ax[0].plot(epochs, acc, label = \"Training Accuracy\", color='darkblue')\n",
    "ax[0].plot(epochs, val_acc, label = \"Validation Accuracy\", color='darkgreen')\n",
    "ax[0].grid(alpha=0.3)\n",
    "ax[0].title.set_text('Training Vs Validation Accuracy')\n",
    "ax[0].fill_between(epochs, acc, val_acc, color='crimson', alpha=0.3)\n",
    "plt.setp(ax[0], xlabel='Epochs')\n",
    "plt.setp(ax[0], ylabel='Accuracy')\n",
    "\n",
    "\n",
    "ax[1].plot(epochs, loss, label = \"Training Loss\", color='darkblue')\n",
    "ax[1].plot(epochs, val_loss, label = \"Validation Loss\", color='darkgreen')\n",
    "ax[1].grid(alpha=0.3)\n",
    "ax[1].title.set_text('Training Vs Validation Loss')\n",
    "ax[1].fill_between(epochs,loss, val_loss, color='crimson', alpha=0.3)\n",
    "plt.setp(ax[1], xlabel='Epochs')\n",
    "plt.setp(ax[1], ylabel='Loss')\n",
    "\n",
    "plt.show()"
   ]
  },
  {
   "cell_type": "code",
   "execution_count": 52,
   "id": "5c94b4c7",
   "metadata": {
    "execution": {
     "iopub.execute_input": "2024-11-04T16:26:12.203887Z",
     "iopub.status.busy": "2024-11-04T16:26:12.203476Z",
     "iopub.status.idle": "2024-11-04T16:26:12.211448Z",
     "shell.execute_reply": "2024-11-04T16:26:12.210401Z"
    },
    "papermill": {
     "duration": 0.362946,
     "end_time": "2024-11-04T16:26:12.213600",
     "exception": false,
     "start_time": "2024-11-04T16:26:11.850654",
     "status": "completed"
    },
    "tags": []
   },
   "outputs": [],
   "source": [
    "def make_prediction(model, preprocessed_sentence, id2word, id2tag):\n",
    "    \n",
    "    #if preprocessed_sentence.shape() != (1, 110):\n",
    "    preprocessed_sentence = preprocessed_sentence.reshape((1, 110))\n",
    "     \n",
    "    # return preprocessed sentence to its orginal form\n",
    "    sentence = preprocessed_sentence[preprocessed_sentence > 0]\n",
    "    word_list = []\n",
    "    for word in list(sentence):\n",
    "        word_list.append(id2word[word])\n",
    "    orginal_sententce = ' '.join(word_list)\n",
    "    \n",
    "    len_orginal_sententce = len(word_list)\n",
    "    \n",
    "    # make prediction\n",
    "    prediction = model.predict(preprocessed_sentence)\n",
    "    prediction = np.argmax(prediction[0], axis=1)\n",
    "    \n",
    "    # return the prediction to its orginal form\n",
    "    prediction = list(prediction)[ : len_orginal_sententce] \n",
    "    \n",
    "    pred_tag_list = []\n",
    "    for tag_id in prediction:\n",
    "        pred_tag_list.append(id2tag[tag_id])\n",
    "    \n",
    "    return orginal_sententce,  pred_tag_list"
   ]
  },
  {
   "cell_type": "code",
   "execution_count": 53,
   "id": "d2d44ee4",
   "metadata": {
    "execution": {
     "iopub.execute_input": "2024-11-04T16:26:12.995788Z",
     "iopub.status.busy": "2024-11-04T16:26:12.995365Z",
     "iopub.status.idle": "2024-11-04T16:26:14.381703Z",
     "shell.execute_reply": "2024-11-04T16:26:14.380740Z"
    },
    "papermill": {
     "duration": 1.802456,
     "end_time": "2024-11-04T16:26:14.383849",
     "exception": false,
     "start_time": "2024-11-04T16:26:12.581393",
     "status": "completed"
    },
    "tags": []
   },
   "outputs": [
    {
     "name": "stdout",
     "output_type": "stream",
     "text": [
      "\u001b[1m1/1\u001b[0m \u001b[32m━━━━━━━━━━━━━━━━━━━━\u001b[0m\u001b[37m\u001b[0m \u001b[1m1s\u001b[0m 1s/step\n"
     ]
    }
   ],
   "source": [
    "orginal_sententce,  pred_tag_list = make_prediction(model=model,\n",
    "                                                    preprocessed_sentence=X_test[520],\n",
    "                                                    id2word=id2word,\n",
    "                                                    id2tag=id2tag)"
   ]
  },
  {
   "cell_type": "code",
   "execution_count": 54,
   "id": "2e55fe5c",
   "metadata": {
    "execution": {
     "iopub.execute_input": "2024-11-04T16:26:15.097189Z",
     "iopub.status.busy": "2024-11-04T16:26:15.096744Z",
     "iopub.status.idle": "2024-11-04T16:26:15.102547Z",
     "shell.execute_reply": "2024-11-04T16:26:15.101440Z"
    },
    "papermill": {
     "duration": 0.380958,
     "end_time": "2024-11-04T16:26:15.105187",
     "exception": false,
     "start_time": "2024-11-04T16:26:14.724229",
     "status": "completed"
    },
    "tags": []
   },
   "outputs": [
    {
     "name": "stdout",
     "output_type": "stream",
     "text": [
      "mr obama has made one visit to sub saharan africa since becoming president to ghana in july\n"
     ]
    }
   ],
   "source": [
    "print(orginal_sententce)"
   ]
  },
  {
   "cell_type": "code",
   "execution_count": 55,
   "id": "39be4c7d",
   "metadata": {
    "execution": {
     "iopub.execute_input": "2024-11-04T16:26:15.815778Z",
     "iopub.status.busy": "2024-11-04T16:26:15.815024Z",
     "iopub.status.idle": "2024-11-04T16:26:15.820234Z",
     "shell.execute_reply": "2024-11-04T16:26:15.819281Z"
    },
    "papermill": {
     "duration": 0.357335,
     "end_time": "2024-11-04T16:26:15.822706",
     "exception": false,
     "start_time": "2024-11-04T16:26:15.465371",
     "status": "completed"
    },
    "tags": []
   },
   "outputs": [
    {
     "name": "stdout",
     "output_type": "stream",
     "text": [
      "['B-per', 'I-per', 'O', 'O', 'O', 'O', 'O', 'B-geo', 'I-geo', 'O', 'O', 'O', 'O', 'O', 'O', 'B-tim', 'B-tim']\n"
     ]
    }
   ],
   "source": [
    "print(pred_tag_list)"
   ]
  },
  {
   "cell_type": "code",
   "execution_count": null,
   "id": "9ff2983b",
   "metadata": {
    "papermill": {
     "duration": 0.346973,
     "end_time": "2024-11-04T16:26:16.510565",
     "exception": false,
     "start_time": "2024-11-04T16:26:16.163592",
     "status": "completed"
    },
    "tags": []
   },
   "outputs": [],
   "source": []
  }
 ],
 "metadata": {
  "kaggle": {
   "accelerator": "nvidiaTeslaT4",
   "dataSources": [
    {
     "datasetId": 6000585,
     "sourceId": 9792467,
     "sourceType": "datasetVersion"
    }
   ],
   "dockerImageVersionId": 30787,
   "isGpuEnabled": true,
   "isInternetEnabled": true,
   "language": "python",
   "sourceType": "notebook"
  },
  "kernelspec": {
   "display_name": "Python 3",
   "language": "python",
   "name": "python3"
  },
  "language_info": {
   "codemirror_mode": {
    "name": "ipython",
    "version": 3
   },
   "file_extension": ".py",
   "mimetype": "text/x-python",
   "name": "python",
   "nbconvert_exporter": "python",
   "pygments_lexer": "ipython3",
   "version": "3.10.14"
  },
  "papermill": {
   "default_parameters": {},
   "duration": 620.62347,
   "end_time": "2024-11-04T16:26:20.218574",
   "environment_variables": {},
   "exception": null,
   "input_path": "__notebook__.ipynb",
   "output_path": "__notebook__.ipynb",
   "parameters": {},
   "start_time": "2024-11-04T16:15:59.595104",
   "version": "2.6.0"
  }
 },
 "nbformat": 4,
 "nbformat_minor": 5
}
