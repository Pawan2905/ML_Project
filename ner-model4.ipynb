{
 "cells": [
  {
   "cell_type": "markdown",
   "id": "d8be19ce",
   "metadata": {
    "papermill": {
     "duration": 0.017844,
     "end_time": "2024-11-04T18:41:53.405302",
     "exception": false,
     "start_time": "2024-11-04T18:41:53.387458",
     "status": "completed"
    },
    "tags": []
   },
   "source": [
    "## Imported Required Libraries"
   ]
  },
  {
   "cell_type": "code",
   "execution_count": 1,
   "id": "a827dae7",
   "metadata": {
    "execution": {
     "iopub.execute_input": "2024-11-04T18:41:53.437648Z",
     "iopub.status.busy": "2024-11-04T18:41:53.436923Z",
     "iopub.status.idle": "2024-11-04T18:42:06.755435Z",
     "shell.execute_reply": "2024-11-04T18:42:06.754220Z"
    },
    "papermill": {
     "duration": 13.33759,
     "end_time": "2024-11-04T18:42:06.758107",
     "exception": false,
     "start_time": "2024-11-04T18:41:53.420517",
     "status": "completed"
    },
    "tags": []
   },
   "outputs": [
    {
     "name": "stdout",
     "output_type": "stream",
     "text": [
      "Collecting sklearn_crfsuite\r\n",
      "  Downloading sklearn_crfsuite-0.5.0-py2.py3-none-any.whl.metadata (4.9 kB)\r\n",
      "Collecting python-crfsuite>=0.9.7 (from sklearn_crfsuite)\r\n",
      "  Downloading python_crfsuite-0.9.11-cp310-cp310-manylinux_2_17_x86_64.manylinux2014_x86_64.whl.metadata (4.3 kB)\r\n",
      "Requirement already satisfied: scikit-learn>=0.24.0 in /opt/conda/lib/python3.10/site-packages (from sklearn_crfsuite) (1.2.2)\r\n",
      "Requirement already satisfied: tabulate>=0.4.2 in /opt/conda/lib/python3.10/site-packages (from sklearn_crfsuite) (0.9.0)\r\n",
      "Requirement already satisfied: tqdm>=2.0 in /opt/conda/lib/python3.10/site-packages (from sklearn_crfsuite) (4.66.4)\r\n",
      "Requirement already satisfied: numpy>=1.17.3 in /opt/conda/lib/python3.10/site-packages (from scikit-learn>=0.24.0->sklearn_crfsuite) (1.26.4)\r\n",
      "Requirement already satisfied: scipy>=1.3.2 in /opt/conda/lib/python3.10/site-packages (from scikit-learn>=0.24.0->sklearn_crfsuite) (1.14.1)\r\n",
      "Requirement already satisfied: joblib>=1.1.1 in /opt/conda/lib/python3.10/site-packages (from scikit-learn>=0.24.0->sklearn_crfsuite) (1.4.2)\r\n",
      "Requirement already satisfied: threadpoolctl>=2.0.0 in /opt/conda/lib/python3.10/site-packages (from scikit-learn>=0.24.0->sklearn_crfsuite) (3.5.0)\r\n",
      "Downloading sklearn_crfsuite-0.5.0-py2.py3-none-any.whl (10 kB)\r\n",
      "Downloading python_crfsuite-0.9.11-cp310-cp310-manylinux_2_17_x86_64.manylinux2014_x86_64.whl (1.2 MB)\r\n",
      "\u001b[2K   \u001b[90m━━━━━━━━━━━━━━━━━━━━━━━━━━━━━━━━━━━━━━━━\u001b[0m \u001b[32m1.2/1.2 MB\u001b[0m \u001b[31m21.2 MB/s\u001b[0m eta \u001b[36m0:00:00\u001b[0m\r\n",
      "\u001b[?25hInstalling collected packages: python-crfsuite, sklearn_crfsuite\r\n",
      "Successfully installed python-crfsuite-0.9.11 sklearn_crfsuite-0.5.0\r\n"
     ]
    }
   ],
   "source": [
    "!pip install sklearn_crfsuite"
   ]
  },
  {
   "cell_type": "code",
   "execution_count": 2,
   "id": "10840fcc",
   "metadata": {
    "execution": {
     "iopub.execute_input": "2024-11-04T18:42:06.792592Z",
     "iopub.status.busy": "2024-11-04T18:42:06.792213Z",
     "iopub.status.idle": "2024-11-04T18:42:22.885412Z",
     "shell.execute_reply": "2024-11-04T18:42:22.884298Z"
    },
    "papermill": {
     "duration": 16.113287,
     "end_time": "2024-11-04T18:42:22.887848",
     "exception": false,
     "start_time": "2024-11-04T18:42:06.774561",
     "status": "completed"
    },
    "tags": []
   },
   "outputs": [
    {
     "name": "stderr",
     "output_type": "stream",
     "text": [
      "/tmp/ipykernel_24/925594248.py:15: FutureWarning: DataFrame.fillna with 'method' is deprecated and will raise in a future version. Use obj.ffill() or obj.bfill() instead.\n",
      "  data = pd.read_csv(data_path, encoding='latin1').fillna(method=\"ffill\")\n"
     ]
    }
   ],
   "source": [
    "import pandas as pd\n",
    "from sklearn_crfsuite import CRF, metrics\n",
    "import sklearn_crfsuite\n",
    "from sklearn.model_selection import train_test_split\n",
    "\n",
    "from tensorflow.keras.layers import Embedding, Bidirectional, LSTM, Dense, TimeDistributed, Dropout\n",
    "from tensorflow.keras.models import Sequential\n",
    "from tensorflow.keras.preprocessing.sequence import pad_sequences\n",
    "from tensorflow.keras.utils import to_categorical\n",
    "from sklearn.metrics import classification_report\n",
    "\n",
    "\n",
    "# Load the dataset\n",
    "data_path = '/kaggle/input/ner-dataset1/ner_dataset.csv'\n",
    "data = pd.read_csv(data_path, encoding='latin1').fillna(method=\"ffill\")\n"
   ]
  },
  {
   "cell_type": "code",
   "execution_count": 3,
   "id": "0dddc84d",
   "metadata": {
    "execution": {
     "iopub.execute_input": "2024-11-04T18:42:22.923610Z",
     "iopub.status.busy": "2024-11-04T18:42:22.923121Z",
     "iopub.status.idle": "2024-11-04T18:42:22.942414Z",
     "shell.execute_reply": "2024-11-04T18:42:22.941539Z"
    },
    "papermill": {
     "duration": 0.039835,
     "end_time": "2024-11-04T18:42:22.944463",
     "exception": false,
     "start_time": "2024-11-04T18:42:22.904628",
     "status": "completed"
    },
    "tags": []
   },
   "outputs": [
    {
     "data": {
      "text/html": [
       "<div>\n",
       "<style scoped>\n",
       "    .dataframe tbody tr th:only-of-type {\n",
       "        vertical-align: middle;\n",
       "    }\n",
       "\n",
       "    .dataframe tbody tr th {\n",
       "        vertical-align: top;\n",
       "    }\n",
       "\n",
       "    .dataframe thead th {\n",
       "        text-align: right;\n",
       "    }\n",
       "</style>\n",
       "<table border=\"1\" class=\"dataframe\">\n",
       "  <thead>\n",
       "    <tr style=\"text-align: right;\">\n",
       "      <th></th>\n",
       "      <th>Sentence #</th>\n",
       "      <th>Word</th>\n",
       "      <th>POS</th>\n",
       "      <th>Tag</th>\n",
       "    </tr>\n",
       "  </thead>\n",
       "  <tbody>\n",
       "    <tr>\n",
       "      <th>0</th>\n",
       "      <td>Sentence: 1</td>\n",
       "      <td>Thousands</td>\n",
       "      <td>NNS</td>\n",
       "      <td>O</td>\n",
       "    </tr>\n",
       "    <tr>\n",
       "      <th>1</th>\n",
       "      <td>Sentence: 1</td>\n",
       "      <td>of</td>\n",
       "      <td>IN</td>\n",
       "      <td>O</td>\n",
       "    </tr>\n",
       "    <tr>\n",
       "      <th>2</th>\n",
       "      <td>Sentence: 1</td>\n",
       "      <td>demonstrators</td>\n",
       "      <td>NNS</td>\n",
       "      <td>O</td>\n",
       "    </tr>\n",
       "    <tr>\n",
       "      <th>3</th>\n",
       "      <td>Sentence: 1</td>\n",
       "      <td>have</td>\n",
       "      <td>VBP</td>\n",
       "      <td>O</td>\n",
       "    </tr>\n",
       "    <tr>\n",
       "      <th>4</th>\n",
       "      <td>Sentence: 1</td>\n",
       "      <td>marched</td>\n",
       "      <td>VBN</td>\n",
       "      <td>O</td>\n",
       "    </tr>\n",
       "  </tbody>\n",
       "</table>\n",
       "</div>"
      ],
      "text/plain": [
       "    Sentence #           Word  POS Tag\n",
       "0  Sentence: 1      Thousands  NNS   O\n",
       "1  Sentence: 1             of   IN   O\n",
       "2  Sentence: 1  demonstrators  NNS   O\n",
       "3  Sentence: 1           have  VBP   O\n",
       "4  Sentence: 1        marched  VBN   O"
      ]
     },
     "execution_count": 3,
     "metadata": {},
     "output_type": "execute_result"
    }
   ],
   "source": [
    "data.head()"
   ]
  },
  {
   "cell_type": "code",
   "execution_count": 4,
   "id": "a37e0a11",
   "metadata": {
    "_cell_guid": "b1076dfc-b9ad-4769-8c92-a6c4dae69d19",
    "_uuid": "8f2839f25d086af736a60e9eeb907d3b93b6e0e5",
    "execution": {
     "iopub.execute_input": "2024-11-04T18:42:22.979015Z",
     "iopub.status.busy": "2024-11-04T18:42:22.978707Z",
     "iopub.status.idle": "2024-11-04T18:44:16.607070Z",
     "shell.execute_reply": "2024-11-04T18:44:16.606057Z"
    },
    "papermill": {
     "duration": 113.647885,
     "end_time": "2024-11-04T18:44:16.609579",
     "exception": false,
     "start_time": "2024-11-04T18:42:22.961694",
     "status": "completed"
    },
    "tags": []
   },
   "outputs": [],
   "source": [
    "# Feature extraction function\n",
    "def extract_features(sentence):\n",
    "    return [\n",
    "        {\n",
    "            'word': word,\n",
    "            'is_title': word.istitle(),\n",
    "            'is_upper': word.isupper(),\n",
    "            'is_digit': word.isdigit()\n",
    "        }\n",
    "        for word in sentence\n",
    "    ]\n",
    "\n",
    "# Prepare data for CRF\n",
    "sentences = [[row['Word'] for _, row in group.iterrows()] for _, group in data.groupby('Sentence #')]\n",
    "tags = [[row['Tag'] for _, row in group.iterrows()] for _, group in data.groupby('Sentence #')]"
   ]
  },
  {
   "cell_type": "code",
   "execution_count": 5,
   "id": "eea52f1a",
   "metadata": {
    "execution": {
     "iopub.execute_input": "2024-11-04T18:44:16.643835Z",
     "iopub.status.busy": "2024-11-04T18:44:16.643497Z",
     "iopub.status.idle": "2024-11-04T18:44:16.648037Z",
     "shell.execute_reply": "2024-11-04T18:44:16.647229Z"
    },
    "papermill": {
     "duration": 0.023687,
     "end_time": "2024-11-04T18:44:16.650001",
     "exception": false,
     "start_time": "2024-11-04T18:44:16.626314",
     "status": "completed"
    },
    "tags": []
   },
   "outputs": [
    {
     "name": "stdout",
     "output_type": "stream",
     "text": [
      "['Thousands', 'of', 'demonstrators', 'have', 'marched', 'through', 'London', 'to', 'protest', 'the', 'war', 'in', 'Iraq', 'and', 'demand', 'the', 'withdrawal', 'of', 'British', 'troops', 'from', 'that', 'country', '.']\n"
     ]
    }
   ],
   "source": [
    "print(sentences[0])"
   ]
  },
  {
   "cell_type": "code",
   "execution_count": 6,
   "id": "099469dd",
   "metadata": {
    "execution": {
     "iopub.execute_input": "2024-11-04T18:44:16.683658Z",
     "iopub.status.busy": "2024-11-04T18:44:16.683366Z",
     "iopub.status.idle": "2024-11-04T18:44:16.687671Z",
     "shell.execute_reply": "2024-11-04T18:44:16.686846Z"
    },
    "papermill": {
     "duration": 0.023421,
     "end_time": "2024-11-04T18:44:16.689588",
     "exception": false,
     "start_time": "2024-11-04T18:44:16.666167",
     "status": "completed"
    },
    "tags": []
   },
   "outputs": [
    {
     "name": "stdout",
     "output_type": "stream",
     "text": [
      "['O', 'O', 'O', 'O', 'O', 'O', 'B-geo', 'O', 'O', 'O', 'O', 'O', 'B-geo', 'O', 'O', 'O', 'O', 'O', 'B-gpe', 'O', 'O', 'O', 'O', 'O']\n"
     ]
    }
   ],
   "source": [
    "print(tags[0])"
   ]
  },
  {
   "cell_type": "code",
   "execution_count": 7,
   "id": "cb075dda",
   "metadata": {
    "execution": {
     "iopub.execute_input": "2024-11-04T18:44:16.723377Z",
     "iopub.status.busy": "2024-11-04T18:44:16.722858Z",
     "iopub.status.idle": "2024-11-04T18:44:17.368852Z",
     "shell.execute_reply": "2024-11-04T18:44:17.368060Z"
    },
    "papermill": {
     "duration": 0.665281,
     "end_time": "2024-11-04T18:44:17.371074",
     "exception": false,
     "start_time": "2024-11-04T18:44:16.705793",
     "status": "completed"
    },
    "tags": []
   },
   "outputs": [],
   "source": [
    "from sklearn.model_selection import train_test_split\n",
    "X = [extract_features(sentence) for sentence in sentences]\n",
    "y = tags\n",
    "\n",
    "# Train-Test Split\n",
    "X_train, X_test, y_train, y_test = train_test_split(X, y, test_size=0.2, random_state=42)"
   ]
  },
  {
   "cell_type": "code",
   "execution_count": 8,
   "id": "b166707a",
   "metadata": {
    "execution": {
     "iopub.execute_input": "2024-11-04T18:44:17.405595Z",
     "iopub.status.busy": "2024-11-04T18:44:17.405239Z",
     "iopub.status.idle": "2024-11-04T18:46:18.327566Z",
     "shell.execute_reply": "2024-11-04T18:46:18.326587Z"
    },
    "papermill": {
     "duration": 120.958704,
     "end_time": "2024-11-04T18:46:18.346412",
     "exception": false,
     "start_time": "2024-11-04T18:44:17.387708",
     "status": "completed"
    },
    "tags": []
   },
   "outputs": [
    {
     "data": {
      "text/html": [
       "<style>#sk-container-id-1 {color: black;background-color: white;}#sk-container-id-1 pre{padding: 0;}#sk-container-id-1 div.sk-toggleable {background-color: white;}#sk-container-id-1 label.sk-toggleable__label {cursor: pointer;display: block;width: 100%;margin-bottom: 0;padding: 0.3em;box-sizing: border-box;text-align: center;}#sk-container-id-1 label.sk-toggleable__label-arrow:before {content: \"▸\";float: left;margin-right: 0.25em;color: #696969;}#sk-container-id-1 label.sk-toggleable__label-arrow:hover:before {color: black;}#sk-container-id-1 div.sk-estimator:hover label.sk-toggleable__label-arrow:before {color: black;}#sk-container-id-1 div.sk-toggleable__content {max-height: 0;max-width: 0;overflow: hidden;text-align: left;background-color: #f0f8ff;}#sk-container-id-1 div.sk-toggleable__content pre {margin: 0.2em;color: black;border-radius: 0.25em;background-color: #f0f8ff;}#sk-container-id-1 input.sk-toggleable__control:checked~div.sk-toggleable__content {max-height: 200px;max-width: 100%;overflow: auto;}#sk-container-id-1 input.sk-toggleable__control:checked~label.sk-toggleable__label-arrow:before {content: \"▾\";}#sk-container-id-1 div.sk-estimator input.sk-toggleable__control:checked~label.sk-toggleable__label {background-color: #d4ebff;}#sk-container-id-1 div.sk-label input.sk-toggleable__control:checked~label.sk-toggleable__label {background-color: #d4ebff;}#sk-container-id-1 input.sk-hidden--visually {border: 0;clip: rect(1px 1px 1px 1px);clip: rect(1px, 1px, 1px, 1px);height: 1px;margin: -1px;overflow: hidden;padding: 0;position: absolute;width: 1px;}#sk-container-id-1 div.sk-estimator {font-family: monospace;background-color: #f0f8ff;border: 1px dotted black;border-radius: 0.25em;box-sizing: border-box;margin-bottom: 0.5em;}#sk-container-id-1 div.sk-estimator:hover {background-color: #d4ebff;}#sk-container-id-1 div.sk-parallel-item::after {content: \"\";width: 100%;border-bottom: 1px solid gray;flex-grow: 1;}#sk-container-id-1 div.sk-label:hover label.sk-toggleable__label {background-color: #d4ebff;}#sk-container-id-1 div.sk-serial::before {content: \"\";position: absolute;border-left: 1px solid gray;box-sizing: border-box;top: 0;bottom: 0;left: 50%;z-index: 0;}#sk-container-id-1 div.sk-serial {display: flex;flex-direction: column;align-items: center;background-color: white;padding-right: 0.2em;padding-left: 0.2em;position: relative;}#sk-container-id-1 div.sk-item {position: relative;z-index: 1;}#sk-container-id-1 div.sk-parallel {display: flex;align-items: stretch;justify-content: center;background-color: white;position: relative;}#sk-container-id-1 div.sk-item::before, #sk-container-id-1 div.sk-parallel-item::before {content: \"\";position: absolute;border-left: 1px solid gray;box-sizing: border-box;top: 0;bottom: 0;left: 50%;z-index: -1;}#sk-container-id-1 div.sk-parallel-item {display: flex;flex-direction: column;z-index: 1;position: relative;background-color: white;}#sk-container-id-1 div.sk-parallel-item:first-child::after {align-self: flex-end;width: 50%;}#sk-container-id-1 div.sk-parallel-item:last-child::after {align-self: flex-start;width: 50%;}#sk-container-id-1 div.sk-parallel-item:only-child::after {width: 0;}#sk-container-id-1 div.sk-dashed-wrapped {border: 1px dashed gray;margin: 0 0.4em 0.5em 0.4em;box-sizing: border-box;padding-bottom: 0.4em;background-color: white;}#sk-container-id-1 div.sk-label label {font-family: monospace;font-weight: bold;display: inline-block;line-height: 1.2em;}#sk-container-id-1 div.sk-label-container {text-align: center;}#sk-container-id-1 div.sk-container {/* jupyter's `normalize.less` sets `[hidden] { display: none; }` but bootstrap.min.css set `[hidden] { display: none !important; }` so we also need the `!important` here to be able to override the default hidden behavior on the sphinx rendered scikit-learn.org. See: https://github.com/scikit-learn/scikit-learn/issues/21755 */display: inline-block !important;position: relative;}#sk-container-id-1 div.sk-text-repr-fallback {display: none;}</style><div id=\"sk-container-id-1\" class=\"sk-top-container\"><div class=\"sk-text-repr-fallback\"><pre>CRF(algorithm=&#x27;lbfgs&#x27;, max_iterations=100)</pre><b>In a Jupyter environment, please rerun this cell to show the HTML representation or trust the notebook. <br />On GitHub, the HTML representation is unable to render, please try loading this page with nbviewer.org.</b></div><div class=\"sk-container\" hidden><div class=\"sk-item\"><div class=\"sk-estimator sk-toggleable\"><input class=\"sk-toggleable__control sk-hidden--visually\" id=\"sk-estimator-id-1\" type=\"checkbox\" checked><label for=\"sk-estimator-id-1\" class=\"sk-toggleable__label sk-toggleable__label-arrow\">CRF</label><div class=\"sk-toggleable__content\"><pre>CRF(algorithm=&#x27;lbfgs&#x27;, max_iterations=100)</pre></div></div></div></div></div>"
      ],
      "text/plain": [
       "CRF(algorithm='lbfgs', max_iterations=100)"
      ]
     },
     "execution_count": 8,
     "metadata": {},
     "output_type": "execute_result"
    }
   ],
   "source": [
    "# CRF Model\n",
    "crf = CRF(algorithm='lbfgs', max_iterations=100)\n",
    "crf.fit(X_train, y_train)"
   ]
  },
  {
   "cell_type": "code",
   "execution_count": 9,
   "id": "554a51c8",
   "metadata": {
    "execution": {
     "iopub.execute_input": "2024-11-04T18:46:18.383553Z",
     "iopub.status.busy": "2024-11-04T18:46:18.383185Z",
     "iopub.status.idle": "2024-11-04T18:46:21.795883Z",
     "shell.execute_reply": "2024-11-04T18:46:21.794320Z"
    },
    "papermill": {
     "duration": 3.434847,
     "end_time": "2024-11-04T18:46:21.799081",
     "exception": false,
     "start_time": "2024-11-04T18:46:18.364234",
     "status": "completed"
    },
    "tags": []
   },
   "outputs": [
    {
     "name": "stdout",
     "output_type": "stream",
     "text": [
      "CRF Model Evaluation Report:\n"
     ]
    },
    {
     "name": "stderr",
     "output_type": "stream",
     "text": [
      "/opt/conda/lib/python3.10/site-packages/sklearn/metrics/_classification.py:1344: UndefinedMetricWarning: Precision and F-score are ill-defined and being set to 0.0 in labels with no predicted samples. Use `zero_division` parameter to control this behavior.\n",
      "  _warn_prf(average, modifier, msg_start, len(result))\n",
      "/opt/conda/lib/python3.10/site-packages/sklearn/metrics/_classification.py:1344: UndefinedMetricWarning: Precision and F-score are ill-defined and being set to 0.0 in labels with no predicted samples. Use `zero_division` parameter to control this behavior.\n",
      "  _warn_prf(average, modifier, msg_start, len(result))\n"
     ]
    },
    {
     "name": "stdout",
     "output_type": "stream",
     "text": [
      "              precision    recall  f1-score   support\n",
      "\n",
      "       B-art       0.00      0.00      0.00        94\n",
      "       B-eve       0.37      0.16      0.22        70\n",
      "       B-geo       0.77      0.90      0.83      7558\n",
      "       B-gpe       0.98      0.86      0.91      3142\n",
      "       B-nat       0.00      0.00      0.00        40\n",
      "       B-org       0.79      0.64      0.71      4151\n",
      "       B-per       0.79      0.68      0.73      3400\n",
      "       B-tim       0.92      0.74      0.82      4077\n",
      "       I-art       0.00      0.00      0.00        84\n",
      "       I-eve       0.34      0.31      0.33        65\n",
      "       I-geo       0.82      0.69      0.75      1462\n",
      "       I-gpe       0.94      0.45      0.61        33\n",
      "       I-nat       0.00      0.00      0.00        13\n",
      "       I-org       0.70      0.77      0.74      3394\n",
      "       I-per       0.75      0.87      0.81      3406\n",
      "       I-tim       0.75      0.64      0.69      1251\n",
      "           O       0.98      0.99      0.99    177590\n",
      "\n",
      "    accuracy                           0.96    209830\n",
      "   macro avg       0.58      0.51      0.54    209830\n",
      "weighted avg       0.96      0.96      0.96    209830\n",
      "\n"
     ]
    },
    {
     "name": "stderr",
     "output_type": "stream",
     "text": [
      "/opt/conda/lib/python3.10/site-packages/sklearn/metrics/_classification.py:1344: UndefinedMetricWarning: Precision and F-score are ill-defined and being set to 0.0 in labels with no predicted samples. Use `zero_division` parameter to control this behavior.\n",
      "  _warn_prf(average, modifier, msg_start, len(result))\n"
     ]
    }
   ],
   "source": [
    "# Prediction and Evaluation\n",
    "y_pred = crf.predict(X_test)\n",
    "print(\"CRF Model Evaluation Report:\")\n",
    "print(metrics.flat_classification_report(y_test, y_pred))"
   ]
  },
  {
   "cell_type": "code",
   "execution_count": 10,
   "id": "474706de",
   "metadata": {
    "execution": {
     "iopub.execute_input": "2024-11-04T18:46:21.834859Z",
     "iopub.status.busy": "2024-11-04T18:46:21.834531Z",
     "iopub.status.idle": "2024-11-04T18:46:29.003131Z",
     "shell.execute_reply": "2024-11-04T18:46:29.002172Z"
    },
    "papermill": {
     "duration": 7.188771,
     "end_time": "2024-11-04T18:46:29.005487",
     "exception": false,
     "start_time": "2024-11-04T18:46:21.816716",
     "status": "completed"
    },
    "tags": []
   },
   "outputs": [
    {
     "name": "stdout",
     "output_type": "stream",
     "text": [
      "CRF Model Evaluation Report:\n"
     ]
    },
    {
     "name": "stderr",
     "output_type": "stream",
     "text": [
      "/opt/conda/lib/python3.10/site-packages/sklearn/metrics/_classification.py:1344: UndefinedMetricWarning: Precision and F-score are ill-defined and being set to 0.0 in labels with no predicted samples. Use `zero_division` parameter to control this behavior.\n",
      "  _warn_prf(average, modifier, msg_start, len(result))\n",
      "/opt/conda/lib/python3.10/site-packages/sklearn/metrics/_classification.py:1344: UndefinedMetricWarning: Precision and F-score are ill-defined and being set to 0.0 in labels with no predicted samples. Use `zero_division` parameter to control this behavior.\n",
      "  _warn_prf(average, modifier, msg_start, len(result))\n",
      "/opt/conda/lib/python3.10/site-packages/sklearn/metrics/_classification.py:1344: UndefinedMetricWarning: Precision and F-score are ill-defined and being set to 0.0 in labels with no predicted samples. Use `zero_division` parameter to control this behavior.\n",
      "  _warn_prf(average, modifier, msg_start, len(result))\n"
     ]
    },
    {
     "name": "stdout",
     "output_type": "stream",
     "text": [
      "              precision    recall  f1-score   support\n",
      "\n",
      "       B-art       0.00      0.00      0.00        94\n",
      "       B-eve       0.37      0.16      0.22        70\n",
      "       B-geo       0.77      0.90      0.83      7558\n",
      "       B-gpe       0.98      0.86      0.91      3142\n",
      "       B-nat       0.00      0.00      0.00        40\n",
      "       B-org       0.79      0.64      0.71      4151\n",
      "       B-per       0.79      0.68      0.73      3400\n",
      "       B-tim       0.92      0.74      0.82      4077\n",
      "       I-art       0.00      0.00      0.00        84\n",
      "       I-eve       0.34      0.31      0.33        65\n",
      "       I-geo       0.82      0.69      0.75      1462\n",
      "       I-gpe       0.94      0.45      0.61        33\n",
      "       I-nat       0.00      0.00      0.00        13\n",
      "       I-org       0.70      0.77      0.74      3394\n",
      "       I-per       0.75      0.87      0.81      3406\n",
      "       I-tim       0.75      0.64      0.69      1251\n",
      "           O       0.98      0.99      0.99    177590\n",
      "\n",
      "    accuracy                           0.96    209830\n",
      "   macro avg       0.58      0.51      0.54    209830\n",
      "weighted avg       0.96      0.96      0.96    209830\n",
      "\n"
     ]
    },
    {
     "name": "stderr",
     "output_type": "stream",
     "text": [
      "/opt/conda/lib/python3.10/site-packages/sklearn/metrics/_classification.py:1344: UndefinedMetricWarning: Precision is ill-defined and being set to 0.0 in labels with no predicted samples. Use `zero_division` parameter to control this behavior.\n",
      "  _warn_prf(average, modifier, msg_start, len(result))\n"
     ]
    },
    {
     "name": "stdout",
     "output_type": "stream",
     "text": [
      "Overall Precision: 0.9562916562621504\n",
      "Overall Recall: 0.9568221893914121\n",
      "Overall F1 Score: 0.9557086223516693\n"
     ]
    }
   ],
   "source": [
    "# Import required metrics functions\n",
    "from sklearn_crfsuite import metrics\n",
    "\n",
    "# Prediction and Evaluation\n",
    "y_pred = crf.predict(X_test)\n",
    "\n",
    "# Detailed classification report\n",
    "print(\"CRF Model Evaluation Report:\")\n",
    "print(metrics.flat_classification_report(y_test, y_pred))\n",
    "\n",
    "# Calculate and print overall Precision, Recall, and F1-Score\n",
    "overall_precision = metrics.flat_precision_score(y_test, y_pred, average='weighted')\n",
    "overall_recall = metrics.flat_recall_score(y_test, y_pred, average='weighted')\n",
    "overall_f1 = metrics.flat_f1_score(y_test, y_pred, average='weighted')\n",
    "\n",
    "print(\"Overall Precision:\", overall_precision)\n",
    "print(\"Overall Recall:\", overall_recall)\n",
    "print(\"Overall F1 Score:\", overall_f1)"
   ]
  },
  {
   "cell_type": "markdown",
   "id": "d8d1136d",
   "metadata": {
    "papermill": {
     "duration": 0.017451,
     "end_time": "2024-11-04T18:46:29.040971",
     "exception": false,
     "start_time": "2024-11-04T18:46:29.023520",
     "status": "completed"
    },
    "tags": []
   },
   "source": [
    "## **BiDirectional LSTM**"
   ]
  },
  {
   "cell_type": "code",
   "execution_count": 11,
   "id": "55420a27",
   "metadata": {
    "execution": {
     "iopub.execute_input": "2024-11-04T18:46:29.077427Z",
     "iopub.status.busy": "2024-11-04T18:46:29.077031Z",
     "iopub.status.idle": "2024-11-04T18:46:29.469724Z",
     "shell.execute_reply": "2024-11-04T18:46:29.468726Z"
    },
    "papermill": {
     "duration": 0.413492,
     "end_time": "2024-11-04T18:46:29.472100",
     "exception": false,
     "start_time": "2024-11-04T18:46:29.058608",
     "status": "completed"
    },
    "tags": []
   },
   "outputs": [],
   "source": [
    "import numpy as np\n",
    "import pandas as pd\n",
    "import matplotlib.pyplot as plt\n",
    "import seaborn as sns\n",
    "import tensorflow as tf"
   ]
  },
  {
   "cell_type": "code",
   "execution_count": 12,
   "id": "3b3a253b",
   "metadata": {
    "execution": {
     "iopub.execute_input": "2024-11-04T18:46:29.509360Z",
     "iopub.status.busy": "2024-11-04T18:46:29.508827Z",
     "iopub.status.idle": "2024-11-04T18:46:30.879800Z",
     "shell.execute_reply": "2024-11-04T18:46:30.878894Z"
    },
    "papermill": {
     "duration": 1.391659,
     "end_time": "2024-11-04T18:46:30.881925",
     "exception": false,
     "start_time": "2024-11-04T18:46:29.490266",
     "status": "completed"
    },
    "tags": []
   },
   "outputs": [
    {
     "name": "stderr",
     "output_type": "stream",
     "text": [
      "/tmp/ipykernel_24/1942628254.py:5: FutureWarning: DataFrame.fillna with 'method' is deprecated and will raise in a future version. Use obj.ffill() or obj.bfill() instead.\n",
      "  data.fillna(method = 'ffill', inplace = True)\n"
     ]
    },
    {
     "data": {
      "text/html": [
       "<div>\n",
       "<style scoped>\n",
       "    .dataframe tbody tr th:only-of-type {\n",
       "        vertical-align: middle;\n",
       "    }\n",
       "\n",
       "    .dataframe tbody tr th {\n",
       "        vertical-align: top;\n",
       "    }\n",
       "\n",
       "    .dataframe thead th {\n",
       "        text-align: right;\n",
       "    }\n",
       "</style>\n",
       "<table border=\"1\" class=\"dataframe\">\n",
       "  <thead>\n",
       "    <tr style=\"text-align: right;\">\n",
       "      <th></th>\n",
       "      <th>Sentence #</th>\n",
       "      <th>Word</th>\n",
       "      <th>POS</th>\n",
       "      <th>Tag</th>\n",
       "    </tr>\n",
       "  </thead>\n",
       "  <tbody>\n",
       "    <tr>\n",
       "      <th>0</th>\n",
       "      <td>Sentence: 1</td>\n",
       "      <td>Thousands</td>\n",
       "      <td>NNS</td>\n",
       "      <td>O</td>\n",
       "    </tr>\n",
       "    <tr>\n",
       "      <th>1</th>\n",
       "      <td>Sentence: 1</td>\n",
       "      <td>of</td>\n",
       "      <td>IN</td>\n",
       "      <td>O</td>\n",
       "    </tr>\n",
       "    <tr>\n",
       "      <th>2</th>\n",
       "      <td>Sentence: 1</td>\n",
       "      <td>demonstrators</td>\n",
       "      <td>NNS</td>\n",
       "      <td>O</td>\n",
       "    </tr>\n",
       "    <tr>\n",
       "      <th>3</th>\n",
       "      <td>Sentence: 1</td>\n",
       "      <td>have</td>\n",
       "      <td>VBP</td>\n",
       "      <td>O</td>\n",
       "    </tr>\n",
       "    <tr>\n",
       "      <th>4</th>\n",
       "      <td>Sentence: 1</td>\n",
       "      <td>marched</td>\n",
       "      <td>VBN</td>\n",
       "      <td>O</td>\n",
       "    </tr>\n",
       "  </tbody>\n",
       "</table>\n",
       "</div>"
      ],
      "text/plain": [
       "    Sentence #           Word  POS Tag\n",
       "0  Sentence: 1      Thousands  NNS   O\n",
       "1  Sentence: 1             of   IN   O\n",
       "2  Sentence: 1  demonstrators  NNS   O\n",
       "3  Sentence: 1           have  VBP   O\n",
       "4  Sentence: 1        marched  VBN   O"
      ]
     },
     "execution_count": 12,
     "metadata": {},
     "output_type": "execute_result"
    }
   ],
   "source": [
    "data_path = \"/kaggle/input/ner-dataset1/ner_dataset.csv\"\n",
    "\n",
    "data = pd.read_csv(data_path, encoding= 'unicode_escape')\n",
    "# filling the first column that determines which sentence each word belongs to.\n",
    "data.fillna(method = 'ffill', inplace = True)\n",
    "data.head()"
   ]
  },
  {
   "cell_type": "code",
   "execution_count": 13,
   "id": "8028c35b",
   "metadata": {
    "execution": {
     "iopub.execute_input": "2024-11-04T18:46:30.919339Z",
     "iopub.status.busy": "2024-11-04T18:46:30.918627Z",
     "iopub.status.idle": "2024-11-04T18:46:31.007355Z",
     "shell.execute_reply": "2024-11-04T18:46:31.006484Z"
    },
    "papermill": {
     "duration": 0.109377,
     "end_time": "2024-11-04T18:46:31.009334",
     "exception": false,
     "start_time": "2024-11-04T18:46:30.899957",
     "status": "completed"
    },
    "tags": []
   },
   "outputs": [
    {
     "data": {
      "text/plain": [
       "array(['Sentence: 1', 'Sentence: 2', 'Sentence: 3', ...,\n",
       "       'Sentence: 47957', 'Sentence: 47958', 'Sentence: 47959'],\n",
       "      dtype=object)"
      ]
     },
     "execution_count": 13,
     "metadata": {},
     "output_type": "execute_result"
    }
   ],
   "source": [
    "data['Sentence #'].unique()"
   ]
  },
  {
   "cell_type": "code",
   "execution_count": 14,
   "id": "71910079",
   "metadata": {
    "execution": {
     "iopub.execute_input": "2024-11-04T18:46:31.047138Z",
     "iopub.status.busy": "2024-11-04T18:46:31.046822Z",
     "iopub.status.idle": "2024-11-04T18:46:35.698139Z",
     "shell.execute_reply": "2024-11-04T18:46:35.697066Z"
    },
    "papermill": {
     "duration": 4.672689,
     "end_time": "2024-11-04T18:46:35.700392",
     "exception": false,
     "start_time": "2024-11-04T18:46:31.027703",
     "status": "completed"
    },
    "tags": []
   },
   "outputs": [
    {
     "name": "stdout",
     "output_type": "stream",
     "text": [
      "   Sentence #                                           Sentence  \\\n",
      "0  Sentence 1  Thousands of demonstrators have marched throug...   \n",
      "1  Sentence 2  Iranian officials say they expect to get acces...   \n",
      "2  Sentence 3  Helicopter gunships Saturday pounded militant ...   \n",
      "3  Sentence 4  They left after a tense hour-long standoff wit...   \n",
      "4  Sentence 5  U.N. relief coordinator Jan Egeland said Sunda...   \n",
      "\n",
      "                                                 POS  \\\n",
      "0  ['NNS', 'IN', 'NNS', 'VBP', 'VBN', 'IN', 'NNP'...   \n",
      "1  ['JJ', 'NNS', 'VBP', 'PRP', 'VBP', 'TO', 'VB',...   \n",
      "2  ['NN', 'NNS', 'NNP', 'VBD', 'JJ', 'NNS', 'IN',...   \n",
      "3  ['PRP', 'VBD', 'IN', 'DT', 'NN', 'JJ', 'NN', '...   \n",
      "4  ['NNP', 'NN', 'NN', 'NNP', 'NNP', 'VBD', 'NNP'...   \n",
      "\n",
      "                                                 TAG  \n",
      "0  ['O', 'O', 'O', 'O', 'O', 'O', 'B-geo', 'O', '...  \n",
      "1  ['B-gpe', 'O', 'O', 'O', 'O', 'O', 'O', 'O', '...  \n",
      "2  ['O', 'O', 'B-tim', 'O', 'O', 'O', 'O', 'O', '...  \n",
      "3  ['O', 'O', 'O', 'O', 'O', 'O', 'O', 'O', 'O', ...  \n",
      "4  ['B-geo', 'O', 'O', 'B-per', 'I-per', 'O', 'B-...  \n"
     ]
    }
   ],
   "source": [
    "\n",
    " #Group data by sentence number and aggregate words, POS tags, and NER tags\n",
    "grouped_data = data.groupby('Sentence #').agg({\n",
    "    'Word': lambda x: ' '.join(x),\n",
    "    'POS': lambda x: list(x),\n",
    "    'Tag': lambda x: list(x)\n",
    "}).reset_index()\n",
    "\n",
    "# Prepare the final DataFrame with continuous sentence numbering\n",
    "final_data = pd.DataFrame({\n",
    "    'Sentence #': [f'Sentence {i+1}' for i in range(len(grouped_data))],  # Continuous numbering\n",
    "    'Sentence': grouped_data['Word'],\n",
    "    'POS': grouped_data['POS'],\n",
    "    'TAG': grouped_data['Tag']\n",
    "})\n",
    "\n",
    "# Convert POS and NER lists to string format for display\n",
    "final_data['POS'] = final_data['POS'].apply(lambda x: str(x))\n",
    "final_data['TAG'] = final_data['TAG'].apply(lambda x: str(x))\n",
    "\n",
    "# Display the first few rows of the final DataFrame\n",
    "print(final_data.head())"
   ]
  },
  {
   "cell_type": "code",
   "execution_count": 15,
   "id": "41f221aa",
   "metadata": {
    "execution": {
     "iopub.execute_input": "2024-11-04T18:46:35.738050Z",
     "iopub.status.busy": "2024-11-04T18:46:35.737738Z",
     "iopub.status.idle": "2024-11-04T18:46:35.762961Z",
     "shell.execute_reply": "2024-11-04T18:46:35.762111Z"
    },
    "papermill": {
     "duration": 0.04611,
     "end_time": "2024-11-04T18:46:35.764863",
     "exception": false,
     "start_time": "2024-11-04T18:46:35.718753",
     "status": "completed"
    },
    "tags": []
   },
   "outputs": [
    {
     "data": {
      "text/plain": [
       "array(['Thousands of demonstrators have marched through London to protest the war in Iraq and demand the withdrawal of British troops from that country .',\n",
       "       'Iranian officials say they expect to get access to sealed sensitive parts of the plant Wednesday , after an IAEA surveillance system begins functioning .',\n",
       "       'Helicopter gunships Saturday pounded militant hideouts in the Orakzai tribal region , where many Taliban militants are believed to have fled to avoid an earlier military offensive in nearby South Waziristan .',\n",
       "       ...,\n",
       "       \"Following Iran 's disputed June 12 elections , rights groups said hundreds of people were detained in clashes with security forces during post-election , anti-government demonstrations .\",\n",
       "       'Since then , authorities have held public trials of the accused and tried to marginalize moderate officials within the government .',\n",
       "       'The United Nations is praising the use of military helicopters to drop food and rescue survivors in tsunami-ravaged Indonesia , saying the aircraft are \" worth their weight in gold . \"'],\n",
       "      dtype=object)"
      ]
     },
     "execution_count": 15,
     "metadata": {},
     "output_type": "execute_result"
    }
   ],
   "source": [
    "final_data.Sentence.unique()"
   ]
  },
  {
   "cell_type": "code",
   "execution_count": 16,
   "id": "8326904b",
   "metadata": {
    "execution": {
     "iopub.execute_input": "2024-11-04T18:46:35.802576Z",
     "iopub.status.busy": "2024-11-04T18:46:35.802275Z",
     "iopub.status.idle": "2024-11-04T18:46:35.812141Z",
     "shell.execute_reply": "2024-11-04T18:46:35.811302Z"
    },
    "papermill": {
     "duration": 0.030984,
     "end_time": "2024-11-04T18:46:35.814119",
     "exception": false,
     "start_time": "2024-11-04T18:46:35.783135",
     "status": "completed"
    },
    "tags": []
   },
   "outputs": [
    {
     "data": {
      "text/html": [
       "<div>\n",
       "<style scoped>\n",
       "    .dataframe tbody tr th:only-of-type {\n",
       "        vertical-align: middle;\n",
       "    }\n",
       "\n",
       "    .dataframe tbody tr th {\n",
       "        vertical-align: top;\n",
       "    }\n",
       "\n",
       "    .dataframe thead th {\n",
       "        text-align: right;\n",
       "    }\n",
       "</style>\n",
       "<table border=\"1\" class=\"dataframe\">\n",
       "  <thead>\n",
       "    <tr style=\"text-align: right;\">\n",
       "      <th></th>\n",
       "      <th>Sentence #</th>\n",
       "      <th>Sentence</th>\n",
       "      <th>POS</th>\n",
       "      <th>TAG</th>\n",
       "    </tr>\n",
       "  </thead>\n",
       "  <tbody>\n",
       "    <tr>\n",
       "      <th>0</th>\n",
       "      <td>Sentence 1</td>\n",
       "      <td>Thousands of demonstrators have marched throug...</td>\n",
       "      <td>['NNS', 'IN', 'NNS', 'VBP', 'VBN', 'IN', 'NNP'...</td>\n",
       "      <td>['O', 'O', 'O', 'O', 'O', 'O', 'B-geo', 'O', '...</td>\n",
       "    </tr>\n",
       "    <tr>\n",
       "      <th>1</th>\n",
       "      <td>Sentence 2</td>\n",
       "      <td>Iranian officials say they expect to get acces...</td>\n",
       "      <td>['JJ', 'NNS', 'VBP', 'PRP', 'VBP', 'TO', 'VB',...</td>\n",
       "      <td>['B-gpe', 'O', 'O', 'O', 'O', 'O', 'O', 'O', '...</td>\n",
       "    </tr>\n",
       "    <tr>\n",
       "      <th>2</th>\n",
       "      <td>Sentence 3</td>\n",
       "      <td>Helicopter gunships Saturday pounded militant ...</td>\n",
       "      <td>['NN', 'NNS', 'NNP', 'VBD', 'JJ', 'NNS', 'IN',...</td>\n",
       "      <td>['O', 'O', 'B-tim', 'O', 'O', 'O', 'O', 'O', '...</td>\n",
       "    </tr>\n",
       "    <tr>\n",
       "      <th>3</th>\n",
       "      <td>Sentence 4</td>\n",
       "      <td>They left after a tense hour-long standoff wit...</td>\n",
       "      <td>['PRP', 'VBD', 'IN', 'DT', 'NN', 'JJ', 'NN', '...</td>\n",
       "      <td>['O', 'O', 'O', 'O', 'O', 'O', 'O', 'O', 'O', ...</td>\n",
       "    </tr>\n",
       "    <tr>\n",
       "      <th>4</th>\n",
       "      <td>Sentence 5</td>\n",
       "      <td>U.N. relief coordinator Jan Egeland said Sunda...</td>\n",
       "      <td>['NNP', 'NN', 'NN', 'NNP', 'NNP', 'VBD', 'NNP'...</td>\n",
       "      <td>['B-geo', 'O', 'O', 'B-per', 'I-per', 'O', 'B-...</td>\n",
       "    </tr>\n",
       "  </tbody>\n",
       "</table>\n",
       "</div>"
      ],
      "text/plain": [
       "   Sentence #                                           Sentence  \\\n",
       "0  Sentence 1  Thousands of demonstrators have marched throug...   \n",
       "1  Sentence 2  Iranian officials say they expect to get acces...   \n",
       "2  Sentence 3  Helicopter gunships Saturday pounded militant ...   \n",
       "3  Sentence 4  They left after a tense hour-long standoff wit...   \n",
       "4  Sentence 5  U.N. relief coordinator Jan Egeland said Sunda...   \n",
       "\n",
       "                                                 POS  \\\n",
       "0  ['NNS', 'IN', 'NNS', 'VBP', 'VBN', 'IN', 'NNP'...   \n",
       "1  ['JJ', 'NNS', 'VBP', 'PRP', 'VBP', 'TO', 'VB',...   \n",
       "2  ['NN', 'NNS', 'NNP', 'VBD', 'JJ', 'NNS', 'IN',...   \n",
       "3  ['PRP', 'VBD', 'IN', 'DT', 'NN', 'JJ', 'NN', '...   \n",
       "4  ['NNP', 'NN', 'NN', 'NNP', 'NNP', 'VBD', 'NNP'...   \n",
       "\n",
       "                                                 TAG  \n",
       "0  ['O', 'O', 'O', 'O', 'O', 'O', 'B-geo', 'O', '...  \n",
       "1  ['B-gpe', 'O', 'O', 'O', 'O', 'O', 'O', 'O', '...  \n",
       "2  ['O', 'O', 'B-tim', 'O', 'O', 'O', 'O', 'O', '...  \n",
       "3  ['O', 'O', 'O', 'O', 'O', 'O', 'O', 'O', 'O', ...  \n",
       "4  ['B-geo', 'O', 'O', 'B-per', 'I-per', 'O', 'B-...  "
      ]
     },
     "execution_count": 16,
     "metadata": {},
     "output_type": "execute_result"
    }
   ],
   "source": [
    "final_data.head()"
   ]
  },
  {
   "cell_type": "code",
   "execution_count": 17,
   "id": "25f0ba27",
   "metadata": {
    "execution": {
     "iopub.execute_input": "2024-11-04T18:46:35.853682Z",
     "iopub.status.busy": "2024-11-04T18:46:35.853400Z",
     "iopub.status.idle": "2024-11-04T18:46:35.871619Z",
     "shell.execute_reply": "2024-11-04T18:46:35.870913Z"
    },
    "papermill": {
     "duration": 0.040289,
     "end_time": "2024-11-04T18:46:35.873408",
     "exception": false,
     "start_time": "2024-11-04T18:46:35.833119",
     "status": "completed"
    },
    "tags": []
   },
   "outputs": [],
   "source": [
    "X = list(final_data['Sentence'])\n",
    "Y = list(final_data['TAG'])"
   ]
  },
  {
   "cell_type": "code",
   "execution_count": 18,
   "id": "ac3d9bd4",
   "metadata": {
    "execution": {
     "iopub.execute_input": "2024-11-04T18:46:35.911530Z",
     "iopub.status.busy": "2024-11-04T18:46:35.911235Z",
     "iopub.status.idle": "2024-11-04T18:46:35.915432Z",
     "shell.execute_reply": "2024-11-04T18:46:35.914596Z"
    },
    "papermill": {
     "duration": 0.025313,
     "end_time": "2024-11-04T18:46:35.917463",
     "exception": false,
     "start_time": "2024-11-04T18:46:35.892150",
     "status": "completed"
    },
    "tags": []
   },
   "outputs": [
    {
     "name": "stdout",
     "output_type": "stream",
     "text": [
      "First three sentences: \n",
      "\n",
      "['Thousands of demonstrators have marched through London to protest the war in Iraq and demand the withdrawal of British troops from that country .', 'Iranian officials say they expect to get access to sealed sensitive parts of the plant Wednesday , after an IAEA surveillance system begins functioning .', 'Helicopter gunships Saturday pounded militant hideouts in the Orakzai tribal region , where many Taliban militants are believed to have fled to avoid an earlier military offensive in nearby South Waziristan .']\n"
     ]
    }
   ],
   "source": [
    "print(\"First three sentences: \\n\")\n",
    "print(X[:3])"
   ]
  },
  {
   "cell_type": "code",
   "execution_count": 19,
   "id": "c17d33e9",
   "metadata": {
    "execution": {
     "iopub.execute_input": "2024-11-04T18:46:35.955541Z",
     "iopub.status.busy": "2024-11-04T18:46:35.955238Z",
     "iopub.status.idle": "2024-11-04T18:46:38.110901Z",
     "shell.execute_reply": "2024-11-04T18:46:38.110071Z"
    },
    "papermill": {
     "duration": 2.177128,
     "end_time": "2024-11-04T18:46:38.113141",
     "exception": false,
     "start_time": "2024-11-04T18:46:35.936013",
     "status": "completed"
    },
    "tags": []
   },
   "outputs": [],
   "source": [
    "import ast\n",
    "# Converting strings to lists\n",
    "Y = [ast.literal_eval(item) for item in Y]"
   ]
  },
  {
   "cell_type": "code",
   "execution_count": 20,
   "id": "048848f4",
   "metadata": {
    "execution": {
     "iopub.execute_input": "2024-11-04T18:46:38.159466Z",
     "iopub.status.busy": "2024-11-04T18:46:38.158976Z",
     "iopub.status.idle": "2024-11-04T18:46:38.165230Z",
     "shell.execute_reply": "2024-11-04T18:46:38.163732Z"
    },
    "papermill": {
     "duration": 0.033319,
     "end_time": "2024-11-04T18:46:38.168350",
     "exception": false,
     "start_time": "2024-11-04T18:46:38.135031",
     "status": "completed"
    },
    "tags": []
   },
   "outputs": [
    {
     "name": "stdout",
     "output_type": "stream",
     "text": [
      "First three Tags: \n",
      "\n",
      "[['O', 'O', 'O', 'O', 'O', 'O', 'B-geo', 'O', 'O', 'O', 'O', 'O', 'B-geo', 'O', 'O', 'O', 'O', 'O', 'B-gpe', 'O', 'O', 'O', 'O', 'O'], ['B-gpe', 'O', 'O', 'O', 'O', 'O', 'O', 'O', 'O', 'O', 'O', 'O', 'O', 'O', 'O', 'B-tim', 'O', 'O', 'O', 'B-org', 'O', 'O', 'O', 'O', 'O'], ['O', 'O', 'B-tim', 'O', 'O', 'O', 'O', 'O', 'B-geo', 'O', 'O', 'O', 'O', 'O', 'B-org', 'O', 'O', 'O', 'O', 'O', 'O', 'O', 'O', 'O', 'O', 'O', 'O', 'O', 'O', 'B-geo', 'I-geo', 'O']]\n"
     ]
    }
   ],
   "source": [
    "print(\"First three Tags: \\n\")\n",
    "print(Y[:3])"
   ]
  },
  {
   "cell_type": "markdown",
   "id": "715f049a",
   "metadata": {
    "papermill": {
     "duration": 0.022719,
     "end_time": "2024-11-04T18:46:38.213460",
     "exception": false,
     "start_time": "2024-11-04T18:46:38.190741",
     "status": "completed"
    },
    "tags": []
   },
   "source": [
    "#### We need to tokenize the sentences by mapping each word to a unique identifier, then we need to pad them because NN need the input sentences to have the same lenght."
   ]
  },
  {
   "cell_type": "code",
   "execution_count": 21,
   "id": "7cf59b88",
   "metadata": {
    "execution": {
     "iopub.execute_input": "2024-11-04T18:46:38.253156Z",
     "iopub.status.busy": "2024-11-04T18:46:38.252301Z",
     "iopub.status.idle": "2024-11-04T18:46:38.258075Z",
     "shell.execute_reply": "2024-11-04T18:46:38.257184Z"
    },
    "papermill": {
     "duration": 0.027667,
     "end_time": "2024-11-04T18:46:38.260016",
     "exception": false,
     "start_time": "2024-11-04T18:46:38.232349",
     "status": "completed"
    },
    "tags": []
   },
   "outputs": [],
   "source": [
    "from tensorflow.keras.preprocessing.text import Tokenizer\n",
    "from tensorflow.keras.preprocessing.sequence import pad_sequences"
   ]
  },
  {
   "cell_type": "code",
   "execution_count": 22,
   "id": "9311a9d9",
   "metadata": {
    "execution": {
     "iopub.execute_input": "2024-11-04T18:46:38.304178Z",
     "iopub.status.busy": "2024-11-04T18:46:38.303173Z",
     "iopub.status.idle": "2024-11-04T18:46:38.309114Z",
     "shell.execute_reply": "2024-11-04T18:46:38.308071Z"
    },
    "papermill": {
     "duration": 0.031478,
     "end_time": "2024-11-04T18:46:38.311150",
     "exception": false,
     "start_time": "2024-11-04T18:46:38.279672",
     "status": "completed"
    },
    "tags": []
   },
   "outputs": [
    {
     "name": "stdout",
     "output_type": "stream",
     "text": [
      "Number of examples: 47959\n"
     ]
    }
   ],
   "source": [
    "print(\"Number of examples: {}\".format(len(X)))"
   ]
  },
  {
   "cell_type": "code",
   "execution_count": 23,
   "id": "799c7fdb",
   "metadata": {
    "execution": {
     "iopub.execute_input": "2024-11-04T18:46:38.352185Z",
     "iopub.status.busy": "2024-11-04T18:46:38.351868Z",
     "iopub.status.idle": "2024-11-04T18:46:41.021446Z",
     "shell.execute_reply": "2024-11-04T18:46:41.020659Z"
    },
    "papermill": {
     "duration": 2.69237,
     "end_time": "2024-11-04T18:46:41.023773",
     "exception": false,
     "start_time": "2024-11-04T18:46:38.331403",
     "status": "completed"
    },
    "tags": []
   },
   "outputs": [],
   "source": [
    "# cutoff reviews after 110 words\n",
    "maxlen = 110\n",
    "\n",
    "# consider the top 36000 words in the dataset\n",
    "max_words = 36000\n",
    "\n",
    "# tokenize each sentence in the dataset\n",
    "tokenizer = Tokenizer(num_words=max_words)\n",
    "tokenizer.fit_on_texts(X)\n",
    "sequences = tokenizer.texts_to_sequences(X)"
   ]
  },
  {
   "cell_type": "code",
   "execution_count": 24,
   "id": "3e8a21d4",
   "metadata": {
    "execution": {
     "iopub.execute_input": "2024-11-04T18:46:41.064202Z",
     "iopub.status.busy": "2024-11-04T18:46:41.063467Z",
     "iopub.status.idle": "2024-11-04T18:46:41.079127Z",
     "shell.execute_reply": "2024-11-04T18:46:41.078020Z"
    },
    "papermill": {
     "duration": 0.03776,
     "end_time": "2024-11-04T18:46:41.081075",
     "exception": false,
     "start_time": "2024-11-04T18:46:41.043315",
     "status": "completed"
    },
    "tags": []
   },
   "outputs": [
    {
     "name": "stdout",
     "output_type": "stream",
     "text": [
      "Found 27953 unique tokens.\n"
     ]
    }
   ],
   "source": [
    "word_index = tokenizer.word_index\n",
    "print(\"Found {} unique tokens.\".format(len(word_index)))\n",
    "ind2word = dict([(value, key) for (key, value) in word_index.items()])"
   ]
  },
  {
   "cell_type": "code",
   "execution_count": 25,
   "id": "a2ee1219",
   "metadata": {
    "execution": {
     "iopub.execute_input": "2024-11-04T18:46:41.120297Z",
     "iopub.status.busy": "2024-11-04T18:46:41.120004Z",
     "iopub.status.idle": "2024-11-04T18:46:41.123873Z",
     "shell.execute_reply": "2024-11-04T18:46:41.123020Z"
    },
    "papermill": {
     "duration": 0.025251,
     "end_time": "2024-11-04T18:46:41.125725",
     "exception": false,
     "start_time": "2024-11-04T18:46:41.100474",
     "status": "completed"
    },
    "tags": []
   },
   "outputs": [],
   "source": [
    "word2id = word_index"
   ]
  },
  {
   "cell_type": "code",
   "execution_count": 26,
   "id": "ff36b818",
   "metadata": {
    "execution": {
     "iopub.execute_input": "2024-11-04T18:46:41.164278Z",
     "iopub.status.busy": "2024-11-04T18:46:41.163994Z",
     "iopub.status.idle": "2024-11-04T18:46:41.175196Z",
     "shell.execute_reply": "2024-11-04T18:46:41.174523Z"
    },
    "papermill": {
     "duration": 0.032699,
     "end_time": "2024-11-04T18:46:41.176978",
     "exception": false,
     "start_time": "2024-11-04T18:46:41.144279",
     "status": "completed"
    },
    "tags": []
   },
   "outputs": [],
   "source": [
    "# dict. that map each identifier to its word\n",
    "id2word = {}\n",
    "for key, value in word2id.items():\n",
    "    id2word[value] = key"
   ]
  },
  {
   "cell_type": "code",
   "execution_count": 27,
   "id": "42e68d4c",
   "metadata": {
    "execution": {
     "iopub.execute_input": "2024-11-04T18:46:41.215817Z",
     "iopub.status.busy": "2024-11-04T18:46:41.215138Z",
     "iopub.status.idle": "2024-11-04T18:46:41.443068Z",
     "shell.execute_reply": "2024-11-04T18:46:41.442139Z"
    },
    "papermill": {
     "duration": 0.24945,
     "end_time": "2024-11-04T18:46:41.445211",
     "exception": false,
     "start_time": "2024-11-04T18:46:41.195761",
     "status": "completed"
    },
    "tags": []
   },
   "outputs": [
    {
     "data": {
      "text/plain": [
       "array([ 260,    3,  997,   13, 1838,  245,  452,    4,  545,    1,  121,\n",
       "          2,   60,    6,  595,    1,  861,    3,  184,   89,   21,   12,\n",
       "         54,    0,    0,    0,    0,    0,    0,    0,    0,    0,    0,\n",
       "          0,    0,    0,    0,    0,    0,    0,    0,    0,    0,    0,\n",
       "          0,    0,    0,    0,    0,    0,    0,    0,    0,    0,    0,\n",
       "          0,    0,    0,    0,    0,    0,    0,    0,    0,    0,    0,\n",
       "          0,    0,    0,    0,    0,    0,    0,    0,    0,    0,    0,\n",
       "          0,    0,    0,    0,    0,    0,    0,    0,    0,    0,    0,\n",
       "          0,    0,    0,    0,    0,    0,    0,    0,    0,    0,    0,\n",
       "          0,    0,    0,    0,    0,    0,    0,    0,    0,    0,    0],\n",
       "      dtype=int32)"
      ]
     },
     "execution_count": 27,
     "metadata": {},
     "output_type": "execute_result"
    }
   ],
   "source": [
    "## Sentence Padding: pad the sequences so that all sequences are of the same size\n",
    "X_preprocessed = pad_sequences(sequences, maxlen=maxlen, padding='post')\n",
    "# first example after tokenization and padding. \n",
    "X_preprocessed[0]"
   ]
  },
  {
   "cell_type": "code",
   "execution_count": 28,
   "id": "f7f5b4e1",
   "metadata": {
    "execution": {
     "iopub.execute_input": "2024-11-04T18:46:41.484938Z",
     "iopub.status.busy": "2024-11-04T18:46:41.484657Z",
     "iopub.status.idle": "2024-11-04T18:46:41.490859Z",
     "shell.execute_reply": "2024-11-04T18:46:41.489975Z"
    },
    "papermill": {
     "duration": 0.027778,
     "end_time": "2024-11-04T18:46:41.492795",
     "exception": false,
     "start_time": "2024-11-04T18:46:41.465017",
     "status": "completed"
    },
    "tags": []
   },
   "outputs": [
    {
     "data": {
      "text/plain": [
       "array([   35, 13186, 13187,    17,    58,     3,     5,   276,     3,\n",
       "        1337,   214,  6516,     8, 22551,    12,   444,  1201,     4,\n",
       "        3755, 14137,     0,     0,     0,     0,     0,     0,     0,\n",
       "           0,     0,     0,     0,     0,     0,     0,     0,     0,\n",
       "           0,     0,     0,     0,     0,     0,     0,     0,     0,\n",
       "           0,     0,     0,     0,     0,     0,     0,     0,     0,\n",
       "           0,     0,     0,     0,     0,     0,     0,     0,     0,\n",
       "           0,     0,     0,     0,     0,     0,     0,     0,     0,\n",
       "           0,     0,     0,     0,     0,     0,     0,     0,     0,\n",
       "           0,     0,     0,     0,     0,     0,     0,     0,     0,\n",
       "           0,     0,     0,     0,     0,     0,     0,     0,     0,\n",
       "           0,     0,     0,     0,     0,     0,     0,     0,     0,\n",
       "           0,     0], dtype=int32)"
      ]
     },
     "execution_count": 28,
     "metadata": {},
     "output_type": "execute_result"
    }
   ],
   "source": [
    "# 22479 example after tokenization and padding. \n",
    "X_preprocessed[22479]"
   ]
  },
  {
   "cell_type": "markdown",
   "id": "7e7b46e6",
   "metadata": {
    "papermill": {
     "duration": 0.018716,
     "end_time": "2024-11-04T18:46:41.531342",
     "exception": false,
     "start_time": "2024-11-04T18:46:41.512626",
     "status": "completed"
    },
    "tags": []
   },
   "source": [
    "**Preprocess tags**\n",
    "we need to preprocess tags by assigning a unique identifier for each one of them.\n",
    "\n",
    "Since also tags for each example have different lenght we need to fine a way to slove this problem.\n",
    "\n",
    "We can assign a new tag for the zeros that we used in padding\n",
    "We can use the O tag for them"
   ]
  },
  {
   "cell_type": "code",
   "execution_count": 29,
   "id": "1babade9",
   "metadata": {
    "execution": {
     "iopub.execute_input": "2024-11-04T18:46:41.570125Z",
     "iopub.status.busy": "2024-11-04T18:46:41.569831Z",
     "iopub.status.idle": "2024-11-04T18:46:41.648785Z",
     "shell.execute_reply": "2024-11-04T18:46:41.647913Z"
    },
    "papermill": {
     "duration": 0.100405,
     "end_time": "2024-11-04T18:46:41.650682",
     "exception": false,
     "start_time": "2024-11-04T18:46:41.550277",
     "status": "completed"
    },
    "tags": []
   },
   "outputs": [
    {
     "data": {
      "text/plain": [
       "array(['O', 'B-geo', 'B-gpe', 'B-per', 'I-geo', 'B-org', 'I-org', 'B-tim',\n",
       "       'B-art', 'I-art', 'I-per', 'I-gpe', 'I-tim', 'B-nat', 'B-eve',\n",
       "       'I-eve', 'I-nat'], dtype=object)"
      ]
     },
     "execution_count": 29,
     "metadata": {},
     "output_type": "execute_result"
    }
   ],
   "source": [
    "tags = data.Tag.unique()\n",
    "tags"
   ]
  },
  {
   "cell_type": "code",
   "execution_count": 30,
   "id": "85c7a8d5",
   "metadata": {
    "execution": {
     "iopub.execute_input": "2024-11-04T18:46:41.690387Z",
     "iopub.status.busy": "2024-11-04T18:46:41.690074Z",
     "iopub.status.idle": "2024-11-04T18:46:41.694606Z",
     "shell.execute_reply": "2024-11-04T18:46:41.693832Z"
    },
    "papermill": {
     "duration": 0.026423,
     "end_time": "2024-11-04T18:46:41.696501",
     "exception": false,
     "start_time": "2024-11-04T18:46:41.670078",
     "status": "completed"
    },
    "tags": []
   },
   "outputs": [],
   "source": [
    "# dict. that map each tag to its identifier\n",
    "tags2id = {}\n",
    "for i, tag in enumerate(tags):\n",
    "    tags2id[tag] = i"
   ]
  },
  {
   "cell_type": "code",
   "execution_count": 31,
   "id": "31a47860",
   "metadata": {
    "execution": {
     "iopub.execute_input": "2024-11-04T18:46:41.736210Z",
     "iopub.status.busy": "2024-11-04T18:46:41.735925Z",
     "iopub.status.idle": "2024-11-04T18:46:41.742094Z",
     "shell.execute_reply": "2024-11-04T18:46:41.741222Z"
    },
    "papermill": {
     "duration": 0.028292,
     "end_time": "2024-11-04T18:46:41.744064",
     "exception": false,
     "start_time": "2024-11-04T18:46:41.715772",
     "status": "completed"
    },
    "tags": []
   },
   "outputs": [
    {
     "data": {
      "text/plain": [
       "{'O': 0,\n",
       " 'B-geo': 1,\n",
       " 'B-gpe': 2,\n",
       " 'B-per': 3,\n",
       " 'I-geo': 4,\n",
       " 'B-org': 5,\n",
       " 'I-org': 6,\n",
       " 'B-tim': 7,\n",
       " 'B-art': 8,\n",
       " 'I-art': 9,\n",
       " 'I-per': 10,\n",
       " 'I-gpe': 11,\n",
       " 'I-tim': 12,\n",
       " 'B-nat': 13,\n",
       " 'B-eve': 14,\n",
       " 'I-eve': 15,\n",
       " 'I-nat': 16}"
      ]
     },
     "execution_count": 31,
     "metadata": {},
     "output_type": "execute_result"
    }
   ],
   "source": [
    "tags2id"
   ]
  },
  {
   "cell_type": "code",
   "execution_count": 32,
   "id": "c9cbe453",
   "metadata": {
    "execution": {
     "iopub.execute_input": "2024-11-04T18:46:41.784536Z",
     "iopub.status.busy": "2024-11-04T18:46:41.784212Z",
     "iopub.status.idle": "2024-11-04T18:46:41.788591Z",
     "shell.execute_reply": "2024-11-04T18:46:41.787754Z"
    },
    "papermill": {
     "duration": 0.026754,
     "end_time": "2024-11-04T18:46:41.790459",
     "exception": false,
     "start_time": "2024-11-04T18:46:41.763705",
     "status": "completed"
    },
    "tags": []
   },
   "outputs": [],
   "source": [
    "# dict. that map each identifier to its tag\n",
    "id2tag = {}\n",
    "for key, value in tags2id.items():\n",
    "    id2tag[value] = key"
   ]
  },
  {
   "cell_type": "code",
   "execution_count": 33,
   "id": "1caf3074",
   "metadata": {
    "execution": {
     "iopub.execute_input": "2024-11-04T18:46:41.830885Z",
     "iopub.status.busy": "2024-11-04T18:46:41.830336Z",
     "iopub.status.idle": "2024-11-04T18:46:41.836356Z",
     "shell.execute_reply": "2024-11-04T18:46:41.835540Z"
    },
    "papermill": {
     "duration": 0.028131,
     "end_time": "2024-11-04T18:46:41.838232",
     "exception": false,
     "start_time": "2024-11-04T18:46:41.810101",
     "status": "completed"
    },
    "tags": []
   },
   "outputs": [
    {
     "data": {
      "text/plain": [
       "{0: 'O',\n",
       " 1: 'B-geo',\n",
       " 2: 'B-gpe',\n",
       " 3: 'B-per',\n",
       " 4: 'I-geo',\n",
       " 5: 'B-org',\n",
       " 6: 'I-org',\n",
       " 7: 'B-tim',\n",
       " 8: 'B-art',\n",
       " 9: 'I-art',\n",
       " 10: 'I-per',\n",
       " 11: 'I-gpe',\n",
       " 12: 'I-tim',\n",
       " 13: 'B-nat',\n",
       " 14: 'B-eve',\n",
       " 15: 'I-eve',\n",
       " 16: 'I-nat'}"
      ]
     },
     "execution_count": 33,
     "metadata": {},
     "output_type": "execute_result"
    }
   ],
   "source": [
    "id2tag"
   ]
  },
  {
   "cell_type": "code",
   "execution_count": 34,
   "id": "e8a30b37",
   "metadata": {
    "execution": {
     "iopub.execute_input": "2024-11-04T18:46:41.879458Z",
     "iopub.status.busy": "2024-11-04T18:46:41.879149Z",
     "iopub.status.idle": "2024-11-04T18:46:41.884991Z",
     "shell.execute_reply": "2024-11-04T18:46:41.884201Z"
    },
    "papermill": {
     "duration": 0.029298,
     "end_time": "2024-11-04T18:46:41.886863",
     "exception": false,
     "start_time": "2024-11-04T18:46:41.857565",
     "status": "completed"
    },
    "tags": []
   },
   "outputs": [],
   "source": [
    "def preprocess_tags(tags2id, Y_ready):\n",
    "    \n",
    "    Y_preprocessed = []\n",
    "    maxlen = 110\n",
    "    # for each target \n",
    "    for y in Y_ready:\n",
    "        \n",
    "        # place holder to store the new preprocessed tag list\n",
    "        Y_place_holder = []\n",
    "        \n",
    "        # for each tag in rhe tag list \n",
    "        for tag in y:\n",
    "            # append the id of the tag in the place holder list\n",
    "            Y_place_holder.append(tags2id[tag])\n",
    "        \n",
    "        # find the lenght of the new preprocessed tag list \n",
    "        len_new_tag_list = len(Y_place_holder)\n",
    "        # find the differance in length between the len of tag list and padded sentences\n",
    "        num_O_to_add = maxlen - len_new_tag_list\n",
    "        \n",
    "        # add 'O's to padd the tag lists\n",
    "        padded_tags = Y_place_holder + ([tags2id['O']] * num_O_to_add)\n",
    "        Y_preprocessed.append(padded_tags)\n",
    "        \n",
    "    return Y_preprocessed"
   ]
  },
  {
   "cell_type": "code",
   "execution_count": 35,
   "id": "23bee8f9",
   "metadata": {
    "execution": {
     "iopub.execute_input": "2024-11-04T18:46:41.927045Z",
     "iopub.status.busy": "2024-11-04T18:46:41.926412Z",
     "iopub.status.idle": "2024-11-04T18:46:42.176287Z",
     "shell.execute_reply": "2024-11-04T18:46:42.175289Z"
    },
    "papermill": {
     "duration": 0.272291,
     "end_time": "2024-11-04T18:46:42.178607",
     "exception": false,
     "start_time": "2024-11-04T18:46:41.906316",
     "status": "completed"
    },
    "tags": []
   },
   "outputs": [],
   "source": [
    "Y_preprocessed = preprocess_tags(tags2id, Y)"
   ]
  },
  {
   "cell_type": "code",
   "execution_count": 36,
   "id": "7cbe5537",
   "metadata": {
    "execution": {
     "iopub.execute_input": "2024-11-04T18:46:42.219520Z",
     "iopub.status.busy": "2024-11-04T18:46:42.219151Z",
     "iopub.status.idle": "2024-11-04T18:46:42.223937Z",
     "shell.execute_reply": "2024-11-04T18:46:42.223064Z"
    },
    "papermill": {
     "duration": 0.027505,
     "end_time": "2024-11-04T18:46:42.225964",
     "exception": false,
     "start_time": "2024-11-04T18:46:42.198459",
     "status": "completed"
    },
    "tags": []
   },
   "outputs": [
    {
     "name": "stdout",
     "output_type": "stream",
     "text": [
      "[0, 0, 0, 0, 0, 0, 1, 0, 0, 0, 0, 0, 1, 0, 0, 0, 0, 0, 2, 0, 0, 0, 0, 0, 0, 0, 0, 0, 0, 0, 0, 0, 0, 0, 0, 0, 0, 0, 0, 0, 0, 0, 0, 0, 0, 0, 0, 0, 0, 0, 0, 0, 0, 0, 0, 0, 0, 0, 0, 0, 0, 0, 0, 0, 0, 0, 0, 0, 0, 0, 0, 0, 0, 0, 0, 0, 0, 0, 0, 0, 0, 0, 0, 0, 0, 0, 0, 0, 0, 0, 0, 0, 0, 0, 0, 0, 0, 0, 0, 0, 0, 0, 0, 0, 0, 0, 0, 0, 0, 0]\n"
     ]
    }
   ],
   "source": [
    "print(Y_preprocessed[0])"
   ]
  },
  {
   "cell_type": "code",
   "execution_count": 37,
   "id": "d3ec2157",
   "metadata": {
    "execution": {
     "iopub.execute_input": "2024-11-04T18:46:42.266126Z",
     "iopub.status.busy": "2024-11-04T18:46:42.265828Z",
     "iopub.status.idle": "2024-11-04T18:46:42.270340Z",
     "shell.execute_reply": "2024-11-04T18:46:42.269404Z"
    },
    "papermill": {
     "duration": 0.027025,
     "end_time": "2024-11-04T18:46:42.272492",
     "exception": false,
     "start_time": "2024-11-04T18:46:42.245467",
     "status": "completed"
    },
    "tags": []
   },
   "outputs": [
    {
     "name": "stdout",
     "output_type": "stream",
     "text": [
      "['O', 'O', 'O', 'O', 'O', 'O', 'B-geo', 'O', 'O', 'O', 'O', 'O', 'B-geo', 'O', 'O', 'O', 'O', 'O', 'B-gpe', 'O', 'O', 'O', 'O', 'O']\n"
     ]
    }
   ],
   "source": [
    "print(Y[0])"
   ]
  },
  {
   "cell_type": "markdown",
   "id": "0d7d469b",
   "metadata": {
    "papermill": {
     "duration": 0.019634,
     "end_time": "2024-11-04T18:46:42.311918",
     "exception": false,
     "start_time": "2024-11-04T18:46:42.292284",
     "status": "completed"
    },
    "tags": []
   },
   "source": [
    "**By now we have the data ready for training our model**\n",
    "We have X_preprocessed and Y_preprocessed that we will use to train our model\n",
    "\n",
    "The las step is to split the data into:\n",
    "\n",
    "- Training dataset\n",
    "- Valisdation dataset\n",
    "- testing dataset"
   ]
  },
  {
   "cell_type": "code",
   "execution_count": 38,
   "id": "b78f7c0f",
   "metadata": {
    "execution": {
     "iopub.execute_input": "2024-11-04T18:46:42.353540Z",
     "iopub.status.busy": "2024-11-04T18:46:42.353173Z",
     "iopub.status.idle": "2024-11-04T18:46:42.358175Z",
     "shell.execute_reply": "2024-11-04T18:46:42.357275Z"
    },
    "papermill": {
     "duration": 0.028521,
     "end_time": "2024-11-04T18:46:42.360412",
     "exception": false,
     "start_time": "2024-11-04T18:46:42.331891",
     "status": "completed"
    },
    "tags": []
   },
   "outputs": [
    {
     "name": "stdout",
     "output_type": "stream",
     "text": [
      "The Lenght of training examples: 47959\n",
      "The Lenght of training targets: 47959\n"
     ]
    }
   ],
   "source": [
    "print(\"The Lenght of training examples: {}\".format(len(X_preprocessed)))\n",
    "print(\"The Lenght of training targets: {}\".format(len(Y_preprocessed)))"
   ]
  },
  {
   "cell_type": "code",
   "execution_count": 39,
   "id": "08eea100",
   "metadata": {
    "execution": {
     "iopub.execute_input": "2024-11-04T18:46:42.400862Z",
     "iopub.status.busy": "2024-11-04T18:46:42.400592Z",
     "iopub.status.idle": "2024-11-04T18:46:42.890669Z",
     "shell.execute_reply": "2024-11-04T18:46:42.889798Z"
    },
    "papermill": {
     "duration": 0.512703,
     "end_time": "2024-11-04T18:46:42.892619",
     "exception": false,
     "start_time": "2024-11-04T18:46:42.379916",
     "status": "completed"
    },
    "tags": []
   },
   "outputs": [],
   "source": [
    "X_preprocessed = np.asarray(X_preprocessed)\n",
    "Y_preprocessed = np.asarray(Y_preprocessed)"
   ]
  },
  {
   "cell_type": "code",
   "execution_count": 40,
   "id": "a57025f0",
   "metadata": {
    "execution": {
     "iopub.execute_input": "2024-11-04T18:46:42.933608Z",
     "iopub.status.busy": "2024-11-04T18:46:42.933284Z",
     "iopub.status.idle": "2024-11-04T18:46:42.937334Z",
     "shell.execute_reply": "2024-11-04T18:46:42.936526Z"
    },
    "papermill": {
     "duration": 0.026472,
     "end_time": "2024-11-04T18:46:42.939211",
     "exception": false,
     "start_time": "2024-11-04T18:46:42.912739",
     "status": "completed"
    },
    "tags": []
   },
   "outputs": [],
   "source": [
    "# 70% of the datat will be used for training \n",
    "training_samples = 0.7\n",
    "# 15% of the datat will be used for validation \n",
    "validation_samples = 0.15\n",
    "# 15% of the datat will be used for testing \n",
    "testing_samples = 0.15"
   ]
  },
  {
   "cell_type": "code",
   "execution_count": 41,
   "id": "3fecc959",
   "metadata": {
    "execution": {
     "iopub.execute_input": "2024-11-04T18:46:42.979226Z",
     "iopub.status.busy": "2024-11-04T18:46:42.978941Z",
     "iopub.status.idle": "2024-11-04T18:46:42.983265Z",
     "shell.execute_reply": "2024-11-04T18:46:42.982427Z"
    },
    "papermill": {
     "duration": 0.026421,
     "end_time": "2024-11-04T18:46:42.985099",
     "exception": false,
     "start_time": "2024-11-04T18:46:42.958678",
     "status": "completed"
    },
    "tags": []
   },
   "outputs": [],
   "source": [
    "indices = np.arange(len(Y_preprocessed))"
   ]
  },
  {
   "cell_type": "code",
   "execution_count": 42,
   "id": "922a7038",
   "metadata": {
    "execution": {
     "iopub.execute_input": "2024-11-04T18:46:43.025359Z",
     "iopub.status.busy": "2024-11-04T18:46:43.025026Z",
     "iopub.status.idle": "2024-11-04T18:46:43.054154Z",
     "shell.execute_reply": "2024-11-04T18:46:43.053098Z"
    },
    "papermill": {
     "duration": 0.051966,
     "end_time": "2024-11-04T18:46:43.056573",
     "exception": false,
     "start_time": "2024-11-04T18:46:43.004607",
     "status": "completed"
    },
    "tags": []
   },
   "outputs": [],
   "source": [
    "np.random.seed(seed=555)\n",
    "np.random.shuffle(indices)\n",
    "X_preprocessed = X_preprocessed[indices]\n",
    "Y_preprocessed = Y_preprocessed[indices]"
   ]
  },
  {
   "cell_type": "code",
   "execution_count": 43,
   "id": "b2a7463c",
   "metadata": {
    "execution": {
     "iopub.execute_input": "2024-11-04T18:46:43.098179Z",
     "iopub.status.busy": "2024-11-04T18:46:43.097838Z",
     "iopub.status.idle": "2024-11-04T18:46:43.260745Z",
     "shell.execute_reply": "2024-11-04T18:46:43.259785Z"
    },
    "papermill": {
     "duration": 0.186313,
     "end_time": "2024-11-04T18:46:43.263001",
     "exception": false,
     "start_time": "2024-11-04T18:46:43.076688",
     "status": "completed"
    },
    "tags": []
   },
   "outputs": [
    {
     "name": "stdout",
     "output_type": "stream",
     "text": [
      "Number of training examples: 33571\n",
      "Number of validation examples: 7194\n",
      "Number of testing examples: 7194\n",
      "Total number of examples after shuffling and splitting: 47959\n"
     ]
    }
   ],
   "source": [
    "X_train = X_preprocessed[: int(0.7 * len(X_preprocessed))]\n",
    "print(\"Number of training examples: {}\".format(len(X_train)))\n",
    "\n",
    "\n",
    "X_val = X_preprocessed[int(0.7 * len(X_preprocessed)) : int(0.7 * len(X_preprocessed)) + (int(0.15 * len(X_preprocessed)) + 1)]\n",
    "print(\"Number of validation examples: {}\".format(len(X_val)))\n",
    "\n",
    "\n",
    "X_test = X_preprocessed[int(0.7 * len(X_preprocessed)) + (int(0.15 * len(X_preprocessed)) + 1) : ]\n",
    "print(\"Number of testing examples: {}\".format(len(X_test)))\n",
    "\n",
    "\n",
    "\n",
    "Y_train = Y_preprocessed[: int(0.7 * len(X_preprocessed))]\n",
    "Y_val = Y_preprocessed[int(0.7 * len(X_preprocessed)) : int(0.7 * len(X_preprocessed)) + (int(0.15 * len(X_preprocessed)) + 1)]\n",
    "Y_test = Y_preprocessed[int(0.7 * len(X_preprocessed)) + (int(0.15 * len(X_preprocessed)) + 1) : ]\n",
    "\n",
    "print(\"Total number of examples after shuffling and splitting: {}\".format(len(X_train) + len(X_val) + len(X_test)))"
   ]
  },
  {
   "cell_type": "markdown",
   "id": "86429c10",
   "metadata": {
    "papermill": {
     "duration": 0.019794,
     "end_time": "2024-11-04T18:46:43.302988",
     "exception": false,
     "start_time": "2024-11-04T18:46:43.283194",
     "status": "completed"
    },
    "tags": []
   },
   "source": [
    "**Model Training and Evaluation**"
   ]
  },
  {
   "cell_type": "code",
   "execution_count": 44,
   "id": "41c66b54",
   "metadata": {
    "execution": {
     "iopub.execute_input": "2024-11-04T18:46:43.343745Z",
     "iopub.status.busy": "2024-11-04T18:46:43.343409Z",
     "iopub.status.idle": "2024-11-04T18:46:43.350038Z",
     "shell.execute_reply": "2024-11-04T18:46:43.349160Z"
    },
    "papermill": {
     "duration": 0.02959,
     "end_time": "2024-11-04T18:46:43.352092",
     "exception": false,
     "start_time": "2024-11-04T18:46:43.322502",
     "status": "completed"
    },
    "tags": []
   },
   "outputs": [
    {
     "data": {
      "text/plain": [
       "array([   2,  135,   60, 2479,   17,  265, 3188,    6,   24, 2036, 4187,\n",
       "         17, 2532,   40,   95,    7, 1253,  109,  377,  405,    6,  184,\n",
       "         89,   53,   29,  448,    4, 2574,    5, 7450,  184,   51, 1191,\n",
       "          0,    0,    0,    0,    0,    0,    0,    0,    0,    0,    0,\n",
       "          0,    0,    0,    0,    0,    0,    0,    0,    0,    0,    0,\n",
       "          0,    0,    0,    0,    0,    0,    0,    0,    0,    0,    0,\n",
       "          0,    0,    0,    0,    0,    0,    0,    0,    0,    0,    0,\n",
       "          0,    0,    0,    0,    0,    0,    0,    0,    0,    0,    0,\n",
       "          0,    0,    0,    0,    0,    0,    0,    0,    0,    0,    0,\n",
       "          0,    0,    0,    0,    0,    0,    0,    0,    0,    0,    0],\n",
       "      dtype=int32)"
      ]
     },
     "execution_count": 44,
     "metadata": {},
     "output_type": "execute_result"
    }
   ],
   "source": [
    "X_train[1000]"
   ]
  },
  {
   "cell_type": "code",
   "execution_count": 45,
   "id": "fb014730",
   "metadata": {
    "execution": {
     "iopub.execute_input": "2024-11-04T18:46:43.394195Z",
     "iopub.status.busy": "2024-11-04T18:46:43.393655Z",
     "iopub.status.idle": "2024-11-04T18:46:43.400317Z",
     "shell.execute_reply": "2024-11-04T18:46:43.399373Z"
    },
    "papermill": {
     "duration": 0.029785,
     "end_time": "2024-11-04T18:46:43.402302",
     "exception": false,
     "start_time": "2024-11-04T18:46:43.372517",
     "status": "completed"
    },
    "tags": []
   },
   "outputs": [
    {
     "data": {
      "text/plain": [
       "array([0, 0, 1, 0, 1, 0, 0, 0, 0, 0, 0, 0, 0, 0, 0, 7, 0, 0, 0, 0, 0, 0,\n",
       "       2, 0, 0, 0, 0, 0, 0, 0, 0, 2, 0, 0, 0, 0, 0, 0, 0, 0, 0, 0, 0, 0,\n",
       "       0, 0, 0, 0, 0, 0, 0, 0, 0, 0, 0, 0, 0, 0, 0, 0, 0, 0, 0, 0, 0, 0,\n",
       "       0, 0, 0, 0, 0, 0, 0, 0, 0, 0, 0, 0, 0, 0, 0, 0, 0, 0, 0, 0, 0, 0,\n",
       "       0, 0, 0, 0, 0, 0, 0, 0, 0, 0, 0, 0, 0, 0, 0, 0, 0, 0, 0, 0, 0, 0])"
      ]
     },
     "execution_count": 45,
     "metadata": {},
     "output_type": "execute_result"
    }
   ],
   "source": [
    "Y_train[1000]"
   ]
  },
  {
   "cell_type": "code",
   "execution_count": 46,
   "id": "f4a7136e",
   "metadata": {
    "execution": {
     "iopub.execute_input": "2024-11-04T18:46:43.443900Z",
     "iopub.status.busy": "2024-11-04T18:46:43.443336Z",
     "iopub.status.idle": "2024-11-04T18:46:43.448794Z",
     "shell.execute_reply": "2024-11-04T18:46:43.447981Z"
    },
    "papermill": {
     "duration": 0.027848,
     "end_time": "2024-11-04T18:46:43.450605",
     "exception": false,
     "start_time": "2024-11-04T18:46:43.422757",
     "status": "completed"
    },
    "tags": []
   },
   "outputs": [
    {
     "data": {
      "text/plain": [
       "'begin'"
      ]
     },
     "execution_count": 46,
     "metadata": {},
     "output_type": "execute_result"
    }
   ],
   "source": [
    "id2word[729]"
   ]
  },
  {
   "cell_type": "markdown",
   "id": "b4085a7b",
   "metadata": {
    "papermill": {
     "duration": 0.019791,
     "end_time": "2024-11-04T18:46:43.490525",
     "exception": false,
     "start_time": "2024-11-04T18:46:43.470734",
     "status": "completed"
    },
    "tags": []
   },
   "source": [
    "## **Load dataset to the model using train_dataset = tf.data.Dataset**"
   ]
  },
  {
   "cell_type": "code",
   "execution_count": 47,
   "id": "8bb75b17",
   "metadata": {
    "execution": {
     "iopub.execute_input": "2024-11-04T18:46:43.531893Z",
     "iopub.status.busy": "2024-11-04T18:46:43.531392Z",
     "iopub.status.idle": "2024-11-04T18:46:44.438848Z",
     "shell.execute_reply": "2024-11-04T18:46:44.437776Z"
    },
    "papermill": {
     "duration": 0.93057,
     "end_time": "2024-11-04T18:46:44.441163",
     "exception": false,
     "start_time": "2024-11-04T18:46:43.510593",
     "status": "completed"
    },
    "tags": []
   },
   "outputs": [],
   "source": [
    "train_dataset = tf.data.Dataset.from_tensor_slices((X_train, Y_train))\n",
    "val_dataset = tf.data.Dataset.from_tensor_slices((X_val, Y_val))\n",
    "test_dataset = tf.data.Dataset.from_tensor_slices((X_test, Y_test))"
   ]
  },
  {
   "cell_type": "code",
   "execution_count": 48,
   "id": "49e36894",
   "metadata": {
    "execution": {
     "iopub.execute_input": "2024-11-04T18:46:44.483052Z",
     "iopub.status.busy": "2024-11-04T18:46:44.482727Z",
     "iopub.status.idle": "2024-11-04T18:46:44.495474Z",
     "shell.execute_reply": "2024-11-04T18:46:44.494598Z"
    },
    "papermill": {
     "duration": 0.035793,
     "end_time": "2024-11-04T18:46:44.497488",
     "exception": false,
     "start_time": "2024-11-04T18:46:44.461695",
     "status": "completed"
    },
    "tags": []
   },
   "outputs": [],
   "source": [
    "BATCH_SIZE = 132\n",
    "SHUFFLE_BUFFER_SIZE = 132\n",
    "\n",
    "train_dataset = train_dataset.shuffle(SHUFFLE_BUFFER_SIZE).batch(BATCH_SIZE)\n",
    "val_dataset = val_dataset.batch(BATCH_SIZE)\n",
    "test_dataset = test_dataset.batch(BATCH_SIZE)"
   ]
  },
  {
   "cell_type": "code",
   "execution_count": 49,
   "id": "07503899",
   "metadata": {
    "execution": {
     "iopub.execute_input": "2024-11-04T18:46:44.539329Z",
     "iopub.status.busy": "2024-11-04T18:46:44.539002Z",
     "iopub.status.idle": "2024-11-04T18:46:45.173400Z",
     "shell.execute_reply": "2024-11-04T18:46:45.172539Z"
    },
    "papermill": {
     "duration": 0.657226,
     "end_time": "2024-11-04T18:46:45.175242",
     "exception": false,
     "start_time": "2024-11-04T18:46:44.518016",
     "status": "completed"
    },
    "tags": []
   },
   "outputs": [
    {
     "name": "stderr",
     "output_type": "stream",
     "text": [
      "/opt/conda/lib/python3.10/site-packages/keras/src/layers/core/embedding.py:90: UserWarning: Argument `input_length` is deprecated. Just remove it.\n",
      "  warnings.warn(\n"
     ]
    },
    {
     "data": {
      "text/html": [
       "<pre style=\"white-space:pre;overflow-x:auto;line-height:normal;font-family:Menlo,'DejaVu Sans Mono',consolas,'Courier New',monospace\"><span style=\"font-weight: bold\">Model: \"sequential\"</span>\n",
       "</pre>\n"
      ],
      "text/plain": [
       "\u001b[1mModel: \"sequential\"\u001b[0m\n"
      ]
     },
     "metadata": {},
     "output_type": "display_data"
    },
    {
     "data": {
      "text/html": [
       "<pre style=\"white-space:pre;overflow-x:auto;line-height:normal;font-family:Menlo,'DejaVu Sans Mono',consolas,'Courier New',monospace\">┏━━━━━━━━━━━━━━━━━━━━━━━━━━━━━━━━━┳━━━━━━━━━━━━━━━━━━━━━━━━┳━━━━━━━━━━━━━━━┓\n",
       "┃<span style=\"font-weight: bold\"> Layer (type)                    </span>┃<span style=\"font-weight: bold\"> Output Shape           </span>┃<span style=\"font-weight: bold\">       Param # </span>┃\n",
       "┡━━━━━━━━━━━━━━━━━━━━━━━━━━━━━━━━━╇━━━━━━━━━━━━━━━━━━━━━━━━╇━━━━━━━━━━━━━━━┩\n",
       "│ embedding (<span style=\"color: #0087ff; text-decoration-color: #0087ff\">Embedding</span>)           │ (<span style=\"color: #00d7ff; text-decoration-color: #00d7ff\">None</span>, <span style=\"color: #00af00; text-decoration-color: #00af00\">110</span>, <span style=\"color: #00af00; text-decoration-color: #00af00\">300</span>)       │    <span style=\"color: #00af00; text-decoration-color: #00af00\">10,800,000</span> │\n",
       "├─────────────────────────────────┼────────────────────────┼───────────────┤\n",
       "│ bidirectional (<span style=\"color: #0087ff; text-decoration-color: #0087ff\">Bidirectional</span>)   │ (<span style=\"color: #00d7ff; text-decoration-color: #00d7ff\">None</span>, <span style=\"color: #00af00; text-decoration-color: #00af00\">110</span>, <span style=\"color: #00af00; text-decoration-color: #00af00\">200</span>)       │       <span style=\"color: #00af00; text-decoration-color: #00af00\">320,800</span> │\n",
       "├─────────────────────────────────┼────────────────────────┼───────────────┤\n",
       "│ bidirectional_1 (<span style=\"color: #0087ff; text-decoration-color: #0087ff\">Bidirectional</span>) │ (<span style=\"color: #00d7ff; text-decoration-color: #00d7ff\">None</span>, <span style=\"color: #00af00; text-decoration-color: #00af00\">110</span>, <span style=\"color: #00af00; text-decoration-color: #00af00\">200</span>)       │       <span style=\"color: #00af00; text-decoration-color: #00af00\">240,800</span> │\n",
       "├─────────────────────────────────┼────────────────────────┼───────────────┤\n",
       "│ time_distributed                │ (<span style=\"color: #00d7ff; text-decoration-color: #00d7ff\">None</span>, <span style=\"color: #00af00; text-decoration-color: #00af00\">110</span>, <span style=\"color: #00af00; text-decoration-color: #00af00\">17</span>)        │         <span style=\"color: #00af00; text-decoration-color: #00af00\">3,417</span> │\n",
       "│ (<span style=\"color: #0087ff; text-decoration-color: #0087ff\">TimeDistributed</span>)               │                        │               │\n",
       "└─────────────────────────────────┴────────────────────────┴───────────────┘\n",
       "</pre>\n"
      ],
      "text/plain": [
       "┏━━━━━━━━━━━━━━━━━━━━━━━━━━━━━━━━━┳━━━━━━━━━━━━━━━━━━━━━━━━┳━━━━━━━━━━━━━━━┓\n",
       "┃\u001b[1m \u001b[0m\u001b[1mLayer (type)                   \u001b[0m\u001b[1m \u001b[0m┃\u001b[1m \u001b[0m\u001b[1mOutput Shape          \u001b[0m\u001b[1m \u001b[0m┃\u001b[1m \u001b[0m\u001b[1m      Param #\u001b[0m\u001b[1m \u001b[0m┃\n",
       "┡━━━━━━━━━━━━━━━━━━━━━━━━━━━━━━━━━╇━━━━━━━━━━━━━━━━━━━━━━━━╇━━━━━━━━━━━━━━━┩\n",
       "│ embedding (\u001b[38;5;33mEmbedding\u001b[0m)           │ (\u001b[38;5;45mNone\u001b[0m, \u001b[38;5;34m110\u001b[0m, \u001b[38;5;34m300\u001b[0m)       │    \u001b[38;5;34m10,800,000\u001b[0m │\n",
       "├─────────────────────────────────┼────────────────────────┼───────────────┤\n",
       "│ bidirectional (\u001b[38;5;33mBidirectional\u001b[0m)   │ (\u001b[38;5;45mNone\u001b[0m, \u001b[38;5;34m110\u001b[0m, \u001b[38;5;34m200\u001b[0m)       │       \u001b[38;5;34m320,800\u001b[0m │\n",
       "├─────────────────────────────────┼────────────────────────┼───────────────┤\n",
       "│ bidirectional_1 (\u001b[38;5;33mBidirectional\u001b[0m) │ (\u001b[38;5;45mNone\u001b[0m, \u001b[38;5;34m110\u001b[0m, \u001b[38;5;34m200\u001b[0m)       │       \u001b[38;5;34m240,800\u001b[0m │\n",
       "├─────────────────────────────────┼────────────────────────┼───────────────┤\n",
       "│ time_distributed                │ (\u001b[38;5;45mNone\u001b[0m, \u001b[38;5;34m110\u001b[0m, \u001b[38;5;34m17\u001b[0m)        │         \u001b[38;5;34m3,417\u001b[0m │\n",
       "│ (\u001b[38;5;33mTimeDistributed\u001b[0m)               │                        │               │\n",
       "└─────────────────────────────────┴────────────────────────┴───────────────┘\n"
      ]
     },
     "metadata": {},
     "output_type": "display_data"
    },
    {
     "data": {
      "text/html": [
       "<pre style=\"white-space:pre;overflow-x:auto;line-height:normal;font-family:Menlo,'DejaVu Sans Mono',consolas,'Courier New',monospace\"><span style=\"font-weight: bold\"> Total params: </span><span style=\"color: #00af00; text-decoration-color: #00af00\">11,365,017</span> (43.35 MB)\n",
       "</pre>\n"
      ],
      "text/plain": [
       "\u001b[1m Total params: \u001b[0m\u001b[38;5;34m11,365,017\u001b[0m (43.35 MB)\n"
      ]
     },
     "metadata": {},
     "output_type": "display_data"
    },
    {
     "data": {
      "text/html": [
       "<pre style=\"white-space:pre;overflow-x:auto;line-height:normal;font-family:Menlo,'DejaVu Sans Mono',consolas,'Courier New',monospace\"><span style=\"font-weight: bold\"> Trainable params: </span><span style=\"color: #00af00; text-decoration-color: #00af00\">11,365,017</span> (43.35 MB)\n",
       "</pre>\n"
      ],
      "text/plain": [
       "\u001b[1m Trainable params: \u001b[0m\u001b[38;5;34m11,365,017\u001b[0m (43.35 MB)\n"
      ]
     },
     "metadata": {},
     "output_type": "display_data"
    },
    {
     "data": {
      "text/html": [
       "<pre style=\"white-space:pre;overflow-x:auto;line-height:normal;font-family:Menlo,'DejaVu Sans Mono',consolas,'Courier New',monospace\"><span style=\"font-weight: bold\"> Non-trainable params: </span><span style=\"color: #00af00; text-decoration-color: #00af00\">0</span> (0.00 B)\n",
       "</pre>\n"
      ],
      "text/plain": [
       "\u001b[1m Non-trainable params: \u001b[0m\u001b[38;5;34m0\u001b[0m (0.00 B)\n"
      ]
     },
     "metadata": {},
     "output_type": "display_data"
    }
   ],
   "source": [
    "import tensorflow as tf\n",
    "\n",
    "# Parameters\n",
    "embedding_dim = 300\n",
    "maxlen = 110\n",
    "max_words = 36000\n",
    "num_tags = len(tags)  # Assuming 'tags' is defined elsewhere\n",
    "\n",
    "# Model definition\n",
    "model = tf.keras.models.Sequential([\n",
    "    tf.keras.layers.Embedding(input_dim=max_words, output_dim=embedding_dim, input_length=maxlen),\n",
    "    tf.keras.layers.Bidirectional(tf.keras.layers.LSTM(units=100, activation='tanh', return_sequences=True)),\n",
    "    tf.keras.layers.Bidirectional(tf.keras.layers.LSTM(units=100, activation='tanh', return_sequences=True)),\n",
    "    tf.keras.layers.TimeDistributed(tf.keras.layers.Dense(num_tags, activation='softmax'))\n",
    "])\n",
    "\n",
    "model.build(input_shape=(None, maxlen))\n",
    "model.compile(loss='sparse_categorical_crossentropy',\n",
    "              optimizer='adam',\n",
    "              metrics=['accuracy'])\n",
    "\n",
    "# Display model summary\n",
    "model.summary()\n"
   ]
  },
  {
   "cell_type": "code",
   "execution_count": 50,
   "id": "d9e35cae",
   "metadata": {
    "execution": {
     "iopub.execute_input": "2024-11-04T18:46:45.218656Z",
     "iopub.status.busy": "2024-11-04T18:46:45.218300Z",
     "iopub.status.idle": "2024-11-04T18:51:27.715484Z",
     "shell.execute_reply": "2024-11-04T18:51:27.714337Z"
    },
    "papermill": {
     "duration": 282.526625,
     "end_time": "2024-11-04T18:51:27.723149",
     "exception": false,
     "start_time": "2024-11-04T18:46:45.196524",
     "status": "completed"
    },
    "tags": []
   },
   "outputs": [
    {
     "name": "stdout",
     "output_type": "stream",
     "text": [
      "Epoch 1/15\n",
      "\u001b[1m255/255\u001b[0m \u001b[32m━━━━━━━━━━━━━━━━━━━━\u001b[0m\u001b[37m\u001b[0m \u001b[1m30s\u001b[0m 75ms/step - accuracy: 0.9464 - loss: 0.2702 - val_accuracy: 0.9710 - val_loss: 0.1030\n",
      "Epoch 2/15\n",
      "\u001b[1m255/255\u001b[0m \u001b[32m━━━━━━━━━━━━━━━━━━━━\u001b[0m\u001b[37m\u001b[0m \u001b[1m18s\u001b[0m 69ms/step - accuracy: 0.9737 - loss: 0.0900 - val_accuracy: 0.9773 - val_loss: 0.0726\n",
      "Epoch 3/15\n",
      "\u001b[1m255/255\u001b[0m \u001b[32m━━━━━━━━━━━━━━━━━━━━\u001b[0m\u001b[37m\u001b[0m \u001b[1m18s\u001b[0m 70ms/step - accuracy: 0.9790 - loss: 0.0649 - val_accuracy: 0.9792 - val_loss: 0.0655\n",
      "Epoch 4/15\n",
      "\u001b[1m255/255\u001b[0m \u001b[32m━━━━━━━━━━━━━━━━━━━━\u001b[0m\u001b[37m\u001b[0m \u001b[1m18s\u001b[0m 70ms/step - accuracy: 0.9820 - loss: 0.0531 - val_accuracy: 0.9804 - val_loss: 0.0618\n",
      "Epoch 5/15\n",
      "\u001b[1m255/255\u001b[0m \u001b[32m━━━━━━━━━━━━━━━━━━━━\u001b[0m\u001b[37m\u001b[0m \u001b[1m18s\u001b[0m 70ms/step - accuracy: 0.9844 - loss: 0.0447 - val_accuracy: 0.9805 - val_loss: 0.0621\n",
      "Epoch 6/15\n",
      "\u001b[1m255/255\u001b[0m \u001b[32m━━━━━━━━━━━━━━━━━━━━\u001b[0m\u001b[37m\u001b[0m \u001b[1m18s\u001b[0m 70ms/step - accuracy: 0.9863 - loss: 0.0392 - val_accuracy: 0.9806 - val_loss: 0.0633\n",
      "Epoch 7/15\n",
      "\u001b[1m255/255\u001b[0m \u001b[32m━━━━━━━━━━━━━━━━━━━━\u001b[0m\u001b[37m\u001b[0m \u001b[1m18s\u001b[0m 71ms/step - accuracy: 0.9878 - loss: 0.0347 - val_accuracy: 0.9799 - val_loss: 0.0685\n",
      "Epoch 8/15\n",
      "\u001b[1m255/255\u001b[0m \u001b[32m━━━━━━━━━━━━━━━━━━━━\u001b[0m\u001b[37m\u001b[0m \u001b[1m18s\u001b[0m 71ms/step - accuracy: 0.9894 - loss: 0.0306 - val_accuracy: 0.9809 - val_loss: 0.0718\n",
      "Epoch 9/15\n",
      "\u001b[1m255/255\u001b[0m \u001b[32m━━━━━━━━━━━━━━━━━━━━\u001b[0m\u001b[37m\u001b[0m \u001b[1m18s\u001b[0m 71ms/step - accuracy: 0.9906 - loss: 0.0271 - val_accuracy: 0.9809 - val_loss: 0.0732\n",
      "Epoch 10/15\n",
      "\u001b[1m255/255\u001b[0m \u001b[32m━━━━━━━━━━━━━━━━━━━━\u001b[0m\u001b[37m\u001b[0m \u001b[1m18s\u001b[0m 71ms/step - accuracy: 0.9916 - loss: 0.0243 - val_accuracy: 0.9810 - val_loss: 0.0771\n",
      "Epoch 11/15\n",
      "\u001b[1m255/255\u001b[0m \u001b[32m━━━━━━━━━━━━━━━━━━━━\u001b[0m\u001b[37m\u001b[0m \u001b[1m18s\u001b[0m 71ms/step - accuracy: 0.9926 - loss: 0.0217 - val_accuracy: 0.9810 - val_loss: 0.0830\n",
      "Epoch 12/15\n",
      "\u001b[1m255/255\u001b[0m \u001b[32m━━━━━━━━━━━━━━━━━━━━\u001b[0m\u001b[37m\u001b[0m \u001b[1m18s\u001b[0m 71ms/step - accuracy: 0.9934 - loss: 0.0193 - val_accuracy: 0.9803 - val_loss: 0.0858\n",
      "Epoch 13/15\n",
      "\u001b[1m255/255\u001b[0m \u001b[32m━━━━━━━━━━━━━━━━━━━━\u001b[0m\u001b[37m\u001b[0m \u001b[1m18s\u001b[0m 71ms/step - accuracy: 0.9941 - loss: 0.0174 - val_accuracy: 0.9803 - val_loss: 0.0887\n",
      "Epoch 14/15\n",
      "\u001b[1m255/255\u001b[0m \u001b[32m━━━━━━━━━━━━━━━━━━━━\u001b[0m\u001b[37m\u001b[0m \u001b[1m18s\u001b[0m 72ms/step - accuracy: 0.9953 - loss: 0.0144 - val_accuracy: 0.9797 - val_loss: 0.0959\n",
      "Epoch 15/15\n",
      "\u001b[1m255/255\u001b[0m \u001b[32m━━━━━━━━━━━━━━━━━━━━\u001b[0m\u001b[37m\u001b[0m \u001b[1m18s\u001b[0m 72ms/step - accuracy: 0.9960 - loss: 0.0122 - val_accuracy: 0.9791 - val_loss: 0.1022\n"
     ]
    }
   ],
   "source": [
    "history = model.fit(train_dataset,\n",
    "                    validation_data=val_dataset,\n",
    "                    epochs=15)"
   ]
  },
  {
   "cell_type": "code",
   "execution_count": 51,
   "id": "f473bde9",
   "metadata": {
    "execution": {
     "iopub.execute_input": "2024-11-04T18:51:28.414422Z",
     "iopub.status.busy": "2024-11-04T18:51:28.413604Z",
     "iopub.status.idle": "2024-11-04T18:51:29.420424Z",
     "shell.execute_reply": "2024-11-04T18:51:29.419486Z"
    },
    "papermill": {
     "duration": 1.341665,
     "end_time": "2024-11-04T18:51:29.422648",
     "exception": false,
     "start_time": "2024-11-04T18:51:28.080983",
     "status": "completed"
    },
    "tags": []
   },
   "outputs": [
    {
     "name": "stdout",
     "output_type": "stream",
     "text": [
      "\u001b[1m55/55\u001b[0m \u001b[32m━━━━━━━━━━━━━━━━━━━━\u001b[0m\u001b[37m\u001b[0m \u001b[1m1s\u001b[0m 18ms/step - accuracy: 0.9794 - loss: 0.1007\n"
     ]
    },
    {
     "data": {
      "text/plain": [
       "[0.10184427350759506, 0.9792692065238953]"
      ]
     },
     "execution_count": 51,
     "metadata": {},
     "output_type": "execute_result"
    }
   ],
   "source": [
    "model.evaluate(test_dataset)"
   ]
  },
  {
   "cell_type": "code",
   "execution_count": 52,
   "id": "5623c77b",
   "metadata": {
    "execution": {
     "iopub.execute_input": "2024-11-04T18:51:30.120518Z",
     "iopub.status.busy": "2024-11-04T18:51:30.120126Z",
     "iopub.status.idle": "2024-11-04T18:51:30.730437Z",
     "shell.execute_reply": "2024-11-04T18:51:30.729436Z"
    },
    "papermill": {
     "duration": 0.93941,
     "end_time": "2024-11-04T18:51:30.732564",
     "exception": false,
     "start_time": "2024-11-04T18:51:29.793154",
     "status": "completed"
    },
    "tags": []
   },
   "outputs": [
    {
     "data": {
      "image/png": "[encoded data removed]",
      "text/plain": [
       "<Figure size 480x320 with 2 Axes>"
      ]
     },
     "metadata": {},
     "output_type": "display_data"
    }
   ],
   "source": [
    "acc = history.history['accuracy']\n",
    "val_acc = history.history['val_accuracy']\n",
    "\n",
    "loss = history.history['loss']\n",
    "val_loss = history.history['val_loss']\n",
    "\n",
    "epochs = range(1, len(acc) + 1)\n",
    "\n",
    "fig, ax = plt.subplots(1, 2, constrained_layout=True, figsize=(6, 4), dpi=80)\n",
    "\n",
    "ax[0].plot(epochs, acc, label = \"Training Accuracy\", color='darkblue')\n",
    "ax[0].plot(epochs, val_acc, label = \"Validation Accuracy\", color='darkgreen')\n",
    "ax[0].grid(alpha=0.3)\n",
    "ax[0].title.set_text('Training Vs Validation Accuracy')\n",
    "ax[0].fill_between(epochs, acc, val_acc, color='crimson', alpha=0.3)\n",
    "plt.setp(ax[0], xlabel='Epochs')\n",
    "plt.setp(ax[0], ylabel='Accuracy')\n",
    "\n",
    "\n",
    "ax[1].plot(epochs, loss, label = \"Training Loss\", color='darkblue')\n",
    "ax[1].plot(epochs, val_loss, label = \"Validation Loss\", color='darkgreen')\n",
    "ax[1].grid(alpha=0.3)\n",
    "ax[1].title.set_text('Training Vs Validation Loss')\n",
    "ax[1].fill_between(epochs,loss, val_loss, color='crimson', alpha=0.3)\n",
    "plt.setp(ax[1], xlabel='Epochs')\n",
    "plt.setp(ax[1], ylabel='Loss')\n",
    "\n",
    "plt.show()"
   ]
  },
  {
   "cell_type": "code",
   "execution_count": 53,
   "id": "67cff316",
   "metadata": {
    "execution": {
     "iopub.execute_input": "2024-11-04T18:51:31.405114Z",
     "iopub.status.busy": "2024-11-04T18:51:31.404731Z",
     "iopub.status.idle": "2024-11-04T18:51:31.411846Z",
     "shell.execute_reply": "2024-11-04T18:51:31.411019Z"
    },
    "papermill": {
     "duration": 0.337941,
     "end_time": "2024-11-04T18:51:31.413833",
     "exception": false,
     "start_time": "2024-11-04T18:51:31.075892",
     "status": "completed"
    },
    "tags": []
   },
   "outputs": [],
   "source": [
    "def make_prediction(model, preprocessed_sentence, id2word, id2tag):\n",
    "    \n",
    "    #if preprocessed_sentence.shape() != (1, 110):\n",
    "    preprocessed_sentence = preprocessed_sentence.reshape((1, 110))\n",
    "     \n",
    "    # return preprocessed sentence to its orginal form\n",
    "    sentence = preprocessed_sentence[preprocessed_sentence > 0]\n",
    "    word_list = []\n",
    "    for word in list(sentence):\n",
    "        word_list.append(id2word[word])\n",
    "    orginal_sententce = ' '.join(word_list)\n",
    "    \n",
    "    len_orginal_sententce = len(word_list)\n",
    "    \n",
    "    # make prediction\n",
    "    prediction = model.predict(preprocessed_sentence)\n",
    "    prediction = np.argmax(prediction[0], axis=1)\n",
    "    \n",
    "    # return the prediction to its orginal form\n",
    "    prediction = list(prediction)[ : len_orginal_sententce] \n",
    "    \n",
    "    pred_tag_list = []\n",
    "    for tag_id in prediction:\n",
    "        pred_tag_list.append(id2tag[tag_id])\n",
    "    \n",
    "    return orginal_sententce,  pred_tag_list"
   ]
  },
  {
   "cell_type": "code",
   "execution_count": 54,
   "id": "0948e855",
   "metadata": {
    "execution": {
     "iopub.execute_input": "2024-11-04T18:51:32.068573Z",
     "iopub.status.busy": "2024-11-04T18:51:32.068178Z",
     "iopub.status.idle": "2024-11-04T18:51:33.319042Z",
     "shell.execute_reply": "2024-11-04T18:51:33.317747Z"
    },
    "papermill": {
     "duration": 1.58163,
     "end_time": "2024-11-04T18:51:33.320975",
     "exception": false,
     "start_time": "2024-11-04T18:51:31.739345",
     "status": "completed"
    },
    "tags": []
   },
   "outputs": [
    {
     "name": "stdout",
     "output_type": "stream",
     "text": [
      "\u001b[1m1/1\u001b[0m \u001b[32m━━━━━━━━━━━━━━━━━━━━\u001b[0m\u001b[37m\u001b[0m \u001b[1m1s\u001b[0m 1s/step\n"
     ]
    }
   ],
   "source": [
    "orginal_sententce,  pred_tag_list = make_prediction(model=model,\n",
    "                                                    preprocessed_sentence=X_test[520],\n",
    "                                                    id2word=id2word,\n",
    "                                                    id2tag=id2tag)"
   ]
  },
  {
   "cell_type": "code",
   "execution_count": 55,
   "id": "06dc7057",
   "metadata": {
    "execution": {
     "iopub.execute_input": "2024-11-04T18:51:33.976442Z",
     "iopub.status.busy": "2024-11-04T18:51:33.975665Z",
     "iopub.status.idle": "2024-11-04T18:51:33.980591Z",
     "shell.execute_reply": "2024-11-04T18:51:33.979689Z"
    },
    "papermill": {
     "duration": 0.336523,
     "end_time": "2024-11-04T18:51:33.982960",
     "exception": false,
     "start_time": "2024-11-04T18:51:33.646437",
     "status": "completed"
    },
    "tags": []
   },
   "outputs": [
    {
     "name": "stdout",
     "output_type": "stream",
     "text": [
      "mr obama has made one visit to sub saharan africa since becoming president to ghana in july\n"
     ]
    }
   ],
   "source": [
    "print(orginal_sententce)"
   ]
  },
  {
   "cell_type": "code",
   "execution_count": 56,
   "id": "7b8884b8",
   "metadata": {
    "execution": {
     "iopub.execute_input": "2024-11-04T18:51:34.676120Z",
     "iopub.status.busy": "2024-11-04T18:51:34.675374Z",
     "iopub.status.idle": "2024-11-04T18:51:34.680174Z",
     "shell.execute_reply": "2024-11-04T18:51:34.679301Z"
    },
    "papermill": {
     "duration": 0.333739,
     "end_time": "2024-11-04T18:51:34.682476",
     "exception": false,
     "start_time": "2024-11-04T18:51:34.348737",
     "status": "completed"
    },
    "tags": []
   },
   "outputs": [
    {
     "name": "stdout",
     "output_type": "stream",
     "text": [
      "['B-per', 'I-per', 'O', 'O', 'O', 'O', 'O', 'B-geo', 'I-geo', 'O', 'O', 'O', 'B-per', 'O', 'B-geo', 'B-geo', 'B-tim']\n"
     ]
    }
   ],
   "source": [
    "print(pred_tag_list)"
   ]
  },
  {
   "cell_type": "code",
   "execution_count": 57,
   "id": "2f6337a4",
   "metadata": {
    "execution": {
     "iopub.execute_input": "2024-11-04T18:51:35.337540Z",
     "iopub.status.busy": "2024-11-04T18:51:35.337144Z",
     "iopub.status.idle": "2024-11-04T18:51:39.295134Z",
     "shell.execute_reply": "2024-11-04T18:51:39.294023Z"
    },
    "papermill": {
     "duration": 4.287583,
     "end_time": "2024-11-04T18:51:39.297298",
     "exception": false,
     "start_time": "2024-11-04T18:51:35.009715",
     "status": "completed"
    },
    "tags": []
   },
   "outputs": [
    {
     "name": "stdout",
     "output_type": "stream",
     "text": [
      "\u001b[1m55/55\u001b[0m \u001b[32m━━━━━━━━━━━━━━━━━━━━\u001b[0m\u001b[37m\u001b[0m \u001b[1m4s\u001b[0m 47ms/step\n",
      "Classification Report:\n",
      "               precision    recall  f1-score   support\n",
      "\n",
      "           0       0.00      0.00      0.00         0\n",
      "           1       0.80      0.58      0.67      5571\n",
      "           2       0.92      0.71      0.80      2328\n",
      "           3       0.73      0.60      0.66      2577\n",
      "           4       0.68      0.42      0.52      1098\n",
      "           5       0.74      0.41      0.53      3104\n",
      "           6       0.78      0.42      0.54      2462\n",
      "           7       0.88      0.60      0.71      2994\n",
      "           8       0.28      0.09      0.14        54\n",
      "           9       0.09      0.03      0.05        33\n",
      "          10       0.82      0.63      0.71      2654\n",
      "          11       0.69      0.29      0.41        31\n",
      "          12       0.76      0.49      0.59       989\n",
      "          13       0.71      0.39      0.50        31\n",
      "          14       0.44      0.19      0.26        43\n",
      "          15       0.29      0.04      0.07        47\n",
      "          16       0.00      0.00      0.00         6\n",
      "\n",
      "    accuracy                           0.55     24022\n",
      "   macro avg       0.56      0.35      0.42     24022\n",
      "weighted avg       0.79      0.55      0.65     24022\n",
      "\n",
      "Precision: 0.7938073224914993\n",
      "Recall: 0.5484555823828158\n",
      "F1 Score: 0.645730168870386\n"
     ]
    },
    {
     "name": "stderr",
     "output_type": "stream",
     "text": [
      "/opt/conda/lib/python3.10/site-packages/sklearn/metrics/_classification.py:1344: UndefinedMetricWarning: Precision and F-score are ill-defined and being set to 0.0 in labels with no predicted samples. Use `zero_division` parameter to control this behavior.\n",
      "  _warn_prf(average, modifier, msg_start, len(result))\n",
      "/opt/conda/lib/python3.10/site-packages/sklearn/metrics/_classification.py:1344: UndefinedMetricWarning: Recall and F-score are ill-defined and being set to 0.0 in labels with no true samples. Use `zero_division` parameter to control this behavior.\n",
      "  _warn_prf(average, modifier, msg_start, len(result))\n",
      "/opt/conda/lib/python3.10/site-packages/sklearn/metrics/_classification.py:1344: UndefinedMetricWarning: Precision and F-score are ill-defined and being set to 0.0 in labels with no predicted samples. Use `zero_division` parameter to control this behavior.\n",
      "  _warn_prf(average, modifier, msg_start, len(result))\n",
      "/opt/conda/lib/python3.10/site-packages/sklearn/metrics/_classification.py:1344: UndefinedMetricWarning: Recall and F-score are ill-defined and being set to 0.0 in labels with no true samples. Use `zero_division` parameter to control this behavior.\n",
      "  _warn_prf(average, modifier, msg_start, len(result))\n",
      "/opt/conda/lib/python3.10/site-packages/sklearn/metrics/_classification.py:1344: UndefinedMetricWarning: Precision and F-score are ill-defined and being set to 0.0 in labels with no predicted samples. Use `zero_division` parameter to control this behavior.\n",
      "  _warn_prf(average, modifier, msg_start, len(result))\n",
      "/opt/conda/lib/python3.10/site-packages/sklearn/metrics/_classification.py:1344: UndefinedMetricWarning: Recall and F-score are ill-defined and being set to 0.0 in labels with no true samples. Use `zero_division` parameter to control this behavior.\n",
      "  _warn_prf(average, modifier, msg_start, len(result))\n",
      "/opt/conda/lib/python3.10/site-packages/sklearn/metrics/_classification.py:1344: UndefinedMetricWarning: Precision is ill-defined and being set to 0.0 in labels with no predicted samples. Use `zero_division` parameter to control this behavior.\n",
      "  _warn_prf(average, modifier, msg_start, len(result))\n",
      "/opt/conda/lib/python3.10/site-packages/sklearn/metrics/_classification.py:1344: UndefinedMetricWarning: Recall is ill-defined and being set to 0.0 in labels with no true samples. Use `zero_division` parameter to control this behavior.\n",
      "  _warn_prf(average, modifier, msg_start, len(result))\n"
     ]
    }
   ],
   "source": [
    "from sklearn.metrics import classification_report, precision_score, recall_score, f1_score\n",
    "\n",
    "# Predict on the test set\n",
    "y_pred = model.predict(test_dataset)\n",
    "y_pred = y_pred.argmax(axis=-1)  # Convert probabilities to predicted class labels\n",
    "\n",
    "# Flatten the predictions and true labels to ignore padding\n",
    "y_true_flat = Y_test.flatten()\n",
    "y_pred_flat = y_pred.flatten()\n",
    "\n",
    "# Remove padding tokens (those labeled with the 'O' tag or 0 in this case)\n",
    "mask = y_true_flat != 0  # Assuming 0 is the padding tag's ID\n",
    "y_true_flat = y_true_flat[mask]\n",
    "y_pred_flat = y_pred_flat[mask]\n",
    "\n",
    "# Print Precision, Recall, and F1 Score\n",
    "print(\"Classification Report:\\n\", classification_report(y_true_flat, y_pred_flat))\n",
    "print(\"Precision:\", precision_score(y_true_flat, y_pred_flat, average='weighted'))\n",
    "print(\"Recall:\", recall_score(y_true_flat, y_pred_flat, average='weighted'))\n",
    "print(\"F1 Score:\", f1_score(y_true_flat, y_pred_flat, average='weighted'))\n"
   ]
  }
 ],
 "metadata": {
  "kaggle": {
   "accelerator": "nvidiaTeslaT4",
   "dataSources": [
    {
     "datasetId": 6000585,
     "sourceId": 9792467,
     "sourceType": "datasetVersion"
    }
   ],
   "dockerImageVersionId": 30787,
   "isGpuEnabled": true,
   "isInternetEnabled": true,
   "language": "python",
   "sourceType": "notebook"
  },
  "kernelspec": {
   "display_name": "Python 3",
   "language": "python",
   "name": "python3"
  },
  "language_info": {
   "codemirror_mode": {
    "name": "ipython",
    "version": 3
   },
   "file_extension": ".py",
   "mimetype": "text/x-python",
   "name": "python",
   "nbconvert_exporter": "python",
   "pygments_lexer": "ipython3",
   "version": "3.10.14"
  },
  "papermill": {
   "default_parameters": {},
   "duration": 592.059184,
   "end_time": "2024-11-04T18:51:42.727188",
   "environment_variables": {},
   "exception": null,
   "input_path": "__notebook__.ipynb",
   "output_path": "__notebook__.ipynb",
   "parameters": {},
   "start_time": "2024-11-04T18:41:50.668004",
   "version": "2.6.0"
  }
 },
 "nbformat": 4,
 "nbformat_minor": 5
}
